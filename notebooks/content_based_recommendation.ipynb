{
 "cells": [
  {
   "cell_type": "markdown",
   "id": "5814298b-bc5e-4656-a756-94e2e67f9a1e",
   "metadata": {},
   "source": [
    "# Content based recommendation system"
   ]
  },
  {
   "cell_type": "markdown",
   "id": "90d3f75f-10c4-463f-ab78-74448fc4e660",
   "metadata": {},
   "source": [
    "## Background"
   ]
  },
  {
   "cell_type": "markdown",
   "id": "5fb80ca0-aa22-40d6-8e37-b68551235053",
   "metadata": {},
   "source": [
    "## Set-up"
   ]
  },
  {
   "cell_type": "markdown",
   "id": "7d363594-1d11-4fa3-b16a-7a68f3f6ecc6",
   "metadata": {},
   "source": [
    "### Dependencies"
   ]
  },
  {
   "cell_type": "code",
   "execution_count": 1,
   "id": "23c19f60-be4d-4d7c-a5b1-f53638af2cdd",
   "metadata": {},
   "outputs": [],
   "source": [
    "import pandas as pd\n",
    "from sklearn.feature_extraction.text import TfidfVectorizer\n",
    "from sklearn.metrics.pairwise import cosine_similarity"
   ]
  },
  {
   "cell_type": "markdown",
   "id": "60d6cbb8-e03a-44d8-9822-60a3495b4a8a",
   "metadata": {},
   "source": [
    "### Import data"
   ]
  },
  {
   "cell_type": "code",
   "execution_count": 2,
   "id": "83a055ce-88e0-4a58-98d3-fa7069adc878",
   "metadata": {},
   "outputs": [],
   "source": [
    "books = pd.read_csv('../data/raw/books.csv')\n",
    "to_read = pd.read_csv('../data/raw/to_read.csv')\n",
    "ratings = pd.read_csv('../data/raw/ratings.csv')\n",
    "book_tags = pd.read_csv('../data/raw/book_tags.csv')\n",
    "tags = pd.read_csv('../data/raw/tags.csv')"
   ]
  },
  {
   "cell_type": "markdown",
   "id": "19c34597-01a9-4131-9930-51dff55a4af7",
   "metadata": {},
   "source": [
    "## Data exploration"
   ]
  },
  {
   "cell_type": "markdown",
   "id": "1d3eb058-6794-4a7c-a797-ae892c0f5acf",
   "metadata": {},
   "source": [
    "### books"
   ]
  },
  {
   "cell_type": "code",
   "execution_count": 3,
   "id": "135dacc1-a883-477f-b038-079379e2db93",
   "metadata": {},
   "outputs": [
    {
     "name": "stdout",
     "output_type": "stream",
     "text": [
      "Number of records: 10000\n",
      "Number of columns: 23\n"
     ]
    },
    {
     "data": {
      "text/html": [
       "<div>\n",
       "<style scoped>\n",
       "    .dataframe tbody tr th:only-of-type {\n",
       "        vertical-align: middle;\n",
       "    }\n",
       "\n",
       "    .dataframe tbody tr th {\n",
       "        vertical-align: top;\n",
       "    }\n",
       "\n",
       "    .dataframe thead th {\n",
       "        text-align: right;\n",
       "    }\n",
       "</style>\n",
       "<table border=\"1\" class=\"dataframe\">\n",
       "  <thead>\n",
       "    <tr style=\"text-align: right;\">\n",
       "      <th></th>\n",
       "      <th>book_id</th>\n",
       "      <th>goodreads_book_id</th>\n",
       "      <th>best_book_id</th>\n",
       "      <th>work_id</th>\n",
       "      <th>books_count</th>\n",
       "      <th>isbn</th>\n",
       "      <th>isbn13</th>\n",
       "      <th>authors</th>\n",
       "      <th>original_publication_year</th>\n",
       "      <th>original_title</th>\n",
       "      <th>...</th>\n",
       "      <th>ratings_count</th>\n",
       "      <th>work_ratings_count</th>\n",
       "      <th>work_text_reviews_count</th>\n",
       "      <th>ratings_1</th>\n",
       "      <th>ratings_2</th>\n",
       "      <th>ratings_3</th>\n",
       "      <th>ratings_4</th>\n",
       "      <th>ratings_5</th>\n",
       "      <th>image_url</th>\n",
       "      <th>small_image_url</th>\n",
       "    </tr>\n",
       "  </thead>\n",
       "  <tbody>\n",
       "    <tr>\n",
       "      <th>0</th>\n",
       "      <td>1</td>\n",
       "      <td>2767052</td>\n",
       "      <td>2767052</td>\n",
       "      <td>2792775</td>\n",
       "      <td>272</td>\n",
       "      <td>439023483</td>\n",
       "      <td>9.780439e+12</td>\n",
       "      <td>Suzanne Collins</td>\n",
       "      <td>2008.0</td>\n",
       "      <td>The Hunger Games</td>\n",
       "      <td>...</td>\n",
       "      <td>4780653</td>\n",
       "      <td>4942365</td>\n",
       "      <td>155254</td>\n",
       "      <td>66715</td>\n",
       "      <td>127936</td>\n",
       "      <td>560092</td>\n",
       "      <td>1481305</td>\n",
       "      <td>2706317</td>\n",
       "      <td>https://images.gr-assets.com/books/1447303603m...</td>\n",
       "      <td>https://images.gr-assets.com/books/1447303603s...</td>\n",
       "    </tr>\n",
       "    <tr>\n",
       "      <th>1</th>\n",
       "      <td>2</td>\n",
       "      <td>3</td>\n",
       "      <td>3</td>\n",
       "      <td>4640799</td>\n",
       "      <td>491</td>\n",
       "      <td>439554934</td>\n",
       "      <td>9.780440e+12</td>\n",
       "      <td>J.K. Rowling, Mary GrandPré</td>\n",
       "      <td>1997.0</td>\n",
       "      <td>Harry Potter and the Philosopher's Stone</td>\n",
       "      <td>...</td>\n",
       "      <td>4602479</td>\n",
       "      <td>4800065</td>\n",
       "      <td>75867</td>\n",
       "      <td>75504</td>\n",
       "      <td>101676</td>\n",
       "      <td>455024</td>\n",
       "      <td>1156318</td>\n",
       "      <td>3011543</td>\n",
       "      <td>https://images.gr-assets.com/books/1474154022m...</td>\n",
       "      <td>https://images.gr-assets.com/books/1474154022s...</td>\n",
       "    </tr>\n",
       "  </tbody>\n",
       "</table>\n",
       "<p>2 rows × 23 columns</p>\n",
       "</div>"
      ],
      "text/plain": [
       "   book_id  goodreads_book_id  best_book_id  work_id  books_count       isbn  \\\n",
       "0        1            2767052       2767052  2792775          272  439023483   \n",
       "1        2                  3             3  4640799          491  439554934   \n",
       "\n",
       "         isbn13                      authors  original_publication_year  \\\n",
       "0  9.780439e+12              Suzanne Collins                     2008.0   \n",
       "1  9.780440e+12  J.K. Rowling, Mary GrandPré                     1997.0   \n",
       "\n",
       "                             original_title  ... ratings_count  \\\n",
       "0                          The Hunger Games  ...       4780653   \n",
       "1  Harry Potter and the Philosopher's Stone  ...       4602479   \n",
       "\n",
       "  work_ratings_count  work_text_reviews_count  ratings_1  ratings_2  \\\n",
       "0            4942365                   155254      66715     127936   \n",
       "1            4800065                    75867      75504     101676   \n",
       "\n",
       "   ratings_3  ratings_4  ratings_5  \\\n",
       "0     560092    1481305    2706317   \n",
       "1     455024    1156318    3011543   \n",
       "\n",
       "                                           image_url  \\\n",
       "0  https://images.gr-assets.com/books/1447303603m...   \n",
       "1  https://images.gr-assets.com/books/1474154022m...   \n",
       "\n",
       "                                     small_image_url  \n",
       "0  https://images.gr-assets.com/books/1447303603s...  \n",
       "1  https://images.gr-assets.com/books/1474154022s...  \n",
       "\n",
       "[2 rows x 23 columns]"
      ]
     },
     "execution_count": 3,
     "metadata": {},
     "output_type": "execute_result"
    }
   ],
   "source": [
    "# Dimensions\n",
    "print(f\"Number of records: {books.shape[0]}\")\n",
    "print(f\"Number of columns: {books.shape[1]}\")\n",
    "books.head(2)"
   ]
  },
  {
   "cell_type": "code",
   "execution_count": 4,
   "id": "29666e01-9e55-4e0c-a8cc-eba787ef5da9",
   "metadata": {},
   "outputs": [
    {
     "data": {
      "text/plain": [
       "int64      13\n",
       "object      7\n",
       "float64     3\n",
       "Name: count, dtype: int64"
      ]
     },
     "metadata": {},
     "output_type": "display_data"
    },
    {
     "name": "stdout",
     "output_type": "stream",
     "text": [
      "\n",
      "\n"
     ]
    },
    {
     "data": {
      "text/plain": [
       "book_id                        int64\n",
       "goodreads_book_id              int64\n",
       "best_book_id                   int64\n",
       "work_id                        int64\n",
       "books_count                    int64\n",
       "isbn                          object\n",
       "isbn13                       float64\n",
       "authors                       object\n",
       "original_publication_year    float64\n",
       "original_title                object\n",
       "title                         object\n",
       "language_code                 object\n",
       "average_rating               float64\n",
       "ratings_count                  int64\n",
       "work_ratings_count             int64\n",
       "work_text_reviews_count        int64\n",
       "ratings_1                      int64\n",
       "ratings_2                      int64\n",
       "ratings_3                      int64\n",
       "ratings_4                      int64\n",
       "ratings_5                      int64\n",
       "image_url                     object\n",
       "small_image_url               object\n",
       "dtype: object"
      ]
     },
     "execution_count": 4,
     "metadata": {},
     "output_type": "execute_result"
    }
   ],
   "source": [
    "# Data types\n",
    "display(books.dtypes.value_counts())\n",
    "print(\"\\n\")\n",
    "books.dtypes"
   ]
  },
  {
   "cell_type": "code",
   "execution_count": 5,
   "id": "622134fb-3737-4e2f-93aa-6954b1cb3648",
   "metadata": {},
   "outputs": [
    {
     "data": {
      "text/plain": [
       "isbn                          700\n",
       "isbn13                        585\n",
       "original_publication_year      21\n",
       "original_title                585\n",
       "language_code                1084\n",
       "dtype: int64"
      ]
     },
     "execution_count": 5,
     "metadata": {},
     "output_type": "execute_result"
    }
   ],
   "source": [
    "# Missing values\n",
    "books.isnull().sum()[(books.isnull().sum() > 1)]"
   ]
  },
  {
   "cell_type": "code",
   "execution_count": 6,
   "id": "002545cf-8050-4220-8f6b-e5e40a676d5e",
   "metadata": {},
   "outputs": [
    {
     "data": {
      "text/html": [
       "<div>\n",
       "<style scoped>\n",
       "    .dataframe tbody tr th:only-of-type {\n",
       "        vertical-align: middle;\n",
       "    }\n",
       "\n",
       "    .dataframe tbody tr th {\n",
       "        vertical-align: top;\n",
       "    }\n",
       "\n",
       "    .dataframe thead th {\n",
       "        text-align: right;\n",
       "    }\n",
       "</style>\n",
       "<table border=\"1\" class=\"dataframe\">\n",
       "  <thead>\n",
       "    <tr style=\"text-align: right;\">\n",
       "      <th></th>\n",
       "      <th>book_id</th>\n",
       "      <th>goodreads_book_id</th>\n",
       "      <th>best_book_id</th>\n",
       "      <th>work_id</th>\n",
       "      <th>books_count</th>\n",
       "      <th>isbn</th>\n",
       "      <th>isbn13</th>\n",
       "      <th>authors</th>\n",
       "      <th>original_publication_year</th>\n",
       "      <th>original_title</th>\n",
       "      <th>...</th>\n",
       "      <th>ratings_count</th>\n",
       "      <th>work_ratings_count</th>\n",
       "      <th>work_text_reviews_count</th>\n",
       "      <th>ratings_1</th>\n",
       "      <th>ratings_2</th>\n",
       "      <th>ratings_3</th>\n",
       "      <th>ratings_4</th>\n",
       "      <th>ratings_5</th>\n",
       "      <th>image_url</th>\n",
       "      <th>small_image_url</th>\n",
       "    </tr>\n",
       "  </thead>\n",
       "  <tbody>\n",
       "  </tbody>\n",
       "</table>\n",
       "<p>0 rows × 23 columns</p>\n",
       "</div>"
      ],
      "text/plain": [
       "Empty DataFrame\n",
       "Columns: [book_id, goodreads_book_id, best_book_id, work_id, books_count, isbn, isbn13, authors, original_publication_year, original_title, title, language_code, average_rating, ratings_count, work_ratings_count, work_text_reviews_count, ratings_1, ratings_2, ratings_3, ratings_4, ratings_5, image_url, small_image_url]\n",
       "Index: []\n",
       "\n",
       "[0 rows x 23 columns]"
      ]
     },
     "execution_count": 6,
     "metadata": {},
     "output_type": "execute_result"
    }
   ],
   "source": [
    "# Duplicate values\n",
    "books[books.duplicated()]"
   ]
  },
  {
   "cell_type": "markdown",
   "id": "9ea2a380-81ed-48b0-8c28-882f0dfa4057",
   "metadata": {},
   "source": [
    "### ratings"
   ]
  },
  {
   "cell_type": "code",
   "execution_count": 7,
   "id": "15b36ddf-8611-4f10-a919-0e74abde9fcc",
   "metadata": {},
   "outputs": [
    {
     "name": "stdout",
     "output_type": "stream",
     "text": [
      "Number of records: 5976479\n",
      "Number of columns: 3\n"
     ]
    },
    {
     "data": {
      "text/html": [
       "<div>\n",
       "<style scoped>\n",
       "    .dataframe tbody tr th:only-of-type {\n",
       "        vertical-align: middle;\n",
       "    }\n",
       "\n",
       "    .dataframe tbody tr th {\n",
       "        vertical-align: top;\n",
       "    }\n",
       "\n",
       "    .dataframe thead th {\n",
       "        text-align: right;\n",
       "    }\n",
       "</style>\n",
       "<table border=\"1\" class=\"dataframe\">\n",
       "  <thead>\n",
       "    <tr style=\"text-align: right;\">\n",
       "      <th></th>\n",
       "      <th>user_id</th>\n",
       "      <th>book_id</th>\n",
       "      <th>rating</th>\n",
       "    </tr>\n",
       "  </thead>\n",
       "  <tbody>\n",
       "    <tr>\n",
       "      <th>0</th>\n",
       "      <td>1</td>\n",
       "      <td>258</td>\n",
       "      <td>5</td>\n",
       "    </tr>\n",
       "    <tr>\n",
       "      <th>1</th>\n",
       "      <td>2</td>\n",
       "      <td>4081</td>\n",
       "      <td>4</td>\n",
       "    </tr>\n",
       "  </tbody>\n",
       "</table>\n",
       "</div>"
      ],
      "text/plain": [
       "   user_id  book_id  rating\n",
       "0        1      258       5\n",
       "1        2     4081       4"
      ]
     },
     "execution_count": 7,
     "metadata": {},
     "output_type": "execute_result"
    }
   ],
   "source": [
    "# Dimensions\n",
    "print(f\"Number of records: {ratings.shape[0]}\")\n",
    "print(f\"Number of columns: {ratings.shape[1]}\")\n",
    "ratings.head(2)"
   ]
  },
  {
   "cell_type": "code",
   "execution_count": 8,
   "id": "b8513fa4-34a9-44d0-887e-e145f6d2315c",
   "metadata": {},
   "outputs": [
    {
     "data": {
      "text/plain": [
       "int64    3\n",
       "Name: count, dtype: int64"
      ]
     },
     "metadata": {},
     "output_type": "display_data"
    },
    {
     "name": "stdout",
     "output_type": "stream",
     "text": [
      "\n",
      "\n"
     ]
    },
    {
     "data": {
      "text/plain": [
       "user_id    int64\n",
       "book_id    int64\n",
       "rating     int64\n",
       "dtype: object"
      ]
     },
     "execution_count": 8,
     "metadata": {},
     "output_type": "execute_result"
    }
   ],
   "source": [
    "# Data types\n",
    "display(ratings.dtypes.value_counts())\n",
    "print(\"\\n\")\n",
    "ratings.dtypes"
   ]
  },
  {
   "cell_type": "code",
   "execution_count": 9,
   "id": "317f6d01-8982-484a-9b7b-d4aca4f307f7",
   "metadata": {},
   "outputs": [
    {
     "data": {
      "text/plain": [
       "Series([], dtype: int64)"
      ]
     },
     "execution_count": 9,
     "metadata": {},
     "output_type": "execute_result"
    }
   ],
   "source": [
    "# Missing values\n",
    "ratings.isnull().sum()[(ratings.isnull().sum() > 1)]"
   ]
  },
  {
   "cell_type": "code",
   "execution_count": 10,
   "id": "cca204a9-606c-43e5-bf6f-30ac02fd7de6",
   "metadata": {},
   "outputs": [
    {
     "data": {
      "text/html": [
       "<div>\n",
       "<style scoped>\n",
       "    .dataframe tbody tr th:only-of-type {\n",
       "        vertical-align: middle;\n",
       "    }\n",
       "\n",
       "    .dataframe tbody tr th {\n",
       "        vertical-align: top;\n",
       "    }\n",
       "\n",
       "    .dataframe thead th {\n",
       "        text-align: right;\n",
       "    }\n",
       "</style>\n",
       "<table border=\"1\" class=\"dataframe\">\n",
       "  <thead>\n",
       "    <tr style=\"text-align: right;\">\n",
       "      <th></th>\n",
       "      <th>user_id</th>\n",
       "      <th>book_id</th>\n",
       "      <th>rating</th>\n",
       "    </tr>\n",
       "  </thead>\n",
       "  <tbody>\n",
       "  </tbody>\n",
       "</table>\n",
       "</div>"
      ],
      "text/plain": [
       "Empty DataFrame\n",
       "Columns: [user_id, book_id, rating]\n",
       "Index: []"
      ]
     },
     "execution_count": 10,
     "metadata": {},
     "output_type": "execute_result"
    }
   ],
   "source": [
    "# Duplicate values\n",
    "ratings[ratings.duplicated()]"
   ]
  },
  {
   "cell_type": "markdown",
   "id": "aeab7d0b-4369-4121-abd8-0601dd72b3ac",
   "metadata": {},
   "source": [
    "### to read"
   ]
  },
  {
   "cell_type": "code",
   "execution_count": 11,
   "id": "f5730c75-5626-461e-a1c8-8dbe74a8e078",
   "metadata": {},
   "outputs": [
    {
     "name": "stdout",
     "output_type": "stream",
     "text": [
      "Number of records: 912705\n",
      "Number of columns: 2\n"
     ]
    },
    {
     "data": {
      "text/html": [
       "<div>\n",
       "<style scoped>\n",
       "    .dataframe tbody tr th:only-of-type {\n",
       "        vertical-align: middle;\n",
       "    }\n",
       "\n",
       "    .dataframe tbody tr th {\n",
       "        vertical-align: top;\n",
       "    }\n",
       "\n",
       "    .dataframe thead th {\n",
       "        text-align: right;\n",
       "    }\n",
       "</style>\n",
       "<table border=\"1\" class=\"dataframe\">\n",
       "  <thead>\n",
       "    <tr style=\"text-align: right;\">\n",
       "      <th></th>\n",
       "      <th>user_id</th>\n",
       "      <th>book_id</th>\n",
       "    </tr>\n",
       "  </thead>\n",
       "  <tbody>\n",
       "    <tr>\n",
       "      <th>0</th>\n",
       "      <td>9</td>\n",
       "      <td>8</td>\n",
       "    </tr>\n",
       "    <tr>\n",
       "      <th>1</th>\n",
       "      <td>15</td>\n",
       "      <td>398</td>\n",
       "    </tr>\n",
       "  </tbody>\n",
       "</table>\n",
       "</div>"
      ],
      "text/plain": [
       "   user_id  book_id\n",
       "0        9        8\n",
       "1       15      398"
      ]
     },
     "execution_count": 11,
     "metadata": {},
     "output_type": "execute_result"
    }
   ],
   "source": [
    "# Dimensions\n",
    "print(f\"Number of records: {to_read.shape[0]}\")\n",
    "print(f\"Number of columns: {to_read.shape[1]}\")\n",
    "to_read.head(2)"
   ]
  },
  {
   "cell_type": "code",
   "execution_count": 12,
   "id": "b5dd1ae4-9888-4b36-b397-4f66d8dcbf21",
   "metadata": {},
   "outputs": [
    {
     "data": {
      "text/plain": [
       "int64    2\n",
       "Name: count, dtype: int64"
      ]
     },
     "metadata": {},
     "output_type": "display_data"
    },
    {
     "name": "stdout",
     "output_type": "stream",
     "text": [
      "\n",
      "\n"
     ]
    },
    {
     "data": {
      "text/plain": [
       "user_id    int64\n",
       "book_id    int64\n",
       "dtype: object"
      ]
     },
     "execution_count": 12,
     "metadata": {},
     "output_type": "execute_result"
    }
   ],
   "source": [
    "# Data types\n",
    "display(to_read.dtypes.value_counts())\n",
    "print(\"\\n\")\n",
    "to_read.dtypes"
   ]
  },
  {
   "cell_type": "code",
   "execution_count": 13,
   "id": "c9ba8e85-230a-48b5-bbca-1e099248d33b",
   "metadata": {},
   "outputs": [
    {
     "data": {
      "text/plain": [
       "Series([], dtype: int64)"
      ]
     },
     "execution_count": 13,
     "metadata": {},
     "output_type": "execute_result"
    }
   ],
   "source": [
    "# Missing values\n",
    "to_read.isnull().sum()[(to_read.isnull().sum() > 1)]"
   ]
  },
  {
   "cell_type": "code",
   "execution_count": 14,
   "id": "5b30d5d1-ec2d-4263-b457-7ef4c850dd7e",
   "metadata": {},
   "outputs": [
    {
     "data": {
      "text/html": [
       "<div>\n",
       "<style scoped>\n",
       "    .dataframe tbody tr th:only-of-type {\n",
       "        vertical-align: middle;\n",
       "    }\n",
       "\n",
       "    .dataframe tbody tr th {\n",
       "        vertical-align: top;\n",
       "    }\n",
       "\n",
       "    .dataframe thead th {\n",
       "        text-align: right;\n",
       "    }\n",
       "</style>\n",
       "<table border=\"1\" class=\"dataframe\">\n",
       "  <thead>\n",
       "    <tr style=\"text-align: right;\">\n",
       "      <th></th>\n",
       "      <th>user_id</th>\n",
       "      <th>book_id</th>\n",
       "    </tr>\n",
       "  </thead>\n",
       "  <tbody>\n",
       "  </tbody>\n",
       "</table>\n",
       "</div>"
      ],
      "text/plain": [
       "Empty DataFrame\n",
       "Columns: [user_id, book_id]\n",
       "Index: []"
      ]
     },
     "execution_count": 14,
     "metadata": {},
     "output_type": "execute_result"
    }
   ],
   "source": [
    "# Duplicate values\n",
    "to_read[to_read.duplicated()]"
   ]
  },
  {
   "cell_type": "markdown",
   "id": "172ef942-a2f2-4339-bbd2-1aa3697a7d8a",
   "metadata": {},
   "source": [
    "### book tags"
   ]
  },
  {
   "cell_type": "code",
   "execution_count": 15,
   "id": "598586f7-7220-4534-a029-ac1f0012b4bf",
   "metadata": {},
   "outputs": [
    {
     "name": "stdout",
     "output_type": "stream",
     "text": [
      "Number of records: 999912\n",
      "Number of columns: 3\n"
     ]
    },
    {
     "data": {
      "text/html": [
       "<div>\n",
       "<style scoped>\n",
       "    .dataframe tbody tr th:only-of-type {\n",
       "        vertical-align: middle;\n",
       "    }\n",
       "\n",
       "    .dataframe tbody tr th {\n",
       "        vertical-align: top;\n",
       "    }\n",
       "\n",
       "    .dataframe thead th {\n",
       "        text-align: right;\n",
       "    }\n",
       "</style>\n",
       "<table border=\"1\" class=\"dataframe\">\n",
       "  <thead>\n",
       "    <tr style=\"text-align: right;\">\n",
       "      <th></th>\n",
       "      <th>goodreads_book_id</th>\n",
       "      <th>tag_id</th>\n",
       "      <th>count</th>\n",
       "    </tr>\n",
       "  </thead>\n",
       "  <tbody>\n",
       "    <tr>\n",
       "      <th>0</th>\n",
       "      <td>1</td>\n",
       "      <td>30574</td>\n",
       "      <td>167697</td>\n",
       "    </tr>\n",
       "    <tr>\n",
       "      <th>1</th>\n",
       "      <td>1</td>\n",
       "      <td>11305</td>\n",
       "      <td>37174</td>\n",
       "    </tr>\n",
       "  </tbody>\n",
       "</table>\n",
       "</div>"
      ],
      "text/plain": [
       "   goodreads_book_id  tag_id   count\n",
       "0                  1   30574  167697\n",
       "1                  1   11305   37174"
      ]
     },
     "execution_count": 15,
     "metadata": {},
     "output_type": "execute_result"
    }
   ],
   "source": [
    "# Dimensions\n",
    "print(f\"Number of records: {book_tags.shape[0]}\")\n",
    "print(f\"Number of columns: {book_tags.shape[1]}\")\n",
    "book_tags.head(2)"
   ]
  },
  {
   "cell_type": "code",
   "execution_count": 16,
   "id": "bf1468ba-15d4-4c75-884d-af990d137866",
   "metadata": {},
   "outputs": [
    {
     "data": {
      "text/plain": [
       "int64    3\n",
       "Name: count, dtype: int64"
      ]
     },
     "metadata": {},
     "output_type": "display_data"
    },
    {
     "name": "stdout",
     "output_type": "stream",
     "text": [
      "\n",
      "\n"
     ]
    },
    {
     "data": {
      "text/plain": [
       "goodreads_book_id    int64\n",
       "tag_id               int64\n",
       "count                int64\n",
       "dtype: object"
      ]
     },
     "execution_count": 16,
     "metadata": {},
     "output_type": "execute_result"
    }
   ],
   "source": [
    "# Data types\n",
    "display(book_tags.dtypes.value_counts())\n",
    "print(\"\\n\")\n",
    "book_tags.dtypes"
   ]
  },
  {
   "cell_type": "code",
   "execution_count": 17,
   "id": "7fb616a7-6143-4889-9046-281cf907f5bb",
   "metadata": {},
   "outputs": [
    {
     "data": {
      "text/plain": [
       "Series([], dtype: int64)"
      ]
     },
     "execution_count": 17,
     "metadata": {},
     "output_type": "execute_result"
    }
   ],
   "source": [
    "# Missing values\n",
    "book_tags.isnull().sum()[(book_tags.isnull().sum() > 1)]"
   ]
  },
  {
   "cell_type": "code",
   "execution_count": 18,
   "id": "2a21c6ba-34dc-4cc1-8b70-c995b2539a9e",
   "metadata": {},
   "outputs": [
    {
     "data": {
      "text/html": [
       "<div>\n",
       "<style scoped>\n",
       "    .dataframe tbody tr th:only-of-type {\n",
       "        vertical-align: middle;\n",
       "    }\n",
       "\n",
       "    .dataframe tbody tr th {\n",
       "        vertical-align: top;\n",
       "    }\n",
       "\n",
       "    .dataframe thead th {\n",
       "        text-align: right;\n",
       "    }\n",
       "</style>\n",
       "<table border=\"1\" class=\"dataframe\">\n",
       "  <thead>\n",
       "    <tr style=\"text-align: right;\">\n",
       "      <th></th>\n",
       "      <th>goodreads_book_id</th>\n",
       "      <th>tag_id</th>\n",
       "      <th>count</th>\n",
       "    </tr>\n",
       "  </thead>\n",
       "  <tbody>\n",
       "    <tr>\n",
       "      <th>159371</th>\n",
       "      <td>22369</td>\n",
       "      <td>25148</td>\n",
       "      <td>4</td>\n",
       "    </tr>\n",
       "    <tr>\n",
       "      <th>265128</th>\n",
       "      <td>52629</td>\n",
       "      <td>10094</td>\n",
       "      <td>1</td>\n",
       "    </tr>\n",
       "    <tr>\n",
       "      <th>265140</th>\n",
       "      <td>52629</td>\n",
       "      <td>2928</td>\n",
       "      <td>1</td>\n",
       "    </tr>\n",
       "    <tr>\n",
       "      <th>265155</th>\n",
       "      <td>52629</td>\n",
       "      <td>13272</td>\n",
       "      <td>1</td>\n",
       "    </tr>\n",
       "    <tr>\n",
       "      <th>265187</th>\n",
       "      <td>52629</td>\n",
       "      <td>13322</td>\n",
       "      <td>1</td>\n",
       "    </tr>\n",
       "    <tr>\n",
       "      <th>308771</th>\n",
       "      <td>77449</td>\n",
       "      <td>25148</td>\n",
       "      <td>7</td>\n",
       "    </tr>\n",
       "  </tbody>\n",
       "</table>\n",
       "</div>"
      ],
      "text/plain": [
       "        goodreads_book_id  tag_id  count\n",
       "159371              22369   25148      4\n",
       "265128              52629   10094      1\n",
       "265140              52629    2928      1\n",
       "265155              52629   13272      1\n",
       "265187              52629   13322      1\n",
       "308771              77449   25148      7"
      ]
     },
     "execution_count": 18,
     "metadata": {},
     "output_type": "execute_result"
    }
   ],
   "source": [
    "# Duplicate values\n",
    "book_tags[book_tags.duplicated()]"
   ]
  },
  {
   "cell_type": "code",
   "execution_count": 19,
   "id": "2284e34e-9b84-4c10-8d3b-032b1c9bb6d6",
   "metadata": {},
   "outputs": [],
   "source": [
    "# Remove duplicates\n",
    "book_tags = book_tags.loc[book_tags.duplicated() == False, :]"
   ]
  },
  {
   "cell_type": "markdown",
   "id": "0ed3273c-9f81-4af8-b99b-ff4e7ca04d01",
   "metadata": {},
   "source": [
    "### tags"
   ]
  },
  {
   "cell_type": "code",
   "execution_count": 20,
   "id": "ba0c1854-e433-499a-8d3a-fd1e05ad1839",
   "metadata": {},
   "outputs": [
    {
     "name": "stdout",
     "output_type": "stream",
     "text": [
      "Number of records: 34252\n",
      "Number of columns: 2\n"
     ]
    },
    {
     "data": {
      "text/html": [
       "<div>\n",
       "<style scoped>\n",
       "    .dataframe tbody tr th:only-of-type {\n",
       "        vertical-align: middle;\n",
       "    }\n",
       "\n",
       "    .dataframe tbody tr th {\n",
       "        vertical-align: top;\n",
       "    }\n",
       "\n",
       "    .dataframe thead th {\n",
       "        text-align: right;\n",
       "    }\n",
       "</style>\n",
       "<table border=\"1\" class=\"dataframe\">\n",
       "  <thead>\n",
       "    <tr style=\"text-align: right;\">\n",
       "      <th></th>\n",
       "      <th>tag_id</th>\n",
       "      <th>tag_name</th>\n",
       "    </tr>\n",
       "  </thead>\n",
       "  <tbody>\n",
       "    <tr>\n",
       "      <th>0</th>\n",
       "      <td>0</td>\n",
       "      <td>-</td>\n",
       "    </tr>\n",
       "    <tr>\n",
       "      <th>1</th>\n",
       "      <td>1</td>\n",
       "      <td>--1-</td>\n",
       "    </tr>\n",
       "  </tbody>\n",
       "</table>\n",
       "</div>"
      ],
      "text/plain": [
       "   tag_id tag_name\n",
       "0       0        -\n",
       "1       1     --1-"
      ]
     },
     "execution_count": 20,
     "metadata": {},
     "output_type": "execute_result"
    }
   ],
   "source": [
    "# Dimensions\n",
    "print(f\"Number of records: {tags.shape[0]}\")\n",
    "print(f\"Number of columns: {tags.shape[1]}\")\n",
    "tags.head(2)"
   ]
  },
  {
   "cell_type": "code",
   "execution_count": 21,
   "id": "860edc60-a954-4a7d-afe4-14f838530b86",
   "metadata": {},
   "outputs": [
    {
     "data": {
      "text/plain": [
       "int64     1\n",
       "object    1\n",
       "Name: count, dtype: int64"
      ]
     },
     "metadata": {},
     "output_type": "display_data"
    },
    {
     "name": "stdout",
     "output_type": "stream",
     "text": [
      "\n",
      "\n"
     ]
    },
    {
     "data": {
      "text/plain": [
       "tag_id       int64\n",
       "tag_name    object\n",
       "dtype: object"
      ]
     },
     "execution_count": 21,
     "metadata": {},
     "output_type": "execute_result"
    }
   ],
   "source": [
    "# Data types\n",
    "display(tags.dtypes.value_counts())\n",
    "print(\"\\n\")\n",
    "tags.dtypes"
   ]
  },
  {
   "cell_type": "code",
   "execution_count": 22,
   "id": "7678ad4a-ac47-4125-922d-1a3edfc68f61",
   "metadata": {},
   "outputs": [
    {
     "data": {
      "text/plain": [
       "Series([], dtype: int64)"
      ]
     },
     "execution_count": 22,
     "metadata": {},
     "output_type": "execute_result"
    }
   ],
   "source": [
    "# Missing values\n",
    "tags.isnull().sum()[(tags.isnull().sum() > 1)]"
   ]
  },
  {
   "cell_type": "code",
   "execution_count": 23,
   "id": "c94d7dcd-3261-4d8c-83d4-eab61df137e1",
   "metadata": {},
   "outputs": [
    {
     "data": {
      "text/html": [
       "<div>\n",
       "<style scoped>\n",
       "    .dataframe tbody tr th:only-of-type {\n",
       "        vertical-align: middle;\n",
       "    }\n",
       "\n",
       "    .dataframe tbody tr th {\n",
       "        vertical-align: top;\n",
       "    }\n",
       "\n",
       "    .dataframe thead th {\n",
       "        text-align: right;\n",
       "    }\n",
       "</style>\n",
       "<table border=\"1\" class=\"dataframe\">\n",
       "  <thead>\n",
       "    <tr style=\"text-align: right;\">\n",
       "      <th></th>\n",
       "      <th>tag_id</th>\n",
       "      <th>tag_name</th>\n",
       "    </tr>\n",
       "  </thead>\n",
       "  <tbody>\n",
       "  </tbody>\n",
       "</table>\n",
       "</div>"
      ],
      "text/plain": [
       "Empty DataFrame\n",
       "Columns: [tag_id, tag_name]\n",
       "Index: []"
      ]
     },
     "execution_count": 23,
     "metadata": {},
     "output_type": "execute_result"
    }
   ],
   "source": [
    "# Duplicate values\n",
    "tags[tags.duplicated()]"
   ]
  },
  {
   "cell_type": "markdown",
   "id": "8d1d0e62-cb5f-40b2-9cbb-197917c32b8a",
   "metadata": {},
   "source": [
    "## Model 1: Item similarity"
   ]
  },
  {
   "cell_type": "markdown",
   "id": "84920655-5871-4e10-a5ee-d1febb6db133",
   "metadata": {},
   "source": [
    "### Pre-processing"
   ]
  },
  {
   "cell_type": "code",
   "execution_count": 24,
   "id": "67578635-1709-49e8-a43a-6f392d3c6649",
   "metadata": {},
   "outputs": [],
   "source": [
    "# Preprocess data\n",
    "books['title'] = books['title'].str.lower()\n",
    "books['authors'] = books['authors'].str.lower()"
   ]
  },
  {
   "cell_type": "markdown",
   "id": "bd984cec-3d6a-4640-9d06-720bfe453265",
   "metadata": {},
   "source": [
    "### Feature extraction / similarity scores"
   ]
  },
  {
   "cell_type": "code",
   "execution_count": 25,
   "id": "b2c66001-eea3-47c6-b5e8-c8b860557ced",
   "metadata": {},
   "outputs": [
    {
     "data": {
      "text/plain": [
       "'the hunger games (the hunger games, #1) suzanne collins'"
      ]
     },
     "execution_count": 25,
     "metadata": {},
     "output_type": "execute_result"
    }
   ],
   "source": [
    "# Combine relevant features (book title and author) into a single column\n",
    "books['features'] = books['title'] + ' ' + books['authors']\n",
    "books.loc[0, 'features']"
   ]
  },
  {
   "cell_type": "code",
   "execution_count": 26,
   "id": "3a649e90-8e7f-4f2a-bcf7-5a198c22a0f5",
   "metadata": {},
   "outputs": [],
   "source": [
    "# TF-IDF vectorization\n",
    "tfidf_vectorizer = TfidfVectorizer(stop_words='english')\n",
    "tfidf_matrix = tfidf_vectorizer.fit_transform(books['features'])\n",
    "\n",
    "# Cosine similarities between books\n",
    "cosine_similarities = cosine_similarity(tfidf_matrix, tfidf_matrix)"
   ]
  },
  {
   "cell_type": "markdown",
   "id": "5388aa30-f1f9-4668-ab88-6128aaed0902",
   "metadata": {},
   "source": [
    "### Recommendation system"
   ]
  },
  {
   "cell_type": "code",
   "execution_count": 27,
   "id": "a74c9e41-8e14-420b-9a39-c411bcede160",
   "metadata": {},
   "outputs": [],
   "source": [
    "def get_content_based_recommendations(book_title, books, similarity_scores, top_k):\n",
    "    \"\"\"Function to get content-based book recommendations for a given book title\n",
    "    \"\"\"\n",
    "    # Find the index of the book in the dataframe\n",
    "    idx = books.index[books['title'] == book_title].tolist()[0]\n",
    "\n",
    "    # Get the pairwise similarity scores\n",
    "    book_similarities = list(enumerate(similarity_scores[idx]))\n",
    "\n",
    "    # Sort books based on similarity scores\n",
    "    book_similarities = sorted(book_similarities, key=lambda x: x[1], reverse=True)\n",
    "\n",
    "    # Exclude the book itself (most similar will be the book itself)\n",
    "    book_similarities = book_similarities[1:]\n",
    "    \n",
    "    # Get top k similar books\n",
    "    similar_books = book_similarities[0:top_k]\n",
    "    \n",
    "    # Extract book titles\n",
    "    recommended_books = books.loc[[i for i, s in similar_books], 'title'].tolist()\n",
    "\n",
    "    return recommended_books"
   ]
  },
  {
   "cell_type": "code",
   "execution_count": 28,
   "id": "e85cbc03-1425-41da-a862-d6a8aaea190a",
   "metadata": {},
   "outputs": [
    {
     "name": "stdout",
     "output_type": "stream",
     "text": [
      "Content-based recommendations for 'the hunger games (the hunger games, #1)':\n",
      "\n",
      "1 the hunger games trilogy boxset (the hunger games, #1-3)\n",
      "2 catching fire (the hunger games, #2)\n",
      "3 mockingjay (the hunger games, #3)\n",
      "4 the world of the hunger games (hunger games trilogy)\n",
      "5 the hunger games tribute guide\n"
     ]
    }
   ],
   "source": [
    "# Example\n",
    "book_title = 'the hunger games (the hunger games, #1)'\n",
    "content_based_recommendations = get_content_based_recommendations(book_title, books, cosine_similarities, 5)\n",
    "\n",
    "# Display recommendations\n",
    "print(f\"Content-based recommendations for '{book_title}':\\n\")\n",
    "for i, title in enumerate(content_based_recommendations):\n",
    "    print(i+1, title)"
   ]
  },
  {
   "cell_type": "markdown",
   "id": "f33c095a-db38-4243-b18b-fc5b7a222fd1",
   "metadata": {},
   "source": [
    "### Evaluation"
   ]
  },
  {
   "cell_type": "markdown",
   "id": "d01a1645-53ba-4994-911b-7b116bc809a8",
   "metadata": {},
   "source": [
    "## Model 2: Item-user profile similarity"
   ]
  },
  {
   "cell_type": "markdown",
   "id": "eb472b66-2d15-4f4a-b818-e7ed5b0cd494",
   "metadata": {},
   "source": [
    "### Pre-processing"
   ]
  },
  {
   "cell_type": "code",
   "execution_count": 29,
   "id": "0677d070-c2e5-4c01-931f-629e82067dca",
   "metadata": {},
   "outputs": [
    {
     "data": {
      "text/html": [
       "<div>\n",
       "<style scoped>\n",
       "    .dataframe tbody tr th:only-of-type {\n",
       "        vertical-align: middle;\n",
       "    }\n",
       "\n",
       "    .dataframe tbody tr th {\n",
       "        vertical-align: top;\n",
       "    }\n",
       "\n",
       "    .dataframe thead th {\n",
       "        text-align: right;\n",
       "    }\n",
       "</style>\n",
       "<table border=\"1\" class=\"dataframe\">\n",
       "  <thead>\n",
       "    <tr style=\"text-align: right;\">\n",
       "      <th></th>\n",
       "      <th>user_id</th>\n",
       "      <th>book_id</th>\n",
       "      <th>rating</th>\n",
       "      <th>title</th>\n",
       "    </tr>\n",
       "  </thead>\n",
       "  <tbody>\n",
       "    <tr>\n",
       "      <th>0</th>\n",
       "      <td>1</td>\n",
       "      <td>258</td>\n",
       "      <td>5</td>\n",
       "      <td>the scorch trials (maze runner, #2)</td>\n",
       "    </tr>\n",
       "    <tr>\n",
       "      <th>1</th>\n",
       "      <td>2</td>\n",
       "      <td>4081</td>\n",
       "      <td>4</td>\n",
       "      <td>the mistake (off-campus, #2)</td>\n",
       "    </tr>\n",
       "  </tbody>\n",
       "</table>\n",
       "</div>"
      ],
      "text/plain": [
       "   user_id  book_id  rating                                title\n",
       "0        1      258       5  the scorch trials (maze runner, #2)\n",
       "1        2     4081       4         the mistake (off-campus, #2)"
      ]
     },
     "execution_count": 29,
     "metadata": {},
     "output_type": "execute_result"
    }
   ],
   "source": [
    "# Book title lookup\n",
    "book_lookup = books.groupby(\"book_id\")[\"title\"].first()\n",
    "book_lookup = book_lookup.reset_index()\n",
    "# book_lookup.head(2)\n",
    "\n",
    "# Add book title to ratings df\n",
    "ratings = ratings.join(book_lookup, on=\"book_id\", how=\"left\", rsuffix=\"_right\")\n",
    "ratings = ratings.drop(columns=[\"book_id_right\"])\n",
    "ratings.head(2)"
   ]
  },
  {
   "cell_type": "code",
   "execution_count": 30,
   "id": "12b03e35-8412-4b19-a3ad-06401e5358a2",
   "metadata": {},
   "outputs": [
    {
     "data": {
      "text/html": [
       "<div>\n",
       "<style scoped>\n",
       "    .dataframe tbody tr th:only-of-type {\n",
       "        vertical-align: middle;\n",
       "    }\n",
       "\n",
       "    .dataframe tbody tr th {\n",
       "        vertical-align: top;\n",
       "    }\n",
       "\n",
       "    .dataframe thead th {\n",
       "        text-align: right;\n",
       "    }\n",
       "</style>\n",
       "<table border=\"1\" class=\"dataframe\">\n",
       "  <thead>\n",
       "    <tr style=\"text-align: right;\">\n",
       "      <th></th>\n",
       "      <th>book_id</th>\n",
       "      <th>goodreads_book_id</th>\n",
       "      <th>best_book_id</th>\n",
       "      <th>work_id</th>\n",
       "      <th>books_count</th>\n",
       "      <th>isbn</th>\n",
       "      <th>isbn13</th>\n",
       "      <th>authors</th>\n",
       "      <th>original_publication_year</th>\n",
       "      <th>original_title</th>\n",
       "      <th>...</th>\n",
       "      <th>work_text_reviews_count</th>\n",
       "      <th>ratings_1</th>\n",
       "      <th>ratings_2</th>\n",
       "      <th>ratings_3</th>\n",
       "      <th>ratings_4</th>\n",
       "      <th>ratings_5</th>\n",
       "      <th>image_url</th>\n",
       "      <th>small_image_url</th>\n",
       "      <th>features</th>\n",
       "      <th>tag_name</th>\n",
       "    </tr>\n",
       "  </thead>\n",
       "  <tbody>\n",
       "    <tr>\n",
       "      <th>0</th>\n",
       "      <td>1</td>\n",
       "      <td>2767052</td>\n",
       "      <td>2767052</td>\n",
       "      <td>2792775</td>\n",
       "      <td>272</td>\n",
       "      <td>439023483</td>\n",
       "      <td>9.780439e+12</td>\n",
       "      <td>suzanne collins</td>\n",
       "      <td>2008.0</td>\n",
       "      <td>The Hunger Games</td>\n",
       "      <td>...</td>\n",
       "      <td>155254</td>\n",
       "      <td>66715</td>\n",
       "      <td>127936</td>\n",
       "      <td>560092</td>\n",
       "      <td>1481305</td>\n",
       "      <td>2706317</td>\n",
       "      <td>https://images.gr-assets.com/books/1447303603m...</td>\n",
       "      <td>https://images.gr-assets.com/books/1447303603s...</td>\n",
       "      <td>the hunger games (the hunger games, #1) suzann...</td>\n",
       "      <td>NaN</td>\n",
       "    </tr>\n",
       "    <tr>\n",
       "      <th>1</th>\n",
       "      <td>2</td>\n",
       "      <td>3</td>\n",
       "      <td>3</td>\n",
       "      <td>4640799</td>\n",
       "      <td>491</td>\n",
       "      <td>439554934</td>\n",
       "      <td>9.780440e+12</td>\n",
       "      <td>j.k. rowling, mary grandpré</td>\n",
       "      <td>1997.0</td>\n",
       "      <td>Harry Potter and the Philosopher's Stone</td>\n",
       "      <td>...</td>\n",
       "      <td>75867</td>\n",
       "      <td>75504</td>\n",
       "      <td>101676</td>\n",
       "      <td>455024</td>\n",
       "      <td>1156318</td>\n",
       "      <td>3011543</td>\n",
       "      <td>https://images.gr-assets.com/books/1474154022m...</td>\n",
       "      <td>https://images.gr-assets.com/books/1474154022s...</td>\n",
       "      <td>harry potter and the sorcerer's stone (harry p...</td>\n",
       "      <td>favorites fantasy currently-reading young-adul...</td>\n",
       "    </tr>\n",
       "  </tbody>\n",
       "</table>\n",
       "<p>2 rows × 25 columns</p>\n",
       "</div>"
      ],
      "text/plain": [
       "   book_id  goodreads_book_id  best_book_id  work_id  books_count       isbn  \\\n",
       "0        1            2767052       2767052  2792775          272  439023483   \n",
       "1        2                  3             3  4640799          491  439554934   \n",
       "\n",
       "         isbn13                      authors  original_publication_year  \\\n",
       "0  9.780439e+12              suzanne collins                     2008.0   \n",
       "1  9.780440e+12  j.k. rowling, mary grandpré                     1997.0   \n",
       "\n",
       "                             original_title  ... work_text_reviews_count  \\\n",
       "0                          The Hunger Games  ...                  155254   \n",
       "1  Harry Potter and the Philosopher's Stone  ...                   75867   \n",
       "\n",
       "  ratings_1  ratings_2  ratings_3  ratings_4  ratings_5  \\\n",
       "0     66715     127936     560092    1481305    2706317   \n",
       "1     75504     101676     455024    1156318    3011543   \n",
       "\n",
       "                                           image_url  \\\n",
       "0  https://images.gr-assets.com/books/1447303603m...   \n",
       "1  https://images.gr-assets.com/books/1474154022m...   \n",
       "\n",
       "                                     small_image_url  \\\n",
       "0  https://images.gr-assets.com/books/1447303603s...   \n",
       "1  https://images.gr-assets.com/books/1474154022s...   \n",
       "\n",
       "                                            features  \\\n",
       "0  the hunger games (the hunger games, #1) suzann...   \n",
       "1  harry potter and the sorcerer's stone (harry p...   \n",
       "\n",
       "                                            tag_name  \n",
       "0                                                NaN  \n",
       "1  favorites fantasy currently-reading young-adul...  \n",
       "\n",
       "[2 rows x 25 columns]"
      ]
     },
     "execution_count": 30,
     "metadata": {},
     "output_type": "execute_result"
    }
   ],
   "source": [
    "# Book tag lookup\n",
    "tags[\"tag_name\"] = tags[\"tag_name\"].str.lower()\n",
    "tag_lookup = book_tags.join(tags, on=\"tag_id\", how=\"left\", rsuffix=\"_right\")\n",
    "tag_lookup = tag_lookup.drop(columns=[\"tag_id_right\"])\n",
    "tag_lookup = tag_lookup.groupby(\"goodreads_book_id\")[\"tag_name\"].apply(list)\n",
    "tag_lookup = tag_lookup.apply(lambda x: \" \".join(list(x))).reset_index()\n",
    "# tag_lookup.head(5)\n",
    "\n",
    "# Add tags to books df\n",
    "books = books.join(tag_lookup, on=\"goodreads_book_id\", how=\"left\", rsuffix=\"_right\")\n",
    "books = books.drop(columns=[\"goodreads_book_id_right\"])\n",
    "books.head(2)"
   ]
  },
  {
   "cell_type": "markdown",
   "id": "a3cc5183-e242-447d-8a6e-9ed50d078bb9",
   "metadata": {},
   "source": [
    "### Feature extraction / similarity scores"
   ]
  },
  {
   "cell_type": "code",
   "execution_count": 31,
   "id": "507aa5aa-fb97-4ce2-b951-5d88f159edac",
   "metadata": {},
   "outputs": [
    {
     "data": {
      "text/html": [
       "<div>\n",
       "<style scoped>\n",
       "    .dataframe tbody tr th:only-of-type {\n",
       "        vertical-align: middle;\n",
       "    }\n",
       "\n",
       "    .dataframe tbody tr th {\n",
       "        vertical-align: top;\n",
       "    }\n",
       "\n",
       "    .dataframe thead th {\n",
       "        text-align: right;\n",
       "    }\n",
       "</style>\n",
       "<table border=\"1\" class=\"dataframe\">\n",
       "  <thead>\n",
       "    <tr style=\"text-align: right;\">\n",
       "      <th></th>\n",
       "      <th>book_id</th>\n",
       "      <th>goodreads_book_id</th>\n",
       "      <th>best_book_id</th>\n",
       "      <th>work_id</th>\n",
       "      <th>books_count</th>\n",
       "      <th>isbn</th>\n",
       "      <th>isbn13</th>\n",
       "      <th>authors</th>\n",
       "      <th>original_publication_year</th>\n",
       "      <th>original_title</th>\n",
       "      <th>...</th>\n",
       "      <th>ratings_1</th>\n",
       "      <th>ratings_2</th>\n",
       "      <th>ratings_3</th>\n",
       "      <th>ratings_4</th>\n",
       "      <th>ratings_5</th>\n",
       "      <th>image_url</th>\n",
       "      <th>small_image_url</th>\n",
       "      <th>features</th>\n",
       "      <th>tag_name</th>\n",
       "      <th>features_2</th>\n",
       "    </tr>\n",
       "  </thead>\n",
       "  <tbody>\n",
       "    <tr>\n",
       "      <th>0</th>\n",
       "      <td>1</td>\n",
       "      <td>2767052</td>\n",
       "      <td>2767052</td>\n",
       "      <td>2792775</td>\n",
       "      <td>272</td>\n",
       "      <td>439023483</td>\n",
       "      <td>9.780439e+12</td>\n",
       "      <td>suzanne collins</td>\n",
       "      <td>2008.0</td>\n",
       "      <td>The Hunger Games</td>\n",
       "      <td>...</td>\n",
       "      <td>66715</td>\n",
       "      <td>127936</td>\n",
       "      <td>560092</td>\n",
       "      <td>1481305</td>\n",
       "      <td>2706317</td>\n",
       "      <td>https://images.gr-assets.com/books/1447303603m...</td>\n",
       "      <td>https://images.gr-assets.com/books/1447303603s...</td>\n",
       "      <td>the hunger games (the hunger games, #1) suzann...</td>\n",
       "      <td>NaN</td>\n",
       "      <td>the hunger games (the hunger games, #1) suzann...</td>\n",
       "    </tr>\n",
       "    <tr>\n",
       "      <th>1</th>\n",
       "      <td>2</td>\n",
       "      <td>3</td>\n",
       "      <td>3</td>\n",
       "      <td>4640799</td>\n",
       "      <td>491</td>\n",
       "      <td>439554934</td>\n",
       "      <td>9.780440e+12</td>\n",
       "      <td>j.k. rowling, mary grandpré</td>\n",
       "      <td>1997.0</td>\n",
       "      <td>Harry Potter and the Philosopher's Stone</td>\n",
       "      <td>...</td>\n",
       "      <td>75504</td>\n",
       "      <td>101676</td>\n",
       "      <td>455024</td>\n",
       "      <td>1156318</td>\n",
       "      <td>3011543</td>\n",
       "      <td>https://images.gr-assets.com/books/1474154022m...</td>\n",
       "      <td>https://images.gr-assets.com/books/1474154022s...</td>\n",
       "      <td>harry potter and the sorcerer's stone (harry p...</td>\n",
       "      <td>favorites fantasy currently-reading young-adul...</td>\n",
       "      <td>harry potter and the sorcerer's stone (harry p...</td>\n",
       "    </tr>\n",
       "  </tbody>\n",
       "</table>\n",
       "<p>2 rows × 26 columns</p>\n",
       "</div>"
      ],
      "text/plain": [
       "   book_id  goodreads_book_id  best_book_id  work_id  books_count       isbn  \\\n",
       "0        1            2767052       2767052  2792775          272  439023483   \n",
       "1        2                  3             3  4640799          491  439554934   \n",
       "\n",
       "         isbn13                      authors  original_publication_year  \\\n",
       "0  9.780439e+12              suzanne collins                     2008.0   \n",
       "1  9.780440e+12  j.k. rowling, mary grandpré                     1997.0   \n",
       "\n",
       "                             original_title  ... ratings_1 ratings_2  \\\n",
       "0                          The Hunger Games  ...     66715    127936   \n",
       "1  Harry Potter and the Philosopher's Stone  ...     75504    101676   \n",
       "\n",
       "   ratings_3  ratings_4  ratings_5  \\\n",
       "0     560092    1481305    2706317   \n",
       "1     455024    1156318    3011543   \n",
       "\n",
       "                                           image_url  \\\n",
       "0  https://images.gr-assets.com/books/1447303603m...   \n",
       "1  https://images.gr-assets.com/books/1474154022m...   \n",
       "\n",
       "                                     small_image_url  \\\n",
       "0  https://images.gr-assets.com/books/1447303603s...   \n",
       "1  https://images.gr-assets.com/books/1474154022s...   \n",
       "\n",
       "                                            features  \\\n",
       "0  the hunger games (the hunger games, #1) suzann...   \n",
       "1  harry potter and the sorcerer's stone (harry p...   \n",
       "\n",
       "                                            tag_name  \\\n",
       "0                                                NaN   \n",
       "1  favorites fantasy currently-reading young-adul...   \n",
       "\n",
       "                                          features_2  \n",
       "0  the hunger games (the hunger games, #1) suzann...  \n",
       "1  harry potter and the sorcerer's stone (harry p...  \n",
       "\n",
       "[2 rows x 26 columns]"
      ]
     },
     "execution_count": 31,
     "metadata": {},
     "output_type": "execute_result"
    }
   ],
   "source": [
    "# Combine relevant features (book title, author, and tags) into a single column\n",
    "books['features_2'] = books['title'] + ' ' + books['authors'] + ' ' + books['tag_name'].fillna(' ')\n",
    "books.head(2)"
   ]
  },
  {
   "cell_type": "code",
   "execution_count": 32,
   "id": "be33975b-3132-449e-8b55-1eb06d40474a",
   "metadata": {},
   "outputs": [],
   "source": [
    "# TF-IDF Vectorization\n",
    "tfidf_vectorizer = TfidfVectorizer(stop_words='english')\n",
    "tfidf_matrix = tfidf_vectorizer.fit_transform(books['features_2'])\n",
    "\n",
    "# Calculate cosine similarities between books\n",
    "cosine_similarities = cosine_similarity(tfidf_matrix, tfidf_matrix)"
   ]
  },
  {
   "cell_type": "markdown",
   "id": "2456a0ad-b8a5-4570-99a8-eaab48f8c4b5",
   "metadata": {},
   "source": [
    "### Recommender system"
   ]
  },
  {
   "cell_type": "code",
   "execution_count": 51,
   "id": "ccc33e8d-6dfc-4b52-9ee2-e5deead0c7fd",
   "metadata": {},
   "outputs": [],
   "source": [
    "def get_content_based_recommendations(user_id, ratings, books, similarity_scores, top_k):\n",
    "    \"\"\"Function to get content-based book recommendations for a given user profile\n",
    "    \"\"\"\n",
    "    # Filter the dataframe for the given user's reading history & join into a single string\n",
    "    user_history_features = \" \".join(ratings.loc[ratings[\"user_id\"] == user_id, \"title\"].values)\n",
    "    \n",
    "    # TF-IDF Vectorization for the user's reading history\n",
    "    user_vector = tfidf_vectorizer.transform([user_history_features])\n",
    "    print(user_vector)\n",
    "    \n",
    "    # Calculate cosine similarities between the user's reading history and all books\n",
    "    book_user_similarities = list(enumerate(cosine_similarity(user_vector, tfidf_matrix).flatten()))\n",
    "    print(book_user_similarities)\n",
    "    \n",
    "    # Sort books based on similarity scores\n",
    "    book_user_similarities = sorted(book_user_similarities, key=lambda x: x[1], reverse=True)\n",
    "\n",
    "    # Exclude the book itself (most similar will be the book itself)\n",
    "    book_user_similarities = book_user_similarities[1:]\n",
    "    \n",
    "    # Get top k similar books\n",
    "    recommended_books = book_user_similarities[0:top_k]\n",
    "\n",
    "    return recommended_books"
   ]
  },
  {
   "cell_type": "code",
   "execution_count": 52,
   "id": "c635ce3e-d7c8-4ef4-b9b8-ad53f752d63b",
   "metadata": {},
   "outputs": [
    {
     "name": "stdout",
     "output_type": "stream",
     "text": [
      "  (0, 16116)\t0.09219922856325664\n",
      "  (0, 15908)\t0.04754541313583311\n",
      "  (0, 15898)\t0.1384239174493154\n",
      "  (0, 15897)\t0.05475249343293524\n",
      "  (0, 15864)\t0.046777213968847306\n",
      "  (0, 15858)\t0.03684060155550634\n",
      "  (0, 15822)\t0.036120544494280614\n",
      "  (0, 15819)\t0.039173221265137816\n",
      "  (0, 15807)\t0.04609961428162832\n",
      "  (0, 15719)\t0.039173221265137816\n",
      "  (0, 15711)\t0.039996472986842266\n",
      "  (0, 15677)\t0.07018097863479364\n",
      "  (0, 15657)\t0.040957526460168\n",
      "  (0, 15531)\t0.04122515369415768\n",
      "  (0, 15496)\t0.10950498686587049\n",
      "  (0, 15486)\t0.05076485370089128\n",
      "  (0, 15482)\t0.08917671117363875\n",
      "  (0, 15478)\t0.02753067745228939\n",
      "  (0, 15457)\t0.05076485370089128\n",
      "  (0, 15377)\t0.05475249343293524\n",
      "  (0, 15160)\t0.048432233991259795\n",
      "  (0, 15092)\t0.06780369654211958\n",
      "  (0, 15034)\t0.05475249343293524\n",
      "  (0, 14971)\t0.0389845831173349\n",
      "  (0, 14939)\t0.05475249343293524\n",
      "  :\t:\n",
      "  (0, 1887)\t0.07724981350107306\n",
      "  (0, 1846)\t0.040227717596637264\n",
      "  (0, 1791)\t0.09686446798251959\n",
      "  (0, 1698)\t0.04754541313583311\n",
      "  (0, 1685)\t0.09208012845532973\n",
      "  (0, 1557)\t0.10152970740178256\n",
      "  (0, 1508)\t0.04244080393595605\n",
      "  (0, 1480)\t0.041800928633528855\n",
      "  (0, 1416)\t0.039570133671745195\n",
      "  (0, 1197)\t0.03568615346608998\n",
      "  (0, 1110)\t0.03331877263519326\n",
      "  (0, 985)\t0.10483974744660751\n",
      "  (0, 756)\t0.06239588360209979\n",
      "  (0, 753)\t0.03710214423253934\n",
      "  (0, 746)\t0.0389845831173349\n",
      "  (0, 647)\t0.02681658663278717\n",
      "  (0, 646)\t0.032602794232817055\n",
      "  (0, 558)\t0.07293862959025585\n",
      "  (0, 440)\t0.04316086099718178\n",
      "  (0, 396)\t0.07447502792422744\n",
      "  (0, 282)\t0.04398411271888622\n",
      "  (0, 203)\t0.052419873723303756\n",
      "  (0, 200)\t0.052419873723303756\n",
      "  (0, 137)\t0.02983800943739697\n",
      "  (0, 21)\t0.05076485370089128\n",
      "[(0, 0.05284066592911954), (1, 0.12509873559012355), (2, 0.03137440105843991), (3, 0.03302409340907796), (4, 0.022182189307004843), (5, 0.032399087079476946), (6, 0.04485908343846656), (7, 0.024737771150237134), (8, 0.0046539861977689286), (9, 0.017314741632810014), (10, 0.07413113239206573), (11, 0.07322425285433969), (12, 0.05454061599695085), (13, 0.02841740936147602), (14, 0.02365737778888124), (15, 0.007683214620667143), (16, 0.06353094513362283), (17, 0.14373960687980353), (18, 0.006890935129862302), (19, 0.034990474936414995), (20, 0.11959101940758914), (21, 0.03045303695767573), (22, 0.21332609037480513), (23, 0.13676308061529915), (24, 0.1766228678680079), (25, 0.018303280009256254), (26, 0.1266047991212745), (27, 0.015141554092684778), (28, 0.02914593164233217), (29, 0.03177895674012296), (30, 0.0), (31, 0.018478816038795143), (32, 0.0348629839702174), (33, 0.24212538293803254), (34, 0.010482305194047116), (35, 0.018010227431149488), (36, 0.08699597960455596), (37, 0.03499347715281251), (38, 0.10052169653598839), (39, 0.014136336774659133), (40, 0.14496171924822537), (41, 0.02566879981581909), (42, 0.03458976976753392), (43, 0.08439896406206844), (44, 0.011661180857489786), (45, 0.04725344291246314), (46, 0.048730014803507415), (47, 0.029185112357729616), (48, 0.02768923836546984), (49, 0.0), (50, 0.022953544382459924), (51, 0.017662898269374255), (52, 0.0), (53, 0.02459713644776875), (54, 0.06720572350752305), (55, 0.016615542305979468), (56, 0.02537104530549386), (57, 0.034957961678867076), (58, 0.022805280863453212), (59, 0.020574708961528555), (60, 0.032764438395848514), (61, 0.014712484829768046), (62, 0.048532071343207875), (63, 0.02413940344492966), (64, 0.004595109309023422), (65, 0.019823389910705678), (66, 0.06593614624600758), (67, 0.05744808950517441), (68, 0.04231104943720522), (69, 0.011205574496522302), (70, 0.03520495499862014), (71, 0.0), (72, 0.07970189965773807), (73, 0.028873721118954088), (74, 0.0), (75, 0.00897408842845842), (76, 0.06151788303081902), (77, 0.03235477479035278), (78, 0.03741557756604941), (79, 0.0), (80, 0.007026888674368396), (81, 0.03441379351564249), (82, 0.005858178591138994), (83, 0.02442387688522025), (84, 0.0), (85, 0.05397299497221325), (86, 0.04058696958116027), (87, 0.030992650363673668), (88, 0.0), (89, 0.0), (90, 0.09238480100512014), (91, 0.007883756776918403), (92, 0.022614339802335764), (93, 0.031492678739683734), (94, 0.008727270014273373), (95, 0.24075538276707564), (96, 0.0), (97, 0.007972106936388997), (98, 0.24096287480487966), (99, 0.00745200954796273), (100, 0.021947001457943278), (101, 0.01839133604347926), (102, 0.019510652478106766), (103, 0.04356514744199225), (104, 0.04295802532349047), (105, 0.0), (106, 0.06275914440864849), (107, 0.009754781418502629), (108, 0.0), (109, 0.10452797911968958), (110, 0.021705553913759182), (111, 0.0), (112, 0.0), (113, 0.018382124030543172), (114, 0.03375731492623853), (115, 0.05127094975395716), (116, 0.027536262791300364), (117, 0.1471494290967427), (118, 0.0), (119, 0.10282694090168396), (120, 0.015525126520538843), (121, 0.018310069143131373), (122, 0.044373397717775626), (123, 0.0), (124, 0.011016924221521543), (125, 0.008148176408081038), (126, 0.008690911189717727), (127, 0.0), (128, 0.06853789644813818), (129, 0.024849509598753546), (130, 0.01734335028339449), (131, 0.051250432566282325), (132, 0.049483629582111714), (133, 0.02311406089689229), (134, 0.06213281434263826), (135, 0.05316096916807231), (136, 0.07333369884850503), (137, 0.0), (138, 0.17284196925822803), (139, 0.02198773702152392), (140, 0.033560317684205886), (141, 0.020944699511548873), (142, 0.018226086737927503), (143, 0.14648607508650502), (144, 0.016836436683116008), (145, 0.0), (146, 0.0), (147, 0.010511175058534772), (148, 0.07115305550774828), (149, 0.0088069999239773), (150, 0.1265949669456433), (151, 0.03713032784358759), (152, 0.02258357119982793), (153, 0.02675073417661581), (154, 0.0), (155, 0.0), (156, 0.019270178627912006), (157, 0.07876032354284566), (158, 0.0929296887561877), (159, 0.012673672605713376), (160, 0.0), (161, 0.0), (162, 0.06798595847284766), (163, 0.0), (164, 0.081242525242269), (165, 0.0), (166, 0.04832049223436084), (167, 0.0), (168, 0.0439868814655583), (169, 0.0), (170, 0.013638940692064883), (171, 0.024954300050924052), (172, 0.0), (173, 0.0), (174, 0.0967005108538837), (175, 0.0), (176, 0.008694183570761944), (177, 0.028342334217719138), (178, 0.0), (179, 0.02392398492883552), (180, 0.0), (181, 0.006849268394676945), (182, 0.0), (183, 0.0), (184, 0.00995278426520565), (185, 0.009440220149319107), (186, 0.0), (187, 0.06379052156197423), (188, 0.013335449106987992), (189, 0.02188751863457848), (190, 0.0), (191, 0.04526414411010266), (192, 0.007925788533726276), (193, 0.008016989926570935), (194, 0.0), (195, 0.024024736096903386), (196, 0.028776051011965946), (197, 0.030496077881427518), (198, 0.11945395114296181), (199, 0.0), (200, 0.011423077938422536), (201, 0.0), (202, 0.0), (203, 0.015255907187215171), (204, 0.02816492035783352), (205, 0.0), (206, 0.02515937809359984), (207, 0.012690236263373315), (208, 0.0), (209, 0.0), (210, 0.020792985634576083), (211, 0.005466050353614981), (212, 0.02397457664866739), (213, 0.09114855997600356), (214, 0.0), (215, 0.0), (216, 0.10253526381162922), (217, 0.01290652451502333), (218, 0.042618273344534684), (219, 0.07470943924856441), (220, 0.0), (221, 0.003049375615128621), (222, 0.0), (223, 0.0), (224, 0.01781266501359471), (225, 0.04360016557715599), (226, 0.013022769139512523), (227, 0.0), (228, 0.057653435910930785), (229, 0.043436546347076846), (230, 0.0), (231, 0.07214032233988563), (232, 0.021616824530586862), (233, 0.030656632729854052), (234, 0.012994969662183517), (235, 0.020248856235763835), (236, 0.0), (237, 0.0), (238, 0.06841562547575737), (239, 0.0), (240, 0.0), (241, 0.0), (242, 0.0), (243, 0.0), (244, 0.05059798661810893), (245, 0.016742761790860903), (246, 0.01032013993201311), (247, 0.0189838620101891), (248, 0.002318015209925643), (249, 0.0), (250, 0.0), (251, 0.008575778727834844), (252, 0.02140867235298448), (253, 0.0), (254, 0.028496537099460883), (255, 0.1130471823495908), (256, 0.04714516926658153), (257, 0.015480413076441218), (258, 0.10485336148547587), (259, 0.012186627064218122), (260, 0.016933934182512028), (261, 0.0), (262, 0.04276180367922876), (263, 0.009254900832334262), (264, 0.023020188926600484), (265, 0.0), (266, 0.0), (267, 0.00311167213942452), (268, 0.019688031706950698), (269, 0.0), (270, 0.0), (271, 0.009453694189073762), (272, 0.031656242204913324), (273, 0.026092702024685905), (274, 0.027868077583263845), (275, 0.0), (276, 0.0), (277, 0.015424550878973986), (278, 0.16838296287485408), (279, 0.0), (280, 0.0), (281, 0.0), (282, 0.00975810688997857), (283, 0.03586835685252606), (284, 0.0), (285, 0.0), (286, 0.008739817240265279), (287, 0.10383380370922511), (288, 0.0), (289, 0.0), (290, 0.03627551748835278), (291, 0.022532590692711237), (292, 0.016749237523900777), (293, 0.037776938030210504), (294, 0.0), (295, 0.013667704877947238), (296, 0.0), (297, 0.010132883017456577), (298, 0.025396669530358646), (299, 0.0), (300, 0.04953846795568799), (301, 0.0), (302, 0.02360967729284571), (303, 0.0), (304, 0.0), (305, 0.02566098244818287), (306, 0.09723910907933273), (307, 0.016696206421604545), (308, 0.021601643398285904), (309, 0.0), (310, 0.0876138151902414), (311, 0.008358758760476998), (312, 0.01620640132768697), (313, 0.014988719845650911), (314, 0.03366798979108687), (315, 0.028888530159392856), (316, 0.0), (317, 0.01727444330135019), (318, 0.049268298705639285), (319, 0.0), (320, 0.010708815477823317), (321, 0.0), (322, 0.018899487576241762), (323, 0.035749825253722396), (324, 0.037508528478000215), (325, 0.06053710463116414), (326, 0.0), (327, 0.0), (328, 0.0), (329, 0.10826783355475483), (330, 0.0), (331, 0.048056903205165216), (332, 0.03829440316524338), (333, 0.01290652451502333), (334, 0.02659927766522877), (335, 0.011770681853851932), (336, 0.018423176691101335), (337, 0.01762750498463923), (338, 0.01803159038754557), (339, 0.0), (340, 0.029617099829047866), (341, 0.0), (342, 0.0), (343, 0.006891988829467678), (344, 0.0), (345, 0.0), (346, 0.030451496239506298), (347, 0.0), (348, 0.02944925455443886), (349, 0.015111658349715718), (350, 0.0), (351, 0.0), (352, 0.0), (353, 0.034693961249977555), (354, 0.0959832423244345), (355, 0.010696289238169161), (356, 0.0), (357, 0.02056422771261971), (358, 0.0), (359, 0.018588507703571178), (360, 0.0), (361, 0.0), (362, 0.02913571551164436), (363, 0.0), (364, 0.013022085345143077), (365, 0.03133412865146046), (366, 0.0), (367, 0.014326479133795828), (368, 0.0), (369, 0.019532392263908613), (370, 0.02937393193519934), (371, 0.0), (372, 0.03575779832934928), (373, 0.022031495806547684), (374, 0.04776805287738223), (375, 0.06441533046054482), (376, 0.0), (377, 0.0), (378, 0.0689964998052959), (379, 0.0), (380, 0.014737157890212956), (381, 0.019188244475685456), (382, 0.01320850055694634), (383, 0.0), (384, 0.052792184124467116), (385, 0.0), (386, 0.0), (387, 0.016588525334758852), (388, 0.0), (389, 0.0), (390, 0.008625537979219808), (391, 0.0), (392, 0.0), (393, 0.0), (394, 0.019137394260510903), (395, 0.0), (396, 0.01081330544362566), (397, 0.042119684726696166), (398, 0.0), (399, 0.0), (400, 0.0), (401, 0.0), (402, 0.04488033983325439), (403, 0.0), (404, 0.010204337239613016), (405, 0.00767611470111823), (406, 0.02399446659066707), (407, 0.04049976144844687), (408, 0.030074963454410148), (409, 0.013900220039495485), (410, 0.024279689833919083), (411, 0.009832159718678282), (412, 0.0080037523078815), (413, 0.0), (414, 0.04634649771071489), (415, 0.005668265012080014), (416, 0.0), (417, 0.0), (418, 0.0), (419, 0.034211535773860664), (420, 0.01765748367165225), (421, 0.23248739101830046), (422, 0.0), (423, 0.0), (424, 0.027013126369811243), (425, 0.028270719102397122), (426, 0.0), (427, 0.040071497557445976), (428, 0.008597852707470242), (429, 0.05796927948835694), (430, 0.011302679616927533), (431, 0.0), (432, 0.04838676774867702), (433, 0.0), (434, 0.0), (435, 0.008859040499876281), (436, 0.0), (437, 0.061628400882103515), (438, 0.016166882986228658), (439, 0.017759263753852724), (440, 0.0), (441, 0.02098298487132614), (442, 0.0), (443, 0.0), (444, 0.0), (445, 0.0), (446, 0.0), (447, 0.028741040883327452), (448, 0.01645801149295071), (449, 0.0), (450, 0.010499070821065708), (451, 0.0), (452, 0.0), (453, 0.0), (454, 0.0), (455, 0.0), (456, 0.0), (457, 0.0), (458, 0.022356440109312647), (459, 0.0), (460, 0.025526168981006646), (461, 0.030953927466437083), (462, 0.01743993368517608), (463, 0.0), (464, 0.0), (465, 0.0), (466, 0.011764473353246156), (467, 0.0), (468, 0.0), (469, 0.010003640561634775), (470, 0.008111375754544813), (471, 0.051257601476742715), (472, 0.009347728085155356), (473, 0.0), (474, 0.04073487097840767), (475, 0.05083294914178354), (476, 0.010889170626895922), (477, 0.009656073335572168), (478, 0.011787613236070426), (479, 0.014312620887082645), (480, 0.0), (481, 0.011319522513948002), (482, 0.05928125627198082), (483, 0.0), (484, 0.010433447595947453), (485, 0.09814419868940447), (486, 0.020559772526015874), (487, 0.03453264796413424), (488, 0.018780064755061575), (489, 0.004851182281049348), (490, 0.01645801149295071), (491, 0.010812880611136482), (492, 0.060702860129210195), (493, 0.02314177946775735), (494, 0.015648983406978827), (495, 0.01895300611176644), (496, 0.023715741812442806), (497, 0.025885609241058392), (498, 0.031904621044505456), (499, 0.0), (500, 0.018317884358042037), (501, 0.020795868551498595), (502, 0.0785272132020745), (503, 0.01547145686248233), (504, 0.0), (505, 0.0), (506, 0.07764363607678493), (507, 0.012989092656579342), (508, 0.0), (509, 0.07528571844996977), (510, 0.020321909553805265), (511, 0.02780669444269542), (512, 0.0037345398293992162), (513, 0.011090875241894636), (514, 0.0), (515, 0.027493246438151094), (516, 0.0), (517, 0.0), (518, 0.0), (519, 0.018436309975385715), (520, 0.10875273025044574), (521, 0.0), (522, 0.0), (523, 0.0), (524, 0.0), (525, 0.0), (526, 0.024202118030625996), (527, 0.03846462463758446), (528, 0.008821891837274321), (529, 0.018677284052436422), (530, 0.0), (531, 0.0), (532, 0.0), (533, 0.0), (534, 0.0), (535, 0.018843032779550413), (536, 0.04062330931946144), (537, 0.0), (538, 0.0), (539, 0.029673914389166355), (540, 0.0), (541, 0.03265360872929407), (542, 0.0), (543, 0.014520515608383916), (544, 0.0), (545, 0.01744964747699093), (546, 0.02962243669459337), (547, 0.02196049529667276), (548, 0.0), (549, 0.024036542248407077), (550, 0.037468754447893396), (551, 0.013516621220371745), (552, 0.0), (553, 0.04239557409747364), (554, 0.0), (555, 0.0), (556, 0.0), (557, 0.0539509718816448), (558, 0.0), (559, 0.027018713727972134), (560, 0.014938669898446466), (561, 0.01762251734706209), (562, 0.01217743021936732), (563, 0.008163702758457946), (564, 0.0), (565, 0.0), (566, 0.0), (567, 0.018896383199600027), (568, 0.0), (569, 0.00956604137649241), (570, 0.0), (571, 0.0), (572, 0.020062100957025826), (573, 0.022674872988672365), (574, 0.021792685285458767), (575, 0.0), (576, 0.0), (577, 0.0), (578, 0.0), (579, 0.011544798685150707), (580, 0.008843163729892805), (581, 0.028215708599473355), (582, 0.0), (583, 0.0), (584, 0.0), (585, 0.007070773089633884), (586, 0.0), (587, 0.0), (588, 0.0), (589, 0.0), (590, 0.014063255233300183), (591, 0.0), (592, 0.0), (593, 0.0), (594, 0.004348446140483224), (595, 0.012122238936387692), (596, 0.014439848785184924), (597, 0.016772212424036516), (598, 0.016176317738424584), (599, 0.0), (600, 0.06600282273278534), (601, 0.024619465862227165), (602, 0.01630514371647966), (603, 0.010484598650285388), (604, 0.0), (605, 0.0), (606, 0.02166900506722305), (607, 0.012632830818274307), (608, 0.0), (609, 0.0), (610, 0.019442263317993293), (611, 0.029191835704260094), (612, 0.0), (613, 0.0), (614, 0.0), (615, 0.0), (616, 0.037187610257515026), (617, 0.021989448565857307), (618, 0.0), (619, 0.0), (620, 0.0), (621, 0.0), (622, 0.017670805882814677), (623, 0.012634022342151167), (624, 0.0039231755914113185), (625, 0.0), (626, 0.006995208760038564), (627, 0.07342445725381269), (628, 0.005815528165548532), (629, 0.0), (630, 0.01069788072907582), (631, 0.0), (632, 0.0), (633, 0.0), (634, 0.033225915162475264), (635, 0.055637036972246603), (636, 0.04084274880279866), (637, 0.0), (638, 0.016868788267703584), (639, 0.0), (640, 0.03751511088074503), (641, 0.025182852248708004), (642, 0.03577403964009263), (643, 0.0), (644, 0.005984788077809028), (645, 0.01442763081109064), (646, 0.0), (647, 0.0), (648, 0.0), (649, 0.00942342246821046), (650, 0.0), (651, 0.01069788072907582), (652, 0.020936311914331887), (653, 0.0), (654, 0.0), (655, 0.029099123199684357), (656, 0.025781562205139278), (657, 0.014507140763383337), (658, 0.006754529675373033), (659, 0.01417531726844557), (660, 0.017811818599567562), (661, 0.058943314028093836), (662, 0.031506057464722306), (663, 0.0), (664, 0.0), (665, 0.02265677842247287), (666, 0.0), (667, 0.0), (668, 0.012020624747845822), (669, 0.01541792513176847), (670, 0.0), (671, 0.008466857192103187), (672, 0.0), (673, 0.008346728384055438), (674, 0.0), (675, 0.013103252321554033), (676, 0.026349277589005418), (677, 0.013671514106843289), (678, 0.0), (679, 0.00923911834183203), (680, 0.009555017001402565), (681, 0.0), (682, 0.05334883054057018), (683, 0.049152963984312015), (684, 0.03397325073889337), (685, 0.04243985854196372), (686, 0.010137740401940105), (687, 0.020673217747592766), (688, 0.0), (689, 0.02725780761247768), (690, 0.0), (691, 0.0), (692, 0.0), (693, 0.019843930788435132), (694, 0.0), (695, 0.02860867826956007), (696, 0.0), (697, 0.0), (698, 0.02604486522236862), (699, 0.0), (700, 0.0), (701, 0.018329787647473235), (702, 0.0), (703, 0.0411820503616307), (704, 0.0), (705, 0.02903231500612019), (706, 0.0), (707, 0.01760806090232611), (708, 0.0119185621483821), (709, 0.012088736087656232), (710, 0.0), (711, 0.038185072595649495), (712, 0.0), (713, 0.0), (714, 0.0), (715, 0.0), (716, 0.06802797841048473), (717, 0.0), (718, 0.03274416131715014), (719, 0.03534170381816558), (720, 0.0), (721, 0.02121747358321694), (722, 0.0), (723, 0.01069788072907582), (724, 0.02691146893695548), (725, 0.02953695471749162), (726, 0.0), (727, 0.0), (728, 0.0), (729, 0.059325010081686315), (730, 0.0), (731, 0.022899284350560958), (732, 0.0), (733, 0.007594165383723393), (734, 0.0), (735, 0.05297960178871604), (736, 0.022332207245532407), (737, 0.02148145382539708), (738, 0.0), (739, 0.01519909267662371), (740, 0.011156229551273225), (741, 0.0), (742, 0.0), (743, 0.0164398528965508), (744, 0.0), (745, 0.0), (746, 0.0), (747, 0.0278633340122949), (748, 0.0), (749, 0.0), (750, 0.02655210563159705), (751, 0.0), (752, 0.009901346238003357), (753, 0.0), (754, 0.0), (755, 0.0), (756, 0.0), (757, 0.012515061666573141), (758, 0.0), (759, 0.02054133118205721), (760, 0.011525674952202138), (761, 0.0), (762, 0.019528864756840375), (763, 0.024762883031960777), (764, 0.010067118606882263), (765, 0.0), (766, 0.00750078686078458), (767, 0.0), (768, 0.026726279722118503), (769, 0.0), (770, 0.015580312427345616), (771, 0.0), (772, 0.0), (773, 0.008715763040658289), (774, 0.0), (775, 0.009981616275183005), (776, 0.04899136773747613), (777, 0.0), (778, 0.011619176950977767), (779, 0.0), (780, 0.0), (781, 0.0), (782, 0.0163752553174421), (783, 0.016672599789661055), (784, 0.049129144785567964), (785, 0.0), (786, 0.0), (787, 0.0), (788, 0.0), (789, 0.03493493018228474), (790, 0.012842028678136337), (791, 0.019944273669454983), (792, 0.059069701709014454), (793, 0.0), (794, 0.011496809528364665), (795, 0.0), (796, 0.036858113647019214), (797, 0.020252587371879863), (798, 0.0), (799, 0.03040776012300276), (800, 0.0), (801, 0.031232139797072747), (802, 0.0), (803, 0.0), (804, 0.016524962663723046), (805, 0.04581257034550842), (806, 0.0), (807, 0.0), (808, 0.04165406286904375), (809, 0.06661154680648021), (810, 0.013041295287159346), (811, 0.0), (812, 0.0), (813, 0.016267339498471405), (814, 0.014698315367287685), (815, 0.0), (816, 0.033999817918218864), (817, 0.0), (818, 0.0), (819, 0.013410535103972963), (820, 0.0), (821, 0.0), (822, 0.0), (823, 0.009723771910914097), (824, 0.0), (825, 0.028918843195322466), (826, 0.0), (827, 0.020213866498778935), (828, 0.013230802986348763), (829, 0.0), (830, 0.0), (831, 0.0), (832, 0.026034823071897632), (833, 0.035455977852022855), (834, 0.0), (835, 0.0), (836, 0.02723424153390787), (837, 0.01591466755217555), (838, 0.02174728413937308), (839, 0.0), (840, 0.02837981687375527), (841, 0.0), (842, 0.25338562513581475), (843, 0.0), (844, 0.0), (845, 0.03191136498436447), (846, 0.013624717504934393), (847, 0.0), (848, 0.0), (849, 0.015334848850765795), (850, 0.0), (851, 0.016922264930543943), (852, 0.0), (853, 0.04503898876271378), (854, 0.014002092628799688), (855, 0.04823524663923872), (856, 0.028065178760733833), (857, 0.01970199357457262), (858, 0.009247625212462498), (859, 0.0), (860, 0.0), (861, 0.0), (862, 0.011631324168994072), (863, 0.03970189175350173), (864, 0.010239887881175523), (865, 0.0), (866, 0.018295704714271898), (867, 0.03805281200338137), (868, 0.0), (869, 0.022158202703000236), (870, 0.011295528170102985), (871, 0.0), (872, 0.0), (873, 0.016656007014652773), (874, 0.0), (875, 0.0), (876, 0.005768872442030757), (877, 0.0), (878, 0.0), (879, 0.0), (880, 0.03507668642673286), (881, 0.019934739900674528), (882, 0.0), (883, 0.14630214854501747), (884, 0.008419969103560533), (885, 0.013824817078733943), (886, 0.0), (887, 0.0), (888, 0.02895326712031691), (889, 0.0), (890, 0.0), (891, 0.0), (892, 0.004401165602315165), (893, 0.0), (894, 0.015410223392534977), (895, 0.019915713325360976), (896, 0.0), (897, 0.03152968010205916), (898, 0.0), (899, 0.0), (900, 0.01982088851031379), (901, 0.20631764788957455), (902, 0.016007536525777338), (903, 0.0), (904, 0.00210191609593689), (905, 0.0), (906, 0.025109630168777475), (907, 0.0), (908, 0.00956289525429228), (909, 0.08578544420333598), (910, 0.01850370549886149), (911, 0.010131048066618376), (912, 0.0), (913, 0.045264229407959496), (914, 0.0), (915, 0.019175723019902058), (916, 0.043999177581975184), (917, 0.0), (918, 0.023872664443786214), (919, 0.014491269865367015), (920, 0.017535152328163668), (921, 0.010482206347067402), (922, 0.013934563747901961), (923, 0.0), (924, 0.0), (925, 0.009589336750950259), (926, 0.0), (927, 0.0), (928, 0.0), (929, 0.0), (930, 0.015656423932273324), (931, 0.010710171995887226), (932, 0.07787097189269951), (933, 0.0), (934, 0.04477971154180668), (935, 0.03518002700288952), (936, 0.02429476918851132), (937, 0.0), (938, 0.0), (939, 0.0), (940, 0.0), (941, 0.027636986061269287), (942, 0.02117110940411995), (943, 0.0), (944, 0.0), (945, 0.07982550215040926), (946, 0.0), (947, 0.0), (948, 0.05404048053572151), (949, 0.018179362700634964), (950, 0.0), (951, 0.012640583019412562), (952, 0.03815887856617006), (953, 0.05890221720808725), (954, 0.03612805346971354), (955, 0.06787123603442075), (956, 0.0), (957, 0.039520327381404985), (958, 0.016893654083787873), (959, 0.031642071907461086), (960, 0.0), (961, 0.0), (962, 0.05137958201871918), (963, 0.01977028023588098), (964, 0.0), (965, 0.0), (966, 0.02384393340121198), (967, 0.01556135319880851), (968, 0.019960864681979815), (969, 0.0), (970, 0.0), (971, 0.02444468098380636), (972, 0.0), (973, 0.04450320572704665), (974, 0.005201948212283484), (975, 0.012232984226495392), (976, 0.0), (977, 0.044894975552031396), (978, 0.023541969528462974), (979, 0.0), (980, 0.0), (981, 0.0), (982, 0.03929731593911201), (983, 0.010995648716430875), (984, 0.0), (985, 0.025819132747321352), (986, 0.0), (987, 0.03133916835287574), (988, 0.013022514444907715), (989, 0.0), (990, 0.0), (991, 0.021042850336657988), (992, 0.006934782357499415), (993, 0.016345766509813252), (994, 0.0), (995, 0.026465448781946968), (996, 0.0), (997, 0.022505225728075437), (998, 0.0), (999, 0.0), (1000, 0.0), (1001, 0.0), (1002, 0.0), (1003, 0.023641648150589646), (1004, 0.012188233113699062), (1005, 0.014903941882863165), (1006, 0.02100740669322894), (1007, 0.025803194287245472), (1008, 0.0), (1009, 0.0), (1010, 0.030187193835140708), (1011, 0.03869078132364359), (1012, 0.009088013454107185), (1013, 0.013821270827087959), (1014, 0.0), (1015, 0.0), (1016, 0.011895313049055722), (1017, 0.016250231545330385), (1018, 0.0), (1019, 0.0), (1020, 0.01709987116923576), (1021, 0.0), (1022, 0.039797931694999664), (1023, 0.0), (1024, 0.027765577450546836), (1025, 0.03702783281362513), (1026, 0.05173812096837305), (1027, 0.0), (1028, 0.0), (1029, 0.0), (1030, 0.05057635025065302), (1031, 0.0), (1032, 0.0), (1033, 0.0), (1034, 0.041546541290139294), (1035, 0.0), (1036, 0.030120189589952894), (1037, 0.0), (1038, 0.006585577028916496), (1039, 0.0), (1040, 0.009087536056394861), (1041, 0.04293871833477484), (1042, 0.0), (1043, 0.0), (1044, 0.07479959043188247), (1045, 0.0), (1046, 0.0), (1047, 0.030767970661597605), (1048, 0.0), (1049, 0.0), (1050, 0.05363625324119278), (1051, 0.0), (1052, 0.06955911860748368), (1053, 0.0), (1054, 0.03134544494224784), (1055, 0.13390265492103406), (1056, 0.020138970586792836), (1057, 0.04139776919889734), (1058, 0.02685350335138569), (1059, 0.0), (1060, 0.0138573752652531), (1061, 0.0), (1062, 0.07009847772699666), (1063, 0.009506526794899392), (1064, 0.0), (1065, 0.014299945069632088), (1066, 0.01726678852474707), (1067, 0.08215778290922898), (1068, 0.008337674474632283), (1069, 0.0), (1070, 0.01560911859277717), (1071, 0.0), (1072, 0.00913981783954641), (1073, 0.008157427315627193), (1074, 0.0), (1075, 0.0216694726007592), (1076, 0.0), (1077, 0.01388223329255593), (1078, 0.0), (1079, 0.01694110827068392), (1080, 0.06486363035726515), (1081, 0.0), (1082, 0.03491467456172242), (1083, 0.0), (1084, 0.0), (1085, 0.0), (1086, 0.0), (1087, 0.0), (1088, 0.01280142552456621), (1089, 0.01125199105227109), (1090, 0.0), (1091, 0.0), (1092, 0.0163752553174421), (1093, 0.0), (1094, 0.01395538555248664), (1095, 0.016734425041494385), (1096, 0.02765764828265445), (1097, 0.0), (1098, 0.005586723903163804), (1099, 0.0), (1100, 0.0), (1101, 0.0), (1102, 0.0), (1103, 0.19635228613615774), (1104, 0.006495870869331026), (1105, 0.017769547667436485), (1106, 0.0), (1107, 0.015325335580922759), (1108, 0.07729800230726251), (1109, 0.0), (1110, 0.05296597221190226), (1111, 0.1009273445572389), (1112, 0.0), (1113, 0.0), (1114, 0.01637569377499521), (1115, 0.027782801812542515), (1116, 0.0486659312129176), (1117, 0.0), (1118, 0.038347816601349144), (1119, 0.0), (1120, 0.0), (1121, 0.0), (1122, 0.0), (1123, 0.0), (1124, 0.008536601531857986), (1125, 0.0), (1126, 0.0), (1127, 0.015469732006512887), (1128, 0.006326986012967142), (1129, 0.016725133091968214), (1130, 0.0), (1131, 0.0), (1132, 0.0), (1133, 0.0), (1134, 0.0), (1135, 0.047213148422633626), (1136, 0.0), (1137, 0.0), (1138, 0.0), (1139, 0.0), (1140, 0.014216733800947548), (1141, 0.013443696719089751), (1142, 0.0), (1143, 0.0), (1144, 0.056761470551950445), (1145, 0.018181188115984185), (1146, 0.00705093290082924), (1147, 0.026552008421944863), (1148, 0.0), (1149, 0.0348971154419911), (1150, 0.010967076976968842), (1151, 0.04796114774313669), (1152, 0.0), (1153, 0.02225271753295846), (1154, 0.0), (1155, 0.008834671029656412), (1156, 0.0), (1157, 0.0), (1158, 0.0), (1159, 0.02116251155896907), (1160, 0.004468550703761191), (1161, 0.0), (1162, 0.0), (1163, 0.0), (1164, 0.0), (1165, 0.0), (1166, 0.009428093120575107), (1167, 0.01650208206768846), (1168, 0.0), (1169, 0.0), (1170, 0.0), (1171, 0.0), (1172, 0.006867678964560476), (1173, 0.0), (1174, 0.009653226350257414), (1175, 0.0), (1176, 0.1352899339019765), (1177, 0.0), (1178, 0.0), (1179, 0.008309372961278129), (1180, 0.021322672948136015), (1181, 0.0), (1182, 0.0), (1183, 0.011046682255984302), (1184, 0.0), (1185, 0.0), (1186, 0.0), (1187, 0.049048747324487905), (1188, 0.0), (1189, 0.0), (1190, 0.0), (1191, 0.1383805860699961), (1192, 0.0), (1193, 0.014827269033166168), (1194, 0.011463547559461211), (1195, 0.016247629073859404), (1196, 0.04772561507638882), (1197, 0.016768859516256177), (1198, 0.021473754413608128), (1199, 0.014948011700886662), (1200, 0.01045364125709648), (1201, 0.017619358014622527), (1202, 0.04521748668822429), (1203, 0.06793372651813111), (1204, 0.048232345212499916), (1205, 0.023103483872341124), (1206, 0.0), (1207, 0.0), (1208, 0.0), (1209, 0.09442903859401236), (1210, 0.0), (1211, 0.0), (1212, 0.025977927303928998), (1213, 0.0), (1214, 0.0), (1215, 0.014445697400662542), (1216, 0.04496729548468861), (1217, 0.0), (1218, 0.0), (1219, 0.025954017264554253), (1220, 0.0), (1221, 0.029473714333124366), (1222, 0.015101576412603184), (1223, 0.025313472260213885), (1224, 0.0), (1225, 0.031831384327781626), (1226, 0.0), (1227, 0.0), (1228, 0.0), (1229, 0.016304101108986356), (1230, 0.0), (1231, 0.023837915420119205), (1232, 0.0), (1233, 0.01398805960236851), (1234, 0.0), (1235, 0.0), (1236, 0.0), (1237, 0.013396340695564394), (1238, 0.017094218900555635), (1239, 0.019789683975762362), (1240, 0.03224447691205509), (1241, 0.0), (1242, 0.0), (1243, 0.0), (1244, 0.025967131080784658), (1245, 0.016635846217860507), (1246, 0.0), (1247, 0.0), (1248, 0.036210803023081176), (1249, 0.01100748327248975), (1250, 0.0), (1251, 0.010961595449994307), (1252, 0.0), (1253, 0.01719111659145132), (1254, 0.00990993816733522), (1255, 0.027450255226984053), (1256, 0.008405583804906195), (1257, 0.0), (1258, 0.0), (1259, 0.02638370296609439), (1260, 0.0), (1261, 0.04499293877667101), (1262, 0.0), (1263, 0.0), (1264, 0.009301245801658592), (1265, 0.021283206091185176), (1266, 0.030728147449635583), (1267, 0.0), (1268, 0.005628668588813258), (1269, 0.008497959788190599), (1270, 0.0), (1271, 0.02368970870305985), (1272, 0.027762840572752096), (1273, 0.008974352889956403), (1274, 0.06445118410991836), (1275, 0.0), (1276, 0.0), (1277, 0.036016268593853595), (1278, 0.0), (1279, 0.0), (1280, 0.0), (1281, 0.01750420098778681), (1282, 0.0), (1283, 0.0), (1284, 0.0), (1285, 0.0), (1286, 0.08982378789580084), (1287, 0.04253493611544178), (1288, 0.0), (1289, 0.05062815146030825), (1290, 0.028565756193686696), (1291, 0.025558278601964746), (1292, 0.0), (1293, 0.012296575266911643), (1294, 0.0), (1295, 0.020983108267234644), (1296, 0.012633578723369444), (1297, 0.017448929539054553), (1298, 0.016266432379510906), (1299, 0.0), (1300, 0.025797305466382744), (1301, 0.0486012993203144), (1302, 0.02607900716096037), (1303, 0.0), (1304, 0.030755168289859778), (1305, 0.02240027682078546), (1306, 0.017435561441780965), (1307, 0.0), (1308, 0.01990321650823543), (1309, 0.014457584421020738), (1310, 0.016828518800326885), (1311, 0.029093665492167502), (1312, 0.012348002651764162), (1313, 0.0), (1314, 0.0), (1315, 0.008082832709173284), (1316, 0.022257865628114045), (1317, 0.0), (1318, 0.03072144020679446), (1319, 0.002819264418600866), (1320, 0.0), (1321, 0.0), (1322, 0.0), (1323, 0.0), (1324, 0.008901549160057105), (1325, 0.009831055315094766), (1326, 0.009776008466920253), (1327, 0.0), (1328, 0.01991140783058734), (1329, 0.00854624695543479), (1330, 0.0), (1331, 0.03057928069112523), (1332, 0.06286168227663416), (1333, 0.016419095640193403), (1334, 0.0), (1335, 0.02813858684265405), (1336, 0.0), (1337, 0.006891157337283784), (1338, 0.0), (1339, 0.01136532350322931), (1340, 0.012312447387901), (1341, 0.025076872180207807), (1342, 0.01425118355946477), (1343, 0.045618049304854386), (1344, 0.0198115727234293), (1345, 0.033316571400205705), (1346, 0.0), (1347, 0.019663709661711777), (1348, 0.01533610663779719), (1349, 0.0), (1350, 0.00782221933657979), (1351, 0.03873275193907279), (1352, 0.009220993078610022), (1353, 0.0), (1354, 0.04312388716511269), (1355, 0.028102161947869332), (1356, 0.0), (1357, 0.01242826469557815), (1358, 0.008423796278295467), (1359, 0.0), (1360, 0.011290547426172002), (1361, 0.04113212228120003), (1362, 0.0), (1363, 0.04283274984666017), (1364, 0.0), (1365, 0.01306692503959525), (1366, 0.024710391038307963), (1367, 0.0), (1368, 0.0), (1369, 0.007458668109193636), (1370, 0.0), (1371, 0.0), (1372, 0.0), (1373, 0.04459274652225645), (1374, 0.010007053522467672), (1375, 0.0), (1376, 0.028768055262709535), (1377, 0.006539820875354015), (1378, 0.009046099428193975), (1379, 0.02091380047674931), (1380, 0.0239069198934257), (1381, 0.022747733820544895), (1382, 0.008612328435476362), (1383, 0.0), (1384, 0.0), (1385, 0.028634695491529062), (1386, 0.0), (1387, 0.018412223263144383), (1388, 0.0), (1389, 0.03398719672579783), (1390, 0.01498871984565091), (1391, 0.028981998289859666), (1392, 0.0), (1393, 0.03690991299651914), (1394, 0.0), (1395, 0.019777785218005405), (1396, 0.01062886791241592), (1397, 0.0), (1398, 0.0), (1399, 0.06293583682083839), (1400, 0.0), (1401, 0.019385828624469928), (1402, 0.0), (1403, 0.026180118088409456), (1404, 0.0), (1405, 0.0), (1406, 0.027431630466507265), (1407, 0.02744057556057369), (1408, 0.016770057358949056), (1409, 0.009108634838655906), (1410, 0.0), (1411, 0.00912717036298702), (1412, 0.0), (1413, 0.005383869290530443), (1414, 0.025790948490505426), (1415, 0.0), (1416, 0.07137124914287106), (1417, 0.017928992897141165), (1418, 0.0), (1419, 0.005987555556567887), (1420, 0.0), (1421, 0.0), (1422, 0.0), (1423, 0.011183914861802986), (1424, 0.0058256504510362985), (1425, 0.0), (1426, 0.0), (1427, 0.0), (1428, 0.010009318173814495), (1429, 0.0), (1430, 0.01498842490623869), (1431, 0.0), (1432, 0.013990938081016346), (1433, 0.0), (1434, 0.0), (1435, 0.007493364827692953), (1436, 0.0), (1437, 0.011710298989421612), (1438, 0.0), (1439, 0.008626829569497585), (1440, 0.026087700564464883), (1441, 0.0), (1442, 0.0249779418268991), (1443, 0.0), (1444, 0.0), (1445, 0.0), (1446, 0.0), (1447, 0.013241630194939973), (1448, 0.03326296484756803), (1449, 0.0), (1450, 0.012548044679380295), (1451, 0.0), (1452, 0.0), (1453, 0.008832799747443184), (1454, 0.0), (1455, 0.0), (1456, 0.0), (1457, 0.020447411715420298), (1458, 0.0), (1459, 0.014920623242383229), (1460, 0.011555355590130278), (1461, 0.0), (1462, 0.01329245600149221), (1463, 0.0174306629005526), (1464, 0.02434403534601689), (1465, 0.012208576862256702), (1466, 0.009930865318195863), (1467, 0.01566819791527561), (1468, 0.0), (1469, 0.05738790419294053), (1470, 0.022156948155666004), (1471, 0.06097764378438645), (1472, 0.0277962913449805), (1473, 0.0), (1474, 0.0), (1475, 0.0), (1476, 0.007321669566210249), (1477, 0.0), (1478, 0.0), (1479, 0.028927818561332967), (1480, 0.0), (1481, 0.011553210945951823), (1482, 0.0277962913449805), (1483, 0.0), (1484, 0.029953036297700675), (1485, 0.02163153768283951), (1486, 0.024656385765668875), (1487, 0.02412626877030296), (1488, 0.02415163169088093), (1489, 0.01635849528554241), (1490, 0.011320070678541084), (1491, 0.017047294729198383), (1492, 0.0), (1493, 0.015917132364942143), (1494, 0.0), (1495, 0.053221611435564684), (1496, 0.0), (1497, 0.0), (1498, 0.01473709913016254), (1499, 0.012144695707237833), (1500, 0.0), (1501, 0.0), (1502, 0.024871908480392505), (1503, 0.0), (1504, 0.0), (1505, 0.043052848666295995), (1506, 0.023236124300269875), (1507, 0.03151248386330412), (1508, 0.008351977432726847), (1509, 0.0), (1510, 0.031184913158006887), (1511, 0.0), (1512, 0.032987544871481325), (1513, 0.0112866174780893), (1514, 0.0), (1515, 0.021477809702137692), (1516, 0.0), (1517, 0.02130691743162077), (1518, 0.023818321814494062), (1519, 0.0), (1520, 0.012975004825778529), (1521, 0.026252474924429746), (1522, 0.0), (1523, 0.0), (1524, 0.049707118814434396), (1525, 0.011737213081157395), (1526, 0.0), (1527, 0.0075917917259829965), (1528, 0.017154088608127796), (1529, 0.013877531848713584), (1530, 0.007656086496871471), (1531, 0.0092820608000499), (1532, 0.06665990136213848), (1533, 0.0), (1534, 0.034140557685363476), (1535, 0.0), (1536, 0.0), (1537, 0.019802905679112828), (1538, 0.0), (1539, 0.0), (1540, 0.0), (1541, 0.0), (1542, 0.0), (1543, 0.04377664605457423), (1544, 0.007018351792844951), (1545, 0.02790087438759313), (1546, 0.011292563233978245), (1547, 0.0), (1548, 0.0), (1549, 0.0), (1550, 0.0), (1551, 0.04289315476824658), (1552, 0.0), (1553, 0.0), (1554, 0.0), (1555, 0.0), (1556, 0.0), (1557, 0.0), (1558, 0.0), (1559, 0.0), (1560, 0.0), (1561, 0.0), (1562, 0.0), (1563, 0.023014777431674682), (1564, 0.0), (1565, 0.00829608698660803), (1566, 0.021184606479640187), (1567, 0.0), (1568, 0.0), (1569, 0.029953160310583374), (1570, 0.010391886748328895), (1571, 0.0), (1572, 0.03066925344371084), (1573, 0.0), (1574, 0.018718659586661884), (1575, 0.0276294248222134), (1576, 0.0), (1577, 0.0), (1578, 0.0), (1579, 0.009190726094300139), (1580, 0.0), (1581, 0.016720107094085015), (1582, 0.0), (1583, 0.018248787689820724), (1584, 0.0), (1585, 0.0), (1586, 0.0), (1587, 0.0), (1588, 0.017196320018788097), (1589, 0.0), (1590, 0.0), (1591, 0.0074398212505036075), (1592, 0.017212285822005586), (1593, 0.06718663586093686), (1594, 0.0), (1595, 0.024627880726672907), (1596, 0.02807575333772178), (1597, 0.0), (1598, 0.031341962426309725), (1599, 0.011894151193082715), (1600, 0.0), (1601, 0.0), (1602, 0.007272127163415455), (1603, 0.0), (1604, 0.008921731471922921), (1605, 0.02766304770588733), (1606, 0.11809466410387097), (1607, 0.0208224079823487), (1608, 0.07233781274222187), (1609, 0.01659819544564428), (1610, 0.0), (1611, 0.0), (1612, 0.03027162758241828), (1613, 0.0), (1614, 0.0), (1615, 0.0), (1616, 0.01032897826871677), (1617, 0.014443113131417348), (1618, 0.049670263400287504), (1619, 0.0), (1620, 0.0), (1621, 0.0), (1622, 0.0), (1623, 0.0), (1624, 0.03971663207235394), (1625, 0.014189236844671459), (1626, 0.05692008820703667), (1627, 0.0), (1628, 0.0), (1629, 0.0), (1630, 0.0), (1631, 0.0), (1632, 0.046794511212348525), (1633, 0.031091416357228358), (1634, 0.0), (1635, 0.0), (1636, 0.02364414441329299), (1637, 0.0), (1638, 0.0), (1639, 0.017465649786579444), (1640, 0.022105338887848762), (1641, 0.033808284531885266), (1642, 0.02711289039395775), (1643, 0.01722797515025549), (1644, 0.0352298984746299), (1645, 0.04359553530252772), (1646, 0.0), (1647, 0.005080180775338365), (1648, 0.05654927473094206), (1649, 0.05756804323590976), (1650, 0.0), (1651, 0.0), (1652, 0.0), (1653, 0.0), (1654, 0.010806679911564901), (1655, 0.010946341858919507), (1656, 0.02511628489058987), (1657, 0.0), (1658, 0.013745419342804027), (1659, 0.0), (1660, 0.010515851496316822), (1661, 0.02439915001205372), (1662, 0.0), (1663, 0.0), (1664, 0.0), (1665, 0.0), (1666, 0.0), (1667, 0.0), (1668, 0.0), (1669, 0.0), (1670, 0.0), (1671, 0.0425183454706608), (1672, 0.05115877101648665), (1673, 0.0), (1674, 0.0318752896950998), (1675, 0.013698106546973433), (1676, 0.0069476414508969206), (1677, 0.008293572614315806), (1678, 0.0), (1679, 0.0), (1680, 0.0), (1681, 0.01729743700422836), (1682, 0.024716632991107355), (1683, 0.05525730990325985), (1684, 0.0), (1685, 0.0), (1686, 0.035502006496900815), (1687, 0.0), (1688, 0.0), (1689, 0.00785245488550207), (1690, 0.009956831578837573), (1691, 0.0), (1692, 0.0), (1693, 0.02333162398430083), (1694, 0.0), (1695, 0.0), (1696, 0.008853107583204407), (1697, 0.04061350663192607), (1698, 0.012297204606681399), (1699, 0.023022848881628092), (1700, 0.01464988286907332), (1701, 0.010516882442737128), (1702, 0.0142248931367163), (1703, 0.011776506671402048), (1704, 0.0), (1705, 0.008160577049298854), (1706, 0.0), (1707, 0.0), (1708, 0.0), (1709, 0.035660078979099966), (1710, 0.0), (1711, 0.013752480137352006), (1712, 0.016589825864503742), (1713, 0.017925397036667855), (1714, 0.0), (1715, 0.0), (1716, 0.015765920449817925), (1717, 0.05317889385325368), (1718, 0.0), (1719, 0.0), (1720, 0.0), (1721, 0.010660634211136506), (1722, 0.03796688137469162), (1723, 0.023206363274499372), (1724, 0.07189741550156628), (1725, 0.0), (1726, 0.04586296640599125), (1727, 0.0), (1728, 0.0), (1729, 0.0), (1730, 0.0), (1731, 0.03176433558026526), (1732, 0.023410809119277422), (1733, 0.0), (1734, 0.0), (1735, 0.01914074820575789), (1736, 0.011514532880064344), (1737, 0.0), (1738, 0.033974479306557386), (1739, 0.0), (1740, 0.0), (1741, 0.0), (1742, 0.0), (1743, 0.05996815619685036), (1744, 0.0), (1745, 0.0), (1746, 0.01067294030301772), (1747, 0.0), (1748, 0.01352385505108011), (1749, 0.04613266599571707), (1750, 0.016611979838152508), (1751, 0.018812870571105707), (1752, 0.0), (1753, 0.035386505643005974), (1754, 0.0), (1755, 0.0), (1756, 0.0), (1757, 0.03338738630077468), (1758, 0.0), (1759, 0.0), (1760, 0.0), (1761, 0.029662935855873013), (1762, 0.008933061849595584), (1763, 0.017337138045519767), (1764, 0.025449343226034288), (1765, 0.06710600993353602), (1766, 0.0), (1767, 0.013503048117133841), (1768, 0.0), (1769, 0.0), (1770, 0.015346138717541974), (1771, 0.03687584583868602), (1772, 0.0), (1773, 0.0), (1774, 0.0), (1775, 0.0), (1776, 0.011244411060582764), (1777, 0.0), (1778, 0.0), (1779, 0.0), (1780, 0.0), (1781, 0.0), (1782, 0.018552205829754077), (1783, 0.0), (1784, 0.0), (1785, 0.0), (1786, 0.0), (1787, 0.007832201373413337), (1788, 0.04272298274118784), (1789, 0.0), (1790, 0.0), (1791, 0.014632527333122829), (1792, 0.010040698760372009), (1793, 0.019736494500266117), (1794, 0.03110059277587005), (1795, 0.0), (1796, 0.04306746287074235), (1797, 0.017331770604060624), (1798, 0.0), (1799, 0.0), (1800, 0.013843127578882152), (1801, 0.0), (1802, 0.0), (1803, 0.0), (1804, 0.10809341007808096), (1805, 0.01317566412267727), (1806, 0.0), (1807, 0.012204836205014686), (1808, 0.0), (1809, 0.006881332462761619), (1810, 0.02062531216566751), (1811, 0.017002863485534314), (1812, 0.0), (1813, 0.0), (1814, 0.04338310014431572), (1815, 0.0), (1816, 0.032444062559204706), (1817, 0.008571177712131312), (1818, 0.0), (1819, 0.04526830504425089), (1820, 0.02495499659648262), (1821, 0.010558879531365823), (1822, 0.0), (1823, 0.015325084566450672), (1824, 0.0), (1825, 0.0), (1826, 0.0), (1827, 0.013313597182501725), (1828, 0.0), (1829, 0.016387439949535038), (1830, 0.0), (1831, 0.010418497527080788), (1832, 0.0), (1833, 0.022940386689032553), (1834, 0.040470716789470826), (1835, 0.0), (1836, 0.0), (1837, 0.010316597422514636), (1838, 0.02808958804600898), (1839, 0.015865999851819648), (1840, 0.0), (1841, 0.0), (1842, 0.004390745853664027), (1843, 0.0), (1844, 0.0), (1845, 0.01290652451502333), (1846, 0.025216010207898258), (1847, 0.0), (1848, 0.019608134059605074), (1849, 0.0), (1850, 0.023757691997650918), (1851, 0.0), (1852, 0.009302052945484467), (1853, 0.02926940179115553), (1854, 0.008562599938620928), (1855, 0.0), (1856, 0.050335140327524626), (1857, 0.008551520801697774), (1858, 0.02726787828611537), (1859, 0.045917170170334365), (1860, 0.016214417200193187), (1861, 0.013932855242103097), (1862, 0.023191533317763434), (1863, 0.0), (1864, 0.01761228131431337), (1865, 0.0), (1866, 0.0), (1867, 0.0), (1868, 0.023407200593940646), (1869, 0.0109598538619287), (1870, 0.0), (1871, 0.0), (1872, 0.0), (1873, 0.03654740079537386), (1874, 0.013958810764491429), (1875, 0.011463595407654117), (1876, 0.022947516809083596), (1877, 0.0), (1878, 0.0), (1879, 0.02632233089849994), (1880, 0.015227971656695307), (1881, 0.06097273459302751), (1882, 0.0), (1883, 0.0), (1884, 0.0), (1885, 0.011753284841504499), (1886, 0.0), (1887, 0.01760732708198058), (1888, 0.0), (1889, 0.0), (1890, 0.0), (1891, 0.026529558806646182), (1892, 0.019432338277068126), (1893, 0.011094475392548991), (1894, 0.005226012772327118), (1895, 0.0), (1896, 0.01876837800056141), (1897, 0.0), (1898, 0.0), (1899, 0.0), (1900, 0.0), (1901, 0.0), (1902, 0.05379974172228362), (1903, 0.0), (1904, 0.04673342403317951), (1905, 0.0), (1906, 0.026093489325622964), (1907, 0.005227847118287372), (1908, 0.0), (1909, 0.0), (1910, 0.008469444579863606), (1911, 0.0), (1912, 0.028211083558025346), (1913, 0.018271222223645387), (1914, 0.0), (1915, 0.0), (1916, 0.008273150630341342), (1917, 0.013089061424563144), (1918, 0.0047301888020778345), (1919, 0.0), (1920, 0.0), (1921, 0.0), (1922, 0.038733553368300006), (1923, 0.02918366950027152), (1924, 0.0), (1925, 0.0), (1926, 0.007343417784308356), (1927, 0.025849203373488436), (1928, 0.0), (1929, 0.0), (1930, 0.0), (1931, 0.02837981687375527), (1932, 0.0), (1933, 0.0), (1934, 0.013014663995692127), (1935, 0.011791333822076401), (1936, 0.03425938354163253), (1937, 0.016126959621186657), (1938, 0.0), (1939, 0.0), (1940, 0.009763063519441654), (1941, 0.0), (1942, 0.15265654110271454), (1943, 0.0), (1944, 0.0), (1945, 0.0), (1946, 0.0), (1947, 0.14729997942862852), (1948, 0.014111783911479443), (1949, 0.0), (1950, 0.0), (1951, 0.0), (1952, 0.027691417330099374), (1953, 0.034759610083752335), (1954, 0.0), (1955, 0.02139863618821866), (1956, 0.0), (1957, 0.01645801149295071), (1958, 0.025019506319336207), (1959, 0.0), (1960, 0.0), (1961, 0.0), (1962, 0.0), (1963, 0.02572190417724909), (1964, 0.0), (1965, 0.015090482375403929), (1966, 0.0), (1967, 0.0), (1968, 0.028024779266534856), (1969, 0.0), (1970, 0.0), (1971, 0.06067909994083241), (1972, 0.0), (1973, 0.010482248842155812), (1974, 0.0), (1975, 0.01470108189959798), (1976, 0.0), (1977, 0.0), (1978, 0.011642995850756791), (1979, 0.05126615950716798), (1980, 0.0), (1981, 0.0), (1982, 0.014449764308677804), (1983, 0.017875234971480386), (1984, 0.0), (1985, 0.028397516228165567), (1986, 0.0), (1987, 0.011741437912614444), (1988, 0.0), (1989, 0.0), (1990, 0.0), (1991, 0.009538912547425836), (1992, 0.029540580919544285), (1993, 0.0), (1994, 0.06924037724985779), (1995, 0.0), (1996, 0.01981357242943961), (1997, 0.06451351735705041), (1998, 0.033017895622940406), (1999, 0.01768874202631357), (2000, 0.12219450664416368), (2001, 0.0), (2002, 0.04704938701961115), (2003, 0.017750080796978557), (2004, 0.03371406555521267), (2005, 0.0), (2006, 0.039567235882595135), (2007, 0.03828437605746123), (2008, 0.0), (2009, 0.033210126895207644), (2010, 0.0), (2011, 0.012431107705667875), (2012, 0.009430131753846667), (2013, 0.0), (2014, 0.0), (2015, 0.026809170335303174), (2016, 0.0141877445131696), (2017, 0.039725744552672554), (2018, 0.023228897004615133), (2019, 0.01140360703453751), (2020, 0.029814097472627282), (2021, 0.0), (2022, 0.0), (2023, 0.0), (2024, 0.020790477703463005), (2025, 0.013636078400900564), (2026, 0.00772732590695392), (2027, 0.014234053775718604), (2028, 0.0), (2029, 0.0), (2030, 0.03101627262029374), (2031, 0.0), (2032, 0.0), (2033, 0.020860391756771318), (2034, 0.0), (2035, 0.0), (2036, 0.0), (2037, 0.0), (2038, 0.0), (2039, 0.0), (2040, 0.010505547606900317), (2041, 0.024773001894324968), (2042, 0.03306655552248691), (2043, 0.02774303052439827), (2044, 0.007183077073863861), (2045, 0.0), (2046, 0.03853371702004312), (2047, 0.0), (2048, 0.0), (2049, 0.10809341007808096), (2050, 0.01491603985120608), (2051, 0.027983417490945003), (2052, 0.012001408170111746), (2053, 0.02474455108725708), (2054, 0.0), (2055, 0.049734764982405026), (2056, 0.0), (2057, 0.0), (2058, 0.007489508657759161), (2059, 0.008137400649943657), (2060, 0.0), (2061, 0.0), (2062, 0.0), (2063, 0.06558537274680543), (2064, 0.0), (2065, 0.0), (2066, 0.02279890292190162), (2067, 0.0), (2068, 0.0), (2069, 0.017556774859468237), (2070, 0.0), (2071, 0.0), (2072, 0.0164940705674641), (2073, 0.01629453402013535), (2074, 0.0), (2075, 0.0), (2076, 0.01179597305246527), (2077, 0.10763172145342323), (2078, 0.03173159353468252), (2079, 0.05835830275028554), (2080, 0.012603086780336427), (2081, 0.0), (2082, 0.008850863858954023), (2083, 0.0), (2084, 0.0), (2085, 0.0), (2086, 0.058821672292662754), (2087, 0.0), (2088, 0.00870536185157359), (2089, 0.0), (2090, 0.02873760066167784), (2091, 0.0), (2092, 0.0), (2093, 0.021510456893895705), (2094, 0.0), (2095, 0.0), (2096, 0.0), (2097, 0.009572905260926239), (2098, 0.0), (2099, 0.016412438959740643), (2100, 0.2008243781855284), (2101, 0.010261543989546203), (2102, 0.0), (2103, 0.023947183125576015), (2104, 0.008111331272544719), (2105, 0.04975837101894088), (2106, 0.0), (2107, 0.0), (2108, 0.0), (2109, 0.026748163848042298), (2110, 0.018307298457114193), (2111, 0.01442694340126444), (2112, 0.027243232909120712), (2113, 0.0), (2114, 0.03301113039989159), (2115, 0.10512375292596231), (2116, 0.029843162639310722), (2117, 0.0), (2118, 0.05491736340670541), (2119, 0.014332992800601407), (2120, 0.00974928188914791), (2121, 0.0), (2122, 0.0), (2123, 0.03216791773853634), (2124, 0.019768660665253457), (2125, 0.0), (2126, 0.0), (2127, 0.0), (2128, 0.0476725992824679), (2129, 0.0), (2130, 0.009027884053775932), (2131, 0.0), (2132, 0.0), (2133, 0.09906616707054529), (2134, 0.021677475820273857), (2135, 0.03191586144496033), (2136, 0.03095577320095418), (2137, 0.024579554831289353), (2138, 0.0), (2139, 0.02852112875417189), (2140, 0.0), (2141, 0.028327989502451478), (2142, 0.0), (2143, 0.019757691022299625), (2144, 0.0), (2145, 0.0), (2146, 0.019884936145775148), (2147, 0.0), (2148, 0.09859873776001618), (2149, 0.0), (2150, 0.0), (2151, 0.016483252516029338), (2152, 0.038635518037432606), (2153, 0.007998078377540926), (2154, 0.0), (2155, 0.02256973615181301), (2156, 0.0), (2157, 0.058264823169722924), (2158, 0.012581085873543727), (2159, 0.0), (2160, 0.018461556669212953), (2161, 0.019101869763251393), (2162, 0.0), (2163, 0.0), (2164, 0.0), (2165, 0.0), (2166, 0.0), (2167, 0.0), (2168, 0.0), (2169, 0.0), (2170, 0.014001774877118154), (2171, 0.028358794203555075), (2172, 0.0), (2173, 0.02656692501989765), (2174, 0.0), (2175, 0.039829657926285164), (2176, 0.028141169126583425), (2177, 0.0), (2178, 0.0), (2179, 0.012798849358525283), (2180, 0.0), (2181, 0.10809341007808096), (2182, 0.025254597387649992), (2183, 0.0), (2184, 0.0), (2185, 0.0), (2186, 0.0), (2187, 0.018584742038609846), (2188, 0.052827660068086986), (2189, 0.0022791502316187665), (2190, 0.0), (2191, 0.0), (2192, 0.0429287331150416), (2193, 0.015524848024648112), (2194, 0.0), (2195, 0.0), (2196, 0.0), (2197, 0.0), (2198, 0.033310938149819495), (2199, 0.0), (2200, 0.0), (2201, 0.014188488728950432), (2202, 0.0), (2203, 0.0), (2204, 0.005615374757193358), (2205, 0.004034545704540866), (2206, 0.008448748291466374), (2207, 0.01780348829061262), (2208, 0.03416295367632959), (2209, 0.0), (2210, 0.0), (2211, 0.0), (2212, 0.034481742255976444), (2213, 0.0), (2214, 0.0), (2215, 0.0), (2216, 0.0), (2217, 0.0), (2218, 0.05085233311216136), (2219, 0.03631756650312455), (2220, 0.016406669196918414), (2221, 0.0), (2222, 0.009016018195170563), (2223, 0.0), (2224, 0.0), (2225, 0.04211935516886603), (2226, 0.0), (2227, 0.0), (2228, 0.0), (2229, 0.03657417078438019), (2230, 0.013768139543027623), (2231, 0.01723975606033769), (2232, 0.0), (2233, 0.02901566639058958), (2234, 0.0), (2235, 0.007601753178401157), (2236, 0.02711723911749939), (2237, 0.0), (2238, 0.006667531175482836), (2239, 0.014277268127216006), (2240, 0.0), (2241, 0.05284498848579386), (2242, 0.0), (2243, 0.0), (2244, 0.012339366146983478), (2245, 0.0), (2246, 0.012514912772292117), (2247, 0.0), (2248, 0.0), (2249, 0.016097999801948905), (2250, 0.0), (2251, 0.03906077773799439), (2252, 0.006529785340833935), (2253, 0.008654772255193063), (2254, 0.013867922265191072), (2255, 0.015978558452348614), (2256, 0.014913813851070677), (2257, 0.0), (2258, 0.0), (2259, 0.0), (2260, 0.008955053638796766), (2261, 0.015144754369145455), (2262, 0.0), (2263, 0.02415687034810377), (2264, 0.02097474612931833), (2265, 0.0), (2266, 0.0), (2267, 0.0), (2268, 0.01883454580987532), (2269, 0.05037065020619358), (2270, 0.019568428364268677), (2271, 0.022782030869243377), (2272, 0.0), (2273, 0.02200387029437158), (2274, 0.007990099024187547), (2275, 0.0), (2276, 0.0), (2277, 0.03487089093146463), (2278, 0.012561665558725052), (2279, 0.0), (2280, 0.02152610582109917), (2281, 0.0), (2282, 0.0), (2283, 0.0), (2284, 0.0), (2285, 0.0), (2286, 0.009134523899716638), (2287, 0.0), (2288, 0.03226906335014686), (2289, 0.0), (2290, 0.0), (2291, 0.0), (2292, 0.008396682429356511), (2293, 0.0), (2294, 0.008562437893621022), (2295, 0.0), (2296, 0.0), (2297, 0.0), (2298, 0.026696262197440257), (2299, 0.0), (2300, 0.0), (2301, 0.0), (2302, 0.0), (2303, 0.0), (2304, 0.04227764065025405), (2305, 0.012924157331197374), (2306, 0.0), (2307, 0.04165176071663734), (2308, 0.02037369527274159), (2309, 0.0), (2310, 0.0), (2311, 0.0), (2312, 0.01651346866098216), (2313, 0.016981317067820093), (2314, 0.022600344770525905), (2315, 0.0), (2316, 0.028523524598685828), (2317, 0.018418994645140883), (2318, 0.00840981619984091), (2319, 0.010464662883400165), (2320, 0.014396385208915997), (2321, 0.0), (2322, 0.0), (2323, 0.025290816143370386), (2324, 0.01775375380929856), (2325, 0.0), (2326, 0.017862049856202863), (2327, 0.0), (2328, 0.0), (2329, 0.009645718190097666), (2330, 0.0), (2331, 0.0), (2332, 0.0), (2333, 0.03275890189927652), (2334, 0.009350154698177767), (2335, 0.0), (2336, 0.018536677505283428), (2337, 0.013369460631671881), (2338, 0.036819085987579915), (2339, 0.016369972434682162), (2340, 0.0), (2341, 0.0), (2342, 0.0), (2343, 0.0), (2344, 0.0), (2345, 0.0), (2346, 0.031223824531160578), (2347, 0.0), (2348, 0.02037410405672776), (2349, 0.0), (2350, 0.0), (2351, 0.0), (2352, 0.0), (2353, 0.0), (2354, 0.0), (2355, 0.0), (2356, 0.044073754730947844), (2357, 0.021437024787501834), (2358, 0.0), (2359, 0.0), (2360, 0.0), (2361, 0.025362923176406406), (2362, 0.013076469249933623), (2363, 0.0), (2364, 0.0), (2365, 0.04265605515135594), (2366, 0.02106851069971685), (2367, 0.0), (2368, 0.0), (2369, 0.0), (2370, 0.019104572299581547), (2371, 0.0), (2372, 0.0), (2373, 0.0), (2374, 0.0), (2375, 0.0), (2376, 0.010649191202073149), (2377, 0.0), (2378, 0.011260312907863276), (2379, 0.0), (2380, 0.0), (2381, 0.02756896038502231), (2382, 0.0), (2383, 0.09491068141471995), (2384, 0.0), (2385, 0.02624560224448611), (2386, 0.00609500143979348), (2387, 0.0), (2388, 0.0), (2389, 0.0), (2390, 0.0), (2391, 0.028586574698818708), (2392, 0.03479743374298274), (2393, 0.01675232523092863), (2394, 0.0), (2395, 0.0), (2396, 0.02954005973030572), (2397, 0.012853919592146226), (2398, 0.0), (2399, 0.0), (2400, 0.0), (2401, 0.015325084566450672), (2402, 0.0), (2403, 0.0), (2404, 0.017235403392031647), (2405, 0.03717324597030095), (2406, 0.0), (2407, 0.04043681355915632), (2408, 0.0), (2409, 0.0), (2410, 0.02614461527786566), (2411, 0.02866705284181122), (2412, 0.0), (2413, 0.0), (2414, 0.0), (2415, 0.0270190701552634), (2416, 0.0), (2417, 0.022591399582396893), (2418, 0.015633618324700494), (2419, 0.0915199778617822), (2420, 0.0), (2421, 0.017979427525581192), (2422, 0.0), (2423, 0.025233383375250266), (2424, 0.02606127170250621), (2425, 0.0), (2426, 0.0), (2427, 0.0), (2428, 0.011894151193082715), (2429, 0.0), (2430, 0.05996815619685036), (2431, 0.0), (2432, 0.017226945043577354), (2433, 0.00373747944540911), (2434, 0.029024708475241627), (2435, 0.07132116418414067), (2436, 0.011739723505923845), (2437, 0.0), (2438, 0.011197143523353522), (2439, 0.0), (2440, 0.0), (2441, 0.00804861326802237), (2442, 0.0), (2443, 0.0), (2444, 0.0), (2445, 0.00674162921862098), (2446, 0.014083334436171784), (2447, 0.0), (2448, 0.013540910567446898), (2449, 0.01351783232160188), (2450, 0.017540639648712737), (2451, 0.0), (2452, 0.0), (2453, 0.0), (2454, 0.01495700030477575), (2455, 0.0), (2456, 0.04295802532349047), (2457, 0.0), (2458, 0.0), (2459, 0.0), (2460, 0.0), (2461, 0.0), (2462, 0.01573513853971292), (2463, 0.0), (2464, 0.0), (2465, 0.0), (2466, 0.0), (2467, 0.0), (2468, 0.013034703362884552), (2469, 0.020641724925188093), (2470, 0.0), (2471, 0.04263446362497996), (2472, 0.006510530967737643), (2473, 0.03566004480559404), (2474, 0.0), (2475, 0.011082291933517159), (2476, 0.035025595821413215), (2477, 0.0), (2478, 0.0), (2479, 0.019927169383468894), (2480, 0.010852632446546506), (2481, 0.04866918615997172), (2482, 0.0), (2483, 0.04302955669879707), (2484, 0.034849095566643624), (2485, 0.0), (2486, 0.0), (2487, 0.0), (2488, 0.02145587982607556), (2489, 0.0), (2490, 0.016851852161346662), (2491, 0.0), (2492, 0.0), (2493, 0.0), (2494, 0.0), (2495, 0.0), (2496, 0.16966707001653947), (2497, 0.01781224016034016), (2498, 0.0), (2499, 0.0), (2500, 0.0), (2501, 0.024716487098543183), (2502, 0.013500334099790859), (2503, 0.0332656070800023), (2504, 0.036856606454186334), (2505, 0.02449441076215326), (2506, 0.0), (2507, 0.0), (2508, 0.0), (2509, 0.01132113654526074), (2510, 0.0), (2511, 0.0), (2512, 0.03933917644282946), (2513, 0.0), (2514, 0.0), (2515, 0.020287956662290926), (2516, 0.0), (2517, 0.0), (2518, 0.0), (2519, 0.005930132211831817), (2520, 0.054967784177103025), (2521, 0.011304541041920765), (2522, 0.015760389846113037), (2523, 0.0), (2524, 0.03341923773417238), (2525, 0.0), (2526, 0.09859873776001618), (2527, 0.046591719136423), (2528, 0.03187308223061952), (2529, 0.0), (2530, 0.028339413818816373), (2531, 0.0), (2532, 0.014571055745812791), (2533, 0.0), (2534, 0.013652339378212457), (2535, 0.08888563880139824), (2536, 0.0), (2537, 0.0), (2538, 0.036697451622115435), (2539, 0.006855237137853058), (2540, 0.005361518476675828), (2541, 0.0), (2542, 0.01573469995154112), (2543, 0.0), (2544, 0.03438629565748681), (2545, 0.005877205638317511), (2546, 0.0), (2547, 0.0), (2548, 0.0), (2549, 0.0), (2550, 0.0), (2551, 0.020940629390092516), (2552, 0.04606676512560029), (2553, 0.0), (2554, 0.0), (2555, 0.020649625468863807), (2556, 0.009714151144247403), (2557, 0.0), (2558, 0.0), (2559, 0.008532676788775838), (2560, 0.022687158013010394), (2561, 0.02228482763403067), (2562, 0.03276611422921429), (2563, 0.03351712517047944), (2564, 0.0), (2565, 0.0), (2566, 0.02353174253657866), (2567, 0.008762539645563226), (2568, 0.0), (2569, 0.0), (2570, 0.008118800018119043), (2571, 0.006519726161953369), (2572, 0.005033992454679519), (2573, 0.2162267602187308), (2574, 0.012126078760616327), (2575, 0.0), (2576, 0.0), (2577, 0.021260600706901337), (2578, 0.0), (2579, 0.0), (2580, 0.0), (2581, 0.06721682900783717), (2582, 0.0), (2583, 0.0), (2584, 0.0), (2585, 0.0), (2586, 0.0), (2587, 0.0), (2588, 0.0), (2589, 0.020680369336302122), (2590, 0.0), (2591, 0.006343104398823408), (2592, 0.06936254259326045), (2593, 0.031598345770545655), (2594, 0.0), (2595, 0.13930421288318406), (2596, 0.008913556906700513), (2597, 0.01662125043156846), (2598, 0.0), (2599, 0.0), (2600, 0.018977973157485194), (2601, 0.08816902189182249), (2602, 0.020848361823262673), (2603, 0.026329797648406837), (2604, 0.0), (2605, 0.027285792023511737), (2606, 0.0), (2607, 0.06122617935992396), (2608, 0.0), (2609, 0.014296534500970065), (2610, 0.0), (2611, 0.0), (2612, 0.0), (2613, 0.0), (2614, 0.036267611384164566), (2615, 0.0), (2616, 0.0), (2617, 0.020394496189176766), (2618, 0.0), (2619, 0.011004415005217169), (2620, 0.03987454357489194), (2621, 0.011388560552873652), (2622, 0.0460204872800114), (2623, 0.0), (2624, 0.0), (2625, 0.0), (2626, 0.0), (2627, 0.0), (2628, 0.022669784368205274), (2629, 0.028361848321054553), (2630, 0.0), (2631, 0.0), (2632, 0.0), (2633, 0.03809339413171739), (2634, 0.029944772186388167), (2635, 0.02057355869612236), (2636, 0.026034308021970168), (2637, 0.015711389973707496), (2638, 0.132374653047918), (2639, 0.01688467823612828), (2640, 0.012873567434887385), (2641, 0.0), (2642, 0.02966108945599326), (2643, 0.018884218671385903), (2644, 0.0), (2645, 0.012403265941097063), (2646, 0.0), (2647, 0.025192191937574354), (2648, 0.007485116922478304), (2649, 0.01368484315020476), (2650, 0.03330229822148774), (2651, 0.0), (2652, 0.0), (2653, 0.02632233089849994), (2654, 0.011462113345819185), (2655, 0.0), (2656, 0.0), (2657, 0.0), (2658, 0.03244296546839013), (2659, 0.03437337312917854), (2660, 0.0), (2661, 0.0), (2662, 0.0), (2663, 0.0), (2664, 0.0), (2665, 0.05463387212852494), (2666, 0.013354082027665921), (2667, 0.02967717052767739), (2668, 0.007456120291030258), (2669, 0.0), (2670, 0.0), (2671, 0.0), (2672, 0.007239164382001055), (2673, 0.0), (2674, 0.0), (2675, 0.008752302011254013), (2676, 0.05515296402400892), (2677, 0.007093413034936287), (2678, 0.0), (2679, 0.062421081822289226), (2680, 0.0), (2681, 0.0), (2682, 0.008201232337724388), (2683, 0.0), (2684, 0.016232917385615293), (2685, 0.01604474858298044), (2686, 0.0), (2687, 0.02091589215512826), (2688, 0.007792795514017069), (2689, 0.0), (2690, 0.025960107902198083), (2691, 0.0), (2692, 0.0), (2693, 0.006679376173139366), (2694, 0.0), (2695, 0.0), (2696, 0.0), (2697, 0.0463905938902569), (2698, 0.02122297989812727), (2699, 0.013902940002258748), (2700, 0.034371360964708816), (2701, 0.0), (2702, 0.0), (2703, 0.0), (2704, 0.0), (2705, 0.0), (2706, 0.0498356084549205), (2707, 0.008546633140873668), (2708, 0.04036683881738467), (2709, 0.0), (2710, 0.0), (2711, 0.0), (2712, 0.03385115956744755), (2713, 0.03952007179098747), (2714, 0.027419373981685022), (2715, 0.01185885573900729), (2716, 0.0), (2717, 0.01997771883197658), (2718, 0.0), (2719, 0.011044317999816134), (2720, 0.007998078377540926), (2721, 0.010621941150127727), (2722, 0.0), (2723, 0.0), (2724, 0.0), (2725, 0.0), (2726, 0.04553851364567031), (2727, 0.0), (2728, 0.02834706175198482), (2729, 0.05284498848579386), (2730, 0.0), (2731, 0.0), (2732, 0.05361186282861347), (2733, 0.0), (2734, 0.0), (2735, 0.0), (2736, 0.017008589414311055), (2737, 0.0), (2738, 0.03423735183768233), (2739, 0.0), (2740, 0.014744941223652717), (2741, 0.0), (2742, 0.0), (2743, 0.007892575700693858), (2744, 0.01767334135239269), (2745, 0.0), (2746, 0.0), (2747, 0.0), (2748, 0.027276567383039504), (2749, 0.0), (2750, 0.16164238060203456), (2751, 0.0), (2752, 0.005092243518816091), (2753, 0.10878485177760311), (2754, 0.0), (2755, 0.019615347545582675), (2756, 0.018832319095470524), (2757, 0.01596649059754259), (2758, 0.027264915521097253), (2759, 0.0), (2760, 0.0), (2761, 0.0), (2762, 0.0), (2763, 0.0), (2764, 0.025208510615690537), (2765, 0.035683127615880134), (2766, 0.0), (2767, 0.011988171528586122), (2768, 0.017718213354048707), (2769, 0.038780133361786984), (2770, 0.01913055658847175), (2771, 0.0), (2772, 0.024052101971547057), (2773, 0.011393808955493526), (2774, 0.0), (2775, 0.014204206407702867), (2776, 0.029354351000389037), (2777, 0.0), (2778, 0.0), (2779, 0.0), (2780, 0.0), (2781, 0.0), (2782, 0.016390037466812446), (2783, 0.0), (2784, 0.021668419152060317), (2785, 0.0), (2786, 0.0), (2787, 0.0), (2788, 0.0), (2789, 0.08087354073773532), (2790, 0.0), (2791, 0.0), (2792, 0.0), (2793, 0.0), (2794, 0.0), (2795, 0.030951674245985966), (2796, 0.017617926561735605), (2797, 0.0), (2798, 0.0), (2799, 0.02780376984816532), (2800, 0.0), (2801, 0.0), (2802, 0.0), (2803, 0.008937491188849017), (2804, 0.0), (2805, 0.012491166187614632), (2806, 0.013092277051835436), (2807, 0.0), (2808, 0.01319995691058767), (2809, 0.0), (2810, 0.0), (2811, 0.0), (2812, 0.0), (2813, 0.01668078736471937), (2814, 0.0), (2815, 0.0), (2816, 0.008758943049331606), (2817, 0.010266954335320294), (2818, 0.016433423052786243), (2819, 0.003878770644218128), (2820, 0.10520697706418772), (2821, 0.0), (2822, 0.0), (2823, 0.006997727314566209), (2824, 0.007169658901574421), (2825, 0.0), (2826, 0.0), (2827, 0.0), (2828, 0.0), (2829, 0.01640916582559909), (2830, 0.04251747160339897), (2831, 0.07426962552130234), (2832, 0.013274870393883767), (2833, 0.022455337306846422), (2834, 0.024431313512248122), (2835, 0.022631685111257113), (2836, 0.03332243673124514), (2837, 0.02467828750322625), (2838, 0.032769823877690334), (2839, 0.0), (2840, 0.012586076524711028), (2841, 0.0), (2842, 0.0), (2843, 0.0), (2844, 0.020114031414641055), (2845, 0.03216370166780136), (2846, 0.04755871106888406), (2847, 0.0), (2848, 0.0), (2849, 0.007408067846228887), (2850, 0.0), (2851, 0.0), (2852, 0.00966003879356632), (2853, 0.02672060135796848), (2854, 0.0), (2855, 0.024343822257022703), (2856, 0.0), (2857, 0.0), (2858, 0.05704951142994581), (2859, 0.0), (2860, 0.0), (2861, 0.0), (2862, 0.01755930440396965), (2863, 0.0), (2864, 0.013098223511777366), (2865, 0.021517244339801796), (2866, 0.017827656739834215), (2867, 0.013628022953161192), (2868, 0.046588904235307496), (2869, 0.0), (2870, 0.0), (2871, 0.0), (2872, 0.0), (2873, 0.0), (2874, 0.024748399325137217), (2875, 0.0), (2876, 0.015852378037690077), (2877, 0.015165463741390158), (2878, 0.0), (2879, 0.08083899199056636), (2880, 0.0), (2881, 0.0), (2882, 0.0), (2883, 0.0), (2884, 0.026702668109018505), (2885, 0.009678957693851893), (2886, 0.0), (2887, 0.019426146973988513), (2888, 0.013317108836807074), (2889, 0.011804848826109363), (2890, 0.0), (2891, 0.041217198852217175), (2892, 0.15620452619181768), (2893, 0.0), (2894, 0.0), (2895, 0.0), (2896, 0.045982924391713226), (2897, 0.0068304490541472515), (2898, 0.027971333153868374), (2899, 0.0), (2900, 0.0), (2901, 0.05412805719134828), (2902, 0.026469825817062746), (2903, 0.0), (2904, 0.0), (2905, 0.0), (2906, 0.0089649930398471), (2907, 0.0), (2908, 0.0), (2909, 0.005761472755326768), (2910, 0.0), (2911, 0.0), (2912, 0.01780118489532703), (2913, 0.015776112156703628), (2914, 0.0), (2915, 0.0), (2916, 0.0474568956245252), (2917, 0.0), (2918, 0.016483252516029338), (2919, 0.02471039303898448), (2920, 0.0), (2921, 0.0), (2922, 0.0), (2923, 0.0), (2924, 0.005096489747777264), (2925, 0.006849349561302843), (2926, 0.0), (2927, 0.033943973266737947), (2928, 0.016055471155825354), (2929, 0.0), (2930, 0.0), (2931, 0.0), (2932, 0.0), (2933, 0.0), (2934, 0.007161587793133147), (2935, 0.0), (2936, 0.007109305770019589), (2937, 0.014946880147730582), (2938, 0.0), (2939, 0.0397738507758717), (2940, 0.008283621780030741), (2941, 0.0), (2942, 0.0), (2943, 0.0), (2944, 0.013958455288979344), (2945, 0.0), (2946, 0.015148209357419236), (2947, 0.0060492419627542725), (2948, 0.0), (2949, 0.011944153884880132), (2950, 0.02854299137681698), (2951, 0.0), (2952, 0.02023814738632921), (2953, 0.0), (2954, 0.03051449438529145), (2955, 0.008530979913324535), (2956, 0.014462360513955844), (2957, 0.0), (2958, 0.0), (2959, 0.02559272402368646), (2960, 0.013855120740371202), (2961, 0.0), (2962, 0.0), (2963, 0.01670813838630261), (2964, 0.037078704301520986), (2965, 0.0), (2966, 0.022288244230500933), (2967, 0.0), (2968, 0.049810538979983617), (2969, 0.0), (2970, 0.008111331272544719), (2971, 0.0), (2972, 0.0), (2973, 0.0), (2974, 0.002799812033428189), (2975, 0.01694257860925972), (2976, 0.0), (2977, 0.0), (2978, 0.0), (2979, 0.0), (2980, 0.0), (2981, 0.0), (2982, 0.0), (2983, 0.0), (2984, 0.010496081491530349), (2985, 0.016290474910021148), (2986, 0.0), (2987, 0.007476118486673436), (2988, 0.014883555320546237), (2989, 0.00461536769323711), (2990, 0.0), (2991, 0.0), (2992, 0.035284622100612076), (2993, 0.018992746101765896), (2994, 0.0), (2995, 0.0), (2996, 0.0), (2997, 0.008013170719813816), (2998, 0.0), (2999, 0.021375924581723042), (3000, 0.0), (3001, 0.0), (3002, 0.024555385599510055), (3003, 0.0), (3004, 0.0), (3005, 0.02588490152720199), (3006, 0.01895170798992419), (3007, 0.0), (3008, 0.04506602498452002), (3009, 0.02275489864336626), (3010, 0.04899136773747613), (3011, 0.0), (3012, 0.05929861414073158), (3013, 0.006277176502718348), (3014, 0.0), (3015, 0.02639277332586238), (3016, 0.02696705465451538), (3017, 0.0356336563074113), (3018, 0.015216910632027299), (3019, 0.019937860044596824), (3020, 0.015928880327947096), (3021, 0.0070101456647110915), (3022, 0.03154145570091593), (3023, 0.01664373395937138), (3024, 0.034135378847724426), (3025, 0.011759472584078539), (3026, 0.01411206670201334), (3027, 0.017040440345275354), (3028, 0.0), (3029, 0.0), (3030, 0.016383506769330425), (3031, 0.0), (3032, 0.01395511439854421), (3033, 0.0), (3034, 0.0), (3035, 0.0), (3036, 0.0), (3037, 0.011718517047797758), (3038, 0.0), (3039, 0.014449764308677804), (3040, 0.008833179119419153), (3041, 0.0), (3042, 0.0), (3043, 0.0), (3044, 0.0), (3045, 0.004600101564264558), (3046, 0.0), (3047, 0.02795268811842075), (3048, 0.0), (3049, 0.025013522510826038), (3050, 0.01709431794426456), (3051, 0.006488712231770236), (3052, 0.04277305134853848), (3053, 0.13383673427583215), (3054, 0.015312309625348656), (3055, 0.0), (3056, 0.0), (3057, 0.016758604597328634), (3058, 0.007490518400345637), (3059, 0.0), (3060, 0.0), (3061, 0.0), (3062, 0.02825300636776229), (3063, 0.0), (3064, 0.0), (3065, 0.028626695163993243), (3066, 0.0), (3067, 0.023872816027535246), (3068, 0.010085472715284939), (3069, 0.0), (3070, 0.015129755730005365), (3071, 0.0), (3072, 0.0), (3073, 0.0), (3074, 0.021898182074687727), (3075, 0.014452672530583988), (3076, 0.0), (3077, 0.0), (3078, 0.0), (3079, 0.0), (3080, 0.025254597387649992), (3081, 0.0), (3082, 0.0), (3083, 0.024478421053774933), (3084, 0.011201706418706499), (3085, 0.0), (3086, 0.0), (3087, 0.0), (3088, 0.0), (3089, 0.0), (3090, 0.0), (3091, 0.01295409457806417), (3092, 0.0), (3093, 0.015617578584137273), (3094, 0.0), (3095, 0.0), (3096, 0.0), (3097, 0.0), (3098, 0.0), (3099, 0.0), (3100, 0.0), (3101, 0.0), (3102, 0.0), (3103, 0.0180225121406868), (3104, 0.008111331272544719), (3105, 0.013116515035528693), (3106, 0.0), (3107, 0.03554006640612381), (3108, 0.0), (3109, 0.0), (3110, 0.015394939595931127), (3111, 0.0), (3112, 0.0), (3113, 0.01283501252914091), (3114, 0.051703013436220954), (3115, 0.04627082467899747), (3116, 0.06972196925563044), (3117, 0.0), (3118, 0.009900226727707184), (3119, 0.018360151690227762), (3120, 0.01701968726170017), (3121, 0.03294247769846767), (3122, 0.017418385800881002), (3123, 0.0), (3124, 0.0), (3125, 0.01396507117222025), (3126, 0.021638630762417475), (3127, 0.019099993573961437), (3128, 0.0), (3129, 0.0), (3130, 0.0), (3131, 0.0), (3132, 0.013667854297580828), (3133, 0.0), (3134, 0.013081382500471491), (3135, 0.0), (3136, 0.0), (3137, 0.0844474933879048), (3138, 0.03065206338815398), (3139, 0.010904425454212809), (3140, 0.010598456367684653), (3141, 0.0), (3142, 0.0), (3143, 0.01128956901153818), (3144, 0.0), (3145, 0.0), (3146, 0.0), (3147, 0.0), (3148, 0.0), (3149, 0.05907996897310154), (3150, 0.0), (3151, 0.035419557927706756), (3152, 0.0), (3153, 0.0), (3154, 0.0), (3155, 0.0), (3156, 0.0), (3157, 0.0), (3158, 0.0), (3159, 0.0), (3160, 0.04525207704138873), (3161, 0.0), (3162, 0.0), (3163, 0.0), (3164, 0.07095208561218863), (3165, 0.0), (3166, 0.025057632458596303), (3167, 0.0), (3168, 0.015895503153037387), (3169, 0.0), (3170, 0.0), (3171, 0.0), (3172, 0.0), (3173, 0.03630569039470891), (3174, 0.0), (3175, 0.010991132025189757), (3176, 0.017062490018656205), (3177, 0.0), (3178, 0.007096071887269693), (3179, 0.0), (3180, 0.0), (3181, 0.013089061424563144), (3182, 0.0), (3183, 0.0), (3184, 0.0), (3185, 0.0), (3186, 0.0), (3187, 0.007998078377540926), (3188, 0.030987520902677854), (3189, 0.0), (3190, 0.0), (3191, 0.0), (3192, 0.015793739487595132), (3193, 0.0), (3194, 0.0), (3195, 0.008428384452623726), (3196, 0.019673299642077903), (3197, 0.15616857166598788), (3198, 0.031363925835777774), (3199, 0.011594629680565188), (3200, 0.02733766100723822), (3201, 0.012299011269219074), (3202, 0.00959045203116945), (3203, 0.0), (3204, 0.0), (3205, 0.030829101640460252), (3206, 0.05391082096830488), (3207, 0.04307665911495909), (3208, 0.0), (3209, 0.0), (3210, 0.0), (3211, 0.03258898535420886), (3212, 0.0), (3213, 0.0), (3214, 0.01576069813911003), (3215, 0.0), (3216, 0.010640060962715416), (3217, 0.0), (3218, 0.0), (3219, 0.13316882902734406), (3220, 0.011332033801941005), (3221, 0.007039225594027331), (3222, 0.0), (3223, 0.0), (3224, 0.009053376982297514), (3225, 0.0), (3226, 0.0), (3227, 0.014527197107222068), (3228, 0.03552649967006472), (3229, 0.018702733602362482), (3230, 0.0), (3231, 0.006611844532992678), (3232, 0.008158855409718335), (3233, 0.025683764189038186), (3234, 0.010372754357420456), (3235, 0.008702241157759492), (3236, 0.0), (3237, 0.01726527282269603), (3238, 0.0), (3239, 0.0051931311018462226), (3240, 0.0), (3241, 0.006165026846621198), (3242, 0.0), (3243, 0.0), (3244, 0.035162163426092484), (3245, 0.0), (3246, 0.05729521956803495), (3247, 0.0), (3248, 0.0), (3249, 0.0), (3250, 0.0), (3251, 0.10999601291100153), (3252, 0.014323905006644794), (3253, 0.0), (3254, 0.05857179700006929), (3255, 0.0), (3256, 0.03189819489854636), (3257, 0.0), (3258, 0.0), (3259, 0.0), (3260, 0.014430158594095074), (3261, 0.0), (3262, 0.0), (3263, 0.010103923203639174), (3264, 0.03345940229520199), (3265, 0.0), (3266, 0.0), (3267, 0.0164767639358799), (3268, 0.012035561401751504), (3269, 0.040064445385938355), (3270, 0.0), (3271, 0.0), (3272, 0.05401743419364059), (3273, 0.0), (3274, 0.06882402443124283), (3275, 0.0), (3276, 0.020591021866316252), (3277, 0.0), (3278, 0.022801947386305605), (3279, 0.18366828243564243), (3280, 0.024641730532401075), (3281, 0.0452159403686026), (3282, 0.0), (3283, 0.01863307313089726), (3284, 0.0899530976611359), (3285, 0.0), (3286, 0.0), (3287, 0.0), (3288, 0.0), (3289, 0.0), (3290, 0.01287435999192794), (3291, 0.0), (3292, 0.017302288238416553), (3293, 0.03058619904100584), (3294, 0.0878917885645508), (3295, 0.0), (3296, 0.0), (3297, 0.0), (3298, 0.0), (3299, 0.0), (3300, 0.0), (3301, 0.0), (3302, 0.0), (3303, 0.0), (3304, 0.0), (3305, 0.0), (3306, 0.011632400534596694), (3307, 0.04172266703688589), (3308, 0.0), (3309, 0.0), (3310, 0.013003710074788635), (3311, 0.019279328566789863), (3312, 0.0), (3313, 0.03209250263508851), (3314, 0.008966869996802245), (3315, 0.0), (3316, 0.0), (3317, 0.0), (3318, 0.007043858137345146), (3319, 0.0), (3320, 0.002250261625679999), (3321, 0.0), (3322, 0.012639566458540712), (3323, 0.0), (3324, 0.013415653784245616), (3325, 0.0), (3326, 0.0), (3327, 0.0), (3328, 0.0), (3329, 0.0), (3330, 0.0), (3331, 0.03911778256481365), (3332, 0.0), (3333, 0.031898999511682236), (3334, 0.0), (3335, 0.021016519944841903), (3336, 0.0), (3337, 0.020257399018002376), (3338, 0.0), (3339, 0.03284812528101947), (3340, 0.0), (3341, 0.0), (3342, 0.0), (3343, 0.01624830228829389), (3344, 0.0), (3345, 0.0), (3346, 0.0), (3347, 0.011565297965672962), (3348, 0.027222043499445604), (3349, 0.006494595021586293), (3350, 0.0), (3351, 0.01030371654858634), (3352, 0.0076628238036525066), (3353, 0.0), (3354, 0.0), (3355, 0.0), (3356, 0.0), (3357, 0.026389947952371078), (3358, 0.01317823632694334), (3359, 0.006695833597144769), (3360, 0.025760551883510563), (3361, 0.0), (3362, 0.01973635923247653), (3363, 0.0), (3364, 0.015643596697819243), (3365, 0.1681700733369674), (3366, 0.0), (3367, 0.0), (3368, 0.0), (3369, 0.0), (3370, 0.0), (3371, 0.0), (3372, 0.0), (3373, 0.0), (3374, 0.0), (3375, 0.011643734051276238), (3376, 0.0), (3377, 0.0), (3378, 0.0), (3379, 0.061290206198733516), (3380, 0.0), (3381, 0.02344256302573989), (3382, 0.0), (3383, 0.0), (3384, 0.004798286785322827), (3385, 0.03330021002439074), (3386, 0.034267790630446396), (3387, 0.0), (3388, 0.012054719591993614), (3389, 0.0), (3390, 0.02750546088717821), (3391, 0.0), (3392, 0.0), (3393, 0.0), (3394, 0.0), (3395, 0.0), (3396, 0.0), (3397, 0.0), (3398, 0.02391862261072212), (3399, 0.0), (3400, 0.022092616628682324), (3401, 0.0), (3402, 0.015687039766652023), (3403, 0.02496604645697119), (3404, 0.0), (3405, 0.0), (3406, 0.08245088787857151), (3407, 0.0), (3408, 0.0), (3409, 0.0), (3410, 0.0), (3411, 0.01012196319938419), (3412, 0.0), (3413, 0.02035777761445249), (3414, 0.0), (3415, 0.0), (3416, 0.023802398827271355), (3417, 0.0), (3418, 0.022667267059485886), (3419, 0.0141877445131696), (3420, 0.01735753026693155), (3421, 0.0), (3422, 0.0204222884040385), (3423, 0.0), (3424, 0.0), (3425, 0.0), (3426, 0.0), (3427, 0.031797561830029734), (3428, 0.01801215127029686), (3429, 0.019306508093881666), (3430, 0.0), (3431, 0.0), (3432, 0.0), (3433, 0.028607394632876586), (3434, 0.0), (3435, 0.0), (3436, 0.0), (3437, 0.0), (3438, 0.0), (3439, 0.01314388622801596), (3440, 0.0), (3441, 0.004362506912275781), (3442, 0.010046782054331316), (3443, 0.05711177401453447), (3444, 0.0), (3445, 0.0), (3446, 0.014183080210839269), (3447, 0.0), (3448, 0.0), (3449, 0.022263884006711913), (3450, 0.0), (3451, 0.0), (3452, 0.013560212652658847), (3453, 0.02644555632907006), (3454, 0.010268255524842375), (3455, 0.0), (3456, 0.0), (3457, 0.0), (3458, 0.0), (3459, 0.031420289991235195), (3460, 0.0), (3461, 0.02188936028338957), (3462, 0.007942968203686708), (3463, 0.00988610062451113), (3464, 0.07927571907653558), (3465, 0.0), (3466, 0.1741523574915259), (3467, 0.013905585266302565), (3468, 0.0), (3469, 0.0), (3470, 0.0), (3471, 0.031737599359390155), (3472, 0.025984401233198007), (3473, 0.03276108205720896), (3474, 0.0), (3475, 0.04456001508001644), (3476, 0.0308930045516617), (3477, 0.007998078377540926), (3478, 0.0), (3479, 0.0), (3480, 0.0), (3481, 0.0), (3482, 0.0), (3483, 0.0), (3484, 0.0), (3485, 0.0200625201747003), (3486, 0.0), (3487, 0.0), (3488, 0.02464375208293153), (3489, 0.0), (3490, 0.024111795924680348), (3491, 0.0), (3492, 0.02399351526681531), (3493, 0.14820546335194848), (3494, 0.02952991115185044), (3495, 0.00985581512408984), (3496, 0.0), (3497, 0.014934217353152073), (3498, 0.02118001288014633), (3499, 0.0), (3500, 0.0), (3501, 0.023119404049020412), (3502, 0.0), (3503, 0.02399477801823403), (3504, 0.0), (3505, 0.0), (3506, 0.09493373346419703), (3507, 0.019632797424989603), (3508, 0.006834945101132185), (3509, 0.0), (3510, 0.0), (3511, 0.0), (3512, 0.018601741009676293), (3513, 0.043646581865835775), (3514, 0.0368679683540435), (3515, 0.03115092781799134), (3516, 0.008632366847647083), (3517, 0.006501397791422069), (3518, 0.0), (3519, 0.012451403926628928), (3520, 0.0), (3521, 0.0), (3522, 0.0), (3523, 0.020779686997810604), (3524, 0.0), (3525, 0.01878668658751366), (3526, 0.009683980714025169), (3527, 0.0), (3528, 0.0), (3529, 0.0), (3530, 0.015777862938246682), (3531, 0.014106633299846849), (3532, 0.0), (3533, 0.018315029321923883), (3534, 0.0), (3535, 0.0), (3536, 0.016514724191619253), (3537, 0.0), (3538, 0.00735498234694691), (3539, 0.015528083397433598), (3540, 0.0), (3541, 0.004499092335932982), (3542, 0.0), (3543, 0.019113492394004113), (3544, 0.023847985305809886), (3545, 0.0), (3546, 0.0), (3547, 0.0), (3548, 0.0), (3549, 0.03678735384249888), (3550, 0.07179919888041353), (3551, 0.0), (3552, 0.0), (3553, 0.0), (3554, 0.0), (3555, 0.01452536195280298), (3556, 0.021124956816241172), (3557, 0.0), (3558, 0.01288388380154742), (3559, 0.026805149068090957), (3560, 0.0), (3561, 0.0), (3562, 0.0), (3563, 0.0), (3564, 0.0), (3565, 0.06346360138861215), (3566, 0.08086618051572059), (3567, 0.00910001153533817), (3568, 0.0), (3569, 0.06533437634818814), (3570, 0.035023678673482765), (3571, 0.01630143794344787), (3572, 0.0), (3573, 0.008593759370339137), (3574, 0.011747116835842576), (3575, 0.0), (3576, 0.0120498862837276), (3577, 0.0), (3578, 0.007963048737907511), (3579, 0.01341152294767925), (3580, 0.026595572912402644), (3581, 0.021730192121491246), (3582, 0.013009432262240286), (3583, 0.0), (3584, 0.0), (3585, 0.0), (3586, 0.0070406496744104975), (3587, 0.013646228506480205), (3588, 0.0), (3589, 0.0), (3590, 0.011765891025315323), (3591, 0.0), (3592, 0.02424938986489417), (3593, 0.0), (3594, 0.013198829522981749), (3595, 0.018326777234636563), (3596, 0.014158339848998234), (3597, 0.03249733144351207), (3598, 0.0), (3599, 0.016729960578140548), (3600, 0.017119524715892925), (3601, 0.0), (3602, 0.0), (3603, 0.014738353197612998), (3604, 0.0), (3605, 0.01697163878143997), (3606, 0.0), (3607, 0.0), (3608, 0.025953040366714544), (3609, 0.04899136773747613), (3610, 0.011199820264743228), (3611, 0.0), (3612, 0.0), (3613, 0.0), (3614, 0.008866166101386845), (3615, 0.0), (3616, 0.0), (3617, 0.0), (3618, 0.0), (3619, 0.0), (3620, 0.0), (3621, 0.008641312765368439), (3622, 0.0), (3623, 0.0), (3624, 0.0), (3625, 0.005389472874958195), (3626, 0.0), (3627, 0.03097846701296275), (3628, 0.0), (3629, 0.0), (3630, 0.07019827444462917), (3631, 0.02414281711689243), (3632, 0.0), (3633, 0.012849505999390947), (3634, 0.03036006417241031), (3635, 0.0), (3636, 0.027995894037754605), (3637, 0.0), (3638, 0.09795088127161258), (3639, 0.0), (3640, 0.017103334732715733), (3641, 0.0), (3642, 0.0), (3643, 0.0), (3644, 0.015730788779382762), (3645, 0.019463921910533956), (3646, 0.06972037434335188), (3647, 0.015595382965299026), (3648, 0.0), (3649, 0.017624019316677064), (3650, 0.0), (3651, 0.0188946001744959), (3652, 0.0), (3653, 0.0), (3654, 0.0), (3655, 0.014365161309692447), (3656, 0.04247892699595357), (3657, 0.010937036717672854), (3658, 0.0), (3659, 0.0), (3660, 0.0025399920230359746), (3661, 0.0), (3662, 0.0), (3663, 0.0), (3664, 0.01845564086861703), (3665, 0.015160249488083862), (3666, 0.0075056959566847355), (3667, 0.0), (3668, 0.017534459499021215), (3669, 0.0), (3670, 0.008072209725445912), (3671, 0.03972786819471517), (3672, 0.06668832643534923), (3673, 0.07176635954373403), (3674, 0.043756362975569965), (3675, 0.0), (3676, 0.015809363175615772), (3677, 0.0), (3678, 0.011398131722066232), (3679, 0.0), (3680, 0.007243317589900353), (3681, 0.09625214040349026), (3682, 0.0497343997786185), (3683, 0.0), (3684, 0.019615365057643865), (3685, 0.0), (3686, 0.0), (3687, 0.01159170970149155), (3688, 0.0), (3689, 0.010930755007611927), (3690, 0.01913055658847175), (3691, 0.012734608526239853), (3692, 0.0), (3693, 0.048343538845404634), (3694, 0.011772414656712991), (3695, 0.016972052991674227), (3696, 0.08170087100370144), (3697, 0.0), (3698, 0.04274429609654567), (3699, 0.0), (3700, 0.02490905432190923), (3701, 0.0), (3702, 0.04061151928078244), (3703, 0.005757019304319324), (3704, 0.15736793117074943), (3705, 0.013601451393842596), (3706, 0.0122434111727838), (3707, 0.0), (3708, 0.0), (3709, 0.0), (3710, 0.0), (3711, 0.007395609368946061), (3712, 0.015600512450759288), (3713, 0.1266271817411085), (3714, 0.0), (3715, 0.013675021926425286), (3716, 0.0), (3717, 0.009910566022524252), (3718, 0.0), (3719, 0.0), (3720, 0.03435837494295437), (3721, 0.015907323653629266), (3722, 0.006351500641322639), (3723, 0.0), (3724, 0.0), (3725, 0.0), (3726, 0.0), (3727, 0.0), (3728, 0.0), (3729, 0.01235568716012945), (3730, 0.0), (3731, 0.0), (3732, 0.0), (3733, 0.0), (3734, 0.0), (3735, 0.12728100313469276), (3736, 0.03979542450183568), (3737, 0.0), (3738, 0.017302118152497534), (3739, 0.0), (3740, 0.023164539877289624), (3741, 0.04248109810147674), (3742, 0.0), (3743, 0.02484807389971541), (3744, 0.0), (3745, 0.0), (3746, 0.0), (3747, 0.0), (3748, 0.0), (3749, 0.013241630194939973), (3750, 0.0), (3751, 0.0), (3752, 0.06372185272776344), (3753, 0.01707396623606053), (3754, 0.0), (3755, 0.014931737654330764), (3756, 0.0), (3757, 0.0), (3758, 0.0), (3759, 0.018780080372621823), (3760, 0.01827786473554408), (3761, 0.011831758808485263), (3762, 0.00690804029903528), (3763, 0.005631989989511259), (3764, 0.02345227454176832), (3765, 0.012419785365838229), (3766, 0.04436369058056733), (3767, 0.007998078377540926), (3768, 0.03125065929422974), (3769, 0.0), (3770, 0.052743193576414035), (3771, 0.026671518663497443), (3772, 0.04865673843226107), (3773, 0.0), (3774, 0.12039445623050218), (3775, 0.011218591106202578), (3776, 0.0440336748829904), (3777, 0.0), (3778, 0.0), (3779, 0.01405942657685785), (3780, 0.03060725522936712), (3781, 0.045377717117150135), (3782, 0.013019231707721922), (3783, 0.0), (3784, 0.0), (3785, 0.0), (3786, 0.006053242949222259), (3787, 0.0), (3788, 0.03439065763820901), (3789, 0.0), (3790, 0.023729760773687273), (3791, 0.003002356516871383), (3792, 0.0), (3793, 0.038726182169733205), (3794, 0.037531235436300284), (3795, 0.0), (3796, 0.02552810822382791), (3797, 0.0), (3798, 0.0), (3799, 0.027935178954527025), (3800, 0.008173442561156031), (3801, 0.0), (3802, 0.0), (3803, 0.0), (3804, 0.0), (3805, 0.0), (3806, 0.0), (3807, 0.029535290960167496), (3808, 0.009461141689012811), (3809, 0.0), (3810, 0.0), (3811, 0.023449098350512593), (3812, 0.06956827326290463), (3813, 0.03695791285701048), (3814, 0.0), (3815, 0.0), (3816, 0.0), (3817, 0.0), (3818, 0.0), (3819, 0.0), (3820, 0.0065030452614515755), (3821, 0.010788698413899803), (3822, 0.0), (3823, 0.0), (3824, 0.007718832160735706), (3825, 0.04913157576834115), (3826, 0.0), (3827, 0.0), (3828, 0.0), (3829, 0.045287052843512775), (3830, 0.01725771093327597), (3831, 0.0), (3832, 0.0), (3833, 0.05201296409864372), (3834, 0.023293373342109035), (3835, 0.005414329017354518), (3836, 0.0), (3837, 0.0), (3838, 0.0), (3839, 0.010103253649225314), (3840, 0.0), (3841, 0.0), (3842, 0.0), (3843, 0.0), (3844, 0.0), (3845, 0.0), (3846, 0.0), (3847, 0.0), (3848, 0.0), (3849, 0.009706000415792854), (3850, 0.03195418682678188), (3851, 0.0), (3852, 0.0), (3853, 0.03190973389212329), (3854, 0.0), (3855, 0.04907422401151219), (3856, 0.0), (3857, 0.0), (3858, 0.040247838158544165), (3859, 0.023407200593940646), (3860, 0.0), (3861, 0.0), (3862, 0.0), (3863, 0.0), (3864, 0.0), (3865, 0.0), (3866, 0.0), (3867, 0.0), (3868, 0.0), (3869, 0.16111856551807446), (3870, 0.0110096176879801), (3871, 0.0), (3872, 0.0), (3873, 0.0), (3874, 0.0), (3875, 0.0), (3876, 0.026795202180759668), (3877, 0.01344555818640238), (3878, 0.010637629012238626), (3879, 0.01610018220692977), (3880, 0.017588066439215653), (3881, 0.040848888676830356), (3882, 0.0), (3883, 0.0), (3884, 0.0), (3885, 0.0), (3886, 0.011570690074340004), (3887, 0.0), (3888, 0.017459594720948993), (3889, 0.0628970054352363), (3890, 0.0), (3891, 0.0), (3892, 0.048311111181824684), (3893, 0.01233036868239263), (3894, 0.0), (3895, 0.02211495476066939), (3896, 0.01363965635956778), (3897, 0.0), (3898, 0.0), (3899, 0.0), (3900, 0.0), (3901, 0.04786569876403364), (3902, 0.0), (3903, 0.09543051016489465), (3904, 0.0), (3905, 0.0), (3906, 0.0), (3907, 0.0), (3908, 0.0), (3909, 0.00923260853235475), (3910, 0.0), (3911, 0.06620764544841873), (3912, 0.0), (3913, 0.018752831853852958), (3914, 0.0), (3915, 0.03721992940181318), (3916, 0.0), (3917, 0.028661895648852635), (3918, 0.0), (3919, 0.015377698588746823), (3920, 0.015442798036423492), (3921, 0.017730895543846194), (3922, 0.01625824825127697), (3923, 0.0), (3924, 0.0), (3925, 0.04439872694076878), (3926, 0.032260260128019295), (3927, 0.0), (3928, 0.017130379781182654), (3929, 0.0), (3930, 0.0), (3931, 0.0), (3932, 0.0), (3933, 0.0), (3934, 0.0), (3935, 0.0), (3936, 0.0), (3937, 0.0), (3938, 0.00616137353494466), (3939, 0.02763951419074458), (3940, 0.009003755079814378), (3941, 0.04491176739723032), (3942, 0.0), (3943, 0.0), (3944, 0.0), (3945, 0.0), (3946, 0.007608345548279683), (3947, 0.0), (3948, 0.0), (3949, 0.0), (3950, 0.0), (3951, 0.0), (3952, 0.00623369292556875), (3953, 0.017196759227073827), (3954, 0.007882848528750588), (3955, 0.0), (3956, 0.0), (3957, 0.027611585918002595), (3958, 0.0), (3959, 0.006623548364314838), (3960, 0.0), (3961, 0.03181903269239185), (3962, 0.01344543655999034), (3963, 0.0), (3964, 0.16722870616747648), (3965, 0.03141919186826974), (3966, 0.0), (3967, 0.0), (3968, 0.0), (3969, 0.0), (3970, 0.0), (3971, 0.0), (3972, 0.0), (3973, 0.02035777761445249), (3974, 0.0), (3975, 0.0), (3976, 0.03520214980959768), (3977, 0.0), (3978, 0.0), (3979, 0.014707495635331467), (3980, 0.0), (3981, 0.15681684588078248), (3982, 0.037467430265889494), (3983, 0.0), (3984, 0.012491950305820182), (3985, 0.03643240752641396), (3986, 0.0), (3987, 0.0), (3988, 0.038626852682295945), (3989, 0.0), (3990, 0.0), (3991, 0.0), (3992, 0.016417180298153172), (3993, 0.0), (3994, 0.03272570827542709), (3995, 0.0), (3996, 0.030023053701827333), (3997, 0.0), (3998, 0.060139731335028576), (3999, 0.017747306346308833), (4000, 0.0), (4001, 0.0), (4002, 0.0), (4003, 0.01674182629056473), (4004, 0.0), (4005, 0.0), (4006, 0.0), (4007, 0.0), (4008, 0.026207945664339392), (4009, 0.0), (4010, 0.04642084630583691), (4011, 0.005001494626205747), (4012, 0.03837021408258073), (4013, 0.01929670092047443), (4014, 0.00880040749292408), (4015, 0.0), (4016, 0.0), (4017, 0.00853749139909527), (4018, 0.0), (4019, 0.0), (4020, 0.0), (4021, 0.0), (4022, 0.0), (4023, 0.0), (4024, 0.18146928864500222), (4025, 0.0), (4026, 0.024763544529350354), (4027, 0.0), (4028, 0.0), (4029, 0.01069521913756744), (4030, 0.010777109966110381), (4031, 0.0), (4032, 0.0), (4033, 0.017679833775040673), (4034, 0.011632524584875726), (4035, 0.0), (4036, 0.01268558353576513), (4037, 0.028652669293315565), (4038, 0.027600785147142662), (4039, 0.0), (4040, 0.022968741373646347), (4041, 0.0), (4042, 0.026217737422703735), (4043, 0.035763277889910725), (4044, 0.0), (4045, 0.0), (4046, 0.0), (4047, 0.02325608098594752), (4048, 0.0309415996115254), (4049, 0.0), (4050, 0.007882455087760771), (4051, 0.0), (4052, 0.0), (4053, 0.0), (4054, 0.0), (4055, 0.028656919046273314), (4056, 0.01797671912226023), (4057, 0.01785755150902018), (4058, 0.0), (4059, 0.0), (4060, 0.0), (4061, 0.0), (4062, 0.0), (4063, 0.0), (4064, 0.03551674931408859), (4065, 0.0), (4066, 0.0), (4067, 0.0), (4068, 0.0), (4069, 0.022460415972137982), (4070, 0.0), (4071, 0.019200679216154686), (4072, 0.050208652209139955), (4073, 0.0), (4074, 0.010846676786794705), (4075, 0.0), (4076, 0.0), (4077, 0.03797931780300024), (4078, 0.031709502482211736), (4079, 0.043080559015898766), (4080, 0.024471636111383206), (4081, 0.0), (4082, 0.0), (4083, 0.03280717953210117), (4084, 0.017639782759487833), (4085, 0.052915447757610805), (4086, 0.010927766157838956), (4087, 0.04573579184250329), (4088, 0.0), (4089, 0.0), (4090, 0.028756420992432998), (4091, 0.0), (4092, 0.0), (4093, 0.0), (4094, 0.05090718821326569), (4095, 0.012170623436199332), (4096, 0.0), (4097, 0.0), (4098, 0.011561433501090887), (4099, 0.0), (4100, 0.0), (4101, 0.0), (4102, 0.0), (4103, 0.028590319810025275), (4104, 0.025981812549587167), (4105, 0.0), (4106, 0.08497680681023909), (4107, 0.0), (4108, 0.0), (4109, 0.0), (4110, 0.008901549160057105), (4111, 0.007461947851034651), (4112, 0.0), (4113, 0.0), (4114, 0.006376823023319247), (4115, 0.0), (4116, 0.006645968357878533), (4117, 0.0), (4118, 0.020211825141429142), (4119, 0.016939048825837383), (4120, 0.0), (4121, 0.0), (4122, 0.0162121927207559), (4123, 0.01895994456734459), (4124, 0.006567082917519959), (4125, 0.0), (4126, 0.027714569378408344), (4127, 0.0), (4128, 0.0), (4129, 0.005637845446969652), (4130, 0.024627013419448417), (4131, 0.020636586120633862), (4132, 0.0), (4133, 0.012480606864017627), (4134, 0.0), (4135, 0.0035892480283842452), (4136, 0.0), (4137, 0.0), (4138, 0.0), (4139, 0.021366760248599806), (4140, 0.010419801860014536), (4141, 0.0), (4142, 0.0), (4143, 0.009397300009117066), (4144, 0.010572797419219614), (4145, 0.0), (4146, 0.0), (4147, 0.0), (4148, 0.014027294376290385), (4149, 0.011473967826271261), (4150, 0.017426782345517745), (4151, 0.0), (4152, 0.019388768534855487), (4153, 0.021760288510488106), (4154, 0.029919575007281606), (4155, 0.0), (4156, 0.0065030452614515755), (4157, 0.0), (4158, 0.03649628216444502), (4159, 0.04701459971506477), (4160, 0.0836158064396042), (4161, 0.04262897956792477), (4162, 0.0), (4163, 0.0), (4164, 0.0), (4165, 0.0), (4166, 0.0), (4167, 0.0), (4168, 0.0), (4169, 0.0), (4170, 0.0), (4171, 0.03789974551548748), (4172, 0.016021081748788912), (4173, 0.0035618718060016585), (4174, 0.0), (4175, 0.0), (4176, 0.0), (4177, 0.0), (4178, 0.0), (4179, 0.09446178822259926), (4180, 0.03295889720372001), (4181, 0.03498896281395894), (4182, 0.0), (4183, 0.0), (4184, 0.011257918566799903), (4185, 0.0), (4186, 0.015355636083006509), (4187, 0.0), (4188, 0.01794801339090253), (4189, 0.01131578978647122), (4190, 0.021922101623345305), (4191, 0.03249760910199919), (4192, 0.0), (4193, 0.0), (4194, 0.0), (4195, 0.0), (4196, 0.012649298551793219), (4197, 0.0), (4198, 0.02834899491849998), (4199, 0.03547237566890139), (4200, 0.0), (4201, 0.0), (4202, 0.05416086328847797), (4203, 0.0), (4204, 0.01939365048427059), (4205, 0.017615796903143875), (4206, 0.0), (4207, 0.0), (4208, 0.019563904223804707), (4209, 0.0), (4210, 0.012995658766515952), (4211, 0.0), (4212, 0.0), (4213, 0.0), (4214, 0.016226003171045035), (4215, 0.0), (4216, 0.0), (4217, 0.0), (4218, 0.0), (4219, 0.0), (4220, 0.009083093754902658), (4221, 0.024319405657104293), (4222, 0.0), (4223, 0.054032106700606874), (4224, 0.010252419493585014), (4225, 0.0), (4226, 0.0), (4227, 0.03513590413287087), (4228, 0.037294921304635104), (4229, 0.03554354054451734), (4230, 0.012309416134943444), (4231, 0.025279777265457895), (4232, 0.0), (4233, 0.01905632644503427), (4234, 0.0), (4235, 0.0), (4236, 0.019146466964144362), (4237, 0.0014471086391842046), (4238, 0.0), (4239, 0.015298132444717994), (4240, 0.0), (4241, 0.0), (4242, 0.0), (4243, 0.0), (4244, 0.007659714900194688), (4245, 0.0), (4246, 0.062109941721452254), (4247, 0.026911672766262662), (4248, 0.0), (4249, 0.0), (4250, 0.05044870322065059), (4251, 0.019770171147747394), (4252, 0.03977694371090199), (4253, 0.0), (4254, 0.04650052113785135), (4255, 0.0), (4256, 0.0), (4257, 0.0), (4258, 0.0), (4259, 0.023083122365071547), (4260, 0.04076176732715456), (4261, 0.03686753512331453), (4262, 0.0), (4263, 0.0), (4264, 0.0), (4265, 0.0), (4266, 0.0), (4267, 0.015298226059511437), (4268, 0.0), (4269, 0.008286008478989323), (4270, 0.03130440026637237), (4271, 0.017387819147942633), (4272, 0.0), (4273, 0.0), (4274, 0.007518344020173324), (4275, 0.011786609652263327), (4276, 0.0181416905586325), (4277, 0.01750989014711386), (4278, 0.02607875547682633), (4279, 0.0374266634078457), (4280, 0.0), (4281, 0.0), (4282, 0.016959251143538658), (4283, 0.05954726678394235), (4284, 0.008804004066921611), (4285, 0.01574978448218027), (4286, 0.02914616537455985), (4287, 0.015846074668403348), (4288, 0.0), (4289, 0.0), (4290, 0.06009476925569893), (4291, 0.0), (4292, 0.0), (4293, 0.028193877129787537), (4294, 0.0), (4295, 0.0), (4296, 0.09509486374630022), (4297, 0.025753900373836215), (4298, 0.01519967055900239), (4299, 0.0), (4300, 0.0), (4301, 0.018260969037447027), (4302, 0.017267800564617502), (4303, 0.0), (4304, 0.009693398908626886), (4305, 0.0), (4306, 0.0), (4307, 0.013431371313069995), (4308, 0.0), (4309, 0.0), (4310, 0.028075566065845537), (4311, 0.0), (4312, 0.0), (4313, 0.010981264911371027), (4314, 0.0), (4315, 0.024821590558995694), (4316, 0.0), (4317, 0.0), (4318, 0.0), (4319, 0.01672715737083409), (4320, 0.0), (4321, 0.0), (4322, 0.0149972922208177), (4323, 0.015130015332628274), (4324, 0.008329402982456623), (4325, 0.0), (4326, 0.0), (4327, 0.0), (4328, 0.0), (4329, 0.0), (4330, 0.01424337133319457), (4331, 0.02504983236642328), (4332, 0.00785742387329533), (4333, 0.0), (4334, 0.0), (4335, 0.0), (4336, 0.0), (4337, 0.0), (4338, 0.0), (4339, 0.0076679171339295955), (4340, 0.0), (4341, 0.0), (4342, 0.014493272875738423), (4343, 0.009363960761157133), (4344, 0.0), (4345, 0.026614304936237593), (4346, 0.0), (4347, 0.008542644671246337), (4348, 0.0), (4349, 0.03443028580170568), (4350, 0.0), (4351, 0.00900171554300896), (4352, 0.023989756920672324), (4353, 0.0), (4354, 0.0066484279832984714), (4355, 0.0), (4356, 0.0), (4357, 0.1446557517765822), (4358, 0.021479468121657873), (4359, 0.04857734384466107), (4360, 0.0), (4361, 0.0), (4362, 0.0), (4363, 0.01605855067374584), (4364, 0.018518982391500616), (4365, 0.0), (4366, 0.04160637966696309), (4367, 0.009537222568233349), (4368, 0.05454983858078998), (4369, 0.0), (4370, 0.0), (4371, 0.015781848842618), (4372, 0.0), (4373, 0.024834102196205302), (4374, 0.007609282384852496), (4375, 0.0), (4376, 0.008959907349858468), (4377, 0.0), (4378, 0.029526450583237256), (4379, 0.0), (4380, 0.018472700621198292), (4381, 0.02521653824620535), (4382, 0.0), (4383, 0.013206877501026639), (4384, 0.029992073661266848), (4385, 0.09059559672495449), (4386, 0.02261487895540069), (4387, 0.015121253779694466), (4388, 0.0), (4389, 0.06130521772073651), (4390, 0.0061628906332199295), (4391, 0.010788787757817405), (4392, 0.025093102858941303), (4393, 0.01515662080954492), (4394, 0.01938968199085426), (4395, 0.02392115269304055), (4396, 0.0), (4397, 0.0), (4398, 0.0), (4399, 0.04308138958038503), (4400, 0.008269491341985328), (4401, 0.0), (4402, 0.0), (4403, 0.008614829998872049), (4404, 0.006699428092011405), (4405, 0.0), (4406, 0.0), (4407, 0.023395521559487365), (4408, 0.016621857106155644), (4409, 0.015784217703795157), (4410, 0.02181873908294026), (4411, 0.015399642352443057), (4412, 0.014376032781843628), (4413, 0.0), (4414, 0.0), (4415, 0.0), (4416, 0.0050375457981557195), (4417, 0.0), (4418, 0.0), (4419, 0.0), (4420, 0.0), (4421, 0.0), (4422, 0.0), (4423, 0.009224281111021025), (4424, 0.0), (4425, 0.0), (4426, 0.0), (4427, 0.019198373855738457), (4428, 0.021412552073988712), (4429, 0.0), (4430, 0.0), (4431, 0.010177778732145445), (4432, 0.04389424603096223), (4433, 0.007727147667922068), (4434, 0.0), (4435, 0.015896719588977617), (4436, 0.14150993987463364), (4437, 0.04906131930373148), (4438, 0.0), (4439, 0.015520799748153203), (4440, 0.031205410019030086), (4441, 0.0), (4442, 0.015986425344727204), (4443, 0.01882041128783541), (4444, 0.007878081838950534), (4445, 0.0), (4446, 0.02150798200225649), (4447, 0.017108928754140107), (4448, 0.0), (4449, 0.03911016801675105), (4450, 0.00672034231881659), (4451, 0.0), (4452, 0.0), (4453, 0.0), (4454, 0.0), (4455, 0.013794248111453956), (4456, 0.0), (4457, 0.0379503917646846), (4458, 0.0), (4459, 0.0), (4460, 0.017406453970946294), (4461, 0.010017147448012053), (4462, 0.0), (4463, 0.0), (4464, 0.019619458725607768), (4465, 0.0), (4466, 0.011340706451973614), (4467, 0.004963588486313544), (4468, 0.0), (4469, 0.008038829146857536), (4470, 0.0), (4471, 0.01716398135221832), (4472, 0.0), (4473, 0.05189231442012617), (4474, 0.0), (4475, 0.0), (4476, 0.025368017122620105), (4477, 0.0), (4478, 0.0), (4479, 0.0), (4480, 0.0), (4481, 0.0), (4482, 0.04108464715264622), (4483, 0.0), (4484, 0.01733744296879972), (4485, 0.0), (4486, 0.01308324656841935), (4487, 0.0), (4488, 0.019637805600898162), (4489, 0.013993421484672999), (4490, 0.0), (4491, 0.0), (4492, 0.0), (4493, 0.03452617725295672), (4494, 0.009128634535204837), (4495, 0.0), (4496, 0.032914623597175195), (4497, 0.0), (4498, 0.0), (4499, 0.0), (4500, 0.0), (4501, 0.01173007767987452), (4502, 0.03364668289036411), (4503, 0.0), (4504, 0.016707364434974656), (4505, 0.0), (4506, 0.03916759054269893), (4507, 0.0), (4508, 0.0), (4509, 0.09174619124399151), (4510, 0.014188123503010684), (4511, 0.019021820835089763), (4512, 0.01736674069740406), (4513, 0.014199714152319175), (4514, 0.0), (4515, 0.0), (4516, 0.010012065538845082), (4517, 0.044287479134132224), (4518, 0.0), (4519, 0.01893970223881226), (4520, 0.0), (4521, 0.0), (4522, 0.0), (4523, 0.0), (4524, 0.0), (4525, 0.0), (4526, 0.0), (4527, 0.0), (4528, 0.004340983266791026), (4529, 0.0), (4530, 0.0), (4531, 0.02471457395431386), (4532, 0.0), (4533, 0.016626122351558238), (4534, 0.0), (4535, 0.0), (4536, 0.012007631788452761), (4537, 0.0), (4538, 0.0), (4539, 0.0), (4540, 0.0), (4541, 0.0), (4542, 0.06964198336370608), (4543, 0.0), (4544, 0.010408619958570892), (4545, 0.0), (4546, 0.0), (4547, 0.0), (4548, 0.0), (4549, 0.019437314133814696), (4550, 0.0), (4551, 0.0), (4552, 0.0), (4553, 0.0), (4554, 0.0), (4555, 0.028185583800194973), (4556, 0.011361410371523575), (4557, 0.0), (4558, 0.0), (4559, 0.008297945995108504), (4560, 0.0), (4561, 0.0), (4562, 0.0), (4563, 0.0), (4564, 0.0), (4565, 0.0), (4566, 0.0), (4567, 0.017541430031422365), (4568, 0.01605233287935605), (4569, 0.0), (4570, 0.007627298129533454), (4571, 0.0), (4572, 0.0), (4573, 0.03573210966439123), (4574, 0.010657707736565583), (4575, 0.0), (4576, 0.010325849541919799), (4577, 0.0236285147995402), (4578, 0.024401803817183283), (4579, 0.028586574698818708), (4580, 0.007376298660112467), (4581, 0.0), (4582, 0.0), (4583, 0.0), (4584, 0.013253741684612233), (4585, 0.011812887205755), (4586, 0.025599372666728817), (4587, 0.014113118139154118), (4588, 0.009183045973891937), (4589, 0.15574970805882885), (4590, 0.0), (4591, 0.045140227194106264), (4592, 0.0), (4593, 0.01347449039153541), (4594, 0.0), (4595, 0.0), (4596, 0.034553793831818676), (4597, 0.02050442816851036), (4598, 0.0), (4599, 0.0), (4600, 0.012711475279848821), (4601, 0.008924198561634209), (4602, 0.0), (4603, 0.0), (4604, 0.007287005937816281), (4605, 0.0), (4606, 0.0), (4607, 0.0), (4608, 0.0), (4609, 0.016138583351457392), (4610, 0.0), (4611, 0.013966663363978235), (4612, 0.012468404063574644), (4613, 0.01319692595211963), (4614, 0.03700361895779579), (4615, 0.0), (4616, 0.14618654330407116), (4617, 0.0), (4618, 0.01461194742344582), (4619, 0.0), (4620, 0.0), (4621, 0.0), (4622, 0.0), (4623, 0.00554411198794902), (4624, 0.0), (4625, 0.015533560089357206), (4626, 0.03084910344496116), (4627, 0.0), (4628, 0.0), (4629, 0.0), (4630, 0.01535804382578937), (4631, 0.0), (4632, 0.013398772348122787), (4633, 0.008002939721098876), (4634, 0.0), (4635, 0.0), (4636, 0.0), (4637, 0.012585568239943628), (4638, 0.0), (4639, 0.0), (4640, 0.0), (4641, 0.0), (4642, 0.024757424369903476), (4643, 0.0), (4644, 0.0), (4645, 0.006323673748191848), (4646, 0.0), (4647, 0.015600606871787203), (4648, 0.0596072764923831), (4649, 0.03809058936874622), (4650, 0.00815851256175751), (4651, 0.0), (4652, 0.0543793665925303), (4653, 0.017369559518237716), (4654, 0.0), (4655, 0.014378398579818407), (4656, 0.009826829378870593), (4657, 0.0), (4658, 0.0), (4659, 0.016508022815139172), (4660, 0.020270087515060323), (4661, 0.0), (4662, 0.011956280740237898), (4663, 0.010450039952129), (4664, 0.0), (4665, 0.01670760947639961), (4666, 0.0), (4667, 0.00932996479761181), (4668, 0.0), (4669, 0.0), (4670, 0.06114850867860194), (4671, 0.01686612158536617), (4672, 0.011297808035694966), (4673, 0.0), (4674, 0.0), (4675, 0.0), (4676, 0.01126094331805038), (4677, 0.007137432824614917), (4678, 0.0), (4679, 0.015183696824319356), (4680, 0.026302659131823846), (4681, 0.0), (4682, 0.011208619723087043), (4683, 0.0), (4684, 0.0), (4685, 0.015344777864709856), (4686, 0.04434849669484771), (4687, 0.0), (4688, 0.0), (4689, 0.0), (4690, 0.019399519309638118), (4691, 0.0601388646624096), (4692, 0.0), (4693, 0.02446725470013303), (4694, 0.0), (4695, 0.0), (4696, 0.0), (4697, 0.07719616865964826), (4698, 0.0), (4699, 0.027954187708002346), (4700, 0.0), (4701, 0.028187566914632832), (4702, 0.012379039326078261), (4703, 0.0), (4704, 0.0), (4705, 0.01938314534293588), (4706, 0.011605568555326155), (4707, 0.0), (4708, 0.0), (4709, 0.0062763693909829565), (4710, 0.0), (4711, 0.017077022099865204), (4712, 0.0), (4713, 0.0), (4714, 0.014945208833588604), (4715, 0.016038609224500674), (4716, 0.0), (4717, 0.037486886273168776), (4718, 0.0), (4719, 0.01720808119955245), (4720, 0.0), (4721, 0.0), (4722, 0.01286417259095318), (4723, 0.016329032385475995), (4724, 0.04048423808833721), (4725, 0.0), (4726, 0.0), (4727, 0.04139776919889734), (4728, 0.0), (4729, 0.0), (4730, 0.003774859212109498), (4731, 0.02472357024803492), (4732, 0.0), (4733, 0.0), (4734, 0.0), (4735, 0.014562218081484963), (4736, 0.0), (4737, 0.014399868313820856), (4738, 0.01589663712150815), (4739, 0.0), (4740, 0.0), (4741, 0.0), (4742, 0.009727955041868309), (4743, 0.03228561389779929), (4744, 0.0), (4745, 0.03598147329441432), (4746, 0.0), (4747, 0.038553923117773226), (4748, 0.00928642563234483), (4749, 0.021242385422000874), (4750, 0.04080023776319401), (4751, 0.0), (4752, 0.04048822014370057), (4753, 0.0), (4754, 0.0), (4755, 0.0), (4756, 0.0), (4757, 0.0), (4758, 0.0), (4759, 0.0), (4760, 0.0), (4761, 0.018609708105309875), (4762, 0.0), (4763, 0.027430571112014905), (4764, 0.008903990285538097), (4765, 0.018048620561527135), (4766, 0.03858321096307583), (4767, 0.0), (4768, 0.0), (4769, 0.0), (4770, 0.0), (4771, 0.0), (4772, 0.0), (4773, 0.0), (4774, 0.0), (4775, 0.028657037376402628), (4776, 0.0), (4777, 0.0), (4778, 0.006470634523940478), (4779, 0.0), (4780, 0.021986438732622855), (4781, 0.0), (4782, 0.0), (4783, 0.0), (4784, 0.005803818623477514), (4785, 0.0), (4786, 0.012729991838317536), (4787, 0.021010566077466653), (4788, 0.0), (4789, 0.0), (4790, 0.029690322323379897), (4791, 0.0), (4792, 0.0), (4793, 0.0), (4794, 0.011229122077942627), (4795, 0.0), (4796, 0.017879088560330946), (4797, 0.0), (4798, 0.0), (4799, 0.04904166589387958), (4800, 0.0), (4801, 0.0), (4802, 0.013460895127688602), (4803, 0.0), (4804, 0.031298498191081284), (4805, 0.00797730535837007), (4806, 0.009288239983185707), (4807, 0.04167523171133104), (4808, 0.0), (4809, 0.012622211752118431), (4810, 0.0), (4811, 0.0), (4812, 0.0), (4813, 0.0), (4814, 0.0), (4815, 0.029328714812228915), (4816, 0.0), (4817, 0.007047138043120506), (4818, 0.0), (4819, 0.04229829815424883), (4820, 0.02226870902047918), (4821, 0.02441594409139337), (4822, 0.009738358551729095), (4823, 0.0), (4824, 0.0), (4825, 0.0), (4826, 0.0), (4827, 0.014180577574528222), (4828, 0.0), (4829, 0.0), (4830, 0.0), (4831, 0.0), (4832, 0.0), (4833, 0.010798628386885707), (4834, 0.0), (4835, 0.054888435035109755), (4836, 0.0), (4837, 0.0), (4838, 0.0), (4839, 0.03633268068380845), (4840, 0.0), (4841, 0.008339658835803032), (4842, 0.0), (4843, 0.02716671630017784), (4844, 0.008164433563577248), (4845, 0.011867769577631243), (4846, 0.0), (4847, 0.01174879576278031), (4848, 0.032486858467323), (4849, 0.018581775094192177), (4850, 0.0), (4851, 0.015477635285834724), (4852, 0.0), (4853, 0.03515625358252853), (4854, 0.0), (4855, 0.0), (4856, 0.042526020421517687), (4857, 0.0), (4858, 0.0), (4859, 0.0), (4860, 0.0), (4861, 0.0), (4862, 0.0), (4863, 0.0), (4864, 0.0), (4865, 0.028733202478980514), (4866, 0.0), (4867, 0.0), (4868, 0.01995358831331332), (4869, 0.0), (4870, 0.04259414139332855), (4871, 0.013807347618774246), (4872, 0.0), (4873, 0.0), (4874, 0.01886505619465457), (4875, 0.009477780837487671), (4876, 0.0), (4877, 0.0), (4878, 0.016845742858687653), (4879, 0.0), (4880, 0.0), (4881, 0.02098444101292162), (4882, 0.015330228861363426), (4883, 0.0), (4884, 0.04245417071096383), (4885, 0.0), (4886, 0.00822231832875456), (4887, 0.0), (4888, 0.0), (4889, 0.004827211960424994), (4890, 0.023132053763426884), (4891, 0.0), (4892, 0.01597146283465842), (4893, 0.11602872785150553), (4894, 0.00956929435882714), (4895, 0.0), (4896, 0.0), (4897, 0.0), (4898, 0.006298048613426517), (4899, 0.0), (4900, 0.008081802702755797), (4901, 0.0), (4902, 0.0), (4903, 0.030113478983495444), (4904, 0.0), (4905, 0.0), (4906, 0.0), (4907, 0.026145409314491254), (4908, 0.0), (4909, 0.01344665363670012), (4910, 0.11797335094440993), (4911, 0.012613912593913352), (4912, 0.0), (4913, 0.007053596433652823), (4914, 0.009681020864593038), (4915, 0.02019850822766595), (4916, 0.0), (4917, 0.0), (4918, 0.034399427735297784), (4919, 0.0), (4920, 0.008067320564559556), (4921, 0.0), (4922, 0.0076418060702155965), (4923, 0.0), (4924, 0.0), (4925, 0.025761444169724756), (4926, 0.010997210018163842), (4927, 0.011230208241776724), (4928, 0.040219483190531695), (4929, 0.0), (4930, 0.01921041030317182), (4931, 0.0), (4932, 0.022460415972137982), (4933, 0.0), (4934, 0.0), (4935, 0.0), (4936, 0.04395046548917679), (4937, 0.0), (4938, 0.010887633817286002), (4939, 0.0), (4940, 0.0), (4941, 0.02404070890627742), (4942, 0.0), (4943, 0.0), (4944, 0.0), (4945, 0.03059956019513048), (4946, 0.0), (4947, 0.0), (4948, 0.004226435179138739), (4949, 0.0), (4950, 0.016481632071112258), (4951, 0.008604648157380037), (4952, 0.0), (4953, 0.0), (4954, 0.030669391375245318), (4955, 0.0), (4956, 0.015394901354400999), (4957, 0.007461928406997462), (4958, 0.0), (4959, 0.03400315668450676), (4960, 0.014286086818071267), (4961, 0.05498096756390978), (4962, 0.0), (4963, 0.14910383679057485), (4964, 0.0), (4965, 0.0), (4966, 0.0), (4967, 0.0), (4968, 0.0), (4969, 0.0092961074427806), (4970, 0.08972258284541053), (4971, 0.03351426491924276), (4972, 0.0423326037064552), (4973, 0.010142370559573346), (4974, 0.0), (4975, 0.013307782362750988), (4976, 0.07059547811868422), (4977, 0.008163936015923518), (4978, 0.0), (4979, 0.0), (4980, 0.0), (4981, 0.009712788898187021), (4982, 0.013222503121914616), (4983, 0.0), (4984, 0.024084732292776037), (4985, 0.0), (4986, 0.0), (4987, 0.0), (4988, 0.04082150688859004), (4989, 0.0), (4990, 0.01313231542605707), (4991, 0.028471747114027633), (4992, 0.015303191675950692), (4993, 0.01722058005412928), (4994, 0.0), (4995, 0.0), (4996, 0.03453492473852385), (4997, 0.056211746934656616), (4998, 0.0), (4999, 0.0), (5000, 0.020299125116492296), (5001, 0.0), (5002, 0.0), (5003, 0.0), (5004, 0.006833318017763176), (5005, 0.0), (5006, 0.00398653474348963), (5007, 0.0), (5008, 0.0), (5009, 0.029873612727173655), (5010, 0.0), (5011, 0.025492790955251317), (5012, 0.01561471421015535), (5013, 0.0), (5014, 0.012796442270443326), (5015, 0.0), (5016, 0.04082456811160333), (5017, 0.0), (5018, 0.011690283559306071), (5019, 0.0), (5020, 0.0), (5021, 0.007982506099615573), (5022, 0.0), (5023, 0.0), (5024, 0.0), (5025, 0.027747193266248735), (5026, 0.005044933296216252), (5027, 0.00870809622463315), (5028, 0.0), (5029, 0.0), (5030, 0.0), (5031, 0.0), (5032, 0.0), (5033, 0.019586909722134203), (5034, 0.013042533770389171), (5035, 0.0), (5036, 0.0), (5037, 0.0), (5038, 0.0), (5039, 0.01647522173267019), (5040, 0.02984685654042346), (5041, 0.0), (5042, 0.05996815619685036), (5043, 0.0), (5044, 0.02544524894139756), (5045, 0.0), (5046, 0.0), (5047, 0.0), (5048, 0.02035777761445249), (5049, 0.022827337396104912), (5050, 0.01100254585355016), (5051, 0.0), (5052, 0.0), (5053, 0.0260923226763637), (5054, 0.0), (5055, 0.0), (5056, 0.008552661847661973), (5057, 0.010475182837566023), (5058, 0.04135168020414365), (5059, 0.0), (5060, 0.0), (5061, 0.0), (5062, 0.01780348829061262), (5063, 0.0), (5064, 0.029801350644717076), (5065, 0.0241443810814899), (5066, 0.04211278676302532), (5067, 0.0), (5068, 0.0063784208846184385), (5069, 0.006708434176830501), (5070, 0.0), (5071, 0.05144868747631265), (5072, 0.033394725387047235), (5073, 0.0), (5074, 0.02650671492845643), (5075, 0.005135590586211837), (5076, 0.0), (5077, 0.0), (5078, 0.0), (5079, 0.01542923776147708), (5080, 0.00655455669204932), (5081, 0.0), (5082, 0.0), (5083, 0.0), (5084, 0.0), (5085, 0.0), (5086, 0.0), (5087, 0.025006919606032803), (5088, 0.0), (5089, 0.0), (5090, 0.0), (5091, 0.0), (5092, 0.031400801021001325), (5093, 0.011080795278685052), (5094, 0.020238069541759045), (5095, 0.018334872878442154), (5096, 0.0), (5097, 0.0), (5098, 0.012648587854990128), (5099, 0.0), (5100, 0.0), (5101, 0.01720188816164578), (5102, 0.010236838447420588), (5103, 0.0), (5104, 0.0), (5105, 0.0), (5106, 0.0), (5107, 0.005703699236024919), (5108, 0.02084480397607081), (5109, 0.009966296533615505), (5110, 0.0), (5111, 0.04147252217064312), (5112, 0.013532580619280688), (5113, 0.0), (5114, 0.010388038631539292), (5115, 0.0), (5116, 0.0), (5117, 0.009731249745370669), (5118, 0.009802384568522183), (5119, 0.022704282851902048), (5120, 0.0), (5121, 0.007132622379583873), (5122, 0.0), (5123, 0.0), (5124, 0.0193468922874571), (5125, 0.0), (5126, 0.00943531164845489), (5127, 0.04307034178157284), (5128, 0.012613912593913352), (5129, 0.0), (5130, 0.0), (5131, 0.0), (5132, 0.0), (5133, 0.0), (5134, 0.0), (5135, 0.0), (5136, 0.0), (5137, 0.0), (5138, 0.0), (5139, 0.0), (5140, 0.0), (5141, 0.0), (5142, 0.0), (5143, 0.07200295395769542), (5144, 0.0), (5145, 0.01679340384218623), (5146, 0.0), (5147, 0.0), (5148, 0.0), (5149, 0.02851533314308368), (5150, 0.03055698901068501), (5151, 0.0), (5152, 0.0), (5153, 0.0), (5154, 0.0), (5155, 0.02656491799159725), (5156, 0.03124140004807422), (5157, 0.013987934995512331), (5158, 0.01569535189298451), (5159, 0.0), (5160, 0.0), (5161, 0.0), (5162, 0.0), (5163, 0.007717111943327529), (5164, 0.0), (5165, 0.0), (5166, 0.0), (5167, 0.0), (5168, 0.0), (5169, 0.0), (5170, 0.0), (5171, 0.0), (5172, 0.03514848457763843), (5173, 0.0), (5174, 0.008573141536379338), (5175, 0.0), (5176, 0.0), (5177, 0.014761354949583015), (5178, 0.0), (5179, 0.0234381006181984), (5180, 0.03483514090624206), (5181, 0.02123960525272323), (5182, 0.0), (5183, 0.03436036584595291), (5184, 0.0), (5185, 0.011041385235555168), (5186, 0.0), (5187, 0.0), (5188, 0.0), (5189, 0.016621857106155644), (5190, 0.0), (5191, 0.062099416198348356), (5192, 0.02907879953339155), (5193, 0.0), (5194, 0.020250106175741828), (5195, 0.015165463741390158), (5196, 0.0), (5197, 0.012677644183298087), (5198, 0.0), (5199, 0.016241630335266623), (5200, 0.03327632772179905), (5201, 0.0), (5202, 0.0), (5203, 0.007971025592717106), (5204, 0.0), (5205, 0.0), (5206, 0.0), (5207, 0.01911270914033151), (5208, 0.0), (5209, 0.0), (5210, 0.013272623579987859), (5211, 0.014243217326096987), (5212, 0.0), (5213, 0.0), (5214, 0.020891518964874765), (5215, 0.0), (5216, 0.0), (5217, 0.03538605737589255), (5218, 0.0), (5219, 0.017770192897124195), (5220, 0.015540078008608451), (5221, 0.008708677161997103), (5222, 0.0), (5223, 0.0), (5224, 0.0), (5225, 0.00785426610454817), (5226, 0.02389922237251086), (5227, 0.0), (5228, 0.03214568725639108), (5229, 0.0), (5230, 0.01096075980003856), (5231, 0.0), (5232, 0.11985414238288797), (5233, 0.017507461254964996), (5234, 0.0), (5235, 0.012620152647953877), (5236, 0.0), (5237, 0.0048107849957923395), (5238, 0.0), (5239, 0.06972037434335188), (5240, 0.0), (5241, 0.011919152477178611), (5242, 0.0), (5243, 0.014747283854182978), (5244, 0.021898182074687727), (5245, 0.0), (5246, 0.03477194853001207), (5247, 0.0), (5248, 0.0), (5249, 0.0), (5250, 0.0), (5251, 0.0), (5252, 0.0), (5253, 0.0), (5254, 0.010773922547735739), (5255, 0.022184251930572087), (5256, 0.015844598900806407), (5257, 0.0), (5258, 0.0), (5259, 0.0), (5260, 0.012988525113753245), (5261, 0.0), (5262, 0.03987482178277331), (5263, 0.010926315021335016), (5264, 0.009763791877690789), (5265, 0.0), (5266, 0.0), (5267, 0.0), (5268, 0.02532232734064675), (5269, 0.0), (5270, 0.0), (5271, 0.0), (5272, 0.02535006850173303), (5273, 0.021361825294769033), (5274, 0.031166940189201086), (5275, 0.008943509585906163), (5276, 0.014522463763709689), (5277, 0.0), (5278, 0.07485376204751051), (5279, 0.01236441739815752), (5280, 0.006616312653039628), (5281, 0.021266509551250114), (5282, 0.03399892682562031), (5283, 0.01371865521571047), (5284, 0.0192497712224166), (5285, 0.0067826356270263835), (5286, 0.0505493986057403), (5287, 0.010146768782158859), (5288, 0.06025411239823894), (5289, 0.028699590793005162), (5290, 0.0), (5291, 0.0), (5292, 0.039389183622025675), (5293, 0.012423812235474596), (5294, 0.0), (5295, 0.0), (5296, 0.0), (5297, 0.0), (5298, 0.0), (5299, 0.0), (5300, 0.0), (5301, 0.0), (5302, 0.0), (5303, 0.0), (5304, 0.0), (5305, 0.007444816458053932), (5306, 0.0), (5307, 0.0), (5308, 0.0), (5309, 0.01221585716449258), (5310, 0.0), (5311, 0.0), (5312, 0.0), (5313, 0.013806751274503157), (5314, 0.0125322841960947), (5315, 0.007084229541302924), (5316, 0.013346569370830862), (5317, 0.008695552989627521), (5318, 0.006083098215891643), (5319, 0.0), (5320, 0.006502292101897318), (5321, 0.0), (5322, 0.01348763058349597), (5323, 0.0), (5324, 0.0), (5325, 0.013025872423394019), (5326, 0.0), (5327, 0.01641431669455784), (5328, 0.0), (5329, 0.008706724863270392), (5330, 0.035554355290029156), (5331, 0.05713382496095096), (5332, 0.0), (5333, 0.02784558829194363), (5334, 0.0), (5335, 0.060617372846130384), (5336, 0.011997226927131384), (5337, 0.037654179748779416), (5338, 0.0), (5339, 0.0), (5340, 0.03038983964350704), (5341, 0.013823612170732441), (5342, 0.015385659066197745), (5343, 0.048527922056915584), (5344, 0.05249944698976007), (5345, 0.008181361257601617), (5346, 0.0), (5347, 0.03450206403942511), (5348, 0.012322922153627906), (5349, 0.0), (5350, 0.026246303717262522), (5351, 0.0), (5352, 0.008297708183837795), (5353, 0.03510659385021636), (5354, 0.0), (5355, 0.021345974455855565), (5356, 0.0), (5357, 0.0), (5358, 0.014815289292627465), (5359, 0.0), (5360, 0.0), (5361, 0.0), (5362, 0.03830483290031425), (5363, 0.0), (5364, 0.012825758942983947), (5365, 0.03349727908554834), (5366, 0.0), (5367, 0.03378414651369196), (5368, 0.0), (5369, 0.0), (5370, 0.017250742000478433), (5371, 0.0), (5372, 0.0), (5373, 0.0), (5374, 0.035502019445524315), (5375, 0.009876603606374173), (5376, 0.0), (5377, 0.0), (5378, 0.0), (5379, 0.025902426125625024), (5380, 0.015501545493854732), (5381, 0.032131051859466006), (5382, 0.01889502726220366), (5383, 0.0), (5384, 0.0), (5385, 0.0), (5386, 0.017767416138426216), (5387, 0.015506175069018111), (5388, 0.009668680149761166), (5389, 0.0), (5390, 0.0), (5391, 0.012673556956720011), (5392, 0.04231104943720522), (5393, 0.03661474287243798), (5394, 0.0), (5395, 0.03095065350514565), (5396, 0.01384994658257016), (5397, 0.02736724489691194), (5398, 0.018512224752610898), (5399, 0.03250532491323837), (5400, 0.0), (5401, 0.0), (5402, 0.0), (5403, 0.0), (5404, 0.10990187186524189), (5405, 0.0), (5406, 0.0), (5407, 0.0), (5408, 0.008725819543438651), (5409, 0.0), (5410, 0.0), (5411, 0.026634429650172965), (5412, 0.0), (5413, 0.038830549820548496), (5414, 0.013625564711113263), (5415, 0.0), (5416, 0.0), (5417, 0.023387023239196114), (5418, 0.0), (5419, 0.0), (5420, 0.0), (5421, 0.009902237593095147), (5422, 0.0), (5423, 0.0), (5424, 0.0), (5425, 0.0), (5426, 0.04352102789766055), (5427, 0.022656221062663667), (5428, 0.03357636657289237), (5429, 0.0), (5430, 0.0), (5431, 0.0), (5432, 0.0), (5433, 0.0), (5434, 0.0), (5435, 0.011576300442894469), (5436, 0.0), (5437, 0.0), (5438, 0.02431312093391494), (5439, 0.0), (5440, 0.010980605107323224), (5441, 0.0), (5442, 0.030419246384252065), (5443, 0.0), (5444, 0.016090066405708925), (5445, 0.0), (5446, 0.0), (5447, 0.0), (5448, 0.019363957322560812), (5449, 0.0), (5450, 0.0), (5451, 0.0), (5452, 0.008147796481365675), (5453, 0.012054545794049392), (5454, 0.0), (5455, 0.010665395417563997), (5456, 0.0), (5457, 0.0), (5458, 0.00799242892077337), (5459, 0.02841088179820391), (5460, 0.0), (5461, 0.0), (5462, 0.016954240844272685), (5463, 0.007855835211577691), (5464, 0.02504668313013727), (5465, 0.0), (5466, 0.0), (5467, 0.027611585918002595), (5468, 0.0), (5469, 0.07525122942707134), (5470, 0.00911051173454793), (5471, 0.0), (5472, 0.07095208561218863), (5473, 0.0), (5474, 0.034468844748637685), (5475, 0.0), (5476, 0.0), (5477, 0.01718604264715942), (5478, 0.0), (5479, 0.0), (5480, 0.0), (5481, 0.008693420400565668), (5482, 0.008062307227355287), (5483, 0.0), (5484, 0.0), (5485, 0.016883970885792854), (5486, 0.021733032250361724), (5487, 0.0), (5488, 0.033678805049299494), (5489, 0.041261021113536564), (5490, 0.0), (5491, 0.0), (5492, 0.006054273570157754), (5493, 0.0534964463578866), (5494, 0.014809943275614539), (5495, 0.0), (5496, 0.012168240373043688), (5497, 0.023441968688126095), (5498, 0.027665124227386127), (5499, 0.0), (5500, 0.0), (5501, 0.0), (5502, 0.0), (5503, 0.055552853142346995), (5504, 0.0), (5505, 0.0), (5506, 0.01938712802805052), (5507, 0.022160522654752622), (5508, 0.0), (5509, 0.0), (5510, 0.0), (5511, 0.0), (5512, 0.053036973636508916), (5513, 0.0), (5514, 0.0), (5515, 0.0), (5516, 0.0), (5517, 0.015598170295216669), (5518, 0.0), (5519, 0.010195374427162854), (5520, 0.009545922619111028), (5521, 0.0), (5522, 0.03602750894116242), (5523, 0.0), (5524, 0.0), (5525, 0.0), (5526, 0.0), (5527, 0.0), (5528, 0.0), (5529, 0.0), (5530, 0.0), (5531, 0.0), (5532, 0.0), (5533, 0.0), (5534, 0.02812371252189826), (5535, 0.009167160124345595), (5536, 0.048752007933301894), (5537, 0.0), (5538, 0.0), (5539, 0.0), (5540, 0.02483793391801067), (5541, 0.0), (5542, 0.0), (5543, 0.0), (5544, 0.009559811810479792), (5545, 0.0), (5546, 0.0), (5547, 0.0), (5548, 0.0), (5549, 0.01770309106023279), (5550, 0.01734605821327637), (5551, 0.0), (5552, 0.050014581235620637), (5553, 0.03498896281395894), (5554, 0.0133155794313464), (5555, 0.015065816752367043), (5556, 0.024014006773719874), (5557, 0.014008129180139975), (5558, 0.0), (5559, 0.005853625488041791), (5560, 0.008939804719866998), (5561, 0.0), (5562, 0.016379114408043592), (5563, 0.014678885863049135), (5564, 0.02762771407018976), (5565, 0.0), (5566, 0.08405353020317029), (5567, 0.0), (5568, 0.0), (5569, 0.011705841064253382), (5570, 0.0), (5571, 0.010100056449718842), (5572, 0.01978825070030869), (5573, 0.0), (5574, 0.0), (5575, 0.0), (5576, 0.0), (5577, 0.0), (5578, 0.0), (5579, 0.007673786989584181), (5580, 0.0), (5581, 0.0), (5582, 0.0), (5583, 0.0), (5584, 0.007805621682112077), (5585, 0.04732373622501735), (5586, 0.023762014344804273), (5587, 0.0), (5588, 0.0), (5589, 0.0), (5590, 0.014621961317089592), (5591, 0.028250330671367768), (5592, 0.02508798226389663), (5593, 0.010327033897476771), (5594, 0.0), (5595, 0.0), (5596, 0.022258998855433233), (5597, 0.010830812608238392), (5598, 0.012374682112021666), (5599, 0.0), (5600, 0.0), (5601, 0.01769502985576712), (5602, 0.0), (5603, 0.021089229086160826), (5604, 0.005761963079465349), (5605, 0.0), (5606, 0.009102765606836751), (5607, 0.0), (5608, 0.0), (5609, 0.0), (5610, 0.0), (5611, 0.0), (5612, 0.0), (5613, 0.0), (5614, 0.039256916294642945), (5615, 0.0), (5616, 0.0), (5617, 0.02727635132112334), (5618, 0.0), (5619, 0.007539275474492735), (5620, 0.010193428852227817), (5621, 0.0), (5622, 0.010845266074434933), (5623, 0.011441355011803819), (5624, 0.0), (5625, 0.0), (5626, 0.0), (5627, 0.01839920064844309), (5628, 0.006730171547882567), (5629, 0.0), (5630, 0.02662115901631285), (5631, 0.0), (5632, 0.0), (5633, 0.011589630961927444), (5634, 0.0), (5635, 0.04706603781939189), (5636, 0.0), (5637, 0.07150437490778924), (5638, 0.0), (5639, 0.0), (5640, 0.0), (5641, 0.0), (5642, 0.0), (5643, 0.025168097262619468), (5644, 0.03619737652928411), (5645, 0.0), (5646, 0.0), (5647, 0.0), (5648, 0.013735151123937096), (5649, 0.026699122459234215), (5650, 0.03084430161746298), (5651, 0.0), (5652, 0.0), (5653, 0.0), (5654, 0.056603388134944144), (5655, 0.0), (5656, 0.0), (5657, 0.022859262098737464), (5658, 0.02674939527729814), (5659, 0.15887642418341746), (5660, 0.0), (5661, 0.0), (5662, 0.027003785088460477), (5663, 0.02575922591123961), (5664, 0.009131270934612657), (5665, 0.0), (5666, 0.01856407520902235), (5667, 0.0), (5668, 0.0), (5669, 0.01217763462166731), (5670, 0.053015471086129945), (5671, 0.007336652531386929), (5672, 0.0), (5673, 0.0), (5674, 0.0), (5675, 0.0), (5676, 0.015184415528318515), (5677, 0.0320809433144425), (5678, 0.016325507366714023), (5679, 0.019864084820546576), (5680, 0.008968407460720007), (5681, 0.0), (5682, 0.0), (5683, 0.0), (5684, 0.0), (5685, 0.02378611110397422), (5686, 0.03328612875362698), (5687, 0.00914891878502292), (5688, 0.01701968726170017), (5689, 0.006688274709907766), (5690, 0.01647709330841951), (5691, 0.0), (5692, 0.03453280372202645), (5693, 0.014886376679650754), (5694, 0.029562705268806257), (5695, 0.0), (5696, 0.0), (5697, 0.006218286396752885), (5698, 0.0), (5699, 0.011732967090441637), (5700, 0.0176666744122962), (5701, 0.0), (5702, 0.03413486681607919), (5703, 0.035469906386337964), (5704, 0.015945607216495825), (5705, 0.0), (5706, 0.04141618972045188), (5707, 0.0), (5708, 0.0), (5709, 0.008391722124973884), (5710, 0.0), (5711, 0.0), (5712, 0.016798753344356453), (5713, 0.018980537261874198), (5714, 0.0), (5715, 0.0), (5716, 0.0), (5717, 0.013490360666202418), (5718, 0.0), (5719, 0.0), (5720, 0.0), (5721, 0.01285331810263705), (5722, 0.0324457825119486), (5723, 0.0), (5724, 0.009176439207109043), (5725, 0.0), (5726, 0.0), (5727, 0.018569982183031807), (5728, 0.0), (5729, 0.0), (5730, 0.03130604709521101), (5731, 0.0), (5732, 0.0222129434504063), (5733, 0.0), (5734, 0.055130368477407106), (5735, 0.008460398370526855), (5736, 0.02578449965335049), (5737, 0.024193731612849507), (5738, 0.022756145010979136), (5739, 0.019381400590686708), (5740, 0.018490465056260338), (5741, 0.0), (5742, 0.0), (5743, 0.0), (5744, 0.0), (5745, 0.0), (5746, 0.016064075306203986), (5747, 0.02648619331487327), (5748, 0.0), (5749, 0.0), (5750, 0.0), (5751, 0.0), (5752, 0.0), (5753, 0.0), (5754, 0.028586574698818708), (5755, 0.01141396569684925), (5756, 0.0), (5757, 0.0), (5758, 0.0), (5759, 0.028210085152802447), (5760, 0.0073169811171826), (5761, 0.0), (5762, 0.0), (5763, 0.030014935305165687), (5764, 0.025709666230946317), (5765, 0.011614813754092556), (5766, 0.0), (5767, 0.0), (5768, 0.016433423052786243), (5769, 0.01178262670017219), (5770, 0.0), (5771, 0.010782034024614485), (5772, 0.018221920983579477), (5773, 0.04264520441289982), (5774, 0.0), (5775, 0.0), (5776, 0.0), (5777, 0.0), (5778, 0.004764181768655251), (5779, 0.00439268702753213), (5780, 0.0), (5781, 0.0), (5782, 0.03582586982847805), (5783, 0.02770105554690249), (5784, 0.0), (5785, 0.006266948159064628), (5786, 0.0), (5787, 0.0), (5788, 0.025802677340998077), (5789, 0.0), (5790, 0.009644917794711704), (5791, 0.0), (5792, 0.00843688169022538), (5793, 0.01273077020416221), (5794, 0.0), (5795, 0.0), (5796, 0.0), (5797, 0.0), (5798, 0.016498857181785162), (5799, 0.0), (5800, 0.017083072923907667), (5801, 0.0), (5802, 0.0), (5803, 0.013281892883028062), (5804, 0.017077022099865204), (5805, 0.011722267242340038), (5806, 0.0), (5807, 0.012830090401055781), (5808, 0.01337820339184548), (5809, 0.031174013585038338), (5810, 0.022700584925451288), (5811, 0.0), (5812, 0.0344142322544519), (5813, 0.0), (5814, 0.0), (5815, 0.008579700094068459), (5816, 0.0), (5817, 0.011044591019526106), (5818, 0.04099267492394436), (5819, 0.01332133822021941), (5820, 0.0), (5821, 0.0), (5822, 0.029555038863040714), (5823, 0.01605233287935605), (5824, 0.0), (5825, 0.04813326948756406), (5826, 0.015191724015698543), (5827, 0.0), (5828, 0.0), (5829, 0.0), (5830, 0.005537342542819362), (5831, 0.0), (5832, 0.0), (5833, 0.0), (5834, 0.0), (5835, 0.015195092331689598), (5836, 0.008285764744795225), (5837, 0.05397534840334855), (5838, 0.0), (5839, 0.013915927142644372), (5840, 0.01592071506197958), (5841, 0.0), (5842, 0.0), (5843, 0.0), (5844, 0.0), (5845, 0.02417105317492837), (5846, 0.04291733608525787), (5847, 0.026230869780339866), (5848, 0.0), (5849, 0.0), (5850, 0.0), (5851, 0.0), (5852, 0.0), (5853, 0.0), (5854, 0.031112026972108867), (5855, 0.0), (5856, 0.02854299137681698), (5857, 0.0), (5858, 0.025910957330344778), (5859, 0.0), (5860, 0.0), (5861, 0.0), (5862, 0.013415040237942957), (5863, 0.0), (5864, 0.020125490120326446), (5865, 0.0), (5866, 0.014965246989606603), (5867, 0.016944044203355744), (5868, 0.011311132592380578), (5869, 0.015499027359005517), (5870, 0.014735146026546212), (5871, 0.012140815681750294), (5872, 0.0), (5873, 0.0), (5874, 0.0), (5875, 0.053895727566620436), (5876, 0.015342520525861634), (5877, 0.0), (5878, 0.03342342512758338), (5879, 0.027085589839015465), (5880, 0.03248999327268873), (5881, 0.0), (5882, 0.00881750709242276), (5883, 0.0), (5884, 0.0), (5885, 0.0), (5886, 0.0), (5887, 0.017202027184898116), (5888, 0.017500213277886572), (5889, 0.04726573734684411), (5890, 0.0), (5891, 0.02073958257802295), (5892, 0.02564591719633598), (5893, 0.010748805971138151), (5894, 0.0), (5895, 0.07210904155562343), (5896, 0.0073260364631789416), (5897, 0.016101250960642265), (5898, 0.0), (5899, 0.0), (5900, 0.0), (5901, 0.0), (5902, 0.0), (5903, 0.011643004080203193), (5904, 0.02506656550089079), (5905, 0.0), (5906, 0.0), (5907, 0.0), (5908, 0.0), (5909, 0.0), (5910, 0.0104817589879471), (5911, 0.0), (5912, 0.01340648786559568), (5913, 0.0), (5914, 0.02405229773818566), (5915, 0.0), (5916, 0.0), (5917, 0.014181727563302639), (5918, 0.008196895043752832), (5919, 0.029993641493788276), (5920, 0.0), (5921, 0.0), (5922, 0.0), (5923, 0.0), (5924, 0.0), (5925, 0.011424160189510021), (5926, 0.008161299409332405), (5927, 0.028811105914853474), (5928, 0.012593200253914236), (5929, 0.019813095610336454), (5930, 0.0), (5931, 0.0), (5932, 0.0), (5933, 0.0), (5934, 0.0), (5935, 0.0), (5936, 0.04024909670295735), (5937, 0.02506838456408919), (5938, 0.0), (5939, 0.0), (5940, 0.0), (5941, 0.0), (5942, 0.04551355268691839), (5943, 0.07356855893330987), (5944, 0.03516780780260245), (5945, 0.017618998256714345), (5946, 0.019587022804169126), (5947, 0.012775467917483378), (5948, 0.0415756024346109), (5949, 0.01834072354671405), (5950, 0.007019837422341699), (5951, 0.0), (5952, 0.0), (5953, 0.0), (5954, 0.0), (5955, 0.0), (5956, 0.0), (5957, 0.06285789741895535), (5958, 0.03786151440934934), (5959, 0.02260745352024734), (5960, 0.0), (5961, 0.03764826218060015), (5962, 0.007978271463903126), (5963, 0.0), (5964, 0.0), (5965, 0.0), (5966, 0.0), (5967, 0.0), (5968, 0.0), (5969, 0.020103667050961713), (5970, 0.01574834628918617), (5971, 0.0), (5972, 0.007685149196833164), (5973, 0.0), (5974, 0.01581563644418206), (5975, 0.024256879480327224), (5976, 0.012678340011466298), (5977, 0.0), (5978, 0.004541643043232377), (5979, 0.0), (5980, 0.0), (5981, 0.011233165073876917), (5982, 0.0), (5983, 0.015450559186036264), (5984, 0.0), (5985, 0.014701996020775217), (5986, 0.0), (5987, 0.02774817413391226), (5988, 0.023228584053360368), (5989, 0.0), (5990, 0.03505535342386263), (5991, 0.0), (5992, 0.010235366756163343), (5993, 0.0), (5994, 0.017657793322421247), (5995, 0.0), (5996, 0.0), (5997, 0.0), (5998, 0.03162416532574454), (5999, 0.0), (6000, 0.028110753091370313), (6001, 0.0), (6002, 0.0), (6003, 0.0), (6004, 0.008454291737324964), (6005, 0.0), (6006, 0.015211772679663593), (6007, 0.0), (6008, 0.030281394780749437), (6009, 0.012847824576190915), (6010, 0.05935789070888662), (6011, 0.0), (6012, 0.0), (6013, 0.0), (6014, 0.042738724717399326), (6015, 0.0), (6016, 0.0), (6017, 0.009996285611489724), (6018, 0.010393672336490084), (6019, 0.0), (6020, 0.012425833240786447), (6021, 0.03287083773686538), (6022, 0.018595065631486166), (6023, 0.03199351725589706), (6024, 0.011899782841758168), (6025, 0.0), (6026, 0.0), (6027, 0.0), (6028, 0.013516370426753938), (6029, 0.019348656353156052), (6030, 0.0), (6031, 0.015499472697889176), (6032, 0.006908816981801577), (6033, 0.0), (6034, 0.0), (6035, 0.0), (6036, 0.0), (6037, 0.007970183400708276), (6038, 0.0), (6039, 0.0), (6040, 0.008878431157086086), (6041, 0.007641880956416987), (6042, 0.0), (6043, 0.0), (6044, 0.010128577219901467), (6045, 0.03577521967504328), (6046, 0.0), (6047, 0.0), (6048, 0.0), (6049, 0.0), (6050, 0.0), (6051, 0.0), (6052, 0.0), (6053, 0.027077292262621764), (6054, 0.0), (6055, 0.0), (6056, 0.007917190037248235), (6057, 0.0), (6058, 0.0), (6059, 0.0), (6060, 0.005927342117662112), (6061, 0.012608934128098551), (6062, 0.054898280901518784), (6063, 0.0), (6064, 0.0), (6065, 0.015310952401723109), (6066, 0.0), (6067, 0.0), (6068, 0.0), (6069, 0.009166064361085979), (6070, 0.02018430372526646), (6071, 0.0), (6072, 0.0), (6073, 0.0), (6074, 0.014272598380045062), (6075, 0.0), (6076, 0.0), (6077, 0.0), (6078, 0.0), (6079, 0.0), (6080, 0.013519838042274841), (6081, 0.0), (6082, 0.0), (6083, 0.013535974627677725), (6084, 0.0), (6085, 0.0), (6086, 0.0), (6087, 0.013188496831747741), (6088, 0.0), (6089, 0.0), (6090, 0.030699120322978963), (6091, 0.0068606841057217835), (6092, 0.0), (6093, 0.0), (6094, 0.0), (6095, 0.012941361537007302), (6096, 0.017650049305682175), (6097, 0.0), (6098, 0.0), (6099, 0.0), (6100, 0.0), (6101, 0.01913666657907247), (6102, 0.026526727433993025), (6103, 0.0), (6104, 0.0), (6105, 0.0), (6106, 0.017025560797556526), (6107, 0.0), (6108, 0.0), (6109, 0.010814490448221806), (6110, 0.0), (6111, 0.0), (6112, 0.010829323409630621), (6113, 0.0124650508719709), (6114, 0.01571008681629736), (6115, 0.0), (6116, 0.0), (6117, 0.007942968203686708), (6118, 0.0), (6119, 0.005930132211831817), (6120, 0.009323923368114792), (6121, 0.018552723868232625), (6122, 0.014402962716821722), (6123, 0.02310913340911184), (6124, 0.03540942701294806), (6125, 0.0), (6126, 0.0), (6127, 0.05267560988406527), (6128, 0.007115623766728704), (6129, 0.0), (6130, 0.02870105867923307), (6131, 0.001792676265140336), (6132, 0.0), (6133, 0.0), (6134, 0.012411125049051916), (6135, 0.0), (6136, 0.0), (6137, 0.0), (6138, 0.019404541346074018), (6139, 0.0), (6140, 0.2003912437341397), (6141, 0.0), (6142, 0.0), (6143, 0.0), (6144, 0.0), (6145, 0.0), (6146, 0.0), (6147, 0.0), (6148, 0.0), (6149, 0.0), (6150, 0.0), (6151, 0.0), (6152, 0.0), (6153, 0.019127932629810187), (6154, 0.0), (6155, 0.0), (6156, 0.0), (6157, 0.0), (6158, 0.0), (6159, 0.0), (6160, 0.0), (6161, 0.0), (6162, 0.0), (6163, 0.02554040095366108), (6164, 0.0), (6165, 0.006102369173078498), (6166, 0.0), (6167, 0.0), (6168, 0.0), (6169, 0.031430458899968025), (6170, 0.00649772488856112), (6171, 0.023036210256349793), (6172, 0.007646804004073207), (6173, 0.0), (6174, 0.0393006492154404), (6175, 0.034433196640332356), (6176, 0.0064963652017971186), (6177, 0.0), (6178, 0.0), (6179, 0.0), (6180, 0.018534871080583697), (6181, 0.0213047229256143), (6182, 0.031279986185181775), (6183, 0.0), (6184, 0.01247690315376254), (6185, 0.03157751655204247), (6186, 0.0), (6187, 0.008372239188813685), (6188, 0.01380734188959548), (6189, 0.0), (6190, 0.0), (6191, 0.0), (6192, 0.0), (6193, 0.0), (6194, 0.0), (6195, 0.007420742879090698), (6196, 0.008049422639983619), (6197, 0.0), (6198, 0.0), (6199, 0.0), (6200, 0.0), (6201, 0.007328053210081647), (6202, 0.0), (6203, 0.0), (6204, 0.0), (6205, 0.011125434461758784), (6206, 0.0), (6207, 0.0), (6208, 0.0), (6209, 0.0), (6210, 0.0), (6211, 0.00956072317455163), (6212, 0.0), (6213, 0.07454283111306308), (6214, 0.0), (6215, 0.0), (6216, 0.0), (6217, 0.09718284298676545), (6218, 0.0), (6219, 0.0), (6220, 0.0), (6221, 0.0), (6222, 0.03499221513742745), (6223, 0.09019619497620335), (6224, 0.0), (6225, 0.0), (6226, 0.006939576583282439), (6227, 0.0), (6228, 0.01020863765817405), (6229, 0.0), (6230, 0.05752350378707515), (6231, 0.0), (6232, 0.04781181709458729), (6233, 0.0), (6234, 0.04876852146047157), (6235, 0.0), (6236, 0.020132461491315798), (6237, 0.0), (6238, 0.0), (6239, 0.0065030452614515755), (6240, 0.024863322569116466), (6241, 0.016540298029650777), (6242, 0.0), (6243, 0.008252726853735173), (6244, 0.0), (6245, 0.007179234098326784), (6246, 0.02318992407377256), (6247, 0.01826179716325685), (6248, 0.0), (6249, 0.0), (6250, 0.061962205675525246), (6251, 0.0), (6252, 0.0), (6253, 0.0), (6254, 0.0), (6255, 0.0), (6256, 0.010830585057797984), (6257, 0.0), (6258, 0.0), (6259, 0.0), (6260, 0.0), (6261, 0.029761038944817943), (6262, 0.0), (6263, 0.0), (6264, 0.0), (6265, 0.0), (6266, 0.0), (6267, 0.0), (6268, 0.032102050334889186), (6269, 0.0), (6270, 0.0), (6271, 0.026513860523126112), (6272, 0.012160570672007064), (6273, 0.03000057351710288), (6274, 0.0), (6275, 0.013928543850908724), (6276, 0.013548624482923344), (6277, 0.0), (6278, 0.0), (6279, 0.0), (6280, 0.0), (6281, 0.005731859032435284), (6282, 0.017436199710765377), (6283, 0.0), (6284, 0.008515024056996334), (6285, 0.08207758426542938), (6286, 0.049566784563031874), (6287, 0.0), (6288, 0.0), (6289, 0.0), (6290, 0.03710190686504296), (6291, 0.01278328066225852), (6292, 0.0), (6293, 0.014098806827898125), (6294, 0.0), (6295, 0.0), (6296, 0.0), (6297, 0.038378239365705766), (6298, 0.0042635771831323905), (6299, 0.0), (6300, 0.013832828309035452), (6301, 0.012154573315226198), (6302, 0.013068916785590546), (6303, 0.0), (6304, 0.0), (6305, 0.0), (6306, 0.01554710491416119), (6307, 0.006519517098345769), (6308, 0.0), (6309, 0.020544574122847256), (6310, 0.0), (6311, 0.0), (6312, 0.015383206822431047), (6313, 0.009780930649372892), (6314, 0.011490300834797164), (6315, 0.0), (6316, 0.024855487507550407), (6317, 0.034826856838104464), (6318, 0.0), (6319, 0.0), (6320, 0.0), (6321, 0.013308906149849595), (6322, 0.0), (6323, 0.009388818362367348), (6324, 0.0), (6325, 0.0), (6326, 0.04382754719251494), (6327, 0.0), (6328, 0.0), (6329, 0.0), (6330, 0.009160374547765367), (6331, 0.006758654311678242), (6332, 0.0), (6333, 0.0), (6334, 0.0), (6335, 0.06363895759030427), (6336, 0.0), (6337, 0.011440407816719936), (6338, 0.0), (6339, 0.0), (6340, 0.00943956311833326), (6341, 0.012947526194494813), (6342, 0.031113792294376344), (6343, 0.0), (6344, 0.006471209896801165), (6345, 0.008536776955345606), (6346, 0.0), (6347, 0.0), (6348, 0.0), (6349, 0.007984933159559634), (6350, 0.009503343278604331), (6351, 0.0), (6352, 0.0), (6353, 0.0), (6354, 0.011151207705319221), (6355, 0.05336674174468489), (6356, 0.029100572760589288), (6357, 0.05762975083468137), (6358, 0.0), (6359, 0.018624995186940947), (6360, 0.0), (6361, 0.0), (6362, 0.0), (6363, 0.0), (6364, 0.01260887780424485), (6365, 0.0), (6366, 0.0), (6367, 0.017077022099865204), (6368, 0.0162568205578918), (6369, 0.0), (6370, 0.05387803282470694), (6371, 0.0), (6372, 0.00794878112723885), (6373, 0.017077022099865204), (6374, 0.022231556902592965), (6375, 0.011200270956662333), (6376, 0.0), (6377, 0.03603863733411754), (6378, 0.009173235281049904), (6379, 0.013245464807014664), (6380, 0.016537670163335478), (6381, 0.0), (6382, 0.0), (6383, 0.0), (6384, 0.01118402420519359), (6385, 0.0), (6386, 0.021722432591138725), (6387, 0.0), (6388, 0.0), (6389, 0.018408091928533384), (6390, 0.017229313106417284), (6391, 0.0), (6392, 0.029205637252434448), (6393, 0.0), (6394, 0.0), (6395, 0.0), (6396, 0.02044536728843951), (6397, 0.0), (6398, 0.0), (6399, 0.0), (6400, 0.009911906145275307), (6401, 0.021166365961812837), (6402, 0.050437963905179434), (6403, 0.0), (6404, 0.017418929431914174), (6405, 0.010990172586731004), (6406, 0.0068061594917753565), (6407, 0.0225084174893248), (6408, 0.0), (6409, 0.007935817200934314), (6410, 0.0), (6411, 0.0), (6412, 0.008658666486334263), (6413, 0.04097152003866704), (6414, 0.023815184681539734), (6415, 0.013734734303064117), (6416, 0.0), (6417, 0.0), (6418, 0.0), (6419, 0.0), (6420, 0.0), (6421, 0.0), (6422, 0.014856746551266784), (6423, 0.012579494169379838), (6424, 0.0), (6425, 0.02028497306760385), (6426, 0.0), (6427, 0.0), (6428, 0.0), (6429, 0.0), (6430, 0.0), (6431, 0.0), (6432, 0.0), (6433, 0.0), (6434, 0.0), (6435, 0.0), (6436, 0.0), (6437, 0.011059599967741312), (6438, 0.0), (6439, 0.0), (6440, 0.009299698273807132), (6441, 0.020983421935596387), (6442, 0.0), (6443, 0.0), (6444, 0.0), (6445, 0.0), (6446, 0.0), (6447, 0.0), (6448, 0.0), (6449, 0.04701489756023973), (6450, 0.0), (6451, 0.03140880129447786), (6452, 0.0), (6453, 0.022699374094128824), (6454, 0.0), (6455, 0.0), (6456, 0.0), (6457, 0.02504577726945823), (6458, 0.011154097219335987), (6459, 0.0), (6460, 0.0), (6461, 0.0), (6462, 0.0), (6463, 0.0), (6464, 0.0), (6465, 0.04574136842130183), (6466, 0.0), (6467, 0.0), (6468, 0.020342955042375127), (6469, 0.0), (6470, 0.014271504343283498), (6471, 0.026420643323475334), (6472, 0.0), (6473, 0.0), (6474, 0.044790057412060186), (6475, 0.0), (6476, 0.012511962654915283), (6477, 0.0), (6478, 0.0), (6479, 0.0), (6480, 0.014225605092550365), (6481, 0.0), (6482, 0.009212990503275379), (6483, 0.01610722613208083), (6484, 0.0), (6485, 0.0), (6486, 0.008025201475223774), (6487, 0.0), (6488, 0.0), (6489, 0.0), (6490, 0.012106804775445231), (6491, 0.049864767075949355), (6492, 0.0), (6493, 0.03423140617176027), (6494, 0.01657515864318931), (6495, 0.0), (6496, 0.07813093003005424), (6497, 0.0), (6498, 0.009506585980382851), (6499, 0.0), (6500, 0.012471627894551796), (6501, 0.050072373005248305), (6502, 0.008766425803380643), (6503, 0.02879615710473841), (6504, 0.0), (6505, 0.0), (6506, 0.0), (6507, 0.0), (6508, 0.07058947907167734), (6509, 0.0), (6510, 0.025558625393143023), (6511, 0.030451645513677673), (6512, 0.09736512706637938), (6513, 0.0), (6514, 0.0), (6515, 0.0), (6516, 0.018065480261281866), (6517, 0.007397907294722581), (6518, 0.0), (6519, 0.0), (6520, 0.0), (6521, 0.06884792969863318), (6522, 0.0), (6523, 0.0), (6524, 0.0), (6525, 0.0), (6526, 0.0), (6527, 0.0), (6528, 0.0), (6529, 0.0), (6530, 0.011997330692231743), (6531, 0.023631190423717127), (6532, 0.0), (6533, 0.012024315261226734), (6534, 0.0), (6535, 0.0), (6536, 0.0), (6537, 0.04110042513651237), (6538, 0.018303047928025416), (6539, 0.014030068164985136), (6540, 0.00626636404080584), (6541, 0.0), (6542, 0.0), (6543, 0.0), (6544, 0.02078693288808065), (6545, 0.0), (6546, 0.04002298584665553), (6547, 0.010499858430902021), (6548, 0.013285669268712875), (6549, 0.0), (6550, 0.0), (6551, 0.0), (6552, 0.03799739113298463), (6553, 0.0), (6554, 0.026900847859479257), (6555, 0.004041421371863743), (6556, 0.021349951434185423), (6557, 0.0), (6558, 0.0), (6559, 0.01605233287935605), (6560, 0.0), (6561, 0.016174982841876025), (6562, 0.0), (6563, 0.03399662371945443), (6564, 0.0), (6565, 0.0), (6566, 0.02246313834991996), (6567, 0.0), (6568, 0.0), (6569, 0.0), (6570, 0.008781372739768364), (6571, 0.0), (6572, 0.01394440208293295), (6573, 0.0), (6574, 0.03815880033206218), (6575, 0.014649693031850923), (6576, 0.0), (6577, 0.0), (6578, 0.031204269648234983), (6579, 0.0), (6580, 0.0), (6581, 0.017059260985785793), (6582, 0.012634860910568972), (6583, 0.012688517151808612), (6584, 0.0), (6585, 0.0), (6586, 0.0), (6587, 0.017735628879612258), (6588, 0.03444477089059756), (6589, 0.0), (6590, 0.0), (6591, 0.024359013444703863), (6592, 0.0), (6593, 0.0), (6594, 0.010001959176202804), (6595, 0.03669430655052018), (6596, 0.0063346415194959205), (6597, 0.0), (6598, 0.0), (6599, 0.0), (6600, 0.0), (6601, 0.007772598062301453), (6602, 0.01723852180166874), (6603, 0.0), (6604, 0.02695379398113069), (6605, 0.0), (6606, 0.0), (6607, 0.0), (6608, 0.0), (6609, 0.0), (6610, 0.004158340394734065), (6611, 0.023263149836989568), (6612, 0.018678287762242504), (6613, 0.03752803227651559), (6614, 0.01934658971728442), (6615, 0.0), (6616, 0.0), (6617, 0.0), (6618, 0.0), (6619, 0.003945355193653924), (6620, 0.0), (6621, 0.02748381246894513), (6622, 0.0), (6623, 0.0), (6624, 0.0), (6625, 0.0), (6626, 0.013327779869957519), (6627, 0.0), (6628, 0.01252076926469171), (6629, 0.0), (6630, 0.030672070599557982), (6631, 0.0), (6632, 0.0), (6633, 0.0), (6634, 0.013438580810058874), (6635, 0.02504577726945823), (6636, 0.0), (6637, 0.0), (6638, 0.011280469488012094), (6639, 0.0), (6640, 0.0), (6641, 0.0), (6642, 0.0), (6643, 0.0), (6644, 0.0), (6645, 0.013124288307596783), (6646, 0.019711188226915952), (6647, 0.0), (6648, 0.02510278461605406), (6649, 0.0), (6650, 0.0299190439947878), (6651, 0.009605117297424096), (6652, 0.0), (6653, 0.0), (6654, 0.0), (6655, 0.026528411400342993), (6656, 0.0), (6657, 0.0), (6658, 0.0), (6659, 0.0), (6660, 0.0), (6661, 0.0), (6662, 0.014901491799710996), (6663, 0.022670451905569274), (6664, 0.056056290350140675), (6665, 0.0477255892466899), (6666, 0.0), (6667, 0.032277752884079934), (6668, 0.0), (6669, 0.0), (6670, 0.0), (6671, 0.009876857485469999), (6672, 0.0), (6673, 0.0), (6674, 0.0), (6675, 0.0), (6676, 0.04438727111967028), (6677, 0.05776667947236533), (6678, 0.0), (6679, 0.0), (6680, 0.008650442020395874), (6681, 0.0), (6682, 0.007753265578066058), (6683, 0.0), (6684, 0.0), (6685, 0.012588064024478958), (6686, 0.0), (6687, 0.0), (6688, 0.04387363696509483), (6689, 0.010137264392430291), (6690, 0.0), (6691, 0.0), (6692, 0.0), (6693, 0.00815443028539465), (6694, 0.0), (6695, 0.0), (6696, 0.0), (6697, 0.0), (6698, 0.0), (6699, 0.0), (6700, 0.005628100817701612), (6701, 0.0), (6702, 0.0), (6703, 0.013919202620218377), (6704, 0.0), (6705, 0.008288645855164537), (6706, 0.0), (6707, 0.015585661295052376), (6708, 0.0), (6709, 0.0), (6710, 0.01769784411620126), (6711, 0.07145306632795372), (6712, 0.0), (6713, 0.018872270349220756), (6714, 0.0), (6715, 0.0), (6716, 0.0), (6717, 0.0749550175319661), (6718, 0.015903388575950524), (6719, 0.0), (6720, 0.014739987809611674), (6721, 0.0), (6722, 0.0), (6723, 0.0), (6724, 0.012522866429372378), (6725, 0.0), (6726, 0.030344829285301793), (6727, 0.0), (6728, 0.01589203544453122), (6729, 0.013234916397276529), (6730, 0.021479638361421284), (6731, 0.0), (6732, 0.0), (6733, 0.0), (6734, 0.0), (6735, 0.0), (6736, 0.036537587351953685), (6737, 0.0), (6738, 0.0), (6739, 0.021078087974404004), (6740, 0.0), (6741, 0.0), (6742, 0.0), (6743, 0.017378146193475295), (6744, 0.0), (6745, 0.0), (6746, 0.04140841513599077), (6747, 0.0), (6748, 0.04815446474359884), (6749, 0.0), (6750, 0.0), (6751, 0.0), (6752, 0.01232071853895245), (6753, 0.0), (6754, 0.016544241101293208), (6755, 0.0), (6756, 0.012126078760616327), (6757, 0.0), (6758, 0.0), (6759, 0.020018447458864642), (6760, 0.015138019332395874), (6761, 0.0), (6762, 0.0), (6763, 0.0), (6764, 0.0), (6765, 0.0), (6766, 0.00914848679318318), (6767, 0.011123480796869797), (6768, 0.0), (6769, 0.0), (6770, 0.0), (6771, 0.0), (6772, 0.0), (6773, 0.0), (6774, 0.010620552953867622), (6775, 0.015531165575944207), (6776, 0.0), (6777, 0.012455405216600199), (6778, 0.0), (6779, 0.0), (6780, 0.009905023726846995), (6781, 0.01697453474770156), (6782, 0.0), (6783, 0.00987171215489964), (6784, 0.012853204014969345), (6785, 0.0), (6786, 0.015075605177592504), (6787, 0.0), (6788, 0.0), (6789, 0.013725620920927164), (6790, 0.0), (6791, 0.0), (6792, 0.010055655534941168), (6793, 0.0), (6794, 0.037356996519749566), (6795, 0.009350554329084354), (6796, 0.007777106357007168), (6797, 0.0), (6798, 0.045585388322017806), (6799, 0.0), (6800, 0.0), (6801, 0.0), (6802, 0.014204206407702867), (6803, 0.02848889795975027), (6804, 0.01083113582752719), (6805, 0.0), (6806, 0.0), (6807, 0.0), (6808, 0.050892484430592994), (6809, 0.023262708709030078), (6810, 0.0), (6811, 0.0), (6812, 0.0), (6813, 0.06746330932269601), (6814, 0.0), (6815, 0.0), (6816, 0.0), (6817, 0.0), (6818, 0.02559107744894186), (6819, 0.00804920557775934), (6820, 0.0), (6821, 0.013035975777529971), (6822, 0.0), (6823, 0.034655083692660626), (6824, 0.0196670932367891), (6825, 0.0), (6826, 0.0), (6827, 0.0), (6828, 0.013214940226402086), (6829, 0.046637449854116074), (6830, 0.0), (6831, 0.0302105971212146), (6832, 0.0), (6833, 0.0), (6834, 0.009736757189013092), (6835, 0.0), (6836, 0.04043423963200272), (6837, 0.0), (6838, 0.0), (6839, 0.0), (6840, 0.0), (6841, 0.04597208809579992), (6842, 0.0), (6843, 0.00864632814634907), (6844, 0.0), (6845, 0.011583029131514405), (6846, 0.0), (6847, 0.0), (6848, 0.0), (6849, 0.007512055594653512), (6850, 0.0), (6851, 0.0), (6852, 0.0), (6853, 0.03891650241277439), (6854, 0.0), (6855, 0.0), (6856, 0.011968691008235381), (6857, 0.0), (6858, 0.0), (6859, 0.0), (6860, 0.0), (6861, 0.005824643168983919), (6862, 0.0), (6863, 0.011291980779361934), (6864, 0.0), (6865, 0.0), (6866, 0.0), (6867, 0.020207295960272022), (6868, 0.0), (6869, 0.05844968836948179), (6870, 0.012747520635355539), (6871, 0.0), (6872, 0.023043760318537353), (6873, 0.025906297717488563), (6874, 0.024766849413341296), (6875, 0.0), (6876, 0.030685309403978282), (6877, 0.0), (6878, 0.007451270287514777), (6879, 0.0), (6880, 0.0), (6881, 0.0), (6882, 0.010171222071087224), (6883, 0.0063138731590892585), (6884, 0.03633455865748242), (6885, 0.0), (6886, 0.008808592809911512), (6887, 0.0), (6888, 0.02061479870747121), (6889, 0.010382477348928824), (6890, 0.006631968013228185), (6891, 0.012686330685725451), (6892, 0.018299353985427425), (6893, 0.0), (6894, 0.014319892461039464), (6895, 0.0), (6896, 0.0), (6897, 0.0), (6898, 0.0), (6899, 0.0), (6900, 0.04756130267896421), (6901, 0.0), (6902, 0.0), (6903, 0.0), (6904, 0.00889624308261), (6905, 0.0), (6906, 0.0), (6907, 0.0), (6908, 0.0062840220258356125), (6909, 0.0), (6910, 0.009701546445314855), (6911, 0.0), (6912, 0.009403909311287068), (6913, 0.009846800284054734), (6914, 0.02444412554870854), (6915, 0.0), (6916, 0.0), (6917, 0.009128822022201744), (6918, 0.0), (6919, 0.0), (6920, 0.008478115212780307), (6921, 0.0), (6922, 0.0), (6923, 0.03052549426467019), (6924, 0.0), (6925, 0.0), (6926, 0.0), (6927, 0.014604764055463638), (6928, 0.0), (6929, 0.0), (6930, 0.03132933166382148), (6931, 0.03151520318838252), (6932, 0.0), (6933, 0.0), (6934, 0.0), (6935, 0.0), (6936, 0.012195610485849141), (6937, 0.02084465536132294), (6938, 0.0068319870150162255), (6939, 0.0), (6940, 0.0), (6941, 0.0), (6942, 0.011600409377416515), (6943, 0.06038390684957933), (6944, 0.035845270486204034), (6945, 0.0), (6946, 0.0), (6947, 0.0), (6948, 0.0), (6949, 0.0), (6950, 0.011819549735443276), (6951, 0.0), (6952, 0.0), (6953, 0.014813223402969476), (6954, 0.0), (6955, 0.0), (6956, 0.0), (6957, 0.0), (6958, 0.0), (6959, 0.016619777091798574), (6960, 0.013823228535606623), (6961, 0.026911092964217537), (6962, 0.0), (6963, 0.0), (6964, 0.06272692901140062), (6965, 0.005941590170211018), (6966, 0.0157187890442144), (6967, 0.0), (6968, 0.0), (6969, 0.0), (6970, 0.0), (6971, 0.0), (6972, 0.00986582946322861), (6973, 0.0), (6974, 0.0), (6975, 0.008988678398354126), (6976, 0.0), (6977, 0.005650290558630149), (6978, 0.027365909706061457), (6979, 0.01576986058828413), (6980, 0.019999981627490095), (6981, 0.02136779327124925), (6982, 0.0), (6983, 0.027758207047004914), (6984, 0.0), (6985, 0.013737093638930685), (6986, 0.0), (6987, 0.009379570707684323), (6988, 0.0), (6989, 0.008939096375207713), (6990, 0.0), (6991, 0.0), (6992, 0.0), (6993, 0.0), (6994, 0.0), (6995, 0.05211128722777538), (6996, 0.0), (6997, 0.011447663860633488), (6998, 0.0), (6999, 0.0), (7000, 0.01095648548488781), (7001, 0.0), (7002, 0.01694837191666385), (7003, 0.0), (7004, 0.014628051062555185), (7005, 0.018716293305350587), (7006, 0.0), (7007, 0.0), (7008, 0.0), (7009, 0.008121208236724705), (7010, 0.0), (7011, 0.030951474316246223), (7012, 0.0), (7013, 0.0), (7014, 0.028044686804254152), (7015, 0.004059832344086192), (7016, 0.0), (7017, 0.08602830168334893), (7018, 0.0), (7019, 0.0), (7020, 0.01522507495508979), (7021, 0.0), (7022, 0.0), (7023, 0.0), (7024, 0.02557527842517479), (7025, 0.0), (7026, 0.0), (7027, 0.012125357683998242), (7028, 0.009194208182468988), (7029, 0.0), (7030, 0.008101141804848921), (7031, 0.0), (7032, 0.02471350881367529), (7033, 0.01761765822887042), (7034, 0.0403556559811601), (7035, 0.013578481711165803), (7036, 0.03263931885967333), (7037, 0.0), (7038, 0.0), (7039, 0.0), (7040, 0.0), (7041, 0.0), (7042, 0.0), (7043, 0.0), (7044, 0.006921785937984302), (7045, 0.05736043031036562), (7046, 0.014840412258863775), (7047, 0.0), (7048, 0.010525283233040889), (7049, 0.0), (7050, 0.0), (7051, 0.0), (7052, 0.0), (7053, 0.01051548979463252), (7054, 0.0), (7055, 0.009403969138381424), (7056, 0.0), (7057, 0.024169553948621986), (7058, 0.01836181655469984), (7059, 0.010073225288328458), (7060, 0.0), (7061, 0.0), (7062, 0.0), (7063, 0.03255946244006673), (7064, 0.0), (7065, 0.0), (7066, 0.0), (7067, 0.01083833747370369), (7068, 0.0), (7069, 0.0), (7070, 0.0), (7071, 0.02213992136357925), (7072, 0.0), (7073, 0.0), (7074, 0.022855705595931537), (7075, 0.0237427408471264), (7076, 0.0), (7077, 0.014322925477347623), (7078, 0.0), (7079, 0.0), (7080, 0.0), (7081, 0.0), (7082, 0.006243241428417226), (7083, 0.0), (7084, 0.0), (7085, 0.023710539175098348), (7086, 0.0), (7087, 0.022890415683439233), (7088, 0.009246437933707677), (7089, 0.0), (7090, 0.0), (7091, 0.0), (7092, 0.012123331093753), (7093, 0.03073717674111521), (7094, 0.0), (7095, 0.0), (7096, 0.0), (7097, 0.0), (7098, 0.0), (7099, 0.0), (7100, 0.007843448219241253), (7101, 0.0), (7102, 0.054662139564297815), (7103, 0.0), (7104, 0.01860673832532695), (7105, 0.019584304050573605), (7106, 0.0), (7107, 0.024472677295162417), (7108, 0.022858214351632915), (7109, 0.0), (7110, 0.02469655503786616), (7111, 0.02499668567080192), (7112, 0.0), (7113, 0.0), (7114, 0.026159908860663043), (7115, 0.0), (7116, 0.013028703283566787), (7117, 0.027663828090342905), (7118, 0.01897751145233846), (7119, 0.021198610044737803), (7120, 0.01657656739314061), (7121, 0.011845488412340944), (7122, 0.0), (7123, 0.04775729377237235), (7124, 0.03271797352312551), (7125, 0.0), (7126, 0.015144754369145455), (7127, 0.026147177022708756), (7128, 0.008146122375441104), (7129, 0.0), (7130, 0.03628616231022596), (7131, 0.0), (7132, 0.0), (7133, 0.017279265010091097), (7134, 0.023072560100070912), (7135, 0.0), (7136, 0.09792009286589017), (7137, 0.014555153293688115), (7138, 0.0), (7139, 0.0), (7140, 0.0), (7141, 0.0), (7142, 0.0), (7143, 0.035970847245173), (7144, 0.0), (7145, 0.01894327116269193), (7146, 0.02099955272515006), (7147, 0.0), (7148, 0.03924515668017757), (7149, 0.0), (7150, 0.015630806959649034), (7151, 0.012333674698063648), (7152, 0.0), (7153, 0.0), (7154, 0.005149640867274433), (7155, 0.012358047358012596), (7156, 0.0), (7157, 0.0), (7158, 0.0), (7159, 0.0), (7160, 0.0), (7161, 0.04772403958292227), (7162, 0.0), (7163, 0.0), (7164, 0.0), (7165, 0.02638564486798344), (7166, 0.0), (7167, 0.0), (7168, 0.0), (7169, 0.0236928057418527), (7170, 0.010510877851392444), (7171, 0.0), (7172, 0.0), (7173, 0.0), (7174, 0.0), (7175, 0.0), (7176, 0.0), (7177, 0.0), (7178, 0.037342517399184115), (7179, 0.03911696931401001), (7180, 0.018286625642030038), (7181, 0.00785238660722413), (7182, 0.0), (7183, 0.0), (7184, 0.032636740625685876), (7185, 0.0), (7186, 0.049490371729515974), (7187, 0.0), (7188, 0.014220592464904837), (7189, 0.0), (7190, 0.013707187520775488), (7191, 0.014528320912409546), (7192, 0.025919859074899083), (7193, 0.02337655135842047), (7194, 0.033672751801038917), (7195, 0.0), (7196, 0.0183725740136039), (7197, 0.0), (7198, 0.03413730941566427), (7199, 0.0), (7200, 0.0), (7201, 0.0), (7202, 0.0), (7203, 0.00817352514495217), (7204, 0.027844121401992872), (7205, 0.017892765499857414), (7206, 0.0), (7207, 0.0), (7208, 0.02108832740430084), (7209, 0.0), (7210, 0.0), (7211, 0.0), (7212, 0.0), (7213, 0.02654243101256612), (7214, 0.020405741640998325), (7215, 0.006521385411800384), (7216, 0.0), (7217, 0.011986403310545393), (7218, 0.01161190302533086), (7219, 0.0), (7220, 0.0), (7221, 0.013560212652658847), (7222, 0.011633383509748923), (7223, 0.0), (7224, 0.01641449054096938), (7225, 0.007440295971737747), (7226, 0.017353185767776724), (7227, 0.0), (7228, 0.022600650248217134), (7229, 0.0), (7230, 0.0), (7231, 0.0), (7232, 0.019542827124306394), (7233, 0.0), (7234, 0.010887345171443312), (7235, 0.0185613599993751), (7236, 0.0), (7237, 0.01320546598506948), (7238, 0.009378435587825498), (7239, 0.011684902010915054), (7240, 0.011184688827202768), (7241, 0.008405838383972832), (7242, 0.013015024310364014), (7243, 0.02361951971708113), (7244, 0.01564146294696759), (7245, 0.0), (7246, 0.0), (7247, 0.027592335625029017), (7248, 0.03738518421452269), (7249, 0.010211658466421575), (7250, 0.0), (7251, 0.0), (7252, 0.008478649101557722), (7253, 0.01820720254641975), (7254, 0.02282026766155797), (7255, 0.0), (7256, 0.039426226991633374), (7257, 0.03498896281395894), (7258, 0.0), (7259, 0.04972331490263551), (7260, 0.016285154989869308), (7261, 0.0), (7262, 0.006011118760628641), (7263, 0.0), (7264, 0.0), (7265, 0.010360399361984251), (7266, 0.0), (7267, 0.0), (7268, 0.022316728129708394), (7269, 0.016083412669038687), (7270, 0.0), (7271, 0.0), (7272, 0.0), (7273, 0.02223162735223662), (7274, 0.020688470582736897), (7275, 0.0), (7276, 0.0), (7277, 0.0), (7278, 0.0), (7279, 0.0), (7280, 0.0), (7281, 0.0), (7282, 0.011310086477068996), (7283, 0.0), (7284, 0.021304319785827662), (7285, 0.0), (7286, 0.0), (7287, 0.01073216714100757), (7288, 0.015044603537963634), (7289, 0.0), (7290, 0.02094631997804107), (7291, 0.0), (7292, 0.0), (7293, 0.0), (7294, 0.020095618217997713), (7295, 0.0), (7296, 0.015120494173488905), (7297, 0.0), (7298, 0.0), (7299, 0.07001091021723593), (7300, 0.012518730541017417), (7301, 0.0), (7302, 0.025439795297898856), (7303, 0.02483793391801067), (7304, 0.04895873825704383), (7305, 0.0), (7306, 0.0), (7307, 0.0), (7308, 0.0), (7309, 0.0), (7310, 0.0), (7311, 0.029530358199428383), (7312, 0.0), (7313, 0.0), (7314, 0.0), (7315, 0.0), (7316, 0.0), (7317, 0.0), (7318, 0.007843448219241253), (7319, 0.04110968873495323), (7320, 0.0), (7321, 0.0), (7322, 0.0), (7323, 0.012153489912392014), (7324, 0.0), (7325, 0.0), (7326, 0.0), (7327, 0.0), (7328, 0.007795127172469054), (7329, 0.06851888122535564), (7330, 0.01671823815909906), (7331, 0.010613945605408187), (7332, 0.0), (7333, 0.0), (7334, 0.0), (7335, 0.04981691727495827), (7336, 0.0), (7337, 0.009179126569344071), (7338, 0.011992065981943285), (7339, 0.0), (7340, 0.012662500224369789), (7341, 0.009944591890324749), (7342, 0.0), (7343, 0.0), (7344, 0.0), (7345, 0.0), (7346, 0.0), (7347, 0.0), (7348, 0.031015495547941883), (7349, 0.012256257422908779), (7350, 0.06322222637238933), (7351, 0.0), (7352, 0.0), (7353, 0.0), (7354, 0.0), (7355, 0.0), (7356, 0.010801570864435586), (7357, 0.0), (7358, 0.02203896378992004), (7359, 0.005559133122891384), (7360, 0.0), (7361, 0.0), (7362, 0.01362167242720425), (7363, 0.0), (7364, 0.0), (7365, 0.03665793706181731), (7366, 0.024164010792385567), (7367, 0.0), (7368, 0.0), (7369, 0.0), (7370, 0.0), (7371, 0.045090081902527675), (7372, 0.0), (7373, 0.0), (7374, 0.012049311234152428), (7375, 0.028288453659906117), (7376, 0.010116808699815781), (7377, 0.0), (7378, 0.0), (7379, 0.01848650374155117), (7380, 0.0), (7381, 0.0), (7382, 0.05781592362498055), (7383, 0.0), (7384, 0.046540911957892464), (7385, 0.0), (7386, 0.007921800078404309), (7387, 0.009399596078320369), (7388, 0.018344215550011898), (7389, 0.0), (7390, 0.0), (7391, 0.013668055871706377), (7392, 0.0), (7393, 0.00998616763341517), (7394, 0.0), (7395, 0.0), (7396, 0.031164945368461358), (7397, 0.0), (7398, 0.017561250711191193), (7399, 0.0), (7400, 0.0), (7401, 0.0), (7402, 0.038648493845136356), (7403, 0.0), (7404, 0.0), (7405, 0.0), (7406, 0.0), (7407, 0.0), (7408, 0.01971885010232743), (7409, 0.019486097727907544), (7410, 0.0), (7411, 0.0), (7412, 0.03212279690911812), (7413, 0.013465684468466724), (7414, 0.010483852792253938), (7415, 0.015471619355724258), (7416, 0.0), (7417, 0.0), (7418, 0.0), (7419, 0.0), (7420, 0.0), (7421, 0.011546350380807252), (7422, 0.008044684053536097), (7423, 0.0), (7424, 0.01227138784720097), (7425, 0.0), (7426, 0.008633783458875102), (7427, 0.0), (7428, 0.0), (7429, 0.0), (7430, 0.0), (7431, 0.026457464376353126), (7432, 0.0), (7433, 0.016619777091798574), (7434, 0.011511483738755405), (7435, 0.0), (7436, 0.0), (7437, 0.0), (7438, 0.0), (7439, 0.01123062689963149), (7440, 0.0), (7441, 0.0), (7442, 0.017403401497904408), (7443, 0.021342983575501615), (7444, 0.0), (7445, 0.008714467918048693), (7446, 0.0), (7447, 0.011045140120367907), (7448, 0.02579132858148577), (7449, 0.0), (7450, 0.0), (7451, 0.0), (7452, 0.023512295110860493), (7453, 0.022670962702172646), (7454, 0.04091530756276798), (7455, 0.0), (7456, 0.010963995686133026), (7457, 0.0), (7458, 0.0), (7459, 0.0), (7460, 0.0), (7461, 0.010717338123941348), (7462, 0.0), (7463, 0.029810753985426177), (7464, 0.0), (7465, 0.0), (7466, 0.01689463167184069), (7467, 0.009300033444362863), (7468, 0.012204674737214557), (7469, 0.0), (7470, 0.0), (7471, 0.0), (7472, 0.0), (7473, 0.0), (7474, 0.0066484279832984714), (7475, 0.0), (7476, 0.0), (7477, 0.016286939298727068), (7478, 0.01272090528394849), (7479, 0.0), (7480, 0.0), (7481, 0.0), (7482, 0.0), (7483, 0.0), (7484, 0.0), (7485, 0.026654841704368163), (7486, 0.013866469289346645), (7487, 0.012337329166944348), (7488, 0.0), (7489, 0.0), (7490, 0.0), (7491, 0.0), (7492, 0.0), (7493, 0.0), (7494, 0.0), (7495, 0.05045525861905922), (7496, 0.01940951004280831), (7497, 0.04321539435609813), (7498, 0.0), (7499, 0.024574373397913983), (7500, 0.0), (7501, 0.009930238473091699), (7502, 0.0), (7503, 0.007890378889985174), (7504, 0.0), (7505, 0.010981343597760864), (7506, 0.010455865157495992), (7507, 0.021700210123397654), (7508, 0.02729886396981067), (7509, 0.0), (7510, 0.0), (7511, 0.0), (7512, 0.0), (7513, 0.04912219849517447), (7514, 0.011234520848324386), (7515, 0.0), (7516, 0.00512199293103705), (7517, 0.02024210669302869), (7518, 0.0), (7519, 0.0), (7520, 0.0), (7521, 0.035241782422675116), (7522, 0.010057231428386134), (7523, 0.0), (7524, 0.0), (7525, 0.0), (7526, 0.0), (7527, 0.0), (7528, 0.0), (7529, 0.0), (7530, 0.0), (7531, 0.024270797099866837), (7532, 0.032957122324322935), (7533, 0.005213556947093804), (7534, 0.0), (7535, 0.03684329311946571), (7536, 0.006711760603366967), (7537, 0.0), (7538, 0.056302040398929463), (7539, 0.015521475144575317), (7540, 0.0), (7541, 0.030430239750197215), (7542, 0.012998090109295597), (7543, 0.06277328068320419), (7544, 0.0), (7545, 0.017229313106417284), (7546, 0.0), (7547, 0.0), (7548, 0.0), (7549, 0.0), (7550, 0.0), (7551, 0.025975068154938045), (7552, 0.0), (7553, 0.0), (7554, 0.0), (7555, 0.011101461280762098), (7556, 0.0), (7557, 0.0), (7558, 0.0), (7559, 0.016138583351457392), (7560, 0.0), (7561, 0.0312844375664604), (7562, 0.029229778866571337), (7563, 0.011451423871390531), (7564, 0.0), (7565, 0.0), (7566, 0.0), (7567, 0.0), (7568, 0.07551083306597962), (7569, 0.010497567694494172), (7570, 0.0), (7571, 0.017920224773042396), (7572, 0.0), (7573, 0.0), (7574, 0.0), (7575, 0.012608927025273066), (7576, 0.0), (7577, 0.010819460331505909), (7578, 0.0), (7579, 0.007243828815459434), (7580, 0.0), (7581, 0.01627051183377718), (7582, 0.01421893837099583), (7583, 0.0), (7584, 0.01004441454179967), (7585, 0.0), (7586, 0.025459464238100575), (7587, 0.0), (7588, 0.011409409326949631), (7589, 0.0), (7590, 0.0227038592038848), (7591, 0.0), (7592, 0.03126247746476368), (7593, 0.013010174619460683), (7594, 0.0), (7595, 0.0), (7596, 0.017435625894706028), (7597, 0.0), (7598, 0.0), (7599, 0.0), (7600, 0.0), (7601, 0.0), (7602, 0.0), (7603, 0.026986467234941507), (7604, 0.0), (7605, 0.0), (7606, 0.0), (7607, 0.0), (7608, 0.014228915222795811), (7609, 0.0), (7610, 0.0), (7611, 0.0), (7612, 0.0), (7613, 0.02463631021581781), (7614, 0.021819228259642894), (7615, 0.0), (7616, 0.014686910327233866), (7617, 0.01467656177221916), (7618, 0.04082808415927554), (7619, 0.0), (7620, 0.0), (7621, 0.0), (7622, 0.021290904427559085), (7623, 0.0), (7624, 0.0), (7625, 0.0), (7626, 0.019732706089189842), (7627, 0.010075635859851642), (7628, 0.0), (7629, 0.00887486970724348), (7630, 0.035631674804928445), (7631, 0.0), (7632, 0.0), (7633, 0.0), (7634, 0.030071147495296827), (7635, 0.009426506610614113), (7636, 0.0), (7637, 0.0), (7638, 0.0), (7639, 0.016152257552589484), (7640, 0.0), (7641, 0.0), (7642, 0.015533560089357206), (7643, 0.0), (7644, 0.010599641084233623), (7645, 0.009016638215178887), (7646, 0.013179221643670842), (7647, 0.010635517655551667), (7648, 0.0), (7649, 0.010802920432997432), (7650, 0.03280054690682162), (7651, 0.0), (7652, 0.0), (7653, 0.016651581353389348), (7654, 0.0), (7655, 0.0), (7656, 0.0), (7657, 0.0), (7658, 0.0), (7659, 0.0), (7660, 0.0), (7661, 0.014186742485105014), (7662, 0.0), (7663, 0.013467038231885857), (7664, 0.0), (7665, 0.0), (7666, 0.031322665381185444), (7667, 0.01345925258158743), (7668, 0.0), (7669, 0.0), (7670, 0.0), (7671, 0.044064104903060175), (7672, 0.0), (7673, 0.0), (7674, 0.0), (7675, 0.033289163654959854), (7676, 0.006630780929519706), (7677, 0.05102044762307976), (7678, 0.0), (7679, 0.01058212836968752), (7680, 0.02263054315953332), (7681, 0.0), (7682, 0.011535480801824347), (7683, 0.02455674268381711), (7684, 0.0), (7685, 0.012556714233086316), (7686, 0.0), (7687, 0.0), (7688, 0.0), (7689, 0.0), (7690, 0.0), (7691, 0.029387604440933683), (7692, 0.0), (7693, 0.0), (7694, 0.04616352782322586), (7695, 0.0), (7696, 0.05583018960262556), (7697, 0.011019117609764734), (7698, 0.04819122699486744), (7699, 0.0), (7700, 0.0), (7701, 0.020124788773012527), (7702, 0.02024358522076641), (7703, 0.015405016571018603), (7704, 0.005872998661378715), (7705, 0.023887756950388295), (7706, 0.0), (7707, 0.04272444036295843), (7708, 0.0), (7709, 0.0), (7710, 0.04114849408902983), (7711, 0.0), (7712, 0.012837818335716879), (7713, 0.0), (7714, 0.01762635688553765), (7715, 0.0), (7716, 0.0), (7717, 0.034693447267840787), (7718, 0.0), (7719, 0.016566531809199904), (7720, 0.0), (7721, 0.0), (7722, 0.0), (7723, 0.0), (7724, 0.025599372666728817), (7725, 0.03857942956656015), (7726, 0.022505715030402284), (7727, 0.017657181927661365), (7728, 0.0), (7729, 0.007960711984590032), (7730, 0.0), (7731, 0.05429251790306759), (7732, 0.0), (7733, 0.010397142763066166), (7734, 0.022247410012117073), (7735, 0.0), (7736, 0.0), (7737, 0.049013834787215986), (7738, 0.0), (7739, 0.0), (7740, 0.0), (7741, 0.012225787682026574), (7742, 0.04254201260620419), (7743, 0.01326849528331563), (7744, 0.0), (7745, 0.010786850821470365), (7746, 0.0), (7747, 0.03217544961553869), (7748, 0.04291552555991954), (7749, 0.0), (7750, 0.04707190445647473), (7751, 0.0), (7752, 0.0), (7753, 0.01942233467552341), (7754, 0.0), (7755, 0.0), (7756, 0.0), (7757, 0.0), (7758, 0.0), (7759, 0.0), (7760, 0.0), (7761, 0.0), (7762, 0.0), (7763, 0.0), (7764, 0.02418464000619146), (7765, 0.0), (7766, 0.0), (7767, 0.0), (7768, 0.0), (7769, 0.04125144890092815), (7770, 0.01227020371480605), (7771, 0.0), (7772, 0.02226597500103548), (7773, 0.019795825454123547), (7774, 0.0448087308914601), (7775, 0.0), (7776, 0.0), (7777, 0.0), (7778, 0.0), (7779, 0.0), (7780, 0.007950155517278379), (7781, 0.0), (7782, 0.0), (7783, 0.0), (7784, 0.0), (7785, 0.0), (7786, 0.0), (7787, 0.022671502277668773), (7788, 0.00760605417870654), (7789, 0.0), (7790, 0.009659384911000999), (7791, 0.02125405093575022), (7792, 0.03257700928755262), (7793, 0.0), (7794, 0.0), (7795, 0.0), (7796, 0.01924374046626569), (7797, 0.02845278788922529), (7798, 0.03873275193907279), (7799, 0.0), (7800, 0.0), (7801, 0.018937898640196432), (7802, 0.01595841327331643), (7803, 0.011130406918500008), (7804, 0.0), (7805, 0.012629379189033176), (7806, 0.008991319581464673), (7807, 0.017058103485071207), (7808, 0.0), (7809, 0.0), (7810, 0.0), (7811, 0.0), (7812, 0.020763866700325373), (7813, 0.0), (7814, 0.013620143692325622), (7815, 0.008550144107418108), (7816, 0.011220376531415303), (7817, 0.0), (7818, 0.031048684196723315), (7819, 0.009210809267915086), (7820, 0.0), (7821, 0.014678885863049135), (7822, 0.0), (7823, 0.0), (7824, 0.0), (7825, 0.0), (7826, 0.011450167452472142), (7827, 0.0223892755032792), (7828, 0.0), (7829, 0.030397842954565872), (7830, 0.0), (7831, 0.0416957914596512), (7832, 0.006808399366770055), (7833, 0.017477443106142347), (7834, 0.0), (7835, 0.0), (7836, 0.027128980072921235), (7837, 0.0), (7838, 0.013451309675346527), (7839, 0.0), (7840, 0.0), (7841, 0.0), (7842, 0.0), (7843, 0.03409933703410221), (7844, 0.025913649964679965), (7845, 0.028763493763702155), (7846, 0.029466121889331454), (7847, 0.013513836122288994), (7848, 0.004890110506745388), (7849, 0.0), (7850, 0.0), (7851, 0.0), (7852, 0.0), (7853, 0.009824728796110118), (7854, 0.008356908822932272), (7855, 0.01153207867324373), (7856, 0.011448711006725704), (7857, 0.0), (7858, 0.0), (7859, 0.0), (7860, 0.00899257545847398), (7861, 0.005256557165772519), (7862, 0.0), (7863, 0.03031118133230868), (7864, 0.010511476913113226), (7865, 0.006910535261423988), (7866, 0.07284964971316421), (7867, 0.0), (7868, 0.0), (7869, 0.0), (7870, 0.022666187092857056), (7871, 0.010712598482420099), (7872, 0.0), (7873, 0.021401484678399675), (7874, 0.01765475124608566), (7875, 0.0), (7876, 0.0), (7877, 0.0), (7878, 0.0), (7879, 0.0), (7880, 0.013328407350837726), (7881, 0.0), (7882, 0.0), (7883, 0.0), (7884, 0.011949865159550179), (7885, 0.0), (7886, 0.0), (7887, 0.022207334489524284), (7888, 0.0), (7889, 0.0), (7890, 0.0), (7891, 0.0351537607384296), (7892, 0.0), (7893, 0.028189065279724715), (7894, 0.008234400217826131), (7895, 0.0), (7896, 0.0), (7897, 0.0), (7898, 0.0), (7899, 0.0), (7900, 0.0), (7901, 0.0639638866455185), (7902, 0.0), (7903, 0.019441412177785958), (7904, 0.0), (7905, 0.0), (7906, 0.0), (7907, 0.0), (7908, 0.0), (7909, 0.009858439084308605), (7910, 0.0), (7911, 0.0), (7912, 0.0), (7913, 0.0), (7914, 0.01585364480197683), (7915, 0.023015958797133692), (7916, 0.04557786245479981), (7917, 0.0), (7918, 0.0), (7919, 0.008001145410207392), (7920, 0.0), (7921, 0.0), (7922, 0.0), (7923, 0.0), (7924, 0.029149398045682194), (7925, 0.0), (7926, 0.0250049311549636), (7927, 0.0), (7928, 0.014025103959174985), (7929, 0.011188343144160303), (7930, 0.013036008611958966), (7931, 0.0), (7932, 0.036324365218296295), (7933, 0.0), (7934, 0.03453852959004523), (7935, 0.022533649750992316), (7936, 0.0), (7937, 0.0), (7938, 0.007694679826106545), (7939, 0.0), (7940, 0.013080290954092702), (7941, 0.018552305657222917), (7942, 0.0), (7943, 0.0), (7944, 0.013827712839471913), (7945, 0.018475778042981283), (7946, 0.0), (7947, 0.0), (7948, 0.0), (7949, 0.025741322449403747), (7950, 0.03929725297957795), (7951, 0.011467266436394001), (7952, 0.0), (7953, 0.0), (7954, 0.0), (7955, 0.0), (7956, 0.008025231150474026), (7957, 0.0), (7958, 0.0), (7959, 0.0), (7960, 0.0), (7961, 0.0), (7962, 0.0), (7963, 0.0), (7964, 0.0), (7965, 0.0), (7966, 0.01611960052437381), (7967, 0.015596665259465367), (7968, 0.01116365906480259), (7969, 0.0), (7970, 0.0), (7971, 0.0), (7972, 0.0), (7973, 0.0), (7974, 0.0), (7975, 0.0), (7976, 0.0), (7977, 0.01176647610655697), (7978, 0.0), (7979, 0.0), (7980, 0.0), (7981, 0.0), (7982, 0.0), (7983, 0.03366740657064003), (7984, 0.0), (7985, 0.015905079932557464), (7986, 0.0), (7987, 0.0), (7988, 0.008047099345383679), (7989, 0.014295146339197628), (7990, 0.0), (7991, 0.01574647033643308), (7992, 0.022605470835616606), (7993, 0.024170607429597504), (7994, 0.0), (7995, 0.0), (7996, 0.0), (7997, 0.0), (7998, 0.0), (7999, 0.022516973325481963), (8000, 0.0), (8001, 0.0), (8002, 0.009373199982977864), (8003, 0.0065827049794874816), (8004, 0.023631009677514064), (8005, 0.015533560089357206), (8006, 0.0), (8007, 0.0), (8008, 0.0), (8009, 0.0), (8010, 0.013136259161842889), (8011, 0.03251341951310475), (8012, 0.010980449435754314), (8013, 0.049601210042958435), (8014, 0.01616917204603087), (8015, 0.014152168144835154), (8016, 0.015305613175458343), (8017, 0.0), (8018, 0.011247291950285352), (8019, 0.0), (8020, 0.0), (8021, 0.0), (8022, 0.0), (8023, 0.0), (8024, 0.008760311365196543), (8025, 0.03694869846708587), (8026, 0.011642507799258068), (8027, 0.0375857398047501), (8028, 0.046914484992465935), (8029, 0.0), (8030, 0.0073849926581188805), (8031, 0.0075245799688013594), (8032, 0.00482595160496293), (8033, 0.04323169382247341), (8034, 0.060359945923999264), (8035, 0.030219675225495724), (8036, 0.0), (8037, 0.015945328513772065), (8038, 0.02807878366127674), (8039, 0.0), (8040, 0.04681610171691595), (8041, 0.0), (8042, 0.0), (8043, 0.028019046684987347), (8044, 0.0), (8045, 0.01264546227348313), (8046, 0.0), (8047, 0.0), (8048, 0.008372239188813685), (8049, 0.011518044064174648), (8050, 0.01201320968430855), (8051, 0.0), (8052, 0.0), (8053, 0.0), (8054, 0.0), (8055, 0.0), (8056, 0.0), (8057, 0.0), (8058, 0.017781880615076327), (8059, 0.0), (8060, 0.007318425006354412), (8061, 0.0), (8062, 0.01071321586495255), (8063, 0.0), (8064, 0.027880183728011227), (8065, 0.0), (8066, 0.013823514396780902), (8067, 0.017458588027347764), (8068, 0.0), (8069, 0.015446017654447402), (8070, 0.0), (8071, 0.0), (8072, 0.0), (8073, 0.0), (8074, 0.013919468259889264), (8075, 0.030392527721892652), (8076, 0.008716468004483736), (8077, 0.02117365275321509), (8078, 0.0), (8079, 0.03891570390355071), (8080, 0.0), (8081, 0.0), (8082, 0.006414754605729868), (8083, 0.0), (8084, 0.00785379680629102), (8085, 0.033790171517035804), (8086, 0.0), (8087, 0.030640719420032665), (8088, 0.0), (8089, 0.0), (8090, 0.0), (8091, 0.0), (8092, 0.019705589338625526), (8093, 0.0), (8094, 0.0), (8095, 0.032684102163052065), (8096, 0.0), (8097, 0.0), (8098, 0.011949664564973508), (8099, 0.017698101654965815), (8100, 0.010154065896696427), (8101, 0.0), (8102, 0.0), (8103, 0.0), (8104, 0.0), (8105, 0.008781372739768364), (8106, 0.0), (8107, 0.028758175928481684), (8108, 0.0), (8109, 0.0), (8110, 0.025610773277845902), (8111, 0.017136795074513125), (8112, 0.01612893589258514), (8113, 0.031585440180590924), (8114, 0.0), (8115, 0.036637873761562356), (8116, 0.0), (8117, 0.0), (8118, 0.0), (8119, 0.005995724476308818), (8120, 0.036328938097437063), (8121, 0.012316310071403153), (8122, 0.0), (8123, 0.0), (8124, 0.014199407529592577), (8125, 0.0), (8126, 0.037869834090686096), (8127, 0.025060060227461715), (8128, 0.0), (8129, 0.018696219995474037), (8130, 0.030419246384252065), (8131, 0.00792200164268401), (8132, 0.0), (8133, 0.0), (8134, 0.023188549589540322), (8135, 0.0), (8136, 0.01537058878806418), (8137, 0.01146517203981727), (8138, 0.015171498231773505), (8139, 0.027955394190204985), (8140, 0.01294683971451366), (8141, 0.0), (8142, 0.0), (8143, 0.01578251025918023), (8144, 0.0), (8145, 0.028795995990443128), (8146, 0.03761404692273318), (8147, 0.0), (8148, 0.02674940559086998), (8149, 0.0), (8150, 0.0), (8151, 0.0), (8152, 0.0), (8153, 0.006746584373457096), (8154, 0.0), (8155, 0.0), (8156, 0.0), (8157, 0.0), (8158, 0.025863985648398674), (8159, 0.019989636247618264), (8160, 0.020818893709399825), (8161, 0.0), (8162, 0.017416394241458473), (8163, 0.008143544490342366), (8164, 0.03087587189607085), (8165, 0.0200832555482078), (8166, 0.033225391022951425), (8167, 0.04226438833299752), (8168, 0.0), (8169, 0.007464336643624115), (8170, 0.0), (8171, 0.06661154680648021), (8172, 0.0), (8173, 0.0), (8174, 0.018100992174693863), (8175, 0.010077112168402453), (8176, 0.0), (8177, 0.0), (8178, 0.015852832736227982), (8179, 0.017881241477984693), (8180, 0.005737925927889901), (8181, 0.020969865174663517), (8182, 0.016554882021430357), (8183, 0.056368863944865955), (8184, 0.0), (8185, 0.0), (8186, 0.0), (8187, 0.0), (8188, 0.016658800039561206), (8189, 0.007771614252061064), (8190, 0.056524668923221395), (8191, 0.023358100193859355), (8192, 0.0), (8193, 0.019761939082161024), (8194, 0.00884153484370271), (8195, 0.022049133524098694), (8196, 0.014721108217148882), (8197, 0.0), (8198, 0.0), (8199, 0.0), (8200, 0.0), (8201, 0.0), (8202, 0.0), (8203, 0.012325978794011141), (8204, 0.0), (8205, 0.014493272875738423), (8206, 0.0), (8207, 0.0), (8208, 0.0), (8209, 0.012900349356053543), (8210, 0.0), (8211, 0.013189549070335585), (8212, 0.014921318344022048), (8213, 0.044106006957195715), (8214, 0.030680499868866166), (8215, 0.019767667799354332), (8216, 0.0), (8217, 0.0), (8218, 0.0), (8219, 0.0), (8220, 0.0), (8221, 0.0), (8222, 0.007063662023988403), (8223, 0.0), (8224, 0.0), (8225, 0.0), (8226, 0.042908814314574856), (8227, 0.0), (8228, 0.046267206682223797), (8229, 0.0), (8230, 0.0), (8231, 0.05620955638956941), (8232, 0.007015434086727432), (8233, 0.0090512748188683), (8234, 0.012460551731698952), (8235, 0.0), (8236, 0.012049722359766563), (8237, 0.014013855939119368), (8238, 0.0), (8239, 0.0), (8240, 0.0), (8241, 0.0), (8242, 0.0), (8243, 0.008827535191516958), (8244, 0.007738307679084825), (8245, 0.0), (8246, 0.0), (8247, 0.0), (8248, 0.0), (8249, 0.051680108921111495), (8250, 0.007978271463903126), (8251, 0.0), (8252, 0.0), (8253, 0.0), (8254, 0.0), (8255, 0.0), (8256, 0.009921571508170789), (8257, 0.0), (8258, 0.027895169687100117), (8259, 0.012131525335868584), (8260, 0.0), (8261, 0.06411037735258564), (8262, 0.0), (8263, 0.02950104081646462), (8264, 0.043691754899931254), (8265, 0.0), (8266, 0.0), (8267, 0.0), (8268, 0.03479838419458409), (8269, 0.10306297732177234), (8270, 0.0), (8271, 0.0539896649515997), (8272, 0.010407156747173168), (8273, 0.006250804067843511), (8274, 0.034747332454307014), (8275, 0.0), (8276, 0.0), (8277, 0.016871661717850202), (8278, 0.0), (8279, 0.0), (8280, 0.017766007826476332), (8281, 0.03491467456172242), (8282, 0.0), (8283, 0.0), (8284, 0.0), (8285, 0.0), (8286, 0.0069692692263930815), (8287, 0.015869082224810267), (8288, 0.0), (8289, 0.017953905943089342), (8290, 0.0), (8291, 0.011722737744767628), (8292, 0.0), (8293, 0.024208212759228267), (8294, 0.013060217242627327), (8295, 0.05146965425802474), (8296, 0.020556287841788097), (8297, 0.022959928340135244), (8298, 0.019411989280311404), (8299, 0.0), (8300, 0.0), (8301, 0.0), (8302, 0.0), (8303, 0.0), (8304, 0.010794584077374852), (8305, 0.05980768582663228), (8306, 0.0), (8307, 0.0), (8308, 0.0), (8309, 0.0), (8310, 0.009934813176156281), (8311, 0.0), (8312, 0.006909682317932416), (8313, 0.0), (8314, 0.02001272307454282), (8315, 0.0), (8316, 0.0), (8317, 0.020192907451975918), (8318, 0.0), (8319, 0.0), (8320, 0.0), (8321, 0.0), (8322, 0.0), (8323, 0.0), (8324, 0.0), (8325, 0.023954310731568604), (8326, 0.0), (8327, 0.017628971803784005), (8328, 0.016861667515718104), (8329, 0.0), (8330, 0.044176078889864995), (8331, 0.0), (8332, 0.028871492937629355), (8333, 0.017900645894684403), (8334, 0.0), (8335, 0.0), (8336, 0.0), (8337, 0.0), (8338, 0.0), (8339, 0.0), (8340, 0.009211961780136389), (8341, 0.013625565934985612), (8342, 0.01579718833124813), (8343, 0.0), (8344, 0.025851853991872113), (8345, 0.0), (8346, 0.00862098346006546), (8347, 0.0), (8348, 0.0), (8349, 0.007201962512936401), (8350, 0.017754407135618645), (8351, 0.036698835556602735), (8352, 0.007760773244105228), (8353, 0.025045877428034664), (8354, 0.022758783351268217), (8355, 0.0), (8356, 0.014146588828629084), (8357, 0.0), (8358, 0.0), (8359, 0.0), (8360, 0.022155825114166458), (8361, 0.025094517051192457), (8362, 0.0), (8363, 0.013896338982001058), (8364, 0.029939797843448395), (8365, 0.026118858282690026), (8366, 0.03022875975266219), (8367, 0.020465821908659747), (8368, 0.1409347706261895), (8369, 0.03735204120465123), (8370, 0.0322592088383838), (8371, 0.0), (8372, 0.0), (8373, 0.0), (8374, 0.060704762795533634), (8375, 0.0), (8376, 0.0), (8377, 0.014628564562038412), (8378, 0.0), (8379, 0.0), (8380, 0.0), (8381, 0.005127580225030581), (8382, 0.016657733692430628), (8383, 0.0), (8384, 0.009969098623713533), (8385, 0.0), (8386, 0.02099824898445384), (8387, 0.0), (8388, 0.0), (8389, 0.0), (8390, 0.0), (8391, 0.0), (8392, 0.008344979825309594), (8393, 0.0), (8394, 0.0), (8395, 0.004346269933210113), (8396, 0.06211152935483903), (8397, 0.0), (8398, 0.0), (8399, 0.07409879752667692), (8400, 0.010012142165661951), (8401, 0.02076581325805013), (8402, 0.03794009764780329), (8403, 0.0), (8404, 0.020820658066691474), (8405, 0.0), (8406, 0.0), (8407, 0.0), (8408, 0.0), (8409, 0.0), (8410, 0.004310720885249266), (8411, 0.0), (8412, 0.0), (8413, 0.0), (8414, 0.0), (8415, 0.05867213636625753), (8416, 0.014063816648547188), (8417, 0.0), (8418, 0.033598016130869796), (8419, 0.0), (8420, 0.0), (8421, 0.01743109947622167), (8422, 0.04832846845741667), (8423, 0.0), (8424, 0.0), (8425, 0.014985383941318141), (8426, 0.049283311482862024), (8427, 0.0), (8428, 0.0), (8429, 0.0), (8430, 0.0), (8431, 0.0059834037107525904), (8432, 0.05471934130447786), (8433, 0.031312713008519184), (8434, 0.0), (8435, 0.0), (8436, 0.0), (8437, 0.014934153042451133), (8438, 0.02548580810010003), (8439, 0.017928558584043845), (8440, 0.0), (8441, 0.0), (8442, 0.02621635182608826), (8443, 0.0), (8444, 0.0), (8445, 0.0), (8446, 0.0), (8447, 0.013894093054958413), (8448, 0.0), (8449, 0.0), (8450, 0.019671233691340374), (8451, 0.04019382855264299), (8452, 0.0), (8453, 0.01332275633356345), (8454, 0.0), (8455, 0.015683810582352055), (8456, 0.01714818589527331), (8457, 0.015762740102215973), (8458, 0.00993299558835791), (8459, 0.0067354877459001455), (8460, 0.0), (8461, 0.0), (8462, 0.009123322951918974), (8463, 0.009365454381302492), (8464, 0.0), (8465, 0.0), (8466, 0.0), (8467, 0.0), (8468, 0.0), (8469, 0.014707557777079166), (8470, 0.0), (8471, 0.0), (8472, 0.0), (8473, 0.0), (8474, 0.0), (8475, 0.0), (8476, 0.05486064692189219), (8477, 0.0), (8478, 0.0), (8479, 0.0), (8480, 0.0), (8481, 0.0), (8482, 0.0264364138549971), (8483, 0.008465035582549494), (8484, 0.0), (8485, 0.012739252101906354), (8486, 0.05409210315174597), (8487, 0.0), (8488, 0.0), (8489, 0.0), (8490, 0.0), (8491, 0.02097507758342157), (8492, 0.019239318238396096), (8493, 0.0), (8494, 0.0), (8495, 0.0), (8496, 0.0), (8497, 0.0), (8498, 0.057871212294439), (8499, 0.02889325459015033), (8500, 0.01611545301943218), (8501, 0.0), (8502, 0.0), (8503, 0.0), (8504, 0.0), (8505, 0.01812366385069415), (8506, 0.0), (8507, 0.023145736847845304), (8508, 0.0), (8509, 0.02554040095366108), (8510, 0.0), (8511, 0.011477881932351483), (8512, 0.018342030398984667), (8513, 0.0), (8514, 0.01839578197444959), (8515, 0.0), (8516, 0.0), (8517, 0.021475187240880364), (8518, 0.009581568142615852), (8519, 0.01595590658658564), (8520, 0.039098391133021534), (8521, 0.0), (8522, 0.010467675271586197), (8523, 0.0), (8524, 0.0), (8525, 0.0), (8526, 0.030337148279769785), (8527, 0.02833693383044662), (8528, 0.007243125042047715), (8529, 0.0), (8530, 0.01629186656300727), (8531, 0.026188533447656717), (8532, 0.0), (8533, 0.02025329990791266), (8534, 0.006575953304831195), (8535, 0.012374498198980826), (8536, 0.0371804848835655), (8537, 0.0), (8538, 0.025465862839698393), (8539, 0.023435774037139846), (8540, 0.027356344975026415), (8541, 0.0), (8542, 0.022197418476402445), (8543, 0.012772344002410427), (8544, 0.009794205012535898), (8545, 0.0), (8546, 0.0), (8547, 0.0), (8548, 0.03418183407949008), (8549, 0.0), (8550, 0.0), (8551, 0.015856333276050592), (8552, 0.009918219797360368), (8553, 0.0), (8554, 0.0), (8555, 0.0), (8556, 0.0), (8557, 0.010744894999125393), (8558, 0.012725270160042376), (8559, 0.0), (8560, 0.0), (8561, 0.0), (8562, 0.0), (8563, 0.0), (8564, 0.0), (8565, 0.015124631064281423), (8566, 0.0), (8567, 0.0), (8568, 0.015468227224326777), (8569, 0.0), (8570, 0.0), (8571, 0.0), (8572, 0.007477136420621323), (8573, 0.015544977662418382), (8574, 0.004371056849787572), (8575, 0.013531367405768753), (8576, 0.025762842854990895), (8577, 0.0), (8578, 0.0), (8579, 0.0), (8580, 0.011494509183040904), (8581, 0.0), (8582, 0.0), (8583, 0.0), (8584, 0.0), (8585, 0.018064392349431184), (8586, 0.016356482548691542), (8587, 0.027948124217559604), (8588, 0.0), (8589, 0.0), (8590, 0.0), (8591, 0.015973662926429332), (8592, 0.009348091484165454), (8593, 0.0), (8594, 0.0), (8595, 0.0), (8596, 0.0), (8597, 0.024943166413001462), (8598, 0.0), (8599, 0.01614140776833841), (8600, 0.0), (8601, 0.0), (8602, 0.0), (8603, 0.0), (8604, 0.0), (8605, 0.0), (8606, 0.0), (8607, 0.01691854045896015), (8608, 0.0), (8609, 0.0), (8610, 0.0), (8611, 0.0), (8612, 0.010633100644615895), (8613, 0.0), (8614, 0.0), (8615, 0.0), (8616, 0.0), (8617, 0.0), (8618, 0.0), (8619, 0.0), (8620, 0.013478732616514858), (8621, 0.017316922976119163), (8622, 0.008832072547782817), (8623, 0.0), (8624, 0.0), (8625, 0.01940682089086989), (8626, 0.0), (8627, 0.0), (8628, 0.008504230289826598), (8629, 0.0), (8630, 0.0), (8631, 0.0), (8632, 0.0), (8633, 0.0), (8634, 0.0), (8635, 0.00658839261803384), (8636, 0.0), (8637, 0.0), (8638, 0.006809098114344999), (8639, 0.007611037108869989), (8640, 0.01885583389787454), (8641, 0.0), (8642, 0.02692444692144541), (8643, 0.0), (8644, 0.012864541328579756), (8645, 0.011160215577129609), (8646, 0.0), (8647, 0.010297788757754084), (8648, 0.0), (8649, 0.0), (8650, 0.0), (8651, 0.0), (8652, 0.0), (8653, 0.013488206864161679), (8654, 0.03898139957066811), (8655, 0.0), (8656, 0.0), (8657, 0.0), (8658, 0.0), (8659, 0.028535073629050667), (8660, 0.0), (8661, 0.0), (8662, 0.0), (8663, 0.026148719969579206), (8664, 0.021827978436214056), (8665, 0.01134698450088123), (8666, 0.013176014209163039), (8667, 0.0), (8668, 0.0), (8669, 0.0), (8670, 0.019316312801159502), (8671, 0.0), (8672, 0.026157118133228782), (8673, 0.009128822022201744), (8674, 0.0), (8675, 0.01807974791978544), (8676, 0.0), (8677, 0.006014678489061419), (8678, 0.0), (8679, 0.01637599217856094), (8680, 0.038726182169733205), (8681, 0.0), (8682, 0.011049552327452071), (8683, 0.0), (8684, 0.0), (8685, 0.0), (8686, 0.0), (8687, 0.05740444379162749), (8688, 0.0), (8689, 0.031703959595126376), (8690, 0.020608658351744417), (8691, 0.0), (8692, 0.0), (8693, 0.0), (8694, 0.0), (8695, 0.0), (8696, 0.014306580813116743), (8697, 0.0), (8698, 0.11573670800576145), (8699, 0.0), (8700, 0.01896853973467413), (8701, 0.0), (8702, 0.009328140317601437), (8703, 0.0), (8704, 0.015965593278683556), (8705, 0.0), (8706, 0.0), (8707, 0.0), (8708, 0.0), (8709, 0.0), (8710, 0.0), (8711, 0.006623684319401398), (8712, 0.017320564453230256), (8713, 0.0), (8714, 0.018653008026763285), (8715, 0.03837371503524512), (8716, 0.021382804158179183), (8717, 0.0), (8718, 0.021990933025288997), (8719, 0.0), (8720, 0.02224684655526119), (8721, 0.0), (8722, 0.0), (8723, 0.013120764375008519), (8724, 0.007365790710699383), (8725, 0.031963448625359735), (8726, 0.05660425486856656), (8727, 0.0), (8728, 0.0), (8729, 0.012079954339528787), (8730, 0.0), (8731, 0.0), (8732, 0.014789035802564012), (8733, 0.0), (8734, 0.028930714208201393), (8735, 0.0), (8736, 0.01527512411331655), (8737, 0.02132692021875857), (8738, 0.0), (8739, 0.0), (8740, 0.0), (8741, 0.0), (8742, 0.0), (8743, 0.0), (8744, 0.014308225591375102), (8745, 0.0), (8746, 0.04576987448086356), (8747, 0.0), (8748, 0.02640268772206493), (8749, 0.0), (8750, 0.044750861760804714), (8751, 0.008572040645502899), (8752, 0.0), (8753, 0.0), (8754, 0.0), (8755, 0.012680771558187443), (8756, 0.024730559345886985), (8757, 0.01055630397397407), (8758, 0.0), (8759, 0.0), (8760, 0.0), (8761, 0.0), (8762, 0.0), (8763, 0.0), (8764, 0.0), (8765, 0.0), (8766, 0.0), (8767, 0.01660330740915994), (8768, 0.025908536423208083), (8769, 0.01475197755432889), (8770, 0.0), (8771, 0.0), (8772, 0.0), (8773, 0.0), (8774, 0.0), (8775, 0.0), (8776, 0.0), (8777, 0.0), (8778, 0.0), (8779, 0.0), (8780, 0.0), (8781, 0.0), (8782, 0.011768857988469534), (8783, 0.0), (8784, 0.0), (8785, 0.014894137185808861), (8786, 0.018758455760847174), (8787, 0.013422510391914274), (8788, 0.0), (8789, 0.008993863519189077), (8790, 0.0), (8791, 0.018773042584318295), (8792, 0.0), (8793, 0.0), (8794, 0.009112496153290125), (8795, 0.0), (8796, 0.014489937348068504), (8797, 0.0), (8798, 0.007928837194595513), (8799, 0.0), (8800, 0.020060014570577697), (8801, 0.026423347102654395), (8802, 0.0), (8803, 0.0), (8804, 0.019366835562697422), (8805, 0.0), (8806, 0.0), (8807, 0.0), (8808, 0.0), (8809, 0.0), (8810, 0.0), (8811, 0.0), (8812, 0.025397474654848252), (8813, 0.021858423409482568), (8814, 0.018453765432046045), (8815, 0.008108892736636685), (8816, 0.010706379528209355), (8817, 0.0), (8818, 0.0), (8819, 0.0), (8820, 0.006050272846346599), (8821, 0.0), (8822, 0.031321637487784146), (8823, 0.0), (8824, 0.01647902775374589), (8825, 0.034731936929682856), (8826, 0.014079423749570844), (8827, 0.0), (8828, 0.02133286425946331), (8829, 0.012503975219996764), (8830, 0.006932966796760634), (8831, 0.03256065054567308), (8832, 0.0), (8833, 0.02407995246959858), (8834, 0.0), (8835, 0.017420897784341482), (8836, 0.0650152550795158), (8837, 0.017762801985278687), (8838, 0.05057830288804796), (8839, 0.0), (8840, 0.0), (8841, 0.025981494959115056), (8842, 0.090008057119249), (8843, 0.0), (8844, 0.0), (8845, 0.006996843357116873), (8846, 0.0), (8847, 0.02275202981536048), (8848, 0.0), (8849, 0.020565202411772284), (8850, 0.0), (8851, 0.0), (8852, 0.0), (8853, 0.0397180614097936), (8854, 0.01414318788976348), (8855, 0.004050196312996626), (8856, 0.012825182494626535), (8857, 0.0), (8858, 0.0), (8859, 0.0), (8860, 0.0), (8861, 0.025457034989346015), (8862, 0.02414354898727626), (8863, 0.05324773668888759), (8864, 0.010638008999571489), (8865, 0.02117267926749306), (8866, 0.043236862913050386), (8867, 0.028224090788042316), (8868, 0.0), (8869, 0.018110101188804167), (8870, 0.009248771539055628), (8871, 0.0), (8872, 0.0), (8873, 0.0), (8874, 0.0), (8875, 0.0), (8876, 0.0), (8877, 0.0), (8878, 0.0), (8879, 0.013326410711495155), (8880, 0.0), (8881, 0.0), (8882, 0.013750601729665779), (8883, 0.0), (8884, 0.0), (8885, 0.0), (8886, 0.014513736723238668), (8887, 0.00990401740493557), (8888, 0.0), (8889, 0.0), (8890, 0.022500239064118736), (8891, 0.0), (8892, 0.0), (8893, 0.0), (8894, 0.0), (8895, 0.038682097001160244), (8896, 0.0), (8897, 0.0), (8898, 0.0), (8899, 0.02116543505994259), (8900, 0.0), (8901, 0.01257755515912889), (8902, 0.016521514293886836), (8903, 0.0182328054286267), (8904, 0.0), (8905, 0.023615417610285728), (8906, 0.008252219070550954), (8907, 0.021499989756736157), (8908, 0.00985581512408984), (8909, 0.05738134139665669), (8910, 0.0), (8911, 0.0), (8912, 0.025969759018471934), (8913, 0.0), (8914, 0.02794760222873742), (8915, 0.0), (8916, 0.0), (8917, 0.0), (8918, 0.0), (8919, 0.0), (8920, 0.0), (8921, 0.0), (8922, 0.0), (8923, 0.009526624110102308), (8924, 0.0), (8925, 0.008549684968902915), (8926, 0.00310364988845976), (8927, 0.0), (8928, 0.04815056875846187), (8929, 0.019746487448327806), (8930, 0.0), (8931, 0.05469879649672711), (8932, 0.04871867142896097), (8933, 0.01888265275764511), (8934, 0.0), (8935, 0.025942267314500424), (8936, 0.006499457204918243), (8937, 0.012209326142733352), (8938, 0.0), (8939, 0.0), (8940, 0.0), (8941, 0.0), (8942, 0.010600079147486407), (8943, 0.015411109687083075), (8944, 0.0), (8945, 0.0), (8946, 0.055164422478485145), (8947, 0.0), (8948, 0.0), (8949, 0.0), (8950, 0.016721893475096266), (8951, 0.022004634617025644), (8952, 0.039794562723447335), (8953, 0.025324450899107696), (8954, 0.0), (8955, 0.01161499578463564), (8956, 0.07548626087730002), (8957, 0.0), (8958, 0.016494502209858198), (8959, 0.027956171726579437), (8960, 0.0), (8961, 0.00659977653038127), (8962, 0.027017387524052305), (8963, 0.04970428023408047), (8964, 0.006763503917036903), (8965, 0.0), (8966, 0.00934687657868585), (8967, 0.0), (8968, 0.01680127868945728), (8969, 0.0), (8970, 0.06830183362125236), (8971, 0.013127306533176971), (8972, 0.011808672637552978), (8973, 0.008179996138432758), (8974, 0.009811752080318998), (8975, 0.019258455204229724), (8976, 0.028131704562047805), (8977, 0.0), (8978, 0.00811155599295862), (8979, 0.0), (8980, 0.0), (8981, 0.0), (8982, 0.015761880940339205), (8983, 0.015447095593131588), (8984, 0.0), (8985, 0.0), (8986, 0.0), (8987, 0.0), (8988, 0.0), (8989, 0.0), (8990, 0.005705633116108046), (8991, 0.0), (8992, 0.0), (8993, 0.0), (8994, 0.050333753865918957), (8995, 0.014003689177430076), (8996, 0.021972720558709677), (8997, 0.0), (8998, 0.008531919124379124), (8999, 0.0), (9000, 0.016197363543450395), (9001, 0.015835390731444143), (9002, 0.0), (9003, 0.023591403754236354), (9004, 0.0), (9005, 0.0), (9006, 0.0), (9007, 0.0), (9008, 0.0197149729404891), (9009, 0.0), (9010, 0.02646039029541737), (9011, 0.010268193208777872), (9012, 0.0), (9013, 0.006676521714813674), (9014, 0.0), (9015, 0.007367331106616945), (9016, 0.0), (9017, 0.0), (9018, 0.028716847350203203), (9019, 0.0), (9020, 0.013787141787320642), (9021, 0.0), (9022, 0.01384061527422427), (9023, 0.013456725348282725), (9024, 0.023714067591844912), (9025, 0.0), (9026, 0.0), (9027, 0.0), (9028, 0.03718723238236783), (9029, 0.024628756700471342), (9030, 0.03062483855839638), (9031, 0.03493645654929372), (9032, 0.0), (9033, 0.0), (9034, 0.0), (9035, 0.024520396595588058), (9036, 0.020227758440865648), (9037, 0.019248300875942426), (9038, 0.0), (9039, 0.0), (9040, 0.0), (9041, 0.0), (9042, 0.0), (9043, 0.031173071368106424), (9044, 0.0), (9045, 0.0), (9046, 0.0), (9047, 0.04893521808930933), (9048, 0.007069835838473256), (9049, 0.0), (9050, 0.0), (9051, 0.0), (9052, 0.0), (9053, 0.0), (9054, 0.0), (9055, 0.02946838288681298), (9056, 0.0), (9057, 0.003994987551780665), (9058, 0.0), (9059, 0.0), (9060, 0.0), (9061, 0.0), (9062, 0.01911353791652718), (9063, 0.0), (9064, 0.0), (9065, 0.0), (9066, 0.0), (9067, 0.0), (9068, 0.029894819472227926), (9069, 0.07122911189233933), (9070, 0.0), (9071, 0.02507063048956094), (9072, 0.0), (9073, 0.0), (9074, 0.02542708169595955), (9075, 0.016838449549818345), (9076, 0.008115485884918557), (9077, 0.019014150470938917), (9078, 0.0), (9079, 0.0), (9080, 0.005173531571116801), (9081, 0.0), (9082, 0.06667202633213577), (9083, 0.012857879233581306), (9084, 0.0), (9085, 0.0), (9086, 0.03921271795945181), (9087, 0.013855067193601342), (9088, 0.0), (9089, 0.0), (9090, 0.0), (9091, 0.0), (9092, 0.09533136072623677), (9093, 0.0), (9094, 0.0), (9095, 0.0), (9096, 0.0), (9097, 0.0), (9098, 0.0), (9099, 0.014231273141169922), (9100, 0.007661608217638616), (9101, 0.025447470320768543), (9102, 0.007249766412529609), (9103, 0.012223936134891724), (9104, 0.0), (9105, 0.0), (9106, 0.0), (9107, 0.0), (9108, 0.0), (9109, 0.027774508578933915), (9110, 0.0100008529039497), (9111, 0.0), (9112, 0.015303340715133463), (9113, 0.027337424752659083), (9114, 0.009265248243579279), (9115, 0.03084329294078227), (9116, 0.02305807957837038), (9117, 0.012820200689048926), (9118, 0.010289352078741338), (9119, 0.0), (9120, 0.032813565653304386), (9121, 0.03684044482575423), (9122, 0.014369193773545261), (9123, 0.004193652827560381), (9124, 0.0), (9125, 0.0), (9126, 0.0), (9127, 0.015561240424675505), (9128, 0.0), (9129, 0.0), (9130, 0.01720644884617076), (9131, 0.0), (9132, 0.0), (9133, 0.0), (9134, 0.0), (9135, 0.0), (9136, 0.0), (9137, 0.0), (9138, 0.0209958815193171), (9139, 0.0), (9140, 0.01762251734706209), (9141, 0.0), (9142, 0.004754802495967409), (9143, 0.0), (9144, 0.0), (9145, 0.014459328271357973), (9146, 0.024799098174104153), (9147, 0.0), (9148, 0.01623314907008771), (9149, 0.0), (9150, 0.0), (9151, 0.012900435787994243), (9152, 0.0), (9153, 0.0), (9154, 0.0), (9155, 0.0), (9156, 0.014727481694364603), (9157, 0.0), (9158, 0.016575976733672337), (9159, 0.009998381291170625), (9160, 0.06661154680648021), (9161, 0.010845935499501158), (9162, 0.005336251343470003), (9163, 0.0), (9164, 0.0), (9165, 0.0), (9166, 0.0), (9167, 0.0), (9168, 0.0), (9169, 0.03646287606181808), (9170, 0.0), (9171, 0.0), (9172, 0.024839039890385148), (9173, 0.0), (9174, 0.0), (9175, 0.013266665766214715), (9176, 0.0), (9177, 0.0), (9178, 0.0), (9179, 0.009369861305573485), (9180, 0.01109367781743751), (9181, 0.0), (9182, 0.0), (9183, 0.0), (9184, 0.0), (9185, 0.059030125471499405), (9186, 0.0), (9187, 0.038055952527860266), (9188, 0.02485257322170998), (9189, 0.06685182364680416), (9190, 0.0), (9191, 0.0157203863175573), (9192, 0.010865606274679142), (9193, 0.05190935847166514), (9194, 0.013235001253977861), (9195, 0.0), (9196, 0.0), (9197, 0.03101636720754113), (9198, 0.017304441811416774), (9199, 0.034936292137368104), (9200, 0.013756858533726343), (9201, 0.0), (9202, 0.01754100719594968), (9203, 0.018134730247013797), (9204, 0.0), (9205, 0.0), (9206, 0.0), (9207, 0.0), (9208, 0.0105445168182102), (9209, 0.028129769909046067), (9210, 0.021926855391329717), (9211, 0.0), (9212, 0.0), (9213, 0.0), (9214, 0.02033103397203674), (9215, 0.024565264201579427), (9216, 0.0), (9217, 0.0), (9218, 0.04767235056463893), (9219, 0.014902680413712835), (9220, 0.0), (9221, 0.010740312159545587), (9222, 0.0), (9223, 0.0), (9224, 0.0), (9225, 0.0), (9226, 0.0), (9227, 0.0), (9228, 0.0), (9229, 0.03594452467028557), (9230, 0.01860704885533235), (9231, 0.01753742418623702), (9232, 0.0), (9233, 0.007793280512926063), (9234, 0.0), (9235, 0.0), (9236, 0.008772964684174782), (9237, 0.013860272069263494), (9238, 0.0), (9239, 0.0), (9240, 0.0), (9241, 0.014069568886613983), (9242, 0.03829057993136431), (9243, 0.0), (9244, 0.0), (9245, 0.0), (9246, 0.011065053618359239), (9247, 0.017798002968560912), (9248, 0.0), (9249, 0.0), (9250, 0.0), (9251, 0.0), (9252, 0.01114029663237802), (9253, 0.0), (9254, 0.0), (9255, 0.0), (9256, 0.0), (9257, 0.017384462750591745), (9258, 0.036769970038614874), (9259, 0.023722550954173076), (9260, 0.0), (9261, 0.0), (9262, 0.0), (9263, 0.026177769254928786), (9264, 0.0353890606746424), (9265, 0.011294917609217714), (9266, 0.0), (9267, 0.0), (9268, 0.0), (9269, 0.01587269452572642), (9270, 0.0), (9271, 0.0), (9272, 0.032677123425149765), (9273, 0.0), (9274, 0.0), (9275, 0.02075280413680963), (9276, 0.0), (9277, 0.0), (9278, 0.0), (9279, 0.015364038172719943), (9280, 0.014470606342243912), (9281, 0.007998078377540926), (9282, 0.09251894103814662), (9283, 0.0), (9284, 0.01539046327363806), (9285, 0.012637268399674401), (9286, 0.0), (9287, 0.024562081625815742), (9288, 0.030267061923057365), (9289, 0.02143744670452037), (9290, 0.01748187858333913), (9291, 0.0), (9292, 0.019695370087649006), (9293, 0.0), (9294, 0.01640609808487703), (9295, 0.021692741917765105), (9296, 0.06684114297799862), (9297, 0.0), (9298, 0.0), (9299, 0.03279640448696631), (9300, 0.034399427735297784), (9301, 0.02441188262182535), (9302, 0.0), (9303, 0.0), (9304, 0.017444647518430268), (9305, 0.0), (9306, 0.024138314801501186), (9307, 0.02558236651372429), (9308, 0.0), (9309, 0.0), (9310, 0.0), (9311, 0.011494078060881645), (9312, 0.019097561433317364), (9313, 0.0), (9314, 0.0), (9315, 0.0), (9316, 0.053174056791857875), (9317, 0.0), (9318, 0.06099234772660267), (9319, 0.0), (9320, 0.0), (9321, 0.0), (9322, 0.0), (9323, 0.0), (9324, 0.013950883730428907), (9325, 0.0), (9326, 0.0), (9327, 0.031151170998455827), (9328, 0.050067891357447714), (9329, 0.0), (9330, 0.025758688695388554), (9331, 0.0), (9332, 0.0), (9333, 0.0), (9334, 0.0), (9335, 0.0), (9336, 0.008508554551542992), (9337, 0.0), (9338, 0.0), (9339, 0.0), (9340, 0.01939779684209071), (9341, 0.02435716913396435), (9342, 0.05776667947236533), (9343, 0.021323525399291447), (9344, 0.0), (9345, 0.0), (9346, 0.011948390578564715), (9347, 0.0), (9348, 0.024539238388038533), (9349, 0.0), (9350, 0.0), (9351, 0.0), (9352, 0.0), (9353, 0.009241316224954521), (9354, 0.03199413659077112), (9355, 0.0), (9356, 0.017032252055896244), (9357, 0.03652162959663396), (9358, 0.010575486436573722), (9359, 0.020964574924322025), (9360, 0.0), (9361, 0.009531778914716975), (9362, 0.03704236745816066), (9363, 0.013872041680265831), (9364, 0.0), (9365, 0.0), (9366, 0.0), (9367, 0.01694844577303433), (9368, 0.0), (9369, 0.0), (9370, 0.0059444483813274615), (9371, 0.0), (9372, 0.0), (9373, 0.083558704198653), (9374, 0.015895097199443077), (9375, 0.007815017172897981), (9376, 0.0), (9377, 0.0), (9378, 0.0), (9379, 0.0), (9380, 0.0), (9381, 0.0), (9382, 0.03094591071616422), (9383, 0.012687173201551313), (9384, 0.0), (9385, 0.0), (9386, 0.008438784360347855), (9387, 0.009931123908391433), (9388, 0.0), (9389, 0.009538299218503748), (9390, 0.0), (9391, 0.014993535952040761), (9392, 0.00753982446299772), (9393, 0.0), (9394, 0.048776164960813724), (9395, 0.0), (9396, 0.0353916863669301), (9397, 0.0), (9398, 0.04257419893627182), (9399, 0.0), (9400, 0.0), (9401, 0.0), (9402, 0.0), (9403, 0.0), (9404, 0.0241494028897917), (9405, 0.0), (9406, 0.0), (9407, 0.012195598968296749), (9408, 0.0), (9409, 0.0063880956290200495), (9410, 0.0), (9411, 0.006895734162147908), (9412, 0.0), (9413, 0.0), (9414, 0.03480064620328421), (9415, 0.0), (9416, 0.0), (9417, 0.0), (9418, 0.04044442282713963), (9419, 0.036530129055057856), (9420, 0.0), (9421, 0.01118576443121414), (9422, 0.013676119768039867), (9423, 0.0), (9424, 0.015748423775879008), (9425, 0.0), (9426, 0.02367334266141362), (9427, 0.0), (9428, 0.0), (9429, 0.021315173823437745), (9430, 0.019047527513620727), (9431, 0.0), (9432, 0.029886532811092867), (9433, 0.0), (9434, 0.0), (9435, 0.0), (9436, 0.0), (9437, 0.0), (9438, 0.0), (9439, 0.0), (9440, 0.0), (9441, 0.0), (9442, 0.05225327324515864), (9443, 0.0), (9444, 0.0), (9445, 0.010500454965151899), (9446, 0.0), (9447, 0.02042676153564852), (9448, 0.0), (9449, 0.0), (9450, 0.0), (9451, 0.0), (9452, 0.0), (9453, 0.008848589521890637), (9454, 0.0), (9455, 0.0), (9456, 0.0), (9457, 0.0), (9458, 0.012535686772591962), (9459, 0.0), (9460, 0.019028618493117353), (9461, 0.0), (9462, 0.0), (9463, 0.0), (9464, 0.038431862069809045), (9465, 0.0), (9466, 0.01488064149432856), (9467, 0.0), (9468, 0.0), (9469, 0.0), (9470, 0.0), (9471, 0.0), (9472, 0.0), (9473, 0.0), (9474, 0.0), (9475, 0.0), (9476, 0.0), (9477, 0.013699045938309905), (9478, 0.0), (9479, 0.0), (9480, 0.016336824452196374), (9481, 0.037680857570917076), (9482, 0.018965620601493427), (9483, 0.0), (9484, 0.0), (9485, 0.2533889504354612), (9486, 0.0), (9487, 0.0), (9488, 0.014186516856389523), (9489, 0.0), (9490, 0.0), (9491, 0.0), (9492, 0.0), (9493, 0.0344718556729758), (9494, 0.0), (9495, 0.0), (9496, 0.013094184015992908), (9497, 0.02920929854945172), (9498, 0.032926789652212095), (9499, 0.017688926294769456), (9500, 0.020565370792498816), (9501, 0.00958497271396563), (9502, 0.02253393835809796), (9503, 0.013666245671033478), (9504, 0.036381540448890415), (9505, 0.05527307408406643), (9506, 0.0), (9507, 0.0), (9508, 0.0058731581111509095), (9509, 0.0), (9510, 0.06755207156083347), (9511, 0.0), (9512, 0.026616302991070227), (9513, 0.0), (9514, 0.0), (9515, 0.0258767902326415), (9516, 0.0), (9517, 0.018328791494204397), (9518, 0.0), (9519, 0.02742359302141901), (9520, 0.02181832684631011), (9521, 0.022250391939659), (9522, 0.0), (9523, 0.0), (9524, 0.034054130854408934), (9525, 0.0), (9526, 0.0), (9527, 0.0), (9528, 0.0), (9529, 0.0), (9530, 0.0), (9531, 0.0), (9532, 0.00249779131111988), (9533, 0.02283904731931794), (9534, 0.0), (9535, 0.0), (9536, 0.0), (9537, 0.0), (9538, 0.0), (9539, 0.0), (9540, 0.0), (9541, 0.0), (9542, 0.0), (9543, 0.0), (9544, 0.0), (9545, 0.016794438735086386), (9546, 0.00785771579482741), (9547, 0.0), (9548, 0.0), (9549, 0.0), (9550, 0.0), (9551, 0.0), (9552, 0.0), (9553, 0.008785887376958066), (9554, 0.0), (9555, 0.0), (9556, 0.0), (9557, 0.0), (9558, 0.0), (9559, 0.02335900403654397), (9560, 0.0), (9561, 0.0), (9562, 0.0), (9563, 0.0), (9564, 0.0), (9565, 0.0), (9566, 0.028172520238233863), (9567, 0.0), (9568, 0.0), (9569, 0.0), (9570, 0.0), (9571, 0.018151219570938456), (9572, 0.0), (9573, 0.0), (9574, 0.0), (9575, 0.0), (9576, 0.02383535635858848), (9577, 0.0), (9578, 0.02687117977863754), (9579, 0.0), (9580, 0.023188549589540322), (9581, 0.0), (9582, 0.0), (9583, 0.0), (9584, 0.01575044632080849), (9585, 0.015484268010100716), (9586, 0.0), (9587, 0.0), (9588, 0.0), (9589, 0.0), (9590, 0.0), (9591, 0.0), (9592, 0.0), (9593, 0.0), (9594, 0.0), (9595, 0.0), (9596, 0.0), (9597, 0.0), (9598, 0.0), (9599, 0.0), (9600, 0.01843239007658776), (9601, 0.011745585643143559), (9602, 0.0), (9603, 0.018258153677112546), (9604, 0.0), (9605, 0.0), (9606, 0.0), (9607, 0.0), (9608, 0.0609978005517944), (9609, 0.0), (9610, 0.0), (9611, 0.0), (9612, 0.0), (9613, 0.0), (9614, 0.0), (9615, 0.009462509397194735), (9616, 0.0), (9617, 0.0), (9618, 0.03295176079581074), (9619, 0.024050496194828085), (9620, 0.027238260141303962), (9621, 0.0071912058493651225), (9622, 0.0), (9623, 0.02228943451094316), (9624, 0.0), (9625, 0.004421174025706594), (9626, 0.0), (9627, 0.0), (9628, 0.020037176245003348), (9629, 0.025009962760461316), (9630, 0.009135986551218007), (9631, 0.02476032838490556), (9632, 0.0), (9633, 0.0), (9634, 0.0), (9635, 0.019655005088128025), (9636, 0.026239642887449587), (9637, 0.012612322267460747), (9638, 0.024928580509388818), (9639, 0.01044242672114802), (9640, 0.02201356858981951), (9641, 0.006951653413782333), (9642, 0.03012528587505169), (9643, 0.00788257191990853), (9644, 0.02224270689209398), (9645, 0.0), (9646, 0.0), (9647, 0.03064137209679439), (9648, 0.0), (9649, 0.032347225863472544), (9650, 0.0), (9651, 0.0), (9652, 0.0065942057729531265), (9653, 0.0), (9654, 0.03582775506759112), (9655, 0.0), (9656, 0.017760501034780815), (9657, 0.0), (9658, 0.01616185627369076), (9659, 0.005503390657672882), (9660, 0.0), (9661, 0.0), (9662, 0.0), (9663, 0.01137046332929672), (9664, 0.0), (9665, 0.0), (9666, 0.0), (9667, 0.0), (9668, 0.0), (9669, 0.018212320412230466), (9670, 0.0), (9671, 0.009965961640056422), (9672, 0.0), (9673, 0.020855068024688454), (9674, 0.008372239188813685), (9675, 0.0), (9676, 0.014417463538475334), (9677, 0.0), (9678, 0.0), (9679, 0.009688501554318526), (9680, 0.0), (9681, 0.0), (9682, 0.0), (9683, 0.017222181092489734), (9684, 0.020667421063639), (9685, 0.0), (9686, 0.0), (9687, 0.023409117766816548), (9688, 0.0), (9689, 0.0), (9690, 0.0), (9691, 0.0), (9692, 0.0), (9693, 0.02356601934046798), (9694, 0.020887106436686433), (9695, 0.00923617473898314), (9696, 0.01496994917674939), (9697, 0.004658999525387323), (9698, 0.0), (9699, 0.0047804542151485665), (9700, 0.03742273705259022), (9701, 0.0), (9702, 0.015186776293104769), (9703, 0.013734921023512288), (9704, 0.014599858665090271), (9705, 0.0), (9706, 0.0), (9707, 0.0), (9708, 0.016044383162800196), (9709, 0.0), (9710, 0.0), (9711, 0.007843448219241253), (9712, 0.02303125729201792), (9713, 0.0), (9714, 0.0), (9715, 0.0), (9716, 0.0), (9717, 0.011986456836707238), (9718, 0.0), (9719, 0.0), (9720, 0.0), (9721, 0.010195021585782057), (9722, 0.026325182839548156), (9723, 0.0), (9724, 0.0), (9725, 0.0), (9726, 0.0), (9727, 0.01612978850545942), (9728, 0.023990762203141402), (9729, 0.0), (9730, 0.0), (9731, 0.008448412964822634), (9732, 0.020030968308012306), (9733, 0.0), (9734, 0.0), (9735, 0.0), (9736, 0.025439611844314477), (9737, 0.0), (9738, 0.0), (9739, 0.11280400123093917), (9740, 0.019879943430485693), (9741, 0.0), (9742, 0.01626493648971069), (9743, 0.009431742224483047), (9744, 0.0), (9745, 0.01921088235763626), (9746, 0.0), (9747, 0.0), (9748, 0.00674375485588978), (9749, 0.018026179067567975), (9750, 0.0), (9751, 0.0), (9752, 0.007130985290765345), (9753, 0.0), (9754, 0.0), (9755, 0.0), (9756, 0.0), (9757, 0.022029891928948775), (9758, 0.01761724290718584), (9759, 0.0), (9760, 0.028220753477381493), (9761, 0.049670353409877126), (9762, 0.0250491268091483), (9763, 0.0), (9764, 0.03163287110919465), (9765, 0.008945893037981186), (9766, 0.03038252025347459), (9767, 0.01458748371181122), (9768, 0.023886046780736636), (9769, 0.0), (9770, 0.0), (9771, 0.023184169359283965), (9772, 0.0), (9773, 0.0), (9774, 0.0), (9775, 0.0), (9776, 0.008684786293067508), (9777, 0.0), (9778, 0.02247795905207188), (9779, 0.0), (9780, 0.0), (9781, 0.0), (9782, 0.0), (9783, 0.0), (9784, 0.0), (9785, 0.0), (9786, 0.0), (9787, 0.018252712537886257), (9788, 0.04153759148809196), (9789, 0.008889346034001945), (9790, 0.0), (9791, 0.0), (9792, 0.020736895841619217), (9793, 0.0), (9794, 0.01528409585809362), (9795, 0.0045048692473818935), (9796, 0.045275023054137005), (9797, 0.0), (9798, 0.06397662523882863), (9799, 0.013693971674347397), (9800, 0.022325205781142856), (9801, 0.0066287372842720755), (9802, 0.0), (9803, 0.0), (9804, 0.0), (9805, 0.0), (9806, 0.018728212312940463), (9807, 0.029124824495942774), (9808, 0.009665754263202202), (9809, 0.0), (9810, 0.006619876111505197), (9811, 0.0), (9812, 0.0), (9813, 0.01346510221724175), (9814, 0.0), (9815, 0.0), (9816, 0.0), (9817, 0.045335278346619094), (9818, 0.023140558614548487), (9819, 0.0), (9820, 0.0), (9821, 0.0), (9822, 0.010807596586619483), (9823, 0.0), (9824, 0.0), (9825, 0.03412036567186591), (9826, 0.0), (9827, 0.0), (9828, 0.0), (9829, 0.018000128405206983), (9830, 0.03462197674576775), (9831, 0.00949563934629228), (9832, 0.03657741219107025), (9833, 0.059770740929165865), (9834, 0.0), (9835, 0.0), (9836, 0.0), (9837, 0.08438460983291858), (9838, 0.0), (9839, 0.0), (9840, 0.0), (9841, 0.008187074204923536), (9842, 0.0), (9843, 0.01167283467192436), (9844, 0.0), (9845, 0.021679538657605767), (9846, 0.015828369837971847), (9847, 0.0), (9848, 0.005645686055139889), (9849, 0.0), (9850, 0.0), (9851, 0.0), (9852, 0.014457322565993571), (9853, 0.0), (9854, 0.02382834914826804), (9855, 0.01298378318829434), (9856, 0.00996372780409242), (9857, 0.0), (9858, 0.016056566166628698), (9859, 0.017687318019562217), (9860, 0.0), (9861, 0.0), (9862, 0.05906754716363084), (9863, 0.017589508311534295), (9864, 0.00859959502757054), (9865, 0.0), (9866, 0.017501047088738182), (9867, 0.03584646764937717), (9868, 0.0), (9869, 0.04578333227425292), (9870, 0.02449046948702209), (9871, 0.0), (9872, 0.0), (9873, 0.005068473565099158), (9874, 0.0), (9875, 0.0069813240617220655), (9876, 0.0074988435373477555), (9877, 0.0), (9878, 0.0488993928405491), (9879, 0.0), (9880, 0.012594190270138127), (9881, 0.0), (9882, 0.0), (9883, 0.0), (9884, 0.0), (9885, 0.0), (9886, 0.0), (9887, 0.0), (9888, 0.0), (9889, 0.0), (9890, 0.0), (9891, 0.0), (9892, 0.01508492250192097), (9893, 0.0), (9894, 0.0), (9895, 0.02970607006235552), (9896, 0.019074357645769563), (9897, 0.0), (9898, 0.0), (9899, 0.0), (9900, 0.0), (9901, 0.0), (9902, 0.0), (9903, 0.0), (9904, 0.020391732410792413), (9905, 0.06661154680648021), (9906, 0.0), (9907, 0.0), (9908, 0.0), (9909, 0.0649521378123248), (9910, 0.0), (9911, 0.005501843309478009), (9912, 0.018412573400238205), (9913, 0.0), (9914, 0.0), (9915, 0.0), (9916, 0.0), (9917, 0.012371545861335091), (9918, 0.01971391021143698), (9919, 0.020394039091781287), (9920, 0.0), (9921, 0.027417154865606443), (9922, 0.056242317202075356), (9923, 0.0), (9924, 0.023075234953559003), (9925, 0.0), (9926, 0.0), (9927, 0.0), (9928, 0.0), (9929, 0.0), (9930, 0.0), (9931, 0.020903626195512746), (9932, 0.0), (9933, 0.0), (9934, 0.0), (9935, 0.02180651644414286), (9936, 0.0), (9937, 0.0), (9938, 0.006375690088971524), (9939, 0.03489938632939633), (9940, 0.0), (9941, 0.0), (9942, 0.008449303803367331), (9943, 0.0), (9944, 0.0), (9945, 0.059590978837803926), (9946, 0.0), (9947, 0.0), (9948, 0.01736031764769419), (9949, 0.0), (9950, 0.01060423123859163), (9951, 0.046786382409739376), (9952, 0.022096063470068393), (9953, 0.0), (9954, 0.02092353603936744), (9955, 0.011076306705130006), (9956, 0.013233740566747745), (9957, 0.0), (9958, 0.0), (9959, 0.009630761933772384), (9960, 0.006176260315888162), (9961, 0.0), (9962, 0.0), (9963, 0.0), (9964, 0.01841813729876434), (9965, 0.025208958347262563), (9966, 0.0), (9967, 0.005105349767768251), (9968, 0.004643885695348035), (9969, 0.0), (9970, 0.018049608540038866), (9971, 0.021800881875012137), (9972, 0.0071179350520629596), (9973, 0.0), (9974, 0.0), (9975, 0.013470412898568075), (9976, 0.023280519202068067), (9977, 0.010648498360799277), (9978, 0.016967172957045615), (9979, 0.0), (9980, 0.012421660617017398), (9981, 0.0), (9982, 0.0), (9983, 0.0), (9984, 0.01339943119360016), (9985, 0.02144368622693773), (9986, 0.00673433882288212), (9987, 0.0), (9988, 0.03683321136836738), (9989, 0.026349310671999575), (9990, 0.014969612103806425), (9991, 0.010216196532559708), (9992, 0.021089220386112734), (9993, 0.02319285491346729), (9994, 0.0), (9995, 0.0), (9996, 0.0), (9997, 0.0), (9998, 0.011797435105592943), (9999, 0.05916308268812953)]\n"
     ]
    }
   ],
   "source": [
    "# Example: Get content-based recommendations for a specific user\n",
    "content_based_recommendations = get_content_based_recommendations(1, ratings, books, cosine_similarities, 5)\n",
    "# # Display recommendations\n",
    "# print(f\"Content-based recommendations for User {user_id}: {content_based_recommendations}\")\n",
    "# content_based_recommendations"
   ]
  }
 ],
 "metadata": {
  "kernelspec": {
   "display_name": "topic_analyses",
   "language": "python",
   "name": "topic_analyses"
  },
  "language_info": {
   "codemirror_mode": {
    "name": "ipython",
    "version": 3
   },
   "file_extension": ".py",
   "mimetype": "text/x-python",
   "name": "python",
   "nbconvert_exporter": "python",
   "pygments_lexer": "ipython3",
   "version": "3.11.5"
  }
 },
 "nbformat": 4,
 "nbformat_minor": 5
}
