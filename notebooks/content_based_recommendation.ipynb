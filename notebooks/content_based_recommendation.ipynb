{
 "cells": [
  {
   "cell_type": "markdown",
   "id": "5814298b-bc5e-4656-a756-94e2e67f9a1e",
   "metadata": {},
   "source": [
    "# Content based recommendation system"
   ]
  },
  {
   "cell_type": "markdown",
   "id": "cbfd193d-4708-4acc-85c3-b7f5775c370e",
   "metadata": {},
   "source": [
    "The goal of this project was to develop a book recommendation system. Three content-based recommendation systems were created and benchmarked against each other. These systems were implemented using TF-IDF, word2vec, and Sentence-BERT, matching users to books based on their reading history.\n",
    "\n",
    "## Scope\n",
    "\n",
    "The scope of the study was restricted to the [Good Book](https://github.com/zygmuntz/goodbooks-10k) dataset. This dataset contains six million ratings for the ten thousand most popular books (those with the most ratings as of 2017). There are also individual book ratings by users, books marked to read by the users, book metadata (author, year, etc.) and tags/shelves/genres."
   ]
  },
  {
   "cell_type": "markdown",
   "id": "5fb80ca0-aa22-40d6-8e37-b68551235053",
   "metadata": {},
   "source": [
    "## Set-up"
   ]
  },
  {
   "cell_type": "markdown",
   "id": "7d363594-1d11-4fa3-b16a-7a68f3f6ecc6",
   "metadata": {},
   "source": [
    "### Dependencies"
   ]
  },
  {
   "cell_type": "code",
   "execution_count": 1,
   "id": "23c19f60-be4d-4d7c-a5b1-f53638af2cdd",
   "metadata": {},
   "outputs": [
    {
     "name": "stderr",
     "output_type": "stream",
     "text": [
      "[nltk_data] Downloading package stopwords to\n",
      "[nltk_data]     C:\\Users\\billy\\AppData\\Roaming\\nltk_data...\n",
      "[nltk_data]   Package stopwords is already up-to-date!\n",
      "[nltk_data] Downloading package punkt to\n",
      "[nltk_data]     C:\\Users\\billy\\AppData\\Roaming\\nltk_data...\n",
      "[nltk_data]   Package punkt is already up-to-date!\n",
      "[nltk_data] Downloading package wordnet to\n",
      "[nltk_data]     C:\\Users\\billy\\AppData\\Roaming\\nltk_data...\n",
      "[nltk_data]   Package wordnet is already up-to-date!\n"
     ]
    }
   ],
   "source": [
    "import inspect\n",
    "from matplotlib import pyplot as plt\n",
    "import numpy as np\n",
    "import pandas as pd\n",
    "from sklearn.model_selection import KFold\n",
    "from sklearn.feature_extraction.text import TfidfVectorizer\n",
    "from sklearn.metrics.pairwise import cosine_similarity\n",
    "import random\n",
    "\n",
    "from gensim.models import Word2Vec, KeyedVectors\n",
    "import re\n",
    "import string\n",
    "import nltk\n",
    "nltk.download('stopwords')\n",
    "nltk.download('punkt')\n",
    "nltk.download('wordnet')\n",
    "from nltk.stem import WordNetLemmatizer\n",
    "from nltk.corpus import stopwords\n",
    "from gensim.models import Word2Vec, KeyedVectors\n",
    "from nltk.tokenize import word_tokenize\n",
    "\n",
    "import sys\n",
    "sys.path.insert(0, \"C:\\\\Users\\\\billy\\\\OneDrive\\\\Documents\\\\Python Scripts\\\\1. Portfolio\\\\book-content-based-recommender\\\\book-content-based-recommender\")\n",
    "import custom_funcs as cf"
   ]
  },
  {
   "cell_type": "markdown",
   "id": "60d6cbb8-e03a-44d8-9822-60a3495b4a8a",
   "metadata": {},
   "source": [
    "### Import data\n",
    "\n",
    "Dataset source: https://github.com/zygmuntz/goodbooks-10k"
   ]
  },
  {
   "cell_type": "code",
   "execution_count": 2,
   "id": "83a055ce-88e0-4a58-98d3-fa7069adc878",
   "metadata": {},
   "outputs": [],
   "source": [
    "books = pd.read_csv('../data/raw/books.csv')\n",
    "to_read = pd.read_csv('../data/raw/to_read.csv')\n",
    "ratings = pd.read_csv('../data/raw/ratings.csv')\n",
    "book_tags = pd.read_csv('../data/raw/book_tags.csv')\n",
    "tags = pd.read_csv('../data/raw/tags.csv')"
   ]
  },
  {
   "cell_type": "markdown",
   "id": "19c34597-01a9-4131-9930-51dff55a4af7",
   "metadata": {},
   "source": [
    "## Data exploration\n",
    "\n",
    "Note on book identifiers:\n",
    "\n",
    "* Each book may have many editions.  **_goodreads_book_id_** and **_best_book_id_** generally point to the most popular edition of a given book, while goodreads  **_work_id_** refers to the book in the abstract sense. \n",
    "\n",
    "* Note that _book_id_ in **ratings.csv** and **to_read.csv** maps to **_work_id_**, not to **_goodreads_book_id_**, meaning that ratings for different editions are aggregated."
   ]
  },
  {
   "cell_type": "markdown",
   "id": "1d3eb058-6794-4a7c-a797-ae892c0f5acf",
   "metadata": {},
   "source": [
    "### books"
   ]
  },
  {
   "cell_type": "code",
   "execution_count": 3,
   "id": "135dacc1-a883-477f-b038-079379e2db93",
   "metadata": {},
   "outputs": [
    {
     "name": "stdout",
     "output_type": "stream",
     "text": [
      "Number of records: 10000\n",
      "Number of columns: 23\n"
     ]
    },
    {
     "data": {
      "text/html": [
       "<div>\n",
       "<style scoped>\n",
       "    .dataframe tbody tr th:only-of-type {\n",
       "        vertical-align: middle;\n",
       "    }\n",
       "\n",
       "    .dataframe tbody tr th {\n",
       "        vertical-align: top;\n",
       "    }\n",
       "\n",
       "    .dataframe thead th {\n",
       "        text-align: right;\n",
       "    }\n",
       "</style>\n",
       "<table border=\"1\" class=\"dataframe\">\n",
       "  <thead>\n",
       "    <tr style=\"text-align: right;\">\n",
       "      <th></th>\n",
       "      <th>book_id</th>\n",
       "      <th>goodreads_book_id</th>\n",
       "      <th>best_book_id</th>\n",
       "      <th>work_id</th>\n",
       "      <th>books_count</th>\n",
       "      <th>isbn</th>\n",
       "      <th>isbn13</th>\n",
       "      <th>authors</th>\n",
       "      <th>original_publication_year</th>\n",
       "      <th>original_title</th>\n",
       "      <th>...</th>\n",
       "      <th>ratings_count</th>\n",
       "      <th>work_ratings_count</th>\n",
       "      <th>work_text_reviews_count</th>\n",
       "      <th>ratings_1</th>\n",
       "      <th>ratings_2</th>\n",
       "      <th>ratings_3</th>\n",
       "      <th>ratings_4</th>\n",
       "      <th>ratings_5</th>\n",
       "      <th>image_url</th>\n",
       "      <th>small_image_url</th>\n",
       "    </tr>\n",
       "  </thead>\n",
       "  <tbody>\n",
       "    <tr>\n",
       "      <th>0</th>\n",
       "      <td>1</td>\n",
       "      <td>2767052</td>\n",
       "      <td>2767052</td>\n",
       "      <td>2792775</td>\n",
       "      <td>272</td>\n",
       "      <td>439023483</td>\n",
       "      <td>9.780439e+12</td>\n",
       "      <td>Suzanne Collins</td>\n",
       "      <td>2008.0</td>\n",
       "      <td>The Hunger Games</td>\n",
       "      <td>...</td>\n",
       "      <td>4780653</td>\n",
       "      <td>4942365</td>\n",
       "      <td>155254</td>\n",
       "      <td>66715</td>\n",
       "      <td>127936</td>\n",
       "      <td>560092</td>\n",
       "      <td>1481305</td>\n",
       "      <td>2706317</td>\n",
       "      <td>https://images.gr-assets.com/books/1447303603m...</td>\n",
       "      <td>https://images.gr-assets.com/books/1447303603s...</td>\n",
       "    </tr>\n",
       "    <tr>\n",
       "      <th>1</th>\n",
       "      <td>2</td>\n",
       "      <td>3</td>\n",
       "      <td>3</td>\n",
       "      <td>4640799</td>\n",
       "      <td>491</td>\n",
       "      <td>439554934</td>\n",
       "      <td>9.780440e+12</td>\n",
       "      <td>J.K. Rowling, Mary GrandPré</td>\n",
       "      <td>1997.0</td>\n",
       "      <td>Harry Potter and the Philosopher's Stone</td>\n",
       "      <td>...</td>\n",
       "      <td>4602479</td>\n",
       "      <td>4800065</td>\n",
       "      <td>75867</td>\n",
       "      <td>75504</td>\n",
       "      <td>101676</td>\n",
       "      <td>455024</td>\n",
       "      <td>1156318</td>\n",
       "      <td>3011543</td>\n",
       "      <td>https://images.gr-assets.com/books/1474154022m...</td>\n",
       "      <td>https://images.gr-assets.com/books/1474154022s...</td>\n",
       "    </tr>\n",
       "  </tbody>\n",
       "</table>\n",
       "<p>2 rows × 23 columns</p>\n",
       "</div>"
      ],
      "text/plain": [
       "   book_id  goodreads_book_id  best_book_id  work_id  books_count       isbn  \\\n",
       "0        1            2767052       2767052  2792775          272  439023483   \n",
       "1        2                  3             3  4640799          491  439554934   \n",
       "\n",
       "         isbn13                      authors  original_publication_year  \\\n",
       "0  9.780439e+12              Suzanne Collins                     2008.0   \n",
       "1  9.780440e+12  J.K. Rowling, Mary GrandPré                     1997.0   \n",
       "\n",
       "                             original_title  ... ratings_count  \\\n",
       "0                          The Hunger Games  ...       4780653   \n",
       "1  Harry Potter and the Philosopher's Stone  ...       4602479   \n",
       "\n",
       "  work_ratings_count  work_text_reviews_count  ratings_1  ratings_2  \\\n",
       "0            4942365                   155254      66715     127936   \n",
       "1            4800065                    75867      75504     101676   \n",
       "\n",
       "   ratings_3  ratings_4  ratings_5  \\\n",
       "0     560092    1481305    2706317   \n",
       "1     455024    1156318    3011543   \n",
       "\n",
       "                                           image_url  \\\n",
       "0  https://images.gr-assets.com/books/1447303603m...   \n",
       "1  https://images.gr-assets.com/books/1474154022m...   \n",
       "\n",
       "                                     small_image_url  \n",
       "0  https://images.gr-assets.com/books/1447303603s...  \n",
       "1  https://images.gr-assets.com/books/1474154022s...  \n",
       "\n",
       "[2 rows x 23 columns]"
      ]
     },
     "execution_count": 3,
     "metadata": {},
     "output_type": "execute_result"
    }
   ],
   "source": [
    "# Dimensions\n",
    "print(f\"Number of records: {books.shape[0]}\")\n",
    "print(f\"Number of columns: {books.shape[1]}\")\n",
    "books.head(2)"
   ]
  },
  {
   "cell_type": "code",
   "execution_count": 4,
   "id": "29666e01-9e55-4e0c-a8cc-eba787ef5da9",
   "metadata": {},
   "outputs": [
    {
     "data": {
      "text/plain": [
       "int64      13\n",
       "object      7\n",
       "float64     3\n",
       "Name: count, dtype: int64"
      ]
     },
     "metadata": {},
     "output_type": "display_data"
    },
    {
     "name": "stdout",
     "output_type": "stream",
     "text": [
      "\n",
      "\n"
     ]
    },
    {
     "data": {
      "text/plain": [
       "book_id                        int64\n",
       "goodreads_book_id              int64\n",
       "best_book_id                   int64\n",
       "work_id                        int64\n",
       "books_count                    int64\n",
       "isbn                          object\n",
       "isbn13                       float64\n",
       "authors                       object\n",
       "original_publication_year    float64\n",
       "original_title                object\n",
       "title                         object\n",
       "language_code                 object\n",
       "average_rating               float64\n",
       "ratings_count                  int64\n",
       "work_ratings_count             int64\n",
       "work_text_reviews_count        int64\n",
       "ratings_1                      int64\n",
       "ratings_2                      int64\n",
       "ratings_3                      int64\n",
       "ratings_4                      int64\n",
       "ratings_5                      int64\n",
       "image_url                     object\n",
       "small_image_url               object\n",
       "dtype: object"
      ]
     },
     "execution_count": 4,
     "metadata": {},
     "output_type": "execute_result"
    }
   ],
   "source": [
    "# Data types\n",
    "display(books.dtypes.value_counts())\n",
    "print(\"\\n\")\n",
    "books.dtypes"
   ]
  },
  {
   "cell_type": "code",
   "execution_count": 5,
   "id": "f172ed56-4c20-49e4-92ff-3e81e9a07525",
   "metadata": {},
   "outputs": [
    {
     "data": {
      "text/plain": [
       "language_code\n",
       "eng      6341\n",
       "en-US    2070\n",
       "en-GB     257\n",
       "ara        64\n",
       "en-CA      58\n",
       "fre        25\n",
       "ind        21\n",
       "spa        20\n",
       "ger        13\n",
       "per         7\n",
       "jpn         7\n",
       "por         6\n",
       "pol         6\n",
       "en          4\n",
       "nor         3\n",
       "dan         3\n",
       "fil         2\n",
       "ita         2\n",
       "vie         1\n",
       "tur         1\n",
       "nl          1\n",
       "swe         1\n",
       "rum         1\n",
       "mul         1\n",
       "rus         1\n",
       "Name: count, dtype: int64"
      ]
     },
     "metadata": {},
     "output_type": "display_data"
    }
   ],
   "source": [
    "# Languages\n",
    "display(books.language_code.value_counts())"
   ]
  },
  {
   "cell_type": "code",
   "execution_count": 6,
   "id": "bd7999d7-6f5f-4e3e-a955-aae13e611545",
   "metadata": {},
   "outputs": [
    {
     "name": "stdout",
     "output_type": "stream",
     "text": [
      "Number of records: 8726\n"
     ]
    }
   ],
   "source": [
    "# Get a list of book_ids for non-english books\n",
    "non_english_book_ids = books.loc[books.language_code.isin(['eng', 'en-US', 'en-GB', 'en-CA'])==False, \"book_id\"].tolist()\n",
    "\n",
    "# Filter so only English books remain\n",
    "books = books.loc[books.language_code.isin(['eng', 'en-US', 'en-GB', 'en-CA'])]\n",
    "books = books.reset_index(drop=True)\n",
    "print(f\"Number of records: {books.shape[0]}\")"
   ]
  },
  {
   "cell_type": "code",
   "execution_count": 7,
   "id": "622134fb-3737-4e2f-93aa-6954b1cb3648",
   "metadata": {},
   "outputs": [
    {
     "data": {
      "text/plain": [
       "isbn                         584\n",
       "isbn13                       508\n",
       "original_publication_year     15\n",
       "original_title               494\n",
       "dtype: int64"
      ]
     },
     "execution_count": 7,
     "metadata": {},
     "output_type": "execute_result"
    }
   ],
   "source": [
    "# Missing values\n",
    "books.isnull().sum()[(books.isnull().sum() > 1)]"
   ]
  },
  {
   "cell_type": "code",
   "execution_count": 8,
   "id": "002545cf-8050-4220-8f6b-e5e40a676d5e",
   "metadata": {},
   "outputs": [
    {
     "data": {
      "text/html": [
       "<div>\n",
       "<style scoped>\n",
       "    .dataframe tbody tr th:only-of-type {\n",
       "        vertical-align: middle;\n",
       "    }\n",
       "\n",
       "    .dataframe tbody tr th {\n",
       "        vertical-align: top;\n",
       "    }\n",
       "\n",
       "    .dataframe thead th {\n",
       "        text-align: right;\n",
       "    }\n",
       "</style>\n",
       "<table border=\"1\" class=\"dataframe\">\n",
       "  <thead>\n",
       "    <tr style=\"text-align: right;\">\n",
       "      <th></th>\n",
       "      <th>book_id</th>\n",
       "      <th>goodreads_book_id</th>\n",
       "      <th>best_book_id</th>\n",
       "      <th>work_id</th>\n",
       "      <th>books_count</th>\n",
       "      <th>isbn</th>\n",
       "      <th>isbn13</th>\n",
       "      <th>authors</th>\n",
       "      <th>original_publication_year</th>\n",
       "      <th>original_title</th>\n",
       "      <th>...</th>\n",
       "      <th>ratings_count</th>\n",
       "      <th>work_ratings_count</th>\n",
       "      <th>work_text_reviews_count</th>\n",
       "      <th>ratings_1</th>\n",
       "      <th>ratings_2</th>\n",
       "      <th>ratings_3</th>\n",
       "      <th>ratings_4</th>\n",
       "      <th>ratings_5</th>\n",
       "      <th>image_url</th>\n",
       "      <th>small_image_url</th>\n",
       "    </tr>\n",
       "  </thead>\n",
       "  <tbody>\n",
       "  </tbody>\n",
       "</table>\n",
       "<p>0 rows × 23 columns</p>\n",
       "</div>"
      ],
      "text/plain": [
       "Empty DataFrame\n",
       "Columns: [book_id, goodreads_book_id, best_book_id, work_id, books_count, isbn, isbn13, authors, original_publication_year, original_title, title, language_code, average_rating, ratings_count, work_ratings_count, work_text_reviews_count, ratings_1, ratings_2, ratings_3, ratings_4, ratings_5, image_url, small_image_url]\n",
       "Index: []\n",
       "\n",
       "[0 rows x 23 columns]"
      ]
     },
     "execution_count": 8,
     "metadata": {},
     "output_type": "execute_result"
    }
   ],
   "source": [
    "# Duplicate values\n",
    "books[books.duplicated()]"
   ]
  },
  {
   "cell_type": "code",
   "execution_count": 9,
   "id": "7d941396-2b12-4e18-b154-292016778d2d",
   "metadata": {
    "tags": []
   },
   "outputs": [
    {
     "data": {
      "text/plain": [
       "book_id                      8726\n",
       "goodreads_book_id            8726\n",
       "best_book_id                 8726\n",
       "work_id                      8726\n",
       "books_count                   563\n",
       "isbn                         8142\n",
       "isbn13                       7995\n",
       "authors                      4086\n",
       "original_publication_year     277\n",
       "original_title               8110\n",
       "title                        8703\n",
       "language_code                   4\n",
       "average_rating                182\n",
       "ratings_count                8014\n",
       "work_ratings_count           8024\n",
       "work_text_reviews_count      4430\n",
       "ratings_1                    2549\n",
       "ratings_2                    3959\n",
       "ratings_3                    6402\n",
       "ratings_4                    7065\n",
       "ratings_5                    7326\n",
       "image_url                    5992\n",
       "small_image_url              5992\n",
       "dtype: int64"
      ]
     },
     "execution_count": 9,
     "metadata": {},
     "output_type": "execute_result"
    }
   ],
   "source": [
    "# Number of unique value per columns\n",
    "books.nunique()"
   ]
  },
  {
   "cell_type": "code",
   "execution_count": 10,
   "id": "f4ac38d0-6c9c-4093-80e5-fcb2bba3082d",
   "metadata": {
    "tags": []
   },
   "outputs": [
    {
     "data": {
      "text/html": [
       "<div>\n",
       "<style scoped>\n",
       "    .dataframe tbody tr th:only-of-type {\n",
       "        vertical-align: middle;\n",
       "    }\n",
       "\n",
       "    .dataframe tbody tr th {\n",
       "        vertical-align: top;\n",
       "    }\n",
       "\n",
       "    .dataframe thead th {\n",
       "        text-align: right;\n",
       "    }\n",
       "</style>\n",
       "<table border=\"1\" class=\"dataframe\">\n",
       "  <thead>\n",
       "    <tr style=\"text-align: right;\">\n",
       "      <th></th>\n",
       "      <th>average_rating</th>\n",
       "      <th>work_ratings_count</th>\n",
       "    </tr>\n",
       "  </thead>\n",
       "  <tbody>\n",
       "    <tr>\n",
       "      <th>count</th>\n",
       "      <td>8726.000000</td>\n",
       "      <td>8.726000e+03</td>\n",
       "    </tr>\n",
       "    <tr>\n",
       "      <th>mean</th>\n",
       "      <td>4.003309</td>\n",
       "      <td>6.430620e+04</td>\n",
       "    </tr>\n",
       "    <tr>\n",
       "      <th>std</th>\n",
       "      <td>0.252592</td>\n",
       "      <td>1.778604e+05</td>\n",
       "    </tr>\n",
       "    <tr>\n",
       "      <th>min</th>\n",
       "      <td>2.470000</td>\n",
       "      <td>6.323000e+03</td>\n",
       "    </tr>\n",
       "    <tr>\n",
       "      <th>25%</th>\n",
       "      <td>3.850000</td>\n",
       "      <td>1.610650e+04</td>\n",
       "    </tr>\n",
       "    <tr>\n",
       "      <th>50%</th>\n",
       "      <td>4.020000</td>\n",
       "      <td>2.509650e+04</td>\n",
       "    </tr>\n",
       "    <tr>\n",
       "      <th>75%</th>\n",
       "      <td>4.180000</td>\n",
       "      <td>4.952025e+04</td>\n",
       "    </tr>\n",
       "    <tr>\n",
       "      <th>max</th>\n",
       "      <td>4.820000</td>\n",
       "      <td>4.942365e+06</td>\n",
       "    </tr>\n",
       "  </tbody>\n",
       "</table>\n",
       "</div>"
      ],
      "text/plain": [
       "       average_rating  work_ratings_count\n",
       "count     8726.000000        8.726000e+03\n",
       "mean         4.003309        6.430620e+04\n",
       "std          0.252592        1.778604e+05\n",
       "min          2.470000        6.323000e+03\n",
       "25%          3.850000        1.610650e+04\n",
       "50%          4.020000        2.509650e+04\n",
       "75%          4.180000        4.952025e+04\n",
       "max          4.820000        4.942365e+06"
      ]
     },
     "execution_count": 10,
     "metadata": {},
     "output_type": "execute_result"
    }
   ],
   "source": [
    "books[['average_rating', 'work_ratings_count']].describe()"
   ]
  },
  {
   "cell_type": "code",
   "execution_count": 11,
   "id": "0544ac90-2062-4e6c-815e-7b2e8a26b652",
   "metadata": {
    "tags": []
   },
   "outputs": [
    {
     "data": {
      "image/png": "[encoded data removed]",
      "text/plain": [
       "<Figure size 640x480 with 1 Axes>"
      ]
     },
     "metadata": {},
     "output_type": "display_data"
    }
   ],
   "source": [
    "# Average rating per book\n",
    "fig, axes = plt.subplots()\n",
    "axes.tick_params(bottom=False, left=False)\n",
    "axes.grid(True)\n",
    "axes.spines[['top', 'right']].set_visible(False)\n",
    "axes.spines[['left', 'bottom']].set_color('dimgray')\n",
    "axes.set_xlabel('Avg rating per book', fontsize=10, color='dimgray')\n",
    "axes.set_ylabel('Count', fontsize=10, color='dimgray')\n",
    "axes.hist(books['average_rating']);"
   ]
  },
  {
   "cell_type": "code",
   "execution_count": 12,
   "id": "40e3df90-7e8c-4ac0-b558-b5def49a6b86",
   "metadata": {
    "tags": []
   },
   "outputs": [
    {
     "data": {
      "image/png": "[encoded data removed]",
      "text/plain": [
       "<Figure size 640x480 with 1 Axes>"
      ]
     },
     "metadata": {},
     "output_type": "display_data"
    }
   ],
   "source": [
    "# Average rating per book\n",
    "fig, axes = plt.subplots()\n",
    "axes.tick_params(bottom=False, left=False)\n",
    "axes.grid(True)\n",
    "axes.spines[['top', 'right']].set_visible(False)\n",
    "axes.spines[['left', 'bottom']].set_color('dimgray')\n",
    "axes.set_xlabel('Ratings per book', fontsize=10, color='dimgray')\n",
    "axes.set_ylabel('Count', fontsize=10, color='dimgray')\n",
    "axes.hist(books['work_ratings_count']);"
   ]
  },
  {
   "cell_type": "markdown",
   "id": "9ea2a380-81ed-48b0-8c28-882f0dfa4057",
   "metadata": {},
   "source": [
    "### ratings"
   ]
  },
  {
   "cell_type": "code",
   "execution_count": 13,
   "id": "15b36ddf-8611-4f10-a919-0e74abde9fcc",
   "metadata": {},
   "outputs": [
    {
     "name": "stdout",
     "output_type": "stream",
     "text": [
      "Number of records: 5976479\n",
      "Number of columns: 3\n"
     ]
    },
    {
     "data": {
      "text/html": [
       "<div>\n",
       "<style scoped>\n",
       "    .dataframe tbody tr th:only-of-type {\n",
       "        vertical-align: middle;\n",
       "    }\n",
       "\n",
       "    .dataframe tbody tr th {\n",
       "        vertical-align: top;\n",
       "    }\n",
       "\n",
       "    .dataframe thead th {\n",
       "        text-align: right;\n",
       "    }\n",
       "</style>\n",
       "<table border=\"1\" class=\"dataframe\">\n",
       "  <thead>\n",
       "    <tr style=\"text-align: right;\">\n",
       "      <th></th>\n",
       "      <th>user_id</th>\n",
       "      <th>book_id</th>\n",
       "      <th>rating</th>\n",
       "    </tr>\n",
       "  </thead>\n",
       "  <tbody>\n",
       "    <tr>\n",
       "      <th>0</th>\n",
       "      <td>1</td>\n",
       "      <td>258</td>\n",
       "      <td>5</td>\n",
       "    </tr>\n",
       "    <tr>\n",
       "      <th>1</th>\n",
       "      <td>2</td>\n",
       "      <td>4081</td>\n",
       "      <td>4</td>\n",
       "    </tr>\n",
       "  </tbody>\n",
       "</table>\n",
       "</div>"
      ],
      "text/plain": [
       "   user_id  book_id  rating\n",
       "0        1      258       5\n",
       "1        2     4081       4"
      ]
     },
     "execution_count": 13,
     "metadata": {},
     "output_type": "execute_result"
    }
   ],
   "source": [
    "# Dimensions\n",
    "print(f\"Number of records: {ratings.shape[0]}\")\n",
    "print(f\"Number of columns: {ratings.shape[1]}\")\n",
    "ratings.head(2)"
   ]
  },
  {
   "cell_type": "code",
   "execution_count": 14,
   "id": "a718e3b5-2a2c-4a7b-99c0-1183e8686c54",
   "metadata": {},
   "outputs": [
    {
     "name": "stdout",
     "output_type": "stream",
     "text": [
      "Number of records: 5577975\n"
     ]
    }
   ],
   "source": [
    "# Filter out non english books\n",
    "ratings = ratings.loc[ratings[\"book_id\"].isin(non_english_book_ids)==False]\n",
    "ratings = ratings.reset_index(drop=True)\n",
    "print(f\"Number of records: {ratings.shape[0]}\")"
   ]
  },
  {
   "cell_type": "code",
   "execution_count": 15,
   "id": "b8513fa4-34a9-44d0-887e-e145f6d2315c",
   "metadata": {},
   "outputs": [
    {
     "data": {
      "text/plain": [
       "int64    3\n",
       "Name: count, dtype: int64"
      ]
     },
     "metadata": {},
     "output_type": "display_data"
    },
    {
     "name": "stdout",
     "output_type": "stream",
     "text": [
      "\n",
      "\n"
     ]
    },
    {
     "data": {
      "text/plain": [
       "user_id    int64\n",
       "book_id    int64\n",
       "rating     int64\n",
       "dtype: object"
      ]
     },
     "execution_count": 15,
     "metadata": {},
     "output_type": "execute_result"
    }
   ],
   "source": [
    "# Data types\n",
    "display(ratings.dtypes.value_counts())\n",
    "print(\"\\n\")\n",
    "ratings.dtypes"
   ]
  },
  {
   "cell_type": "code",
   "execution_count": 16,
   "id": "317f6d01-8982-484a-9b7b-d4aca4f307f7",
   "metadata": {},
   "outputs": [
    {
     "data": {
      "text/plain": [
       "Series([], dtype: int64)"
      ]
     },
     "execution_count": 16,
     "metadata": {},
     "output_type": "execute_result"
    }
   ],
   "source": [
    "# Missing values\n",
    "ratings.isnull().sum()[(ratings.isnull().sum() > 1)]"
   ]
  },
  {
   "cell_type": "code",
   "execution_count": 17,
   "id": "cca204a9-606c-43e5-bf6f-30ac02fd7de6",
   "metadata": {},
   "outputs": [
    {
     "data": {
      "text/html": [
       "<div>\n",
       "<style scoped>\n",
       "    .dataframe tbody tr th:only-of-type {\n",
       "        vertical-align: middle;\n",
       "    }\n",
       "\n",
       "    .dataframe tbody tr th {\n",
       "        vertical-align: top;\n",
       "    }\n",
       "\n",
       "    .dataframe thead th {\n",
       "        text-align: right;\n",
       "    }\n",
       "</style>\n",
       "<table border=\"1\" class=\"dataframe\">\n",
       "  <thead>\n",
       "    <tr style=\"text-align: right;\">\n",
       "      <th></th>\n",
       "      <th>user_id</th>\n",
       "      <th>book_id</th>\n",
       "      <th>rating</th>\n",
       "    </tr>\n",
       "  </thead>\n",
       "  <tbody>\n",
       "  </tbody>\n",
       "</table>\n",
       "</div>"
      ],
      "text/plain": [
       "Empty DataFrame\n",
       "Columns: [user_id, book_id, rating]\n",
       "Index: []"
      ]
     },
     "execution_count": 17,
     "metadata": {},
     "output_type": "execute_result"
    }
   ],
   "source": [
    "# Duplicate values\n",
    "ratings[ratings.duplicated()]"
   ]
  },
  {
   "cell_type": "code",
   "execution_count": 18,
   "id": "45f88719-ce42-43ad-9b14-17fb838bcbb3",
   "metadata": {
    "tags": []
   },
   "outputs": [
    {
     "data": {
      "text/plain": [
       "count    53424.000000\n",
       "mean       104.409535\n",
       "std         25.367577\n",
       "min          1.000000\n",
       "25%         90.000000\n",
       "50%        104.000000\n",
       "75%        120.000000\n",
       "max        195.000000\n",
       "Name: rating, dtype: float64"
      ]
     },
     "execution_count": 18,
     "metadata": {},
     "output_type": "execute_result"
    }
   ],
   "source": [
    "# Number of ratings per user\n",
    "ratings_per_user = ratings.groupby(\"user_id\")[\"rating\"].count().sort_values()\n",
    "ratings_per_user.describe()"
   ]
  },
  {
   "cell_type": "code",
   "execution_count": 19,
   "id": "12bdf87d-b381-4408-8aca-e4afb5416572",
   "metadata": {
    "tags": []
   },
   "outputs": [
    {
     "data": {
      "image/png": "[encoded data removed]",
      "text/plain": [
       "<Figure size 640x480 with 1 Axes>"
      ]
     },
     "metadata": {},
     "output_type": "display_data"
    }
   ],
   "source": [
    "# Number of ratings per user\n",
    "fig, axes = plt.subplots()\n",
    "axes.tick_params(bottom=False, left=False)\n",
    "axes.grid(True)\n",
    "axes.spines[['top', 'right']].set_visible(False)\n",
    "axes.spines[['left', 'bottom']].set_color('dimgray')\n",
    "axes.set_xlabel('Ratings per user', fontsize=10, color='dimgray')\n",
    "axes.set_ylabel('Count', fontsize=10, color='dimgray')\n",
    "axes.hist(ratings_per_user);"
   ]
  },
  {
   "cell_type": "markdown",
   "id": "aeab7d0b-4369-4121-abd8-0601dd72b3ac",
   "metadata": {},
   "source": [
    "### to read"
   ]
  },
  {
   "cell_type": "code",
   "execution_count": 20,
   "id": "f5730c75-5626-461e-a1c8-8dbe74a8e078",
   "metadata": {},
   "outputs": [
    {
     "name": "stdout",
     "output_type": "stream",
     "text": [
      "Number of records: 912705\n",
      "Number of columns: 2\n"
     ]
    },
    {
     "data": {
      "text/html": [
       "<div>\n",
       "<style scoped>\n",
       "    .dataframe tbody tr th:only-of-type {\n",
       "        vertical-align: middle;\n",
       "    }\n",
       "\n",
       "    .dataframe tbody tr th {\n",
       "        vertical-align: top;\n",
       "    }\n",
       "\n",
       "    .dataframe thead th {\n",
       "        text-align: right;\n",
       "    }\n",
       "</style>\n",
       "<table border=\"1\" class=\"dataframe\">\n",
       "  <thead>\n",
       "    <tr style=\"text-align: right;\">\n",
       "      <th></th>\n",
       "      <th>user_id</th>\n",
       "      <th>book_id</th>\n",
       "    </tr>\n",
       "  </thead>\n",
       "  <tbody>\n",
       "    <tr>\n",
       "      <th>0</th>\n",
       "      <td>9</td>\n",
       "      <td>8</td>\n",
       "    </tr>\n",
       "    <tr>\n",
       "      <th>1</th>\n",
       "      <td>15</td>\n",
       "      <td>398</td>\n",
       "    </tr>\n",
       "  </tbody>\n",
       "</table>\n",
       "</div>"
      ],
      "text/plain": [
       "   user_id  book_id\n",
       "0        9        8\n",
       "1       15      398"
      ]
     },
     "execution_count": 20,
     "metadata": {},
     "output_type": "execute_result"
    }
   ],
   "source": [
    "# Dimensions\n",
    "print(f\"Number of records: {to_read.shape[0]}\")\n",
    "print(f\"Number of columns: {to_read.shape[1]}\")\n",
    "to_read.head(2)"
   ]
  },
  {
   "cell_type": "code",
   "execution_count": 21,
   "id": "3aa56577-41ae-4928-8cfa-0e174e353d03",
   "metadata": {},
   "outputs": [
    {
     "name": "stdout",
     "output_type": "stream",
     "text": [
      "Number of records: 861285\n"
     ]
    }
   ],
   "source": [
    "# Filter out non english books\n",
    "to_read = to_read.loc[to_read[\"book_id\"].isin(non_english_book_ids)==False]\n",
    "to_read = to_read.reset_index(drop=True)\n",
    "print(f\"Number of records: {to_read.shape[0]}\")"
   ]
  },
  {
   "cell_type": "code",
   "execution_count": 22,
   "id": "b5dd1ae4-9888-4b36-b397-4f66d8dcbf21",
   "metadata": {},
   "outputs": [
    {
     "data": {
      "text/plain": [
       "int64    2\n",
       "Name: count, dtype: int64"
      ]
     },
     "metadata": {},
     "output_type": "display_data"
    },
    {
     "name": "stdout",
     "output_type": "stream",
     "text": [
      "\n",
      "\n"
     ]
    },
    {
     "data": {
      "text/plain": [
       "user_id    int64\n",
       "book_id    int64\n",
       "dtype: object"
      ]
     },
     "execution_count": 22,
     "metadata": {},
     "output_type": "execute_result"
    }
   ],
   "source": [
    "# Data types\n",
    "display(to_read.dtypes.value_counts())\n",
    "print(\"\\n\")\n",
    "to_read.dtypes"
   ]
  },
  {
   "cell_type": "code",
   "execution_count": 23,
   "id": "c9ba8e85-230a-48b5-bbca-1e099248d33b",
   "metadata": {},
   "outputs": [
    {
     "data": {
      "text/plain": [
       "Series([], dtype: int64)"
      ]
     },
     "execution_count": 23,
     "metadata": {},
     "output_type": "execute_result"
    }
   ],
   "source": [
    "# Missing values\n",
    "to_read.isnull().sum()[(to_read.isnull().sum() > 1)]"
   ]
  },
  {
   "cell_type": "code",
   "execution_count": 24,
   "id": "5b30d5d1-ec2d-4263-b457-7ef4c850dd7e",
   "metadata": {},
   "outputs": [
    {
     "data": {
      "text/html": [
       "<div>\n",
       "<style scoped>\n",
       "    .dataframe tbody tr th:only-of-type {\n",
       "        vertical-align: middle;\n",
       "    }\n",
       "\n",
       "    .dataframe tbody tr th {\n",
       "        vertical-align: top;\n",
       "    }\n",
       "\n",
       "    .dataframe thead th {\n",
       "        text-align: right;\n",
       "    }\n",
       "</style>\n",
       "<table border=\"1\" class=\"dataframe\">\n",
       "  <thead>\n",
       "    <tr style=\"text-align: right;\">\n",
       "      <th></th>\n",
       "      <th>user_id</th>\n",
       "      <th>book_id</th>\n",
       "    </tr>\n",
       "  </thead>\n",
       "  <tbody>\n",
       "  </tbody>\n",
       "</table>\n",
       "</div>"
      ],
      "text/plain": [
       "Empty DataFrame\n",
       "Columns: [user_id, book_id]\n",
       "Index: []"
      ]
     },
     "execution_count": 24,
     "metadata": {},
     "output_type": "execute_result"
    }
   ],
   "source": [
    "# Duplicate values\n",
    "to_read[to_read.duplicated()]"
   ]
  },
  {
   "cell_type": "code",
   "execution_count": 25,
   "id": "27d40e36-57e7-4ef1-9d25-4d349830cf96",
   "metadata": {
    "tags": []
   },
   "outputs": [
    {
     "data": {
      "text/plain": [
       "count    48646.000000\n",
       "mean        17.705156\n",
       "std         15.275207\n",
       "min          1.000000\n",
       "25%          6.000000\n",
       "50%         13.000000\n",
       "75%         26.000000\n",
       "max        107.000000\n",
       "Name: book_id, dtype: float64"
      ]
     },
     "execution_count": 25,
     "metadata": {},
     "output_type": "execute_result"
    }
   ],
   "source": [
    "# To read per user\n",
    "toread_per_user = to_read.groupby(\"user_id\")[\"book_id\"].count().sort_values()\n",
    "toread_per_user.describe()"
   ]
  },
  {
   "cell_type": "code",
   "execution_count": 26,
   "id": "726a29d4-8162-4be1-93a9-1bcaf9552299",
   "metadata": {
    "tags": []
   },
   "outputs": [
    {
     "data": {
      "image/png": "[encoded data removed]",
      "text/plain": [
       "<Figure size 640x480 with 1 Axes>"
      ]
     },
     "metadata": {},
     "output_type": "display_data"
    }
   ],
   "source": [
    "# Number of books to read per user\n",
    "fig, axes = plt.subplots()\n",
    "axes.tick_params(bottom=False, left=False)\n",
    "axes.grid(True)\n",
    "axes.spines[['top', 'right']].set_visible(False)\n",
    "axes.spines[['left', 'bottom']].set_color('dimgray')\n",
    "axes.set_xlabel('To read per user', fontsize=10, color='dimgray')\n",
    "axes.set_ylabel('Count', fontsize=10, color='dimgray')\n",
    "axes.hist(toread_per_user);"
   ]
  },
  {
   "cell_type": "markdown",
   "id": "172ef942-a2f2-4339-bbd2-1aa3697a7d8a",
   "metadata": {},
   "source": [
    "### book tags"
   ]
  },
  {
   "cell_type": "code",
   "execution_count": 27,
   "id": "598586f7-7220-4534-a029-ac1f0012b4bf",
   "metadata": {},
   "outputs": [
    {
     "name": "stdout",
     "output_type": "stream",
     "text": [
      "Number of records: 999912\n",
      "Number of columns: 3\n"
     ]
    },
    {
     "data": {
      "text/html": [
       "<div>\n",
       "<style scoped>\n",
       "    .dataframe tbody tr th:only-of-type {\n",
       "        vertical-align: middle;\n",
       "    }\n",
       "\n",
       "    .dataframe tbody tr th {\n",
       "        vertical-align: top;\n",
       "    }\n",
       "\n",
       "    .dataframe thead th {\n",
       "        text-align: right;\n",
       "    }\n",
       "</style>\n",
       "<table border=\"1\" class=\"dataframe\">\n",
       "  <thead>\n",
       "    <tr style=\"text-align: right;\">\n",
       "      <th></th>\n",
       "      <th>goodreads_book_id</th>\n",
       "      <th>tag_id</th>\n",
       "      <th>count</th>\n",
       "    </tr>\n",
       "  </thead>\n",
       "  <tbody>\n",
       "    <tr>\n",
       "      <th>0</th>\n",
       "      <td>1</td>\n",
       "      <td>30574</td>\n",
       "      <td>167697</td>\n",
       "    </tr>\n",
       "    <tr>\n",
       "      <th>1</th>\n",
       "      <td>1</td>\n",
       "      <td>11305</td>\n",
       "      <td>37174</td>\n",
       "    </tr>\n",
       "  </tbody>\n",
       "</table>\n",
       "</div>"
      ],
      "text/plain": [
       "   goodreads_book_id  tag_id   count\n",
       "0                  1   30574  167697\n",
       "1                  1   11305   37174"
      ]
     },
     "execution_count": 27,
     "metadata": {},
     "output_type": "execute_result"
    }
   ],
   "source": [
    "# Dimensions\n",
    "print(f\"Number of records: {book_tags.shape[0]}\")\n",
    "print(f\"Number of columns: {book_tags.shape[1]}\")\n",
    "book_tags.head(2)"
   ]
  },
  {
   "cell_type": "code",
   "execution_count": 28,
   "id": "bf1468ba-15d4-4c75-884d-af990d137866",
   "metadata": {},
   "outputs": [
    {
     "data": {
      "text/plain": [
       "int64    3\n",
       "Name: count, dtype: int64"
      ]
     },
     "metadata": {},
     "output_type": "display_data"
    },
    {
     "name": "stdout",
     "output_type": "stream",
     "text": [
      "\n",
      "\n"
     ]
    },
    {
     "data": {
      "text/plain": [
       "goodreads_book_id    int64\n",
       "tag_id               int64\n",
       "count                int64\n",
       "dtype: object"
      ]
     },
     "execution_count": 28,
     "metadata": {},
     "output_type": "execute_result"
    }
   ],
   "source": [
    "# Data types\n",
    "display(book_tags.dtypes.value_counts())\n",
    "print(\"\\n\")\n",
    "book_tags.dtypes"
   ]
  },
  {
   "cell_type": "code",
   "execution_count": 29,
   "id": "7fb616a7-6143-4889-9046-281cf907f5bb",
   "metadata": {},
   "outputs": [
    {
     "data": {
      "text/plain": [
       "Series([], dtype: int64)"
      ]
     },
     "execution_count": 29,
     "metadata": {},
     "output_type": "execute_result"
    }
   ],
   "source": [
    "# Missing values\n",
    "book_tags.isnull().sum()[(book_tags.isnull().sum() > 1)]"
   ]
  },
  {
   "cell_type": "code",
   "execution_count": 30,
   "id": "2a21c6ba-34dc-4cc1-8b70-c995b2539a9e",
   "metadata": {},
   "outputs": [
    {
     "data": {
      "text/html": [
       "<div>\n",
       "<style scoped>\n",
       "    .dataframe tbody tr th:only-of-type {\n",
       "        vertical-align: middle;\n",
       "    }\n",
       "\n",
       "    .dataframe tbody tr th {\n",
       "        vertical-align: top;\n",
       "    }\n",
       "\n",
       "    .dataframe thead th {\n",
       "        text-align: right;\n",
       "    }\n",
       "</style>\n",
       "<table border=\"1\" class=\"dataframe\">\n",
       "  <thead>\n",
       "    <tr style=\"text-align: right;\">\n",
       "      <th></th>\n",
       "      <th>goodreads_book_id</th>\n",
       "      <th>tag_id</th>\n",
       "      <th>count</th>\n",
       "    </tr>\n",
       "  </thead>\n",
       "  <tbody>\n",
       "    <tr>\n",
       "      <th>159371</th>\n",
       "      <td>22369</td>\n",
       "      <td>25148</td>\n",
       "      <td>4</td>\n",
       "    </tr>\n",
       "    <tr>\n",
       "      <th>265128</th>\n",
       "      <td>52629</td>\n",
       "      <td>10094</td>\n",
       "      <td>1</td>\n",
       "    </tr>\n",
       "    <tr>\n",
       "      <th>265140</th>\n",
       "      <td>52629</td>\n",
       "      <td>2928</td>\n",
       "      <td>1</td>\n",
       "    </tr>\n",
       "    <tr>\n",
       "      <th>265155</th>\n",
       "      <td>52629</td>\n",
       "      <td>13272</td>\n",
       "      <td>1</td>\n",
       "    </tr>\n",
       "    <tr>\n",
       "      <th>265187</th>\n",
       "      <td>52629</td>\n",
       "      <td>13322</td>\n",
       "      <td>1</td>\n",
       "    </tr>\n",
       "    <tr>\n",
       "      <th>308771</th>\n",
       "      <td>77449</td>\n",
       "      <td>25148</td>\n",
       "      <td>7</td>\n",
       "    </tr>\n",
       "  </tbody>\n",
       "</table>\n",
       "</div>"
      ],
      "text/plain": [
       "        goodreads_book_id  tag_id  count\n",
       "159371              22369   25148      4\n",
       "265128              52629   10094      1\n",
       "265140              52629    2928      1\n",
       "265155              52629   13272      1\n",
       "265187              52629   13322      1\n",
       "308771              77449   25148      7"
      ]
     },
     "execution_count": 30,
     "metadata": {},
     "output_type": "execute_result"
    }
   ],
   "source": [
    "# Duplicate values\n",
    "book_tags[book_tags.duplicated()]"
   ]
  },
  {
   "cell_type": "code",
   "execution_count": 31,
   "id": "2284e34e-9b84-4c10-8d3b-032b1c9bb6d6",
   "metadata": {},
   "outputs": [],
   "source": [
    "# Remove duplicates\n",
    "book_tags = book_tags.loc[book_tags.duplicated() == False, :]"
   ]
  },
  {
   "cell_type": "code",
   "execution_count": 32,
   "id": "a8b4fe2d-5f4d-4b7a-9669-69c698b5d526",
   "metadata": {
    "tags": []
   },
   "outputs": [
    {
     "data": {
      "text/plain": [
       "count    10000.000000\n",
       "mean        99.990600\n",
       "std          0.585957\n",
       "min         56.000000\n",
       "25%        100.000000\n",
       "50%        100.000000\n",
       "75%        100.000000\n",
       "max        100.000000\n",
       "Name: tag_id, dtype: float64"
      ]
     },
     "execution_count": 32,
     "metadata": {},
     "output_type": "execute_result"
    }
   ],
   "source": [
    "# Number of tags per book\n",
    "tags_per_book = book_tags.groupby(\"goodreads_book_id\")[\"tag_id\"].count().sort_values()\n",
    "tags_per_book.describe()"
   ]
  },
  {
   "cell_type": "code",
   "execution_count": 33,
   "id": "754ce298-b9b5-4378-9068-2d3047c9104b",
   "metadata": {
    "tags": []
   },
   "outputs": [
    {
     "data": {
      "image/png": "[encoded data removed]",
      "text/plain": [
       "<Figure size 640x480 with 1 Axes>"
      ]
     },
     "metadata": {},
     "output_type": "display_data"
    }
   ],
   "source": [
    "# Number of tags per book\n",
    "fig, axes = plt.subplots()\n",
    "axes.tick_params(bottom=False, left=False)\n",
    "axes.grid(True)\n",
    "axes.spines[['top', 'right']].set_visible(False)\n",
    "axes.spines[['left', 'bottom']].set_color('dimgray')\n",
    "axes.set_xlabel('Tags per book', fontsize=10, color='dimgray')\n",
    "axes.set_ylabel('Count', fontsize=10, color='dimgray')\n",
    "axes.hist(tags_per_book);"
   ]
  },
  {
   "cell_type": "markdown",
   "id": "0ed3273c-9f81-4af8-b99b-ff4e7ca04d01",
   "metadata": {},
   "source": [
    "### tags"
   ]
  },
  {
   "cell_type": "code",
   "execution_count": 34,
   "id": "ba0c1854-e433-499a-8d3a-fd1e05ad1839",
   "metadata": {},
   "outputs": [
    {
     "name": "stdout",
     "output_type": "stream",
     "text": [
      "Number of records: 34252\n",
      "Number of columns: 2\n"
     ]
    },
    {
     "data": {
      "text/html": [
       "<div>\n",
       "<style scoped>\n",
       "    .dataframe tbody tr th:only-of-type {\n",
       "        vertical-align: middle;\n",
       "    }\n",
       "\n",
       "    .dataframe tbody tr th {\n",
       "        vertical-align: top;\n",
       "    }\n",
       "\n",
       "    .dataframe thead th {\n",
       "        text-align: right;\n",
       "    }\n",
       "</style>\n",
       "<table border=\"1\" class=\"dataframe\">\n",
       "  <thead>\n",
       "    <tr style=\"text-align: right;\">\n",
       "      <th></th>\n",
       "      <th>tag_id</th>\n",
       "      <th>tag_name</th>\n",
       "    </tr>\n",
       "  </thead>\n",
       "  <tbody>\n",
       "    <tr>\n",
       "      <th>0</th>\n",
       "      <td>0</td>\n",
       "      <td>-</td>\n",
       "    </tr>\n",
       "    <tr>\n",
       "      <th>1</th>\n",
       "      <td>1</td>\n",
       "      <td>--1-</td>\n",
       "    </tr>\n",
       "  </tbody>\n",
       "</table>\n",
       "</div>"
      ],
      "text/plain": [
       "   tag_id tag_name\n",
       "0       0        -\n",
       "1       1     --1-"
      ]
     },
     "execution_count": 34,
     "metadata": {},
     "output_type": "execute_result"
    }
   ],
   "source": [
    "# Dimensions\n",
    "print(f\"Number of records: {tags.shape[0]}\")\n",
    "print(f\"Number of columns: {tags.shape[1]}\")\n",
    "tags.head(2)"
   ]
  },
  {
   "cell_type": "code",
   "execution_count": 35,
   "id": "860edc60-a954-4a7d-afe4-14f838530b86",
   "metadata": {},
   "outputs": [
    {
     "data": {
      "text/plain": [
       "int64     1\n",
       "object    1\n",
       "Name: count, dtype: int64"
      ]
     },
     "metadata": {},
     "output_type": "display_data"
    },
    {
     "name": "stdout",
     "output_type": "stream",
     "text": [
      "\n",
      "\n"
     ]
    },
    {
     "data": {
      "text/plain": [
       "tag_id       int64\n",
       "tag_name    object\n",
       "dtype: object"
      ]
     },
     "execution_count": 35,
     "metadata": {},
     "output_type": "execute_result"
    }
   ],
   "source": [
    "# Data types\n",
    "display(tags.dtypes.value_counts())\n",
    "print(\"\\n\")\n",
    "tags.dtypes"
   ]
  },
  {
   "cell_type": "code",
   "execution_count": 36,
   "id": "7678ad4a-ac47-4125-922d-1a3edfc68f61",
   "metadata": {},
   "outputs": [
    {
     "data": {
      "text/plain": [
       "Series([], dtype: int64)"
      ]
     },
     "execution_count": 36,
     "metadata": {},
     "output_type": "execute_result"
    }
   ],
   "source": [
    "# Missing values\n",
    "tags.isnull().sum()[(tags.isnull().sum() > 1)]"
   ]
  },
  {
   "cell_type": "code",
   "execution_count": 37,
   "id": "c94d7dcd-3261-4d8c-83d4-eab61df137e1",
   "metadata": {},
   "outputs": [
    {
     "data": {
      "text/html": [
       "<div>\n",
       "<style scoped>\n",
       "    .dataframe tbody tr th:only-of-type {\n",
       "        vertical-align: middle;\n",
       "    }\n",
       "\n",
       "    .dataframe tbody tr th {\n",
       "        vertical-align: top;\n",
       "    }\n",
       "\n",
       "    .dataframe thead th {\n",
       "        text-align: right;\n",
       "    }\n",
       "</style>\n",
       "<table border=\"1\" class=\"dataframe\">\n",
       "  <thead>\n",
       "    <tr style=\"text-align: right;\">\n",
       "      <th></th>\n",
       "      <th>tag_id</th>\n",
       "      <th>tag_name</th>\n",
       "    </tr>\n",
       "  </thead>\n",
       "  <tbody>\n",
       "  </tbody>\n",
       "</table>\n",
       "</div>"
      ],
      "text/plain": [
       "Empty DataFrame\n",
       "Columns: [tag_id, tag_name]\n",
       "Index: []"
      ]
     },
     "execution_count": 37,
     "metadata": {},
     "output_type": "execute_result"
    }
   ],
   "source": [
    "# Duplicate values\n",
    "tags[tags.duplicated()]"
   ]
  },
  {
   "cell_type": "markdown",
   "id": "88b2db1b-4dbf-4b41-9029-72ee952053d6",
   "metadata": {},
   "source": [
    "## Pre-processing"
   ]
  },
  {
   "cell_type": "markdown",
   "id": "66069b7d-7178-4929-aec8-3b98facdfec8",
   "metadata": {},
   "source": [
    "### Decodes"
   ]
  },
  {
   "cell_type": "code",
   "execution_count": 38,
   "id": "16d0b3a1-a505-4a61-b1b3-1fa314bca982",
   "metadata": {},
   "outputs": [
    {
     "name": "stdout",
     "output_type": "stream",
     "text": [
      "Shape before join: (999906, 3)\n",
      "Shape after join: (999906, 4)\n",
      "\n",
      "Missing values :\n",
      "goodreads_book_id    0\n",
      "tag_id               0\n",
      "count                0\n",
      "tag_name             0\n",
      "dtype: int64\n"
     ]
    },
    {
     "data": {
      "text/html": [
       "<div>\n",
       "<style scoped>\n",
       "    .dataframe tbody tr th:only-of-type {\n",
       "        vertical-align: middle;\n",
       "    }\n",
       "\n",
       "    .dataframe tbody tr th {\n",
       "        vertical-align: top;\n",
       "    }\n",
       "\n",
       "    .dataframe thead th {\n",
       "        text-align: right;\n",
       "    }\n",
       "</style>\n",
       "<table border=\"1\" class=\"dataframe\">\n",
       "  <thead>\n",
       "    <tr style=\"text-align: right;\">\n",
       "      <th></th>\n",
       "      <th>goodreads_book_id</th>\n",
       "      <th>tag_id</th>\n",
       "      <th>count</th>\n",
       "      <th>tag_name</th>\n",
       "    </tr>\n",
       "  </thead>\n",
       "  <tbody>\n",
       "    <tr>\n",
       "      <th>0</th>\n",
       "      <td>1</td>\n",
       "      <td>30574</td>\n",
       "      <td>167697</td>\n",
       "      <td>to-read</td>\n",
       "    </tr>\n",
       "    <tr>\n",
       "      <th>1</th>\n",
       "      <td>1</td>\n",
       "      <td>11305</td>\n",
       "      <td>37174</td>\n",
       "      <td>fantasy</td>\n",
       "    </tr>\n",
       "    <tr>\n",
       "      <th>2</th>\n",
       "      <td>1</td>\n",
       "      <td>11557</td>\n",
       "      <td>34173</td>\n",
       "      <td>favorites</td>\n",
       "    </tr>\n",
       "    <tr>\n",
       "      <th>3</th>\n",
       "      <td>1</td>\n",
       "      <td>8717</td>\n",
       "      <td>12986</td>\n",
       "      <td>currently-reading</td>\n",
       "    </tr>\n",
       "    <tr>\n",
       "      <th>4</th>\n",
       "      <td>1</td>\n",
       "      <td>33114</td>\n",
       "      <td>12716</td>\n",
       "      <td>young-adult</td>\n",
       "    </tr>\n",
       "  </tbody>\n",
       "</table>\n",
       "</div>"
      ],
      "text/plain": [
       "   goodreads_book_id  tag_id   count           tag_name\n",
       "0                  1   30574  167697            to-read\n",
       "1                  1   11305   37174            fantasy\n",
       "2                  1   11557   34173          favorites\n",
       "3                  1    8717   12986  currently-reading\n",
       "4                  1   33114   12716        young-adult"
      ]
     },
     "metadata": {},
     "output_type": "display_data"
    }
   ],
   "source": [
    "# Add tag names to book tags df\n",
    "print(f\"Shape before join: {book_tags.shape}\")\n",
    "book_tags = book_tags.merge(tags, on=\"tag_id\", how=\"left\", suffixes=('', '_remove'))\n",
    "book_tags = book_tags.drop([col for col in book_tags.columns if 'remove' in col], axis=1)\n",
    "print(f\"Shape after join: {book_tags.shape}\")\n",
    "print(f\"\\nMissing values :\\n{book_tags.isna().sum()}\")\n",
    "display(book_tags.head())"
   ]
  },
  {
   "cell_type": "code",
   "execution_count": 39,
   "id": "c660bc5c-0508-479b-9bd2-8e985bf57964",
   "metadata": {},
   "outputs": [
    {
     "name": "stdout",
     "output_type": "stream",
     "text": [
      "Tag name lookup shape: (10000, 2)\n",
      "Missing book tags :\n",
      "0\n"
     ]
    },
    {
     "data": {
      "text/html": [
       "<div>\n",
       "<style scoped>\n",
       "    .dataframe tbody tr th:only-of-type {\n",
       "        vertical-align: middle;\n",
       "    }\n",
       "\n",
       "    .dataframe tbody tr th {\n",
       "        vertical-align: top;\n",
       "    }\n",
       "\n",
       "    .dataframe thead th {\n",
       "        text-align: right;\n",
       "    }\n",
       "</style>\n",
       "<table border=\"1\" class=\"dataframe\">\n",
       "  <thead>\n",
       "    <tr style=\"text-align: right;\">\n",
       "      <th></th>\n",
       "      <th>goodreads_book_id</th>\n",
       "      <th>book_tags</th>\n",
       "    </tr>\n",
       "  </thead>\n",
       "  <tbody>\n",
       "    <tr>\n",
       "      <th>0</th>\n",
       "      <td>1</td>\n",
       "      <td>to-read fantasy favorites currently-reading yo...</td>\n",
       "    </tr>\n",
       "    <tr>\n",
       "      <th>1</th>\n",
       "      <td>2</td>\n",
       "      <td>to-read currently-reading fantasy favorites ch...</td>\n",
       "    </tr>\n",
       "    <tr>\n",
       "      <th>2</th>\n",
       "      <td>3</td>\n",
       "      <td>to-read favorites fantasy currently-reading yo...</td>\n",
       "    </tr>\n",
       "    <tr>\n",
       "      <th>3</th>\n",
       "      <td>5</td>\n",
       "      <td>favorites fantasy currently-reading young-adul...</td>\n",
       "    </tr>\n",
       "    <tr>\n",
       "      <th>4</th>\n",
       "      <td>6</td>\n",
       "      <td>fantasy young-adult fiction harry-potter owned...</td>\n",
       "    </tr>\n",
       "  </tbody>\n",
       "</table>\n",
       "</div>"
      ],
      "text/plain": [
       "   goodreads_book_id                                          book_tags\n",
       "0                  1  to-read fantasy favorites currently-reading yo...\n",
       "1                  2  to-read currently-reading fantasy favorites ch...\n",
       "2                  3  to-read favorites fantasy currently-reading yo...\n",
       "3                  5  favorites fantasy currently-reading young-adul...\n",
       "4                  6  fantasy young-adult fiction harry-potter owned..."
      ]
     },
     "metadata": {},
     "output_type": "display_data"
    }
   ],
   "source": [
    "# Aggregate tag names by goodreads_book_id\n",
    "tag_name_lookup = book_tags.groupby(\"goodreads_book_id\")[\"tag_name\"].apply(list).rename(\"book_tags\")\n",
    "tag_name_lookup = tag_name_lookup.apply(lambda x: \" \".join(list(x)))\n",
    "tag_name_lookup = tag_name_lookup.reset_index()\n",
    "print(f\"Tag name lookup shape: {tag_name_lookup.shape}\")\n",
    "print(f\"Missing book tags :\\n{tag_name_lookup['book_tags'].isna().sum()}\")\n",
    "display(tag_name_lookup.head())"
   ]
  },
  {
   "cell_type": "code",
   "execution_count": 40,
   "id": "09c78f90-bc08-4de0-af79-8cce82094026",
   "metadata": {},
   "outputs": [
    {
     "name": "stdout",
     "output_type": "stream",
     "text": [
      "Shape before join: (8726, 23)\n",
      "Shape after join: (8726, 24)\n",
      "Missing book tags :\n",
      "0\n"
     ]
    },
    {
     "data": {
      "text/html": [
       "<div>\n",
       "<style scoped>\n",
       "    .dataframe tbody tr th:only-of-type {\n",
       "        vertical-align: middle;\n",
       "    }\n",
       "\n",
       "    .dataframe tbody tr th {\n",
       "        vertical-align: top;\n",
       "    }\n",
       "\n",
       "    .dataframe thead th {\n",
       "        text-align: right;\n",
       "    }\n",
       "</style>\n",
       "<table border=\"1\" class=\"dataframe\">\n",
       "  <thead>\n",
       "    <tr style=\"text-align: right;\">\n",
       "      <th></th>\n",
       "      <th>goodreads_book_id</th>\n",
       "      <th>book_tags</th>\n",
       "    </tr>\n",
       "  </thead>\n",
       "  <tbody>\n",
       "    <tr>\n",
       "      <th>0</th>\n",
       "      <td>2767052</td>\n",
       "      <td>favorites currently-reading young-adult fictio...</td>\n",
       "    </tr>\n",
       "    <tr>\n",
       "      <th>1</th>\n",
       "      <td>3</td>\n",
       "      <td>to-read favorites fantasy currently-reading yo...</td>\n",
       "    </tr>\n",
       "    <tr>\n",
       "      <th>2</th>\n",
       "      <td>41865</td>\n",
       "      <td>young-adult fantasy favorites vampires ya fict...</td>\n",
       "    </tr>\n",
       "    <tr>\n",
       "      <th>3</th>\n",
       "      <td>2657</td>\n",
       "      <td>classics favorites to-read classic historical-...</td>\n",
       "    </tr>\n",
       "    <tr>\n",
       "      <th>4</th>\n",
       "      <td>4671</td>\n",
       "      <td>classics favorites fiction classic books-i-own...</td>\n",
       "    </tr>\n",
       "  </tbody>\n",
       "</table>\n",
       "</div>"
      ],
      "text/plain": [
       "   goodreads_book_id                                          book_tags\n",
       "0            2767052  favorites currently-reading young-adult fictio...\n",
       "1                  3  to-read favorites fantasy currently-reading yo...\n",
       "2              41865  young-adult fantasy favorites vampires ya fict...\n",
       "3               2657  classics favorites to-read classic historical-...\n",
       "4               4671  classics favorites fiction classic books-i-own..."
      ]
     },
     "metadata": {},
     "output_type": "display_data"
    }
   ],
   "source": [
    "# Add aggregated tag names to books df\n",
    "print(f\"Shape before join: {books.shape}\")\n",
    "books = books.merge(tag_name_lookup, on=\"goodreads_book_id\", how=\"left\", suffixes=('', '_remove'))\n",
    "books = books.drop([col for col in books.columns if 'remove' in col], axis=1)\n",
    "print(f\"Shape after join: {books.shape}\")\n",
    "print(f\"Missing book tags :\\n{books['book_tags'].isna().sum()}\")\n",
    "display(books[[\"goodreads_book_id\", \"book_tags\"]].head())"
   ]
  },
  {
   "cell_type": "code",
   "execution_count": 41,
   "id": "018d63c5-88cc-470f-8046-f81dd6b3410c",
   "metadata": {},
   "outputs": [
    {
     "name": "stdout",
     "output_type": "stream",
     "text": [
      "Shape before join: (5577975, 3)\n",
      "Shape after join: (5577975, 6)\n",
      "Missing values :\n",
      "user_id      0\n",
      "book_id      0\n",
      "rating       0\n",
      "title        0\n",
      "authors      0\n",
      "book_tags    0\n",
      "dtype: int64\n"
     ]
    },
    {
     "data": {
      "text/html": [
       "<div>\n",
       "<style scoped>\n",
       "    .dataframe tbody tr th:only-of-type {\n",
       "        vertical-align: middle;\n",
       "    }\n",
       "\n",
       "    .dataframe tbody tr th {\n",
       "        vertical-align: top;\n",
       "    }\n",
       "\n",
       "    .dataframe thead th {\n",
       "        text-align: right;\n",
       "    }\n",
       "</style>\n",
       "<table border=\"1\" class=\"dataframe\">\n",
       "  <thead>\n",
       "    <tr style=\"text-align: right;\">\n",
       "      <th></th>\n",
       "      <th>user_id</th>\n",
       "      <th>book_id</th>\n",
       "      <th>rating</th>\n",
       "      <th>title</th>\n",
       "      <th>authors</th>\n",
       "      <th>book_tags</th>\n",
       "    </tr>\n",
       "  </thead>\n",
       "  <tbody>\n",
       "    <tr>\n",
       "      <th>0</th>\n",
       "      <td>1</td>\n",
       "      <td>258</td>\n",
       "      <td>5</td>\n",
       "      <td>The Shadow of the Wind (The Cemetery of Forgot...</td>\n",
       "      <td>Carlos Ruiz Zafón, Lucia Graves</td>\n",
       "      <td>to-read currently-reading favorites fiction hi...</td>\n",
       "    </tr>\n",
       "    <tr>\n",
       "      <th>1</th>\n",
       "      <td>2</td>\n",
       "      <td>4081</td>\n",
       "      <td>4</td>\n",
       "      <td>I am Charlotte Simmons</td>\n",
       "      <td>Tom Wolfe</td>\n",
       "      <td>to-read fiction currently-reading favorites ow...</td>\n",
       "    </tr>\n",
       "    <tr>\n",
       "      <th>2</th>\n",
       "      <td>2</td>\n",
       "      <td>260</td>\n",
       "      <td>5</td>\n",
       "      <td>How to Win Friends and Influence People</td>\n",
       "      <td>Dale Carnegie</td>\n",
       "      <td>non-fiction to-read self-improvement nonfictio...</td>\n",
       "    </tr>\n",
       "    <tr>\n",
       "      <th>3</th>\n",
       "      <td>2</td>\n",
       "      <td>9296</td>\n",
       "      <td>5</td>\n",
       "      <td>The Drama of the Gifted Child: The Search for ...</td>\n",
       "      <td>Alice  Miller, Ruth Ward</td>\n",
       "      <td>to-read psychology non-fiction nonfiction self...</td>\n",
       "    </tr>\n",
       "    <tr>\n",
       "      <th>4</th>\n",
       "      <td>2</td>\n",
       "      <td>2318</td>\n",
       "      <td>3</td>\n",
       "      <td>The Millionaire Next Door: The Surprising Secr...</td>\n",
       "      <td>Thomas J. Stanley, William D. Danko</td>\n",
       "      <td>to-read currently-reading non-fiction finance ...</td>\n",
       "    </tr>\n",
       "  </tbody>\n",
       "</table>\n",
       "</div>"
      ],
      "text/plain": [
       "   user_id  book_id  rating  \\\n",
       "0        1      258       5   \n",
       "1        2     4081       4   \n",
       "2        2      260       5   \n",
       "3        2     9296       5   \n",
       "4        2     2318       3   \n",
       "\n",
       "                                               title  \\\n",
       "0  The Shadow of the Wind (The Cemetery of Forgot...   \n",
       "1                             I am Charlotte Simmons   \n",
       "2            How to Win Friends and Influence People   \n",
       "3  The Drama of the Gifted Child: The Search for ...   \n",
       "4  The Millionaire Next Door: The Surprising Secr...   \n",
       "\n",
       "                               authors  \\\n",
       "0      Carlos Ruiz Zafón, Lucia Graves   \n",
       "1                            Tom Wolfe   \n",
       "2                        Dale Carnegie   \n",
       "3             Alice  Miller, Ruth Ward   \n",
       "4  Thomas J. Stanley, William D. Danko   \n",
       "\n",
       "                                           book_tags  \n",
       "0  to-read currently-reading favorites fiction hi...  \n",
       "1  to-read fiction currently-reading favorites ow...  \n",
       "2  non-fiction to-read self-improvement nonfictio...  \n",
       "3  to-read psychology non-fiction nonfiction self...  \n",
       "4  to-read currently-reading non-fiction finance ...  "
      ]
     },
     "metadata": {},
     "output_type": "display_data"
    }
   ],
   "source": [
    "# Add book title and tag names to ratings\n",
    "print(f\"Shape before join: {ratings.shape}\")\n",
    "ratings = ratings.merge(books[[\"book_id\", \"title\", \"authors\", \"book_tags\"]], left_on=\"book_id\", right_on=\"book_id\", how=\"left\", suffixes=(\"\", \"_remove\"))\n",
    "ratings = ratings.drop([col for col in ratings.columns if \"remove\" in col], axis=1)\n",
    "\n",
    "print(f\"Shape after join: {ratings.shape}\")\n",
    "print(f\"Missing values :\\n{ratings.isna().sum()}\")\n",
    "display(ratings.head())"
   ]
  },
  {
   "cell_type": "code",
   "execution_count": 42,
   "id": "54e14642-63d2-4ca1-b8a8-ab5e2169356f",
   "metadata": {},
   "outputs": [
    {
     "name": "stdout",
     "output_type": "stream",
     "text": [
      "Shape before join: (861285, 2)\n",
      "Shape after join: (861285, 5)\n",
      "Missing values :\n",
      "user_id      0\n",
      "book_id      0\n",
      "title        0\n",
      "authors      0\n",
      "book_tags    0\n",
      "dtype: int64\n"
     ]
    },
    {
     "data": {
      "text/html": [
       "<div>\n",
       "<style scoped>\n",
       "    .dataframe tbody tr th:only-of-type {\n",
       "        vertical-align: middle;\n",
       "    }\n",
       "\n",
       "    .dataframe tbody tr th {\n",
       "        vertical-align: top;\n",
       "    }\n",
       "\n",
       "    .dataframe thead th {\n",
       "        text-align: right;\n",
       "    }\n",
       "</style>\n",
       "<table border=\"1\" class=\"dataframe\">\n",
       "  <thead>\n",
       "    <tr style=\"text-align: right;\">\n",
       "      <th></th>\n",
       "      <th>user_id</th>\n",
       "      <th>book_id</th>\n",
       "      <th>title</th>\n",
       "      <th>authors</th>\n",
       "      <th>book_tags</th>\n",
       "    </tr>\n",
       "  </thead>\n",
       "  <tbody>\n",
       "    <tr>\n",
       "      <th>0</th>\n",
       "      <td>9</td>\n",
       "      <td>8</td>\n",
       "      <td>The Catcher in the Rye</td>\n",
       "      <td>J.D. Salinger</td>\n",
       "      <td>classics favorites fiction to-read classic you...</td>\n",
       "    </tr>\n",
       "    <tr>\n",
       "      <th>1</th>\n",
       "      <td>15</td>\n",
       "      <td>398</td>\n",
       "      <td>Fast Food Nation: The Dark Side of the All-Ame...</td>\n",
       "      <td>Eric Schlosser</td>\n",
       "      <td>to-read non-fiction nonfiction currently-readi...</td>\n",
       "    </tr>\n",
       "    <tr>\n",
       "      <th>2</th>\n",
       "      <td>15</td>\n",
       "      <td>275</td>\n",
       "      <td>An Abundance of Katherines</td>\n",
       "      <td>John Green</td>\n",
       "      <td>currently-reading young-adult to-read favorite...</td>\n",
       "    </tr>\n",
       "    <tr>\n",
       "      <th>3</th>\n",
       "      <td>37</td>\n",
       "      <td>7173</td>\n",
       "      <td>Musashi</td>\n",
       "      <td>Eiji Yoshikawa, Charles Terry, Edwin O. Reisch...</td>\n",
       "      <td>to-read currently-reading fiction historical-f...</td>\n",
       "    </tr>\n",
       "    <tr>\n",
       "      <th>4</th>\n",
       "      <td>34</td>\n",
       "      <td>380</td>\n",
       "      <td>Norwegian Wood</td>\n",
       "      <td>Haruki Murakami, Jay Rubin</td>\n",
       "      <td>to-read currently-reading favorites fiction ja...</td>\n",
       "    </tr>\n",
       "  </tbody>\n",
       "</table>\n",
       "</div>"
      ],
      "text/plain": [
       "   user_id  book_id                                              title  \\\n",
       "0        9        8                             The Catcher in the Rye   \n",
       "1       15      398  Fast Food Nation: The Dark Side of the All-Ame...   \n",
       "2       15      275                         An Abundance of Katherines   \n",
       "3       37     7173                                            Musashi   \n",
       "4       34      380                                     Norwegian Wood   \n",
       "\n",
       "                                             authors  \\\n",
       "0                                      J.D. Salinger   \n",
       "1                                     Eric Schlosser   \n",
       "2                                         John Green   \n",
       "3  Eiji Yoshikawa, Charles Terry, Edwin O. Reisch...   \n",
       "4                         Haruki Murakami, Jay Rubin   \n",
       "\n",
       "                                           book_tags  \n",
       "0  classics favorites fiction to-read classic you...  \n",
       "1  to-read non-fiction nonfiction currently-readi...  \n",
       "2  currently-reading young-adult to-read favorite...  \n",
       "3  to-read currently-reading fiction historical-f...  \n",
       "4  to-read currently-reading favorites fiction ja...  "
      ]
     },
     "metadata": {},
     "output_type": "display_data"
    }
   ],
   "source": [
    "# Add book title and tag names to to_read\n",
    "print(f\"Shape before join: {to_read.shape}\")\n",
    "to_read = to_read.merge(books[[\"book_id\", \"title\", \"authors\", \"book_tags\"]], left_on=\"book_id\", right_on=\"book_id\", how=\"left\", suffixes=(\"\", \"_remove\"))\n",
    "to_read = to_read.drop([col for col in to_read.columns if \"remove\" in col], axis=1)\n",
    "print(f\"Shape after join: {to_read.shape}\")\n",
    "print(f\"Missing values :\\n{to_read.isna().sum()}\")\n",
    "display(to_read.head())"
   ]
  },
  {
   "cell_type": "markdown",
   "id": "52bddba0-1df7-4b4b-8867-9045ec8ef413",
   "metadata": {},
   "source": [
    "### Book profiles"
   ]
  },
  {
   "cell_type": "markdown",
   "id": "667075ad-77f0-4180-ac1d-eb2119d9032c",
   "metadata": {},
   "source": [
    "**Title-author-tags**\n",
    "\n",
    "The feature representations of each book are created using the title, author and tags."
   ]
  },
  {
   "cell_type": "code",
   "execution_count": 43,
   "id": "50199329-abd1-4b43-b964-c4d9c9a20f62",
   "metadata": {},
   "outputs": [
    {
     "name": "stdout",
     "output_type": "stream",
     "text": [
      "Shape: (8726, 4)\n",
      "Missing values :\n",
      "title           0\n",
      "authors         0\n",
      "book_tags       0\n",
      "book_profile    0\n",
      "dtype: int64\n"
     ]
    },
    {
     "data": {
      "text/html": [
       "<div>\n",
       "<style scoped>\n",
       "    .dataframe tbody tr th:only-of-type {\n",
       "        vertical-align: middle;\n",
       "    }\n",
       "\n",
       "    .dataframe tbody tr th {\n",
       "        vertical-align: top;\n",
       "    }\n",
       "\n",
       "    .dataframe thead th {\n",
       "        text-align: right;\n",
       "    }\n",
       "</style>\n",
       "<table border=\"1\" class=\"dataframe\">\n",
       "  <thead>\n",
       "    <tr style=\"text-align: right;\">\n",
       "      <th></th>\n",
       "      <th>title</th>\n",
       "      <th>authors</th>\n",
       "      <th>book_tags</th>\n",
       "      <th>book_profile</th>\n",
       "    </tr>\n",
       "    <tr>\n",
       "      <th>book_id</th>\n",
       "      <th></th>\n",
       "      <th></th>\n",
       "      <th></th>\n",
       "      <th></th>\n",
       "    </tr>\n",
       "  </thead>\n",
       "  <tbody>\n",
       "    <tr>\n",
       "      <th>1</th>\n",
       "      <td>The Hunger Games (The Hunger Games, #1)</td>\n",
       "      <td>Suzanne Collins</td>\n",
       "      <td>favorites currently-reading young-adult fictio...</td>\n",
       "      <td>the hunger games (the hunger games, #1) suzann...</td>\n",
       "    </tr>\n",
       "    <tr>\n",
       "      <th>2</th>\n",
       "      <td>Harry Potter and the Sorcerer's Stone (Harry P...</td>\n",
       "      <td>J.K. Rowling, Mary GrandPré</td>\n",
       "      <td>to-read favorites fantasy currently-reading yo...</td>\n",
       "      <td>harry potter and the sorcerer's stone (harry p...</td>\n",
       "    </tr>\n",
       "    <tr>\n",
       "      <th>3</th>\n",
       "      <td>Twilight (Twilight, #1)</td>\n",
       "      <td>Stephenie Meyer</td>\n",
       "      <td>young-adult fantasy favorites vampires ya fict...</td>\n",
       "      <td>twilight (twilight, #1) stephenie meyer</td>\n",
       "    </tr>\n",
       "    <tr>\n",
       "      <th>4</th>\n",
       "      <td>To Kill a Mockingbird</td>\n",
       "      <td>Harper Lee</td>\n",
       "      <td>classics favorites to-read classic historical-...</td>\n",
       "      <td>to kill a mockingbird harper lee</td>\n",
       "    </tr>\n",
       "    <tr>\n",
       "      <th>5</th>\n",
       "      <td>The Great Gatsby</td>\n",
       "      <td>F. Scott Fitzgerald</td>\n",
       "      <td>classics favorites fiction classic books-i-own...</td>\n",
       "      <td>the great gatsby f. scott fitzgerald</td>\n",
       "    </tr>\n",
       "  </tbody>\n",
       "</table>\n",
       "</div>"
      ],
      "text/plain": [
       "                                                     title  \\\n",
       "book_id                                                      \n",
       "1                  The Hunger Games (The Hunger Games, #1)   \n",
       "2        Harry Potter and the Sorcerer's Stone (Harry P...   \n",
       "3                                  Twilight (Twilight, #1)   \n",
       "4                                    To Kill a Mockingbird   \n",
       "5                                         The Great Gatsby   \n",
       "\n",
       "                             authors  \\\n",
       "book_id                                \n",
       "1                    Suzanne Collins   \n",
       "2        J.K. Rowling, Mary GrandPré   \n",
       "3                    Stephenie Meyer   \n",
       "4                         Harper Lee   \n",
       "5                F. Scott Fitzgerald   \n",
       "\n",
       "                                                 book_tags  \\\n",
       "book_id                                                      \n",
       "1        favorites currently-reading young-adult fictio...   \n",
       "2        to-read favorites fantasy currently-reading yo...   \n",
       "3        young-adult fantasy favorites vampires ya fict...   \n",
       "4        classics favorites to-read classic historical-...   \n",
       "5        classics favorites fiction classic books-i-own...   \n",
       "\n",
       "                                              book_profile  \n",
       "book_id                                                     \n",
       "1        the hunger games (the hunger games, #1) suzann...  \n",
       "2        harry potter and the sorcerer's stone (harry p...  \n",
       "3                  twilight (twilight, #1) stephenie meyer  \n",
       "4                         to kill a mockingbird harper lee  \n",
       "5                     the great gatsby f. scott fitzgerald  "
      ]
     },
     "metadata": {},
     "output_type": "display_data"
    }
   ],
   "source": [
    "# Create book id-tag lookup\n",
    "book_profile = books.groupby(\"book_id\")[[\"title\", \"authors\", \"book_tags\"]].first()\n",
    "book_profile[\"book_profile\"] = book_profile[\"title\"] + \" \" + book_profile[\"authors\"] # + \" \" + book_profile[\"book_tags\"].fillna(\" \")\n",
    "book_profile[\"book_profile\"] = book_profile[\"book_profile\"].str.lower()\n",
    "print(f\"Shape: {book_profile.shape}\")\n",
    "print(f\"Missing values :\\n{book_profile.isna().sum()}\")\n",
    "display(book_profile.head())"
   ]
  },
  {
   "cell_type": "code",
   "execution_count": 44,
   "id": "c8cc4d3a-4c0d-4cd5-9387-3ba03453ce97",
   "metadata": {},
   "outputs": [
    {
     "name": "stdout",
     "output_type": "stream",
     "text": [
      "Shape before join: (8726, 24)\n",
      "Shape after join: (8726, 25)\n",
      "Missing values :\n",
      "book_id                        0\n",
      "goodreads_book_id              0\n",
      "best_book_id                   0\n",
      "work_id                        0\n",
      "books_count                    0\n",
      "isbn                         584\n",
      "isbn13                       508\n",
      "authors                        0\n",
      "original_publication_year     15\n",
      "original_title               494\n",
      "title                          0\n",
      "language_code                  0\n",
      "average_rating                 0\n",
      "ratings_count                  0\n",
      "work_ratings_count             0\n",
      "work_text_reviews_count        0\n",
      "ratings_1                      0\n",
      "ratings_2                      0\n",
      "ratings_3                      0\n",
      "ratings_4                      0\n",
      "ratings_5                      0\n",
      "image_url                      0\n",
      "small_image_url                0\n",
      "book_tags                      0\n",
      "book_profile                   0\n",
      "dtype: int64\n"
     ]
    },
    {
     "data": {
      "text/html": [
       "<div>\n",
       "<style scoped>\n",
       "    .dataframe tbody tr th:only-of-type {\n",
       "        vertical-align: middle;\n",
       "    }\n",
       "\n",
       "    .dataframe tbody tr th {\n",
       "        vertical-align: top;\n",
       "    }\n",
       "\n",
       "    .dataframe thead th {\n",
       "        text-align: right;\n",
       "    }\n",
       "</style>\n",
       "<table border=\"1\" class=\"dataframe\">\n",
       "  <thead>\n",
       "    <tr style=\"text-align: right;\">\n",
       "      <th></th>\n",
       "      <th>book_id</th>\n",
       "      <th>goodreads_book_id</th>\n",
       "      <th>best_book_id</th>\n",
       "      <th>work_id</th>\n",
       "      <th>books_count</th>\n",
       "      <th>isbn</th>\n",
       "      <th>isbn13</th>\n",
       "      <th>authors</th>\n",
       "      <th>original_publication_year</th>\n",
       "      <th>original_title</th>\n",
       "      <th>...</th>\n",
       "      <th>work_text_reviews_count</th>\n",
       "      <th>ratings_1</th>\n",
       "      <th>ratings_2</th>\n",
       "      <th>ratings_3</th>\n",
       "      <th>ratings_4</th>\n",
       "      <th>ratings_5</th>\n",
       "      <th>image_url</th>\n",
       "      <th>small_image_url</th>\n",
       "      <th>book_tags</th>\n",
       "      <th>book_profile</th>\n",
       "    </tr>\n",
       "  </thead>\n",
       "  <tbody>\n",
       "    <tr>\n",
       "      <th>0</th>\n",
       "      <td>1</td>\n",
       "      <td>2767052</td>\n",
       "      <td>2767052</td>\n",
       "      <td>2792775</td>\n",
       "      <td>272</td>\n",
       "      <td>439023483</td>\n",
       "      <td>9.780439e+12</td>\n",
       "      <td>Suzanne Collins</td>\n",
       "      <td>2008.0</td>\n",
       "      <td>The Hunger Games</td>\n",
       "      <td>...</td>\n",
       "      <td>155254</td>\n",
       "      <td>66715</td>\n",
       "      <td>127936</td>\n",
       "      <td>560092</td>\n",
       "      <td>1481305</td>\n",
       "      <td>2706317</td>\n",
       "      <td>https://images.gr-assets.com/books/1447303603m...</td>\n",
       "      <td>https://images.gr-assets.com/books/1447303603s...</td>\n",
       "      <td>favorites currently-reading young-adult fictio...</td>\n",
       "      <td>the hunger games (the hunger games, #1) suzann...</td>\n",
       "    </tr>\n",
       "    <tr>\n",
       "      <th>1</th>\n",
       "      <td>2</td>\n",
       "      <td>3</td>\n",
       "      <td>3</td>\n",
       "      <td>4640799</td>\n",
       "      <td>491</td>\n",
       "      <td>439554934</td>\n",
       "      <td>9.780440e+12</td>\n",
       "      <td>J.K. Rowling, Mary GrandPré</td>\n",
       "      <td>1997.0</td>\n",
       "      <td>Harry Potter and the Philosopher's Stone</td>\n",
       "      <td>...</td>\n",
       "      <td>75867</td>\n",
       "      <td>75504</td>\n",
       "      <td>101676</td>\n",
       "      <td>455024</td>\n",
       "      <td>1156318</td>\n",
       "      <td>3011543</td>\n",
       "      <td>https://images.gr-assets.com/books/1474154022m...</td>\n",
       "      <td>https://images.gr-assets.com/books/1474154022s...</td>\n",
       "      <td>to-read favorites fantasy currently-reading yo...</td>\n",
       "      <td>harry potter and the sorcerer's stone (harry p...</td>\n",
       "    </tr>\n",
       "  </tbody>\n",
       "</table>\n",
       "<p>2 rows × 25 columns</p>\n",
       "</div>"
      ],
      "text/plain": [
       "   book_id  goodreads_book_id  best_book_id  work_id  books_count       isbn  \\\n",
       "0        1            2767052       2767052  2792775          272  439023483   \n",
       "1        2                  3             3  4640799          491  439554934   \n",
       "\n",
       "         isbn13                      authors  original_publication_year  \\\n",
       "0  9.780439e+12              Suzanne Collins                     2008.0   \n",
       "1  9.780440e+12  J.K. Rowling, Mary GrandPré                     1997.0   \n",
       "\n",
       "                             original_title  ... work_text_reviews_count  \\\n",
       "0                          The Hunger Games  ...                  155254   \n",
       "1  Harry Potter and the Philosopher's Stone  ...                   75867   \n",
       "\n",
       "  ratings_1  ratings_2  ratings_3  ratings_4  ratings_5  \\\n",
       "0     66715     127936     560092    1481305    2706317   \n",
       "1     75504     101676     455024    1156318    3011543   \n",
       "\n",
       "                                           image_url  \\\n",
       "0  https://images.gr-assets.com/books/1447303603m...   \n",
       "1  https://images.gr-assets.com/books/1474154022m...   \n",
       "\n",
       "                                     small_image_url  \\\n",
       "0  https://images.gr-assets.com/books/1447303603s...   \n",
       "1  https://images.gr-assets.com/books/1474154022s...   \n",
       "\n",
       "                                           book_tags  \\\n",
       "0  favorites currently-reading young-adult fictio...   \n",
       "1  to-read favorites fantasy currently-reading yo...   \n",
       "\n",
       "                                        book_profile  \n",
       "0  the hunger games (the hunger games, #1) suzann...  \n",
       "1  harry potter and the sorcerer's stone (harry p...  \n",
       "\n",
       "[2 rows x 25 columns]"
      ]
     },
     "metadata": {},
     "output_type": "display_data"
    }
   ],
   "source": [
    "# Add book profile to books df\n",
    "print(f\"Shape before join: {books.shape}\")\n",
    "books = books.merge(book_profile, left_on=\"book_id\", right_on=\"book_id\", how=\"left\", suffixes=(\"\", \"_remove\"))\n",
    "books = books.drop([col for col in books.columns if \"remove\" in col], axis=1)\n",
    "print(f\"Shape after join: {books.shape}\")\n",
    "print(f\"Missing values :\\n{books.isna().sum()}\")\n",
    "display(books.head(2))"
   ]
  },
  {
   "cell_type": "markdown",
   "id": "727484fb-c776-43bd-ad38-f41fe4d73cde",
   "metadata": {},
   "source": [
    "**Popularity ranking**\n",
    "\n",
    "An overall popularity rank is calculated for each book using the ratings dataset and the following steps:\n",
    "\n",
    "1. Sort & rank books by the number of ratings\n",
    "\n",
    "2. Sort & rank books by average rating\n",
    "\n",
    "3. Combine rankings with a weight of 0.5 for each (these weights are hyperparameters, adjust as needed)"
   ]
  },
  {
   "cell_type": "code",
   "execution_count": 45,
   "id": "3fa31e0e-5278-415a-9a14-10240cabd9a6",
   "metadata": {
    "tags": []
   },
   "outputs": [
    {
     "data": {
      "text/html": [
       "<div>\n",
       "<style scoped>\n",
       "    .dataframe tbody tr th:only-of-type {\n",
       "        vertical-align: middle;\n",
       "    }\n",
       "\n",
       "    .dataframe tbody tr th {\n",
       "        vertical-align: top;\n",
       "    }\n",
       "\n",
       "    .dataframe thead th {\n",
       "        text-align: right;\n",
       "    }\n",
       "</style>\n",
       "<table border=\"1\" class=\"dataframe\">\n",
       "  <thead>\n",
       "    <tr style=\"text-align: right;\">\n",
       "      <th></th>\n",
       "      <th>book_id</th>\n",
       "      <th>goodreads_book_id</th>\n",
       "      <th>best_book_id</th>\n",
       "      <th>work_id</th>\n",
       "      <th>books_count</th>\n",
       "      <th>isbn</th>\n",
       "      <th>isbn13</th>\n",
       "      <th>authors</th>\n",
       "      <th>original_publication_year</th>\n",
       "      <th>original_title</th>\n",
       "      <th>...</th>\n",
       "      <th>ratings_3</th>\n",
       "      <th>ratings_4</th>\n",
       "      <th>ratings_5</th>\n",
       "      <th>image_url</th>\n",
       "      <th>small_image_url</th>\n",
       "      <th>book_tags</th>\n",
       "      <th>book_profile</th>\n",
       "      <th>popularity_rank</th>\n",
       "      <th>quality_rank</th>\n",
       "      <th>combined_rank</th>\n",
       "    </tr>\n",
       "  </thead>\n",
       "  <tbody>\n",
       "    <tr>\n",
       "      <th>0</th>\n",
       "      <td>1</td>\n",
       "      <td>2767052</td>\n",
       "      <td>2767052</td>\n",
       "      <td>2792775</td>\n",
       "      <td>272</td>\n",
       "      <td>439023483</td>\n",
       "      <td>9.780439e+12</td>\n",
       "      <td>Suzanne Collins</td>\n",
       "      <td>2008.0</td>\n",
       "      <td>The Hunger Games</td>\n",
       "      <td>...</td>\n",
       "      <td>560092</td>\n",
       "      <td>1481305</td>\n",
       "      <td>2706317</td>\n",
       "      <td>https://images.gr-assets.com/books/1447303603m...</td>\n",
       "      <td>https://images.gr-assets.com/books/1447303603s...</td>\n",
       "      <td>favorites currently-reading young-adult fictio...</td>\n",
       "      <td>the hunger games (the hunger games, #1) suzann...</td>\n",
       "      <td>1</td>\n",
       "      <td>654</td>\n",
       "      <td>164.25</td>\n",
       "    </tr>\n",
       "    <tr>\n",
       "      <th>1</th>\n",
       "      <td>2</td>\n",
       "      <td>3</td>\n",
       "      <td>3</td>\n",
       "      <td>4640799</td>\n",
       "      <td>491</td>\n",
       "      <td>439554934</td>\n",
       "      <td>9.780440e+12</td>\n",
       "      <td>J.K. Rowling, Mary GrandPré</td>\n",
       "      <td>1997.0</td>\n",
       "      <td>Harry Potter and the Philosopher's Stone</td>\n",
       "      <td>...</td>\n",
       "      <td>455024</td>\n",
       "      <td>1156318</td>\n",
       "      <td>3011543</td>\n",
       "      <td>https://images.gr-assets.com/books/1474154022m...</td>\n",
       "      <td>https://images.gr-assets.com/books/1474154022s...</td>\n",
       "      <td>to-read favorites fantasy currently-reading yo...</td>\n",
       "      <td>harry potter and the sorcerer's stone (harry p...</td>\n",
       "      <td>2</td>\n",
       "      <td>238</td>\n",
       "      <td>61.00</td>\n",
       "    </tr>\n",
       "  </tbody>\n",
       "</table>\n",
       "<p>2 rows × 28 columns</p>\n",
       "</div>"
      ],
      "text/plain": [
       "   book_id  goodreads_book_id  best_book_id  work_id  books_count       isbn  \\\n",
       "0        1            2767052       2767052  2792775          272  439023483   \n",
       "1        2                  3             3  4640799          491  439554934   \n",
       "\n",
       "         isbn13                      authors  original_publication_year  \\\n",
       "0  9.780439e+12              Suzanne Collins                     2008.0   \n",
       "1  9.780440e+12  J.K. Rowling, Mary GrandPré                     1997.0   \n",
       "\n",
       "                             original_title  ... ratings_3 ratings_4  \\\n",
       "0                          The Hunger Games  ...    560092   1481305   \n",
       "1  Harry Potter and the Philosopher's Stone  ...    455024   1156318   \n",
       "\n",
       "   ratings_5                                          image_url  \\\n",
       "0    2706317  https://images.gr-assets.com/books/1447303603m...   \n",
       "1    3011543  https://images.gr-assets.com/books/1474154022m...   \n",
       "\n",
       "                                     small_image_url  \\\n",
       "0  https://images.gr-assets.com/books/1447303603s...   \n",
       "1  https://images.gr-assets.com/books/1474154022s...   \n",
       "\n",
       "                                           book_tags  \\\n",
       "0  favorites currently-reading young-adult fictio...   \n",
       "1  to-read favorites fantasy currently-reading yo...   \n",
       "\n",
       "                                        book_profile  popularity_rank  \\\n",
       "0  the hunger games (the hunger games, #1) suzann...                1   \n",
       "1  harry potter and the sorcerer's stone (harry p...                2   \n",
       "\n",
       "   quality_rank  combined_rank  \n",
       "0           654         164.25  \n",
       "1           238          61.00  \n",
       "\n",
       "[2 rows x 28 columns]"
      ]
     },
     "execution_count": 45,
     "metadata": {},
     "output_type": "execute_result"
    }
   ],
   "source": [
    "# Sort & rank books by the number of ratings\n",
    "books = books.sort_values(by='work_ratings_count', ascending=False)\n",
    "books['popularity_rank'] = range(1, len(books) + 1)\n",
    "\n",
    "# Sort & rank books by average rating\n",
    "books = books.sort_values(by='average_rating', ascending=False)\n",
    "books['quality_rank'] = range(1, len(books) + 1)\n",
    "\n",
    "# Combine rankings (adjust weights as needed)\n",
    "books[\"combined_rank\"] = 0.75*books[\"popularity_rank\"] + 0.25*books[\"quality_rank\"]\n",
    "books = books.sort_index()\n",
    "books.head(2)"
   ]
  },
  {
   "cell_type": "markdown",
   "id": "bc24f001-c845-442b-b0f2-f07eeb50c539",
   "metadata": {},
   "source": [
    "### User profiles\n",
    "* The ratings dataset will be split into a training/test set.\n",
    "\n",
    "* Recommendations will be made for each user in the test data using user profiles constructed from the training data.\n",
    "\n",
    "* The actual books rated by each user in the test data will be considered the ground truth during evaluation."
   ]
  },
  {
   "cell_type": "code",
   "execution_count": 46,
   "id": "85311f73-d58f-4ed9-a1d0-46edc057964c",
   "metadata": {},
   "outputs": [],
   "source": [
    "ratings[\"book_profile\"] = ratings[\"title\"] + \" \" + ratings[\"authors\"] # + \" \" + ratings[\"book_tags\"].fillna(\" \")"
   ]
  },
  {
   "cell_type": "code",
   "execution_count": 47,
   "id": "eaca8247-f047-4556-95e5-d0395702d466",
   "metadata": {},
   "outputs": [
    {
     "name": "stdout",
     "output_type": "stream",
     "text": [
      "Training set shape: (4183481, 7)\n",
      "Test set shape: (1394494, 7)\n"
     ]
    },
    {
     "data": {
      "text/html": [
       "<div>\n",
       "<style scoped>\n",
       "    .dataframe tbody tr th:only-of-type {\n",
       "        vertical-align: middle;\n",
       "    }\n",
       "\n",
       "    .dataframe tbody tr th {\n",
       "        vertical-align: top;\n",
       "    }\n",
       "\n",
       "    .dataframe thead th {\n",
       "        text-align: right;\n",
       "    }\n",
       "</style>\n",
       "<table border=\"1\" class=\"dataframe\">\n",
       "  <thead>\n",
       "    <tr style=\"text-align: right;\">\n",
       "      <th></th>\n",
       "      <th>user_id</th>\n",
       "      <th>book_id</th>\n",
       "      <th>rating</th>\n",
       "      <th>title</th>\n",
       "      <th>authors</th>\n",
       "      <th>book_tags</th>\n",
       "      <th>book_profile</th>\n",
       "    </tr>\n",
       "  </thead>\n",
       "  <tbody>\n",
       "    <tr>\n",
       "      <th>0</th>\n",
       "      <td>7829</td>\n",
       "      <td>2125</td>\n",
       "      <td>4</td>\n",
       "      <td>The Book of Three (The Chronicles of Prydain, #1)</td>\n",
       "      <td>Lloyd Alexander</td>\n",
       "      <td>to-read fantasy young-adult fiction favorites ...</td>\n",
       "      <td>The Book of Three (The Chronicles of Prydain, ...</td>\n",
       "    </tr>\n",
       "    <tr>\n",
       "      <th>1</th>\n",
       "      <td>31465</td>\n",
       "      <td>2817</td>\n",
       "      <td>5</td>\n",
       "      <td>Chapterhouse: Dune (Dune Chronicles #6)</td>\n",
       "      <td>Frank Herbert</td>\n",
       "      <td>science-fiction sci-fi fiction currently-readi...</td>\n",
       "      <td>Chapterhouse: Dune (Dune Chronicles #6) Frank ...</td>\n",
       "    </tr>\n",
       "    <tr>\n",
       "      <th>2</th>\n",
       "      <td>41723</td>\n",
       "      <td>947</td>\n",
       "      <td>4</td>\n",
       "      <td>Angelfall (Penryn &amp; the End of Days, #1)</td>\n",
       "      <td>Susan Ee</td>\n",
       "      <td>to-read favorites fantasy young-adult currentl...</td>\n",
       "      <td>Angelfall (Penryn &amp; the End of Days, #1) Susan Ee</td>\n",
       "    </tr>\n",
       "    <tr>\n",
       "      <th>3</th>\n",
       "      <td>41595</td>\n",
       "      <td>415</td>\n",
       "      <td>1</td>\n",
       "      <td>Evermore (The Immortals, #1)</td>\n",
       "      <td>Alyson Noel</td>\n",
       "      <td>to-read young-adult fantasy currently-reading ...</td>\n",
       "      <td>Evermore (The Immortals, #1) Alyson Noel</td>\n",
       "    </tr>\n",
       "    <tr>\n",
       "      <th>4</th>\n",
       "      <td>51601</td>\n",
       "      <td>70</td>\n",
       "      <td>5</td>\n",
       "      <td>Ender's Game (Ender's Saga, #1)</td>\n",
       "      <td>Orson Scott Card</td>\n",
       "      <td>to-read science-fiction favorites sci-fi curre...</td>\n",
       "      <td>Ender's Game (Ender's Saga, #1) Orson Scott Card</td>\n",
       "    </tr>\n",
       "  </tbody>\n",
       "</table>\n",
       "</div>"
      ],
      "text/plain": [
       "   user_id  book_id  rating  \\\n",
       "0     7829     2125       4   \n",
       "1    31465     2817       5   \n",
       "2    41723      947       4   \n",
       "3    41595      415       1   \n",
       "4    51601       70       5   \n",
       "\n",
       "                                               title           authors  \\\n",
       "0  The Book of Three (The Chronicles of Prydain, #1)   Lloyd Alexander   \n",
       "1            Chapterhouse: Dune (Dune Chronicles #6)     Frank Herbert   \n",
       "2           Angelfall (Penryn & the End of Days, #1)          Susan Ee   \n",
       "3                       Evermore (The Immortals, #1)       Alyson Noel   \n",
       "4                    Ender's Game (Ender's Saga, #1)  Orson Scott Card   \n",
       "\n",
       "                                           book_tags  \\\n",
       "0  to-read fantasy young-adult fiction favorites ...   \n",
       "1  science-fiction sci-fi fiction currently-readi...   \n",
       "2  to-read favorites fantasy young-adult currentl...   \n",
       "3  to-read young-adult fantasy currently-reading ...   \n",
       "4  to-read science-fiction favorites sci-fi curre...   \n",
       "\n",
       "                                        book_profile  \n",
       "0  The Book of Three (The Chronicles of Prydain, ...  \n",
       "1  Chapterhouse: Dune (Dune Chronicles #6) Frank ...  \n",
       "2  Angelfall (Penryn & the End of Days, #1) Susan Ee  \n",
       "3           Evermore (The Immortals, #1) Alyson Noel  \n",
       "4   Ender's Game (Ender's Saga, #1) Orson Scott Card  "
      ]
     },
     "metadata": {},
     "output_type": "display_data"
    }
   ],
   "source": [
    "from sklearn.model_selection import train_test_split\n",
    "train_ratings, test_ratings = train_test_split(ratings, test_size=0.25, random_state=0)\n",
    "train_ratings = train_ratings.reset_index(drop=True)\n",
    "test_ratings = test_ratings.reset_index(drop=True)\n",
    "\n",
    "print(f\"Training set shape: {train_ratings.shape}\")\n",
    "# display(train_ratings.head())\n",
    "print(f\"Test set shape: {test_ratings.shape}\")\n",
    "display(test_ratings.head())"
   ]
  },
  {
   "cell_type": "markdown",
   "id": "1a7be6b8-1d2a-4583-9914-0c38db02119f",
   "metadata": {},
   "source": [
    "## Baseline models"
   ]
  },
  {
   "cell_type": "markdown",
   "id": "aee37768-b51c-4238-a945-708c9795956f",
   "metadata": {},
   "source": [
    "### Random model\n",
    "\n",
    "Basic principle:\n",
    "\n",
    "* A user is randomly recommended n books they haven't read."
   ]
  },
  {
   "cell_type": "markdown",
   "id": "7ce7e295-504e-4d56-93b4-7f2a6eefc0ab",
   "metadata": {},
   "source": [
    "#### Algorithm\n",
    "Key steps: \n",
    "\n",
    "1. Exclude books already rated or marked to read by the user from recommendations\n",
    "\n",
    "2. Randomly select the top n books for the final sample."
   ]
  },
  {
   "cell_type": "code",
   "execution_count": 48,
   "id": "0600f2d3-9075-4cd1-a83e-77a4e7db2885",
   "metadata": {
    "tags": []
   },
   "outputs": [],
   "source": [
    "# print(inspect.getsource(cf.random_rec))\n",
    "\n",
    "def get_random_recs(user_id, all_user_ratings, all_user_toread, all_books, n_sample):\n",
    "    \"\"\"\n",
    "    Function to get content-based book recommendations for a given user profile\n",
    "\n",
    "    Parameters:\n",
    "    - user_id: User id\n",
    "    - all_user_ratings: DataFrame containing ratings history for all users.\n",
    "    - all_user_toread: DataFrame containing to read list for all users.\n",
    "    - all_books: DataFrame containing metadata for all books.\n",
    "    - n_sample: Number of recommendations to generate.\n",
    "\n",
    "    Returns: List of book recommended ids \n",
    "    \"\"\"\n",
    "    \n",
    "    # User history\n",
    "    rating_history = all_user_ratings.loc[all_user_ratings[\"user_id\"] == user_id, \"book_id\"].tolist()\n",
    "    toread_history = all_user_toread.loc[all_user_toread[\"user_id\"] == user_id, \"book_id\"].tolist()\n",
    "    user_history = set(rating_history).union(set(toread_history))\n",
    "    \n",
    "    # Exclude books already rated by the user and in the to read list from recommendations\n",
    "    user_shortlist = all_books.iloc[np.isin(all_books[\"book_id\"], user_history) == False]\n",
    "\n",
    "    # Randomly sample top k books\n",
    "    user_recs = user_shortlist.sample(n=n_sample, random_state=0)\n",
    "\n",
    "    return user_recs[\"book_id\"].tolist()"
   ]
  },
  {
   "cell_type": "code",
   "execution_count": 49,
   "id": "ff128440-d6c9-46a4-8444-7f8881802b57",
   "metadata": {},
   "outputs": [
    {
     "data": {
      "text/plain": [
       "['A Breath of Snow and Ashes (Outlander, #6)',\n",
       " 'The Nest',\n",
       " 'Queen of Babble (Queen of Babble, #1)',\n",
       " 'Tithe (Modern Faerie Tales, #1)',\n",
       " 'The Search',\n",
       " 'Theodore Rex',\n",
       " 'The Boys from Brazil',\n",
       " 'Total Control',\n",
       " 'The Lion (John Corey, #5)',\n",
       " 'Testimony',\n",
       " 'The Walking Dead, Vol. 06: This Sorrowful Life',\n",
       " 'Conspiracy in Death (In Death, #8)',\n",
       " 'The Complete Poems',\n",
       " 'Magic Breaks (Kate Daniels, #7)',\n",
       " 'The Third Twin',\n",
       " 'The Enchantress of Florence',\n",
       " 'The Grand Sophy',\n",
       " 'All Our Yesterdays',\n",
       " 'Elephants Can Remember (Hercule Poirot, #37)',\n",
       " 'Clean Sweep (Innkeeper Chronicles, #1)',\n",
       " 'Broken Silence (Silence, #2)',\n",
       " \"Ain't She Sweet\",\n",
       " 'Shoeless Joe',\n",
       " 'Si-cology 1: Tales and Wisdom from Duck Dynasty’s Favorite Uncle',\n",
       " 'Life Before Legend: Stories of the Criminal and the Prodigy (Legend, #0.5)']"
      ]
     },
     "execution_count": 49,
     "metadata": {},
     "output_type": "execute_result"
    }
   ],
   "source": [
    "# Example\n",
    "USER_ID = 10\n",
    "N_SAMPLE = 25\n",
    "books.loc[books[\"book_id\"].isin(get_random_recs(USER_ID,\n",
    "                                                train_ratings,\n",
    "                                                to_read,\n",
    "                                                books,\n",
    "                                                N_SAMPLE)\n",
    "                               ), \"title\"].tolist()"
   ]
  },
  {
   "cell_type": "markdown",
   "id": "73e6982d-0b7d-4ad0-8012-34825ef8e14e",
   "metadata": {},
   "source": [
    "#### Evaluation\n",
    "\n",
    "Key steps:\n",
    "\n",
    "1. Split the training set into k folds. Use k-1 folds as the training set. Use the remaining data as a validation set.\n",
    "\n",
    "2. Apply recommendation system to each user in the validation set. Output a dictionary containing predicted items for each user.\n",
    "\n",
    "3. Create ground truth for each user in the validation set. Output a dictionary containing actual relevant items for each user.\n",
    "\n",
    "4. Evaluate performance on a per user basis. Output a dictionary containing the relevant metric score for each user.\n",
    "\n",
    "5. Calculate average performance across users.\n",
    "\n",
    "6. Repeat steps 2 - 5 k times."
   ]
  },
  {
   "cell_type": "code",
   "execution_count": 50,
   "id": "4be20827-d867-4e11-872a-59a32774ae1e",
   "metadata": {},
   "outputs": [],
   "source": [
    "# N_SPLITS = 3  # Number of splits for kfold cross validation\n",
    "# N_SAMPLE = 25  # Number of recommendations\n",
    "# TOP_K = 25\n",
    "# avg_precision_at_k, avg_recall_at_k, avg_map_at_k = cf.calculate_baseline_cv_score(get_random_recs,\n",
    "#                                                                                    train_ratings,\n",
    "#                                                                                    to_read,\n",
    "#                                                                                    books,\n",
    "#                                                                                    N_SAMPLE,\n",
    "#                                                                                    N_SPLITS,\n",
    "#                                                                                    TOP_K\n",
    "#                                                                                    )\n",
    "\n",
    "# print(f\"precision@k: {avg_precision_at_k}\")\n",
    "# print(f\"recall@k: {avg_recall_at_k}\")\n",
    "# print(f\"mean average precision@k: {avg_map_at_k}\")"
   ]
  },
  {
   "cell_type": "markdown",
   "id": "3e850985-ed28-4222-88b8-50538a73fc14",
   "metadata": {},
   "source": [
    "### Popularity based model\n",
    "\n",
    "Basic principle:\n",
    "\n",
    "* A user is recommended the n most popular books they haven't seen."
   ]
  },
  {
   "cell_type": "markdown",
   "id": "0d3554c3-2c0b-42d0-a2d1-bb49807d293b",
   "metadata": {},
   "source": [
    "#### Algorithm\n",
    "\n",
    "Key steps: \n",
    "\n",
    "1. Exclude books already rated or marked to read by the user from recommendations\n",
    "\n",
    "2. Sort the books in descending order by the number of ratings\n",
    "\n",
    "3. Sort the books in descending order by quality (i.e. average rating)\n",
    "\n",
    "4. Combine the rankings using a weighted average.\n",
    "\n",
    "5. Select the top n books for the final sample"
   ]
  },
  {
   "cell_type": "code",
   "execution_count": 51,
   "id": "88ae4e93-4e63-4eb1-be4e-a87adf27d7f8",
   "metadata": {
    "tags": []
   },
   "outputs": [],
   "source": [
    "# print(inspect.getsource(cf.popularity_rec))\n",
    "\n",
    "def get_popularity_recs(user_id, all_user_ratings, all_user_toread, all_books, n_sample):\n",
    "    \"\"\"\n",
    "    Function to get content-based book recommendations for a given user profile\n",
    "\n",
    "    Parameters:\n",
    "    - user_id: User id\n",
    "    - all_user_ratings: DataFrame containing ratings history for all users.\n",
    "    - all_user_toread: DataFrame containing to read list for all users.\n",
    "    - all_books: DataFrame containing metadata for all books.\n",
    "    - n_sample: Number of recommendations to generate.\n",
    "\n",
    "    Returns: List of book recommended ids \n",
    "    \"\"\"\n",
    "\n",
    "    # User history\n",
    "    rating_history = all_user_ratings.loc[all_user_ratings[\"user_id\"] == user_id, \"book_id\"].tolist()\n",
    "    toread_history = all_user_toread.loc[all_user_toread[\"user_id\"] == user_id, \"book_id\"].tolist()\n",
    "    user_history = set(rating_history).union(set(toread_history))\n",
    "    \n",
    "    # Exclude books already rated by the user and in the to read list from recommendations\n",
    "    user_shortlist = all_books.iloc[np.isin(all_books[\"book_id\"], user_history) == False]\n",
    "\n",
    "    # Return top k books\n",
    "    user_shortlist = user_shortlist.sort_values(by='combined_rank', ascending=True)\n",
    "    user_recs = user_shortlist[0:n_sample]\n",
    "\n",
    "    return user_recs[\"book_id\"].tolist()"
   ]
  },
  {
   "cell_type": "code",
   "execution_count": 52,
   "id": "aa08e501-c455-4cde-aab4-8ba3ea0e1845",
   "metadata": {},
   "outputs": [
    {
     "data": {
      "text/plain": [
       "['The Hunger Games (The Hunger Games, #1)',\n",
       " \"Harry Potter and the Sorcerer's Stone (Harry Potter, #1)\",\n",
       " 'Harry Potter and the Prisoner of Azkaban (Harry Potter, #3)',\n",
       " 'The Fellowship of the Ring (The Lord of the Rings, #1)',\n",
       " 'Harry Potter and the Order of the Phoenix (Harry Potter, #5)',\n",
       " 'Harry Potter and the Chamber of Secrets (Harry Potter, #2)',\n",
       " 'Harry Potter and the Goblet of Fire (Harry Potter, #4)',\n",
       " 'Harry Potter and the Deathly Hallows (Harry Potter, #7)',\n",
       " 'Harry Potter and the Half-Blood Prince (Harry Potter, #6)',\n",
       " 'The Help',\n",
       " 'A Game of Thrones (A Song of Ice and Fire, #1)',\n",
       " 'The Book Thief',\n",
       " 'A Thousand Splendid Suns',\n",
       " 'The Giving Tree',\n",
       " 'A Clash of Kings  (A Song of Ice and Fire, #2)',\n",
       " 'A Storm of Swords (A Song of Ice and Fire, #3)',\n",
       " 'The Martian',\n",
       " 'Unbroken: A World War II Story of Survival, Resilience, and Redemption',\n",
       " 'The Two Towers (The Lord of the Rings, #2)',\n",
       " 'The Battle of the Labyrinth (Percy Jackson and the Olympians, #4)',\n",
       " 'The Return of the King (The Lord of the Rings, #3)',\n",
       " 'The Last Olympian (Percy Jackson and the Olympians, #5)',\n",
       " 'The Lord of the Rings (The Lord of the Rings, #1-3)',\n",
       " 'The Name of the Wind (The Kingkiller Chronicle, #1)',\n",
       " 'The Nightingale']"
      ]
     },
     "execution_count": 52,
     "metadata": {},
     "output_type": "execute_result"
    }
   ],
   "source": [
    "# Example\n",
    "USER_ID = 10\n",
    "N_SAMPLE = 25\n",
    "books.loc[books[\"book_id\"].isin(get_popularity_recs(USER_ID,\n",
    "                                                    train_ratings,\n",
    "                                                    to_read,\n",
    "                                                    books,\n",
    "                                                    N_SAMPLE)\n",
    "                                ), \"title\"].tolist()"
   ]
  },
  {
   "cell_type": "markdown",
   "id": "8943429b-0e0d-46a5-b4ad-5f5971e2c908",
   "metadata": {},
   "source": [
    "#### Evaluation\n",
    "Key steps:\n",
    "\n",
    "1. Split the training set into k folds. Use k-1 folds as the training set. Use the remaining data as a validation set.\n",
    "\n",
    "2. Apply recommendation system to each user in the validation set. Output a dictionary containing predicted items for each user.\n",
    "\n",
    "3. Create ground truth for each user in the validation set. Output a dictionary containing actual relevant items for each user.\n",
    "\n",
    "4. Evaluate performance on a per user basis. Output a dictionary containing the relevant metric score for each user.\n",
    "\n",
    "5. Calculate average performance across users.\n",
    "\n",
    "6. Repeat steps 2 - 5 k times."
   ]
  },
  {
   "cell_type": "code",
   "execution_count": 53,
   "id": "cdebe76b-0abf-4bd2-bd72-8e7c8caa1df5",
   "metadata": {
    "tags": []
   },
   "outputs": [],
   "source": [
    "# N_SPLITS = 3  # Number of splits for kfold cross validation\n",
    "# N_SAMPLE = 25  # Number of recommendations\n",
    "# TOP_K = 25\n",
    "# avg_precision_at_k, avg_recall_at_k, avg_map_at_k = cf.calculate_baseline_cv_score(get_popularity_recs,\n",
    "#                                                                                    train_ratings,\n",
    "#                                                                                    to_read,\n",
    "#                                                                                    books,\n",
    "#                                                                                    N_SAMPLE,\n",
    "#                                                                                    N_SPLITS,\n",
    "#                                                                                    TOP_K)\n",
    "\n",
    "# print(f\"precision@k: {avg_precision_at_k}\")\n",
    "# print(f\"recall@k: {avg_recall_at_k}\")\n",
    "# print(f\"mean average precision@k: {avg_map_at_k}\")"
   ]
  },
  {
   "cell_type": "markdown",
   "id": "d01a1645-53ba-4994-911b-7b116bc809a8",
   "metadata": {},
   "source": [
    "## Content based filtering recommendation system"
   ]
  },
  {
   "cell_type": "markdown",
   "id": "d04e4f83-1169-4506-80a6-0d7d21e5840f",
   "metadata": {},
   "source": [
    "### Algorithm\n",
    "Key steps: \n",
    "\n",
    "1. Filter the similarity matrix so only the specified user remains.\n",
    "\n",
    "2. Sort the books in descending order by similarity\n",
    "\n",
    "3. Exclude books already rated or marked to read by the user from recommendations\n",
    "\n",
    "4. Select the top n books for the final sample"
   ]
  },
  {
   "cell_type": "code",
   "execution_count": 54,
   "id": "44d8830b-2d32-44c1-ac54-83370bffeaaa",
   "metadata": {},
   "outputs": [],
   "source": [
    "def get_content_based_recs(user_id, similarity_matrix, user_matrix_ids, all_user_ratings, all_user_toread, all_books, n_sample):\n",
    "    \"\"\"\n",
    "    Function to get content-based book recommendations for a given user profile\n",
    "\n",
    "    Parameters:\n",
    "    - user_id: User id\n",
    "    - similarity_matrix: Numpy array of similarity scores. Each row corresponds to a user and each column corresponds to a book.\n",
    "    - user_matrix_ids: Numpy array of user ids corresponding to rows of the similarity matrix\n",
    "    - all_user_ratings: DataFrame containing ratings history for all users.\n",
    "    - all_user_toread: DataFrame containing to read list for all users.\n",
    "    - all_books: DataFrame containing metadata for all books.\n",
    "    - n_sample: Number of recommendations to generate.\n",
    "\n",
    "    Returns: List of book recommended ids \n",
    "    \"\"\"\n",
    "\n",
    "    # Lookup user id position in similarity matrix\n",
    "    user_idx = np.where(user_matrix_ids == user_id)[0][0]\n",
    "\n",
    "    # Filter and sort similarity matrix\n",
    "    book_user_similarities = list(enumerate(similarity_matrix[user_idx]))\n",
    "    book_user_similarities = sorted(\n",
    "        book_user_similarities, key=lambda x: x[1], reverse=True)\n",
    "\n",
    "    # User history\n",
    "    rating_history = all_user_ratings.loc[all_user_ratings[\"user_id\"]\n",
    "                                          == user_id, \"book_id\"].tolist()\n",
    "    toread_history = all_user_toread.loc[all_user_toread[\"user_id\"]\n",
    "                                         == user_id, \"book_id\"].tolist()\n",
    "    user_history = set(rating_history).union(set(toread_history))\n",
    "\n",
    "    # Lookup book_id and filter out books in the user history\n",
    "    user_recs = [all_books.loc[book_idx, \"book_id\"] for book_idx, score in book_user_similarities\n",
    "                 if all_books.loc[book_idx, \"book_id\"] not in user_history]\n",
    "\n",
    "    return user_recs[0:n_sample]"
   ]
  },
  {
   "cell_type": "markdown",
   "id": "d2dd447e-143e-4069-adb3-05541143cf22",
   "metadata": {},
   "source": [
    "### Model 1 - tf.idf\n",
    "Basic principle:\n",
    "\n",
    "* Items are recommended to a given user based on their ratings and toread history and the similarity of this profile to unread books.\n",
    "\n",
    "* The profile for each user and book is translated into feature space using tf.idf vectorisation. "
   ]
  },
  {
   "cell_type": "markdown",
   "id": "a3cc5183-e242-447d-8a6e-9ed50d078bb9",
   "metadata": {},
   "source": [
    "#### Feature extraction\n",
    "\n",
    "* The TF-IDF matrix is precomputed for each book and user. This speeds up computation time.\n",
    "\n",
    "* A vector feature representing book content is created using the book profile column.\n",
    "  \n",
    "* The tf.idf vectorizer is fit using the book profile column. This determines the vocab size and associated vector length when vectorising user profiles later. Any unseen terms in the user profile will not be incorporated into the vector. This is a limitation of the tf.idf approach."
   ]
  },
  {
   "cell_type": "code",
   "execution_count": 55,
   "id": "9b701a90-fd20-483b-9e74-91429aa30c05",
   "metadata": {},
   "outputs": [],
   "source": [
    "# Stop words\n",
    "custom_stop_words = []\n",
    "a = nltk.corpus.stopwords.words('english')\n",
    "b = list(string.punctuation) + custom_stop_words\n",
    "stopwords = set(a).union(b)\n",
    "\n",
    "# Lemmatizer\n",
    "lemmatizer = WordNetLemmatizer()"
   ]
  },
  {
   "cell_type": "markdown",
   "id": "4e320dde-30c1-48d3-b803-9184877f12fc",
   "metadata": {},
   "source": [
    "##### Book profiles\n",
    "\n",
    "* The TF-IDF matrix is precomputed for each book\n",
    "  \n",
    "* Each row corresponds to a book"
   ]
  },
  {
   "cell_type": "code",
   "execution_count": 56,
   "id": "be33975b-3132-449e-8b55-1eb06d40474a",
   "metadata": {},
   "outputs": [
    {
     "name": "stdout",
     "output_type": "stream",
     "text": [
      "(8726, 12146)\n"
     ]
    }
   ],
   "source": [
    "# Create matrix of book vectors\n",
    "books = books.sort_index()\n",
    "tfidf_book_profiles = books['book_profile'].apply(lambda x: cf.preprocess_text(x, stopwords, lemmatizer))\n",
    "tfidf_vectorizer = TfidfVectorizer(use_idf=True)\n",
    "tfidf_book_matrix = tfidf_vectorizer.fit_transform(tfidf_book_profiles.to_numpy())\n",
    "print(tfidf_book_matrix.shape)\n",
    "\n",
    "# Create book_id lookup\n",
    "tfidf_book_matrix_ids = books[\"book_id\"].to_numpy()"
   ]
  },
  {
   "cell_type": "markdown",
   "id": "9c316b14-6399-42a8-b3bc-2c37909369a3",
   "metadata": {},
   "source": [
    "##### User profiles\n",
    "\n",
    "* The TF-IDF matrix is precomputed for each book\n",
    "\n",
    "* Each row corresponds to a user"
   ]
  },
  {
   "cell_type": "code",
   "execution_count": 57,
   "id": "9581a4ab-063d-4236-b94d-47dca12330b5",
   "metadata": {},
   "outputs": [
    {
     "name": "stdout",
     "output_type": "stream",
     "text": [
      "(53424, 12146)\n"
     ]
    }
   ],
   "source": [
    "# Create matrix of user vectors\n",
    "all_user_profiles = train_ratings.groupby(\"user_id\")[\"book_profile\"].agg(lambda x: \" \".join(x)).rename(\"user_profile\")\n",
    "tfidf_user_profiles = all_user_profiles.apply(lambda x: cf.preprocess_text(x, stopwords, lemmatizer))\n",
    "tfidf_user_matrix = tfidf_vectorizer.transform(tfidf_user_profiles.to_numpy())\n",
    "print(tfidf_user_matrix.shape)\n",
    "\n",
    "# Create user_id lookup\n",
    "tfidf_user_matrix_ids = tfidf_user_profiles.index.to_numpy()"
   ]
  },
  {
   "cell_type": "markdown",
   "id": "ecad7643-9c9b-43a3-8b41-ab50c72f6dbe",
   "metadata": {},
   "source": [
    "#### Similarity matrix\n",
    "\n",
    "* To avoid redundent calculations, cosine similarities are calculated between all user profile vectors and all book profile vectors at once (rather than repeatedly within a function).\n",
    "  \n",
    "* Cosine similarity is a measure of similarity between two vectors that is widely used in text analysis. When working with TF-IDF vectors, it ranges from 0 to 1, with 1 indicating perfect similarity and 0 indicating no similarity (i.e. no shared terms)\n",
    "  \n",
    "* The similarity matrix contains a row for each user and each column corresponds to a book"
   ]
  },
  {
   "cell_type": "code",
   "execution_count": 58,
   "id": "3eb4fcb9-397e-405f-93db-256926222666",
   "metadata": {},
   "outputs": [
    {
     "data": {
      "text/plain": [
       "(53424, 8726)"
      ]
     },
     "execution_count": 58,
     "metadata": {},
     "output_type": "execute_result"
    }
   ],
   "source": [
    "tfidf_similarity_matrix = cosine_similarity(tfidf_user_matrix, tfidf_book_matrix)\n",
    "tfidf_similarity_matrix.shape"
   ]
  },
  {
   "cell_type": "markdown",
   "id": "2456a0ad-b8a5-4570-99a8-eaab48f8c4b5",
   "metadata": {},
   "source": [
    "#### Algorithm\n",
    "\n",
    "Key steps: \n",
    "\n",
    "1. Filter the similarity matrix so only the specified user remains.\n",
    "\n",
    "2. Sort the books in descending order by similarity\n",
    "\n",
    "3. Exclude books already rated or marked to read by the user from recommendations\n",
    "\n",
    "4. Select the top n books for the final sample"
   ]
  },
  {
   "cell_type": "code",
   "execution_count": 59,
   "id": "0241ae77-c4eb-4737-90f2-bbbfcaef333d",
   "metadata": {},
   "outputs": [],
   "source": [
    "# def get_tfidf_based_recs(user_id, similarity_matrix, user_matrix_ids, all_user_ratings, all_user_toread, all_books, n_sample):\n",
    "#     \"\"\"\n",
    "#     Function to get content-based book recommendations for a given user profile\n",
    "\n",
    "#     Parameters:\n",
    "#     - user_id: User id\n",
    "#     - similarity_matrix: Numpy array of similarity scores. Each row corresponds to a user and each column corresponds to a book.\n",
    "#     - user_matrix_ids: Numpy array of user ids corresponding to rows of the similarity matrix\n",
    "#     - all_user_ratings: DataFrame containing ratings history for all users.\n",
    "#     - all_user_toread: DataFrame containing to read list for all users.\n",
    "#     - all_books: DataFrame containing metadata for all books.\n",
    "#     - n_sample: Number of recommendations to generate.\n",
    "\n",
    "#     Returns: List of book recommended ids \n",
    "#     \"\"\"\n",
    "\n",
    "#     # Lookup user id position in similarity matrix\n",
    "#     user_idx = np.where(user_matrix_ids == user_id)[0][0]\n",
    "\n",
    "#     # Filter and sort similarity matrix\n",
    "#     book_user_similarities = list(enumerate(similarity_matrix[user_idx]))\n",
    "#     book_user_similarities = sorted(\n",
    "#         book_user_similarities, key=lambda x: x[1], reverse=True)\n",
    "\n",
    "#     # User history\n",
    "#     rating_history = all_user_ratings.loc[all_user_ratings[\"user_id\"]\n",
    "#                                           == user_id, \"book_id\"].tolist()\n",
    "#     toread_history = all_user_toread.loc[all_user_toread[\"user_id\"]\n",
    "#                                          == user_id, \"book_id\"].tolist()\n",
    "#     user_history = set(rating_history).union(set(toread_history))\n",
    "\n",
    "#     # Lookup book_id and filter out books in the user history\n",
    "#     user_recs = [all_books.loc[book_idx, \"book_id\"] for book_idx, score in book_user_similarities\n",
    "#                  if all_books.loc[book_idx, \"book_id\"] not in user_history]\n",
    "#     # user_recs = [book_id for book_id,\n",
    "#     #              score in book_user_similarities if book_id not in user_history]\n",
    "\n",
    "#     return user_recs[0:n_sample]"
   ]
  },
  {
   "cell_type": "code",
   "execution_count": 60,
   "id": "4c54d2e8-02d3-4a2c-b122-838d7c380462",
   "metadata": {},
   "outputs": [
    {
     "data": {
      "text/plain": [
       "[\"Harry Potter and the Sorcerer's Stone (Harry Potter, #1)\",\n",
       " 'The Hobbit',\n",
       " 'Harry Potter and the Order of the Phoenix (Harry Potter, #5)',\n",
       " 'Harry Potter and the Chamber of Secrets (Harry Potter, #2)',\n",
       " 'Harry Potter and the Goblet of Fire (Harry Potter, #4)',\n",
       " 'Harry Potter and the Half-Blood Prince (Harry Potter, #6)',\n",
       " 'The Adventures of Tom Sawyer',\n",
       " 'The Lord of the Rings (The Lord of the Rings, #1-3)',\n",
       " 'The Shadow of the Wind (The Cemetery of Forgotten Books,  #1)',\n",
       " 'Anthem',\n",
       " 'J.R.R. Tolkien 4-Book Boxed Set: The Hobbit and The Lord of the Rings',\n",
       " 'The History of the Hobbit, Part One: Mr. Baggins',\n",
       " \"The Girl in the Spider's Web (Millennium, #4)\",\n",
       " 'Bleak House',\n",
       " 'The Harry Potter Collection 1-4 (Harry Potter, #1-4)',\n",
       " 'The Millennium Trilogy (Millennium Trilogy, #1-3)',\n",
       " 'The Children of Húrin',\n",
       " 'Hard Times',\n",
       " 'The Lord of the Rings: The Art of The Fellowship of the Ring',\n",
       " 'Harry Potter Boxed Set, Books 1-5 (Harry Potter, #1-5)',\n",
       " 'Nicholas Nickleby',\n",
       " 'The Lord of the Rings: Weapons and Warfare',\n",
       " 'A Tale of Two Cities / Great Expectations',\n",
       " 'Girls in Love (Girls, #1)',\n",
       " 'The Lord of the Rings Sketchbook']"
      ]
     },
     "execution_count": 60,
     "metadata": {},
     "output_type": "execute_result"
    }
   ],
   "source": [
    "# Example\n",
    "USER_ID = 10\n",
    "N_SAMPLE = 25\n",
    "books.loc[books[\"book_id\"].isin(get_content_based_recs(USER_ID,\n",
    "                                                       tfidf_similarity_matrix,\n",
    "                                                       tfidf_user_matrix_ids,\n",
    "                                                       train_ratings,\n",
    "                                                       to_read,\n",
    "                                                       books,\n",
    "                                                       N_SAMPLE\n",
    "                                                       )\n",
    "                                ), \"title\"].tolist()"
   ]
  },
  {
   "cell_type": "markdown",
   "id": "9d3deb8c-5668-43a7-af95-45ca4f496a30",
   "metadata": {},
   "source": [
    "**Test 1**\n",
    "* Does the tf.vectoriser work OK? \n",
    "* Cosine similarity should be zero when two strings do not share any terms. It should be one when they are idential."
   ]
  },
  {
   "cell_type": "code",
   "execution_count": 61,
   "id": "5706b05c-2921-4ce0-b684-119420bd856a",
   "metadata": {},
   "outputs": [
    {
     "name": "stdout",
     "output_type": "stream",
     "text": [
      "the man and the dog\n",
      "the horse and the cat\n",
      "man dog\n",
      "horse cat\n",
      "(1, 12146)\n",
      "(1, 12146)\n",
      "[0.]\n"
     ]
    }
   ],
   "source": [
    "string1 = 'the man and the dog'\n",
    "string2 = 'the horse and the cat'\n",
    "\n",
    "processed_1 = cf.preprocess_text(string1, stopwords, lemmatizer)\n",
    "processed_2 = cf.preprocess_text(string2, stopwords, lemmatizer)\n",
    "vector_1 = tfidf_vectorizer.transform([processed_1])\n",
    "vector_2 = tfidf_vectorizer.transform([processed_2])\n",
    "\n",
    "print(string1)\n",
    "print(string2)\n",
    "print(processed_1)\n",
    "print(processed_2)\n",
    "print(vector_1.shape)\n",
    "print(vector_2.shape)\n",
    "print(cosine_similarity(vector_1 , vector_2).flatten())"
   ]
  },
  {
   "cell_type": "markdown",
   "id": "791ed121-3a62-46e0-9dab-ae7579d0c7be",
   "metadata": {},
   "source": [
    "**Test 2**\n",
    "* Is there a connection between the user profile and recommended novels?\n",
    "* The recommended novels should contain terms with a high tf.idf"
   ]
  },
  {
   "cell_type": "code",
   "execution_count": 62,
   "id": "6280db70-681c-4951-a98d-b77dc8a92f36",
   "metadata": {},
   "outputs": [
    {
     "data": {
      "text/html": [
       "<div>\n",
       "<style scoped>\n",
       "    .dataframe tbody tr th:only-of-type {\n",
       "        vertical-align: middle;\n",
       "    }\n",
       "\n",
       "    .dataframe tbody tr th {\n",
       "        vertical-align: top;\n",
       "    }\n",
       "\n",
       "    .dataframe thead th {\n",
       "        text-align: right;\n",
       "    }\n",
       "</style>\n",
       "<table border=\"1\" class=\"dataframe\">\n",
       "  <thead>\n",
       "    <tr style=\"text-align: right;\">\n",
       "      <th></th>\n",
       "      <th>tf.idf</th>\n",
       "    </tr>\n",
       "  </thead>\n",
       "  <tbody>\n",
       "    <tr>\n",
       "      <th>ring</th>\n",
       "      <td>0.142919</td>\n",
       "    </tr>\n",
       "    <tr>\n",
       "      <th>peikoff</th>\n",
       "      <td>0.128609</td>\n",
       "    </tr>\n",
       "    <tr>\n",
       "      <th>girl</th>\n",
       "      <td>0.127345</td>\n",
       "    </tr>\n",
       "    <tr>\n",
       "      <th>reg</th>\n",
       "      <td>0.125305</td>\n",
       "    </tr>\n",
       "    <tr>\n",
       "      <th>rand</th>\n",
       "      <td>0.122606</td>\n",
       "    </tr>\n",
       "    <tr>\n",
       "      <th>ayn</th>\n",
       "      <td>0.122606</td>\n",
       "    </tr>\n",
       "    <tr>\n",
       "      <th>larsson</th>\n",
       "      <td>0.122606</td>\n",
       "    </tr>\n",
       "    <tr>\n",
       "      <th>stieg</th>\n",
       "      <td>0.122606</td>\n",
       "    </tr>\n",
       "    <tr>\n",
       "      <th>chabon</th>\n",
       "      <td>0.120325</td>\n",
       "    </tr>\n",
       "    <tr>\n",
       "      <th>millennium</th>\n",
       "      <td>0.118348</td>\n",
       "    </tr>\n",
       "  </tbody>\n",
       "</table>\n",
       "</div>"
      ],
      "text/plain": [
       "              tf.idf\n",
       "ring        0.142919\n",
       "peikoff     0.128609\n",
       "girl        0.127345\n",
       "reg         0.125305\n",
       "rand        0.122606\n",
       "ayn         0.122606\n",
       "larsson     0.122606\n",
       "stieg       0.122606\n",
       "chabon      0.120325\n",
       "millennium  0.118348"
      ]
     },
     "metadata": {},
     "output_type": "display_data"
    }
   ],
   "source": [
    "# Create user profile\n",
    "USER_ID = 10\n",
    "user_vector_df = pd.DataFrame(tfidf_user_matrix[USER_ID-1].toarray(), columns=list(tfidf_vectorizer.get_feature_names_out()))\n",
    "user_vector_df = user_vector_df.sort_values(by=0, axis=1, ascending=False)\n",
    "user_vector_df = user_vector_df.transpose().rename({0:\"tf.idf\"}, axis=1)\n",
    "display(user_vector_df.head(10))"
   ]
  },
  {
   "cell_type": "code",
   "execution_count": 63,
   "id": "aedf9e13-34be-4ba4-b96c-236d2a8f0a27",
   "metadata": {},
   "outputs": [
    {
     "name": "stdout",
     "output_type": "stream",
     "text": [
      "1 The Millennium Trilogy (Millennium Trilogy, #1-3) Stieg Larsson, Reg Keeland\n",
      "2 The Lord of the Rings (The Lord of the Rings, #1-3) J.R.R. Tolkien\n",
      "3 A Tale of Two Cities / Great Expectations Charles Dickens\n",
      "4 J.R.R. Tolkien 4-Book Boxed Set: The Hobbit and The Lord of the Rings J.R.R. Tolkien\n",
      "5 The Girl in the Spider's Web (Millennium, #4) David Lagercrantz, Stieg Larsson, George Goulding\n",
      "6 The Lord of the Rings: The Art of The Fellowship of the Ring Gary Russell\n",
      "7 Anthem Ayn Rand\n",
      "8 The History of the Hobbit, Part One: Mr. Baggins John D. Rateliff, J.R.R. Tolkien\n",
      "9 The Children of Húrin J.R.R. Tolkien, Christopher Tolkien, Alan Lee\n",
      "10 The Hobbit J.R.R. Tolkien\n",
      "11 Hard Times Charles Dickens\n",
      "12 Girls in Love (Girls, #1) Jacqueline Wilson\n",
      "13 Bleak House Charles Dickens, Nicola Bradbury, Hablot Knight Browne\n",
      "14 Harry Potter Boxed Set, Books 1-5 (Harry Potter, #1-5) J.K. Rowling, Mary GrandPré\n",
      "15 Harry Potter and the Chamber of Secrets (Harry Potter, #2) J.K. Rowling, Mary GrandPré\n",
      "16 The Lord of the Rings Sketchbook Alan Lee, Ian McKellen\n",
      "17 Harry Potter and the Goblet of Fire (Harry Potter, #4) J.K. Rowling, Mary GrandPré\n",
      "18 The Harry Potter Collection 1-4 (Harry Potter, #1-4) J.K. Rowling, Mary GrandPré\n",
      "19 The Lord of the Rings: Weapons and Warfare Chris   Smith, Christopher Lee, Richard Taylor\n",
      "20 The Shadow of the Wind (The Cemetery of Forgotten Books,  #1) Carlos Ruiz Zafón, Lucia Graves\n",
      "21 The Adventures of Tom Sawyer Mark Twain, Guy Cardwell, John Seelye\n",
      "22 Harry Potter and the Sorcerer's Stone (Harry Potter, #1) J.K. Rowling, Mary GrandPré\n",
      "23 Nicholas Nickleby Charles Dickens, Mark Ford\n",
      "24 Harry Potter and the Half-Blood Prince (Harry Potter, #6) J.K. Rowling, Mary GrandPré\n",
      "25 Harry Potter and the Order of the Phoenix (Harry Potter, #5) J.K. Rowling, Mary GrandPré\n"
     ]
    }
   ],
   "source": [
    "# Generate recommendations\n",
    "N_SAMPLE = 25\n",
    "similar_books = get_content_based_recs(\n",
    "    USER_ID, tfidf_similarity_matrix, tfidf_user_matrix_ids, train_ratings, to_read, books, N_SAMPLE)\n",
    "\n",
    "for i, id in enumerate(similar_books):\n",
    "    book_title = books.loc[books['book_id'] == id, 'title'].tolist()[0]\n",
    "    book_authors = books.loc[books['book_id'] == id, 'authors'].tolist()[0]\n",
    "    print(i+1, book_title, book_authors)"
   ]
  },
  {
   "cell_type": "markdown",
   "id": "f4a74e9b-b22e-40c9-929a-9597339049aa",
   "metadata": {},
   "source": [
    "**Test 3**\n",
    "\n",
    "* Does the similarity matrix reveal anything?\n",
    "  \n",
    "* Similarity between books drops quickly."
   ]
  },
  {
   "cell_type": "code",
   "execution_count": 64,
   "id": "4556dd2d-5897-49c3-a3ea-413241e09ee2",
   "metadata": {},
   "outputs": [
    {
     "name": "stdout",
     "output_type": "stream",
     "text": [
      "Similar books to: ''Born Standing Up: A Comic's Life'' by Steve Martin\n",
      "('Shopgirl', 'Steve Martin', 0.3312550338051825)\n",
      "('Born in Fire (Born In Trilogy, #1)', 'Nora Roberts', 0.32606974464586014)\n",
      "('Born in Ice (Born In Trilogy, #2)', 'Nora Roberts', 0.321448846180845)\n",
      "('Last Man Standing', 'David Baldacci', 0.313363479202958)\n",
      "('The Pleasure of My Company', 'Steve Martin', 0.30745962923307557)\n",
      "('Born in Shame (Born In Trilogy, #3)', 'Nora Roberts', 0.3016235440977536)\n",
      "('An Object of Beauty', 'Steve Martin', 0.29567745078614527)\n",
      "('A Game of Thrones: Comic Book, Issue 1', 'Daniel Abraham, George R.R. Martin, Tommy Patterson', 0.2592627132528138)\n",
      "('Understanding Comics: The Invisible Art', 'Scott McCloud', 0.2247737611830637)\n",
      "('Standing in the Rainbow (Elmwood Springs, #2)', 'Fannie Flagg', 0.22165929266230364)\n",
      "('Civil War: A Marvel Comics Event', 'Mark Millar, Steve McNiven, Dexter Vines, Morry Hollowell', 0.21873238264834544)\n",
      "(\"A Dog's Life: The Autobiography of a Stray\", 'Ann M. Martin', 0.20890903071272635)\n",
      "('On the Night You Were Born', 'Nancy Tillman', 0.2064414221310336)\n",
      "('Life After Life', 'Kate Atkinson', 0.20141257439340804)\n",
      "('Born of Night (The League, #1)', 'Sherrilyn Kenyon', 0.18727707295747453)\n",
      "('Born to Run', 'Bruce Springsteen', 0.182732898234515)\n",
      "('Born at Midnight (Shadow Falls, #1)', 'C.C. Hunter', 0.17679138800476665)\n",
      "('Storm Born (Dark Swan #1)', 'Richelle Mead', 0.17107996066524933)\n",
      "('Being and Time', 'Martin Heidegger', 0.1665902021861122)\n",
      "('Forest Born (The Books of Bayern, #4)', 'Shannon Hale', 0.16153731708536956)\n",
      "('The Third Secret', 'Steve Berry', 0.15733681427824436)\n",
      "('Learned Optimism: How to Change Your Mind and Your Life', 'Martin E.P. Seligman', 0.15708900715473129)\n",
      "('Money', 'Martin Amis', 0.1564831925060712)\n",
      "('The List', 'Steve Martini', 0.15632950970610646)\n",
      "('A Corner of the Universe', 'Ann M. Martin', 0.15538150719697894)\n",
      "('American Born Chinese', 'Gene Luen Yang', 0.15352348331289295)\n",
      "('Born in Death (In Death, #23)', 'J.D. Robb, Susan Ericksen', 0.1532840061632409)\n",
      "(\"Breaking Point (Tom Clancy's Net Force, #4)\", 'Steve Perry, Tom Clancy, Steve Pieczenik', 0.1465993838931929)\n",
      "('Out Stealing Horses', 'Per Petterson, Anne Born', 0.14529591318690085)\n",
      "('When Crickets Cry', 'Charles Martin', 0.1448987664112255)\n",
      "(\"Time's Arrow\", 'Martin Amis', 0.14265889273967955)\n",
      "('Steve Jobs', 'Walter Isaacson', 0.1423308942500333)\n",
      "('Natural Born Charmer (Chicago Stars, #7)', 'Susan Elizabeth Phillips', 0.13982163905934414)\n",
      "('Rain Reign', 'Ann M. Martin', 0.13879331359202288)\n",
      "('The Romanov Prophecy', 'Steve Berry', 0.13846911804541517)\n",
      "('Preacher, Volume 4: Ancient History', 'Garth Ennis, Steve Dillon, Steve Pugh, Matt Hollingsworth, Carlos Ezquerra, Richard Case', 0.1372748138227472)\n",
      "('The Autobiography of Martin Luther King, Jr.', 'Martin Luther King Jr., Clayborne Carson', 0.13662889867606595)\n",
      "('The Rising: Antichrist is Born  (Before They Were Left Behind, #1)', 'Tim LaHaye, Jerry B. Jenkins', 0.1349080528858072)\n",
      "('Bound by Honor (Born in Blood Mafia Chronicles, #1)', 'Cora Reilly', 0.13449616402560394)\n",
      "('Shadows of the Empire (Star Wars)', 'Steve Perry', 0.13387895815364118)\n",
      "('Fevre Dream', 'George R.R. Martin', 0.13343924323495643)\n",
      "('Martin the Warrior (Redwall, #6)', 'Brian Jacques', 0.1325430485391494)\n",
      "('Born a Crime: Stories From a South African Childhood', 'Trevor Noah', 0.13031565846834506)\n",
      "('Many Lives, Many Masters: The True Story of a Prominent Psychiatrist, His Young Patient, and the Past Life Therapy That Changed Both Their Lives', 'Brian L. Weiss', 0.12397627244340992)\n",
      "('Meg (MEG, #1)', 'Steve Alten', 0.12394669348252939)\n",
      "('My Life', 'Bill Clinton', 0.12354703441305682)\n",
      "('Martin Eden', 'Jack London, Andrew Sinclair', 0.12288229663619572)\n",
      "('The Dragonslayer (Bone, #4)', 'Jeff Smith, Steve Hamaker', 0.12220784010834379)\n",
      "('Tartuffe', 'Molière, Martin Sorrell', 0.12107326339196998)\n"
     ]
    }
   ],
   "source": [
    "similarity_matrix = cosine_similarity(tfidf_book_matrix, tfidf_book_matrix)\n",
    "book_idx = random.randint(0, books.shape[0])\n",
    "book_title = books.loc[book_idx, \"title\"]\n",
    "book_authors = books.loc[book_idx, \"authors\"]\n",
    "\n",
    "book_similarities = list(enumerate(similarity_matrix[book_idx]))\n",
    "book_similarities = sorted(book_similarities, key=lambda x: x[1], reverse=True)\n",
    "book_similarities = [(books.loc[idx, \"title\"], books.loc[idx, \"authors\"], score)\n",
    "                     for idx, score in book_similarities]\n",
    "\n",
    "print(f\"Similar books to: ''{book_title}'' by {book_authors}\")\n",
    "\n",
    "for rec in book_similarities[1:50]:\n",
    "    print(rec)"
   ]
  },
  {
   "cell_type": "markdown",
   "id": "7bf1672f-f2f6-4cc5-b9a5-ea91960664fe",
   "metadata": {},
   "source": [
    "#### Evaluation\n",
    "Key steps:\n",
    "\n",
    "1. Split the training set into k folds. Use k-1 folds as the training set. Use the remaining data as a validation set.\n",
    "\n",
    "2. Apply recommendation system to each user in the validation set. Output a dictionary containing predicted items for each user.\n",
    "\n",
    "3. Create ground truth for each user in the validation set. Output a dictionary containing actual relevant items for each user.\n",
    "\n",
    "4. Evaluate performance on a per user basis. Output a dictionary containing the relevant metric score for each user.\n",
    "\n",
    "5. Calculate average performance across users.\n",
    "\n",
    "6. Repeat steps 2 - 5 k times."
   ]
  },
  {
   "cell_type": "code",
   "execution_count": 65,
   "id": "204603b0-fbc5-47e0-8412-6d55990386bd",
   "metadata": {},
   "outputs": [],
   "source": [
    "# def calculate_cv_scores(recommendation_sys, book_matrix, all_user_ratings, all_user_toread, all_books, n_sample, n_splits, top_k):\n",
    "#     \"\"\"\n",
    "#     Function to calculate kfold cross-validated precision@k, recall@k and mean average precision@k.\n",
    "\n",
    "#     Parameters:\n",
    "#     - recommendation_sys: Chosen recommendation system (e.g. popularity_rec) \n",
    "#     - book_matrix: Matrix of book vectors\n",
    "#     - all_user_ratings: DataFrame containing ratings history for all users.\n",
    "#     - all_user_toread: DataFrame containing to read list for all users.\n",
    "#     - all_books: DataFrame containing metadata for all books.\n",
    "#     - n_sample: Number of recommendations to generate.\n",
    "#     - n_splits: Number of kfold splits\n",
    "#     - top_k: Number of top recommendations to consider\n",
    "\n",
    "#     Returns:\n",
    "#     - avg_precision_at_k: Average Precision@K across kfolds\n",
    "#     - avg_recall_at_k: Average Recall@k across kfolds\n",
    "#     - avg_map_at_k: Average Mean average precision @ k across kfolds\n",
    "#     \"\"\"\n",
    "\n",
    "#     precision_at_k = {}\n",
    "#     recall_at_k = {}\n",
    "#     map_at_k = {}\n",
    "\n",
    "#     # Iterate over kfolds\n",
    "#     kf = KFold(n_splits, shuffle=True, random_state=0)\n",
    "#     for n, (train_index, valid_index) in enumerate(kf.split(all_user_ratings)):\n",
    "\n",
    "#         # Create training/validation sets\n",
    "#         train_data = all_user_ratings.iloc[train_index]\n",
    "#         valid_data = all_user_ratings.iloc[valid_index]\n",
    "\n",
    "#         # Filter new users out of validation set\n",
    "#         unique_train_users = train_data[\"user_id\"].unique()\n",
    "#         unique_train_users = set(unique_train_users)\n",
    "#         valid_data = valid_data.loc[valid_data[\"user_id\"].isin(\n",
    "#             unique_train_users)]\n",
    "\n",
    "#         # Vectorise user profiles\n",
    "#         all_user_profiles = train_data.groupby(\"user_id\")[\"book_profile\"].agg(\n",
    "#             lambda x: \" \".join(x)).rename(\"user_profile\")\n",
    "#         all_user_profiles = all_user_profiles.apply(\n",
    "#             lambda x: preprocess_text(x, stopwords, lemmatizer))\n",
    "#         user_matrix = tfidf_vectorizer.transform(all_user_profiles.to_numpy())\n",
    "#         user_matrix_ids = all_user_profiles.index.to_numpy()\n",
    "\n",
    "#         # Compute similarity matrix\n",
    "#         cosine_similarity_matrix = cosine_similarity(user_matrix, book_matrix)\n",
    "\n",
    "#         # Compute evaluation metrics and update relevant dictionaries with scores\n",
    "#         precision_at_k[n], recall_at_k[n], map_at_k[n] = calculate_kfold_score(\n",
    "#             recommendation_sys, cosine_similarity_matrix, user_matrix_ids, train_data, valid_data, all_user_toread, all_books, n_sample, top_k)\n",
    "\n",
    "#     # Compute average evaluation metric scores\n",
    "#     avg_precision_at_k = sum(precision_at_k.values()) / len(precision_at_k)\n",
    "#     avg_recall_at_k = sum(recall_at_k.values()) / len(recall_at_k)\n",
    "#     avg_map_at_k = sum(map_at_k.values()) / len(map_at_k)\n",
    "\n",
    "#     return avg_precision_at_k, avg_recall_at_k, avg_map_at_k"
   ]
  },
  {
   "cell_type": "code",
   "execution_count": 66,
   "id": "d9a19c4a-ec1c-4fe0-af6d-7d84ae0864ac",
   "metadata": {},
   "outputs": [],
   "source": [
    "# from custom_funcs import calculate_precision_at_k\n",
    "# from custom_funcs import calculate_recall_at_k\n",
    "# from custom_funcs import calculate_mean_average_precision_at_k\n",
    "\n",
    "\n",
    "# def calculate_kfold_score(recommendation_sys, cosine_similarity_matrix, user_matrix_ids, train_data, valid_data, all_user_toread, all_books, n_sample, top_k):\n",
    "#     \"\"\"\n",
    "#     Function to calculate precision, recall and mean average precision given training/validation data.\n",
    "\n",
    "#     Parameters:\n",
    "#     - recommendation_sys: Chosen recommendation system (e.g. popularity_rec)\n",
    "#     - cosine_similarity_matrix: Each row corresponds to a user and each column corresponds to a book\n",
    "#     - user_matrix_ids: Numpy array containing user_id corresponding to each row in the similarity matrix\n",
    "#     - train_data: List of user ratings for each book\n",
    "#     - valid_data: List of user ratings for each book\n",
    "#     - all_user_toread: DataFrame containing to read list for all users.\n",
    "#     - all_books: DataFrame containing metadata for all books.\n",
    "#     - n_sample: Number of recommendations to generate.\n",
    "#     - top_k: Number of top recommendations to consider\n",
    "\n",
    "#     Returns:\n",
    "#     - overall_precision: Average precision@K across users in the validation data\n",
    "#     - overall_recall: Average Recall@k across users in the validation data\n",
    "#     - overall_map: Average Mean average precision @ k across users in the validation data\n",
    "#     \"\"\"\n",
    "#     user_recommendations = {}\n",
    "#     user_history = {}\n",
    "#     user_precision = {}\n",
    "#     user_recall = {}\n",
    "#     user_map = {}\n",
    "\n",
    "#     # Iterate over random sample of users from the validation set\n",
    "#     valid_user_ids = valid_data[\"user_id\"].unique()\n",
    "#     valid_user_ids = np.random.choice(valid_user_ids, size=int(\n",
    "#         len(valid_user_ids)*0.01), replace=False)\n",
    "#     for user_id in valid_user_ids:\n",
    "\n",
    "#         # Update dictionary with n_sample predicted items for the user\n",
    "#         user_recommendations[user_id] = recommendation_sys(\n",
    "#             user_id, cosine_similarity_matrix, user_matrix_ids, train_data, all_user_toread, all_books, n_sample)\n",
    "\n",
    "#         # Update dictionary with actual rated items for the user\n",
    "#         user_history[user_id] = valid_data.loc[valid_data[\"user_id\"]\n",
    "#                                                == id, \"book_id\"].tolist()\n",
    "\n",
    "#         # Compute evaluation metrics and update relevant dictionaries with scores\n",
    "#         predicted = user_recommendations.get(user_id, [])\n",
    "#         actual = user_history.get(user_id, [])\n",
    "#         user_precision[id] = calculate_precision_at_k(actual, predicted, top_k)\n",
    "#         user_recall[id] = calculate_recall_at_k(actual, predicted, top_k)\n",
    "#         user_map[id] = calculate_mean_average_precision_at_k(\n",
    "#             actual, predicted, top_k)\n",
    "\n",
    "#     # Compute average evaluation metric scores\n",
    "#     overall_precision = sum(user_precision.values()) / len(user_precision)\n",
    "#     overall_recall = sum(user_recall.values()) / len(user_recall)\n",
    "#     overall_map = sum(user_map.values()) / len(user_map)\n",
    "\n",
    "#     return overall_precision, overall_recall, overall_map"
   ]
  },
  {
   "cell_type": "code",
   "execution_count": 67,
   "id": "cd2447c9-bf95-471f-8874-e928cf64aedb",
   "metadata": {},
   "outputs": [],
   "source": [
    "# N_SPLITS = 3  # Number of splits for kfold cross validation\n",
    "# N_SAMPLE = 25  # Number of recommendations\n",
    "# TOP_K = 25  # validation metric k\n",
    "# avg_precision_at_k, avg_recall_at_k, avg_map_at_k = cf.calculate_cv_score(get_content_based_recs,\n",
    "#                                                                           tfidf_book_matrix,\n",
    "#                                                                           train_ratings,\n",
    "#                                                                           to_read,\n",
    "#                                                                           books,\n",
    "#                                                                           stopwords,\n",
    "#                                                                           lemmatizer,\n",
    "#                                                                           tfidf_vectorizer,\n",
    "#                                                                           N_SAMPLE,\n",
    "#                                                                           N_SPLITS,\n",
    "#                                                                           TOP_K,\n",
    "#                                                                           )\n",
    "# print(f\"precision@k: {avg_precision_at_k}\")\n",
    "# print(f\"recall@k: {avg_recall_at_k}\")\n",
    "# print(f\"mean average precision@k: {avg_map_at_k}\")"
   ]
  },
  {
   "cell_type": "markdown",
   "id": "09b4d114-6c0e-4023-8be3-5daca70b48fb",
   "metadata": {},
   "source": [
    "### Model 2 - word2vec\n",
    "Basic principle:\n",
    "\n",
    "* Items are recommended to a given user based on their ratings and toread history and the similarity of this profile to unread books.\n",
    "\n",
    "* The profile for each user and book is translated into feature space using a pretrained word2vec model. "
   ]
  },
  {
   "cell_type": "markdown",
   "id": "3b887d45-a8f5-48f2-9385-9a3147d66b29",
   "metadata": {},
   "source": [
    "#### Feature extraction\n",
    "* A vector feature representing book content is created using the book profile column.\n",
    "  \n",
    "* A pretrained word2vec model translates each token into a 300 element embedding. The embedded vectors are averaged to obtain a single fixed-size vector that represents the whole text. "
   ]
  },
  {
   "cell_type": "code",
   "execution_count": 68,
   "id": "ed25fc6c-63c7-4383-9d59-135fd27615b7",
   "metadata": {},
   "outputs": [],
   "source": [
    "# Stop words\n",
    "custom_stop_words = []\n",
    "a = nltk.corpus.stopwords.words('english')\n",
    "b = list(string.punctuation) + custom_stop_words\n",
    "stopwords = set(a).union(b)\n",
    "\n",
    "# Lemmatizer\n",
    "lemmatizer = WordNetLemmatizer()\n",
    "\n",
    "# Load pre-trained Word2Vec model\n",
    "word2vec_model_path = \"GoogleNews-vectors-negative300.bin.gz\"\n",
    "pretrained_word2vec_model = KeyedVectors.load_word2vec_format(word2vec_model_path, binary=True)"
   ]
  },
  {
   "cell_type": "markdown",
   "id": "371d6dda-bc46-4b9a-b603-468779ac62c3",
   "metadata": {},
   "source": [
    "##### Book profiles"
   ]
  },
  {
   "cell_type": "code",
   "execution_count": 69,
   "id": "3600b13b-9e15-4036-9933-fb7dd96a03d9",
   "metadata": {},
   "outputs": [
    {
     "name": "stdout",
     "output_type": "stream",
     "text": [
      "Number of missing embeddings: 17\n",
      "Number of missing embeddings after padding: 0\n",
      "Shape of matrix of book vectors: (8726, 300)\n"
     ]
    }
   ],
   "source": [
    "# Create matrix of book vectors\n",
    "books = books.sort_index()\n",
    "w2v_book_profiles = books['book_profile'].apply(lambda x: cf.preprocess_text(x, stopwords, lemmatizer))\n",
    "w2v_book_matrix = w2v_book_profiles.apply(lambda x: cf.get_word2vec_embedding(x, pretrained_word2vec_model))\n",
    "\n",
    "# Pad embeddings\n",
    "max_embedding_length = 300\n",
    "print(f\"Number of missing embeddings: {w2v_book_matrix.isna().sum()}\")\n",
    "w2v_book_matrix = w2v_book_matrix.apply(lambda x: cf.pad_embedding(x, max_embedding_length))\n",
    "print(f\"Number of missing embeddings after padding: {w2v_book_matrix.isna().sum()}\")\n",
    "\n",
    "# Stack embeddings into 2-D array\n",
    "w2v_book_matrix = np.vstack(w2v_book_matrix)\n",
    "print(f\"Shape of matrix of book vectors: {w2v_book_matrix.shape}\")\n",
    "\n",
    "# Create book_id lookup\n",
    "w2v_book_matrix_ids = books[\"book_id\"].to_numpy()"
   ]
  },
  {
   "cell_type": "markdown",
   "id": "97d1d6ac-bc2f-405a-9cad-6209a5e9cf3c",
   "metadata": {},
   "source": [
    "##### User profiles"
   ]
  },
  {
   "cell_type": "code",
   "execution_count": 70,
   "id": "8c180492-d25a-4a28-a775-2427ba3fa382",
   "metadata": {},
   "outputs": [
    {
     "name": "stdout",
     "output_type": "stream",
     "text": [
      "Number of missing embeddings: 0\n",
      "Number of missing embeddings after padding: 0\n",
      "Shape of matrix of buser vectors: (53424, 300)\n"
     ]
    }
   ],
   "source": [
    "# Generate matrix of user vectors\n",
    "all_user_profiles = train_ratings.groupby(\"user_id\")[\"book_profile\"].agg(lambda x: \" \".join(x)).rename(\"user_profile\")\n",
    "w2v_user_profiles = all_user_profiles.apply(lambda x: cf.preprocess_text(x, stopwords, lemmatizer))\n",
    "w2v_user_matrix = w2v_user_profiles.apply(lambda x: cf.get_word2vec_embedding(x, pretrained_word2vec_model))\n",
    "\n",
    "# Pad embeddings\n",
    "max_embedding_length = 300\n",
    "print(f\"Number of missing embeddings: {w2v_user_matrix.isna().sum()}\")\n",
    "w2v_user_matrix = w2v_user_matrix.apply(lambda x: cf.pad_embedding(x, max_embedding_length))\n",
    "print(f\"Number of missing embeddings after padding: {w2v_user_matrix.isna().sum()}\")\n",
    "\n",
    "# Stack word embeddings into 2-D array\n",
    "w2v_user_matrix = np.vstack(w2v_user_matrix.to_numpy())\n",
    "print(f\"Shape of matrix of buser vectors: {w2v_user_matrix.shape}\")\n",
    "\n",
    "# Create user_id lookup\n",
    "w2v_user_matrix_ids = all_user_profiles.index.to_numpy()"
   ]
  },
  {
   "cell_type": "markdown",
   "id": "4062d674-fc65-46c7-9075-062c8de3f382",
   "metadata": {},
   "source": [
    "#### Similarity matrix\n",
    "\n",
    "* To avoid redundent calculations, cosine similarities are calculated between all user profile vectors and all book profile vectors at once (rather than repeatedly within a function).\n",
    "  \n",
    "* Cosine similarity is a measure of similarity between two vectors that is widely used in text analysis. When working with TF-IDF vectors, it ranges from 0 to 1, with 1 indicating perfect similarity and 0 indicating no similarity (i.e. no shared terms)\n",
    "  \n",
    "* The similarity matrix contains a row for each user and each column corresponds to a book"
   ]
  },
  {
   "cell_type": "code",
   "execution_count": 71,
   "id": "7de19fc3-69e9-44bf-a6b7-4196b121bfaa",
   "metadata": {},
   "outputs": [
    {
     "data": {
      "text/plain": [
       "(53424, 8726)"
      ]
     },
     "execution_count": 71,
     "metadata": {},
     "output_type": "execute_result"
    }
   ],
   "source": [
    "w2v_similarity_matrix = cosine_similarity(w2v_user_matrix, w2v_book_matrix)\n",
    "w2v_similarity_matrix.shape"
   ]
  },
  {
   "cell_type": "markdown",
   "id": "80eee824-cfc1-4de1-9fc3-94b93ba4ac07",
   "metadata": {},
   "source": [
    "#### Algorithm\n",
    "Key steps: \n",
    "\n",
    "1. Filter user ratings so only the specified user remains.\n",
    "\n",
    "2. Create a user profile vector by concatenating books across their reading history followed by vectorisation using word2vec\n",
    "\n",
    "3. Calculate the similarity between the user vector and all book profile vectors\n",
    "\n",
    "4. Sort the books in descending order by similarity\n",
    "\n",
    "5. Exclude books already rated or marked to read by the user from recommendations\n",
    "\n",
    "6. Select the top n books for the final sample"
   ]
  },
  {
   "cell_type": "code",
   "execution_count": 72,
   "id": "42b95824-7e79-4b3e-bcd3-a9265da9138c",
   "metadata": {},
   "outputs": [],
   "source": [
    "# def get_w2v_based_recs(user_id, similarity_matrix, user_matrix_ids, all_user_ratings, all_user_toread, all_books, n_sample):\n",
    "#     \"\"\"\n",
    "#     Function to get content-based book recommendations for a given user profile\n",
    "\n",
    "#     Parameters:\n",
    "#     - user_id: User id\n",
    "#     - similarity_matrix: Numpy array of similarity scores. Each row corresponds to a user and each column corresponds to a book.\n",
    "#     - user_matrix_ids: Numpy array of user ids corresponding to rows of the similarity matrix\n",
    "#     - all_user_ratings: DataFrame containing ratings history for all users.\n",
    "#     - all_user_toread: DataFrame containing to read list for all users.\n",
    "#     - all_books: DataFrame containing metadata for all books.\n",
    "#     - n_sample: Number of recommendations to generate.\n",
    "\n",
    "#     Returns: List of book recommended ids \n",
    "#     \"\"\"\n",
    "\n",
    "#     # Lookup user id position in similarity matrix\n",
    "#     user_idx = np.where(user_matrix_ids == user_id)[0][0]\n",
    "\n",
    "#     # Filter and sort similarity matrix\n",
    "#     book_user_similarities = list(enumerate(similarity_matrix[user_idx]))\n",
    "#     book_user_similarities = sorted(\n",
    "#         book_user_similarities, key=lambda x: x[1], reverse=True)\n",
    "\n",
    "#     # User history\n",
    "#     rating_history = all_user_ratings.loc[all_user_ratings[\"user_id\"]\n",
    "#                                           == user_id, \"book_id\"].tolist()\n",
    "#     toread_history = all_user_toread.loc[all_user_toread[\"user_id\"]\n",
    "#                                          == user_id, \"book_id\"].tolist()\n",
    "#     user_history = set(rating_history).union(set(toread_history))\n",
    "\n",
    "#     # Lookup book_id and filter out books in the user history\n",
    "#     user_recs = [all_books.loc[book_idx, \"book_id\"] for book_idx, score in book_user_similarities\n",
    "#                  if all_books.loc[book_idx, \"book_id\"] not in user_history]\n",
    "#     # user_recs = [book_id for book_id,\n",
    "#     #              score in book_user_similarities if book_id not in user_history]\n",
    "\n",
    "#     return user_recs[0:n_sample]"
   ]
  },
  {
   "cell_type": "code",
   "execution_count": 73,
   "id": "c996947d-2a85-42c2-8a6b-045f4298b2fb",
   "metadata": {},
   "outputs": [
    {
     "data": {
      "text/plain": [
       "[\"The Complete Grimm's Fairy Tales\",\n",
       " \"America (The Book): A Citizen's Guide to Democracy Inaction\",\n",
       " 'Season of Mists (The Sandman #4)',\n",
       " 'A Game of You (The Sandman #5)',\n",
       " 'Fables and Reflections (The Sandman #6)',\n",
       " 'The Kindly Ones (The Sandman #9)',\n",
       " \"Worlds' End (The Sandman #8)\",\n",
       " \"Earth (The Book): A Visitor's Guide to the Human Race\",\n",
       " 'My True Love Gave to Me: Twelve Holiday Stories',\n",
       " 'Lumberjanes, Vol. 1: Beware the Kitten Holy',\n",
       " 'The Improbable Adventures of Sherlock Holmes',\n",
       " 'The Sandman: Endless Nights',\n",
       " 'Avatar: The Last Airbender: The Lost Adventures',\n",
       " 'The Portable Atheist: Essential Readings for the Nonbeliever',\n",
       " 'The Strange Case of Dr. Jekyll and Mr. Hyde and Other Stories ',\n",
       " 'Batman: Whatever Happened to the Caped Crusader?',\n",
       " 'Superman: Earth One, Volume 1',\n",
       " 'The Little Old Lady Who Was Not Afraid of Anything',\n",
       " \"Girls' Night In\",\n",
       " 'Batman: Earth One, Volume 1',\n",
       " \"Our Dumb Century: The Onion Presents 100 Years of Headlines from America's Finest News Source\",\n",
       " \"The Girl Who Was on Fire: Your Favorite Authors on Suzanne Collins' Hunger Games Trilogy\",\n",
       " 'The Chronicles of Harris Burdick: 14 Amazing Authors Tell the Tales',\n",
       " 'Rogues',\n",
       " 'Hope: A Memoir of Survival in Cleveland']"
      ]
     },
     "execution_count": 73,
     "metadata": {},
     "output_type": "execute_result"
    }
   ],
   "source": [
    "# Example\n",
    "USER_ID = 10\n",
    "N_SAMPLE = 25\n",
    "books.loc[books[\"book_id\"].isin(get_content_based_recs(USER_ID,\n",
    "                                                       w2v_similarity_matrix,\n",
    "                                                       w2v_user_matrix_ids,\n",
    "                                                       train_ratings,\n",
    "                                                       to_read,\n",
    "                                                       books,\n",
    "                                                       N_SAMPLE\n",
    "                                                       )\n",
    "                                ), \"title\"].tolist()"
   ]
  },
  {
   "cell_type": "markdown",
   "id": "2f1e3360-a818-4f61-a118-ba55bfc851b0",
   "metadata": {},
   "source": [
    "**Test 1**\n",
    "* Does the tf.vectoriser work OK? \n",
    "* Cosine similarity should be zero when two strings do not share any terms. It should be one when they are idential."
   ]
  },
  {
   "cell_type": "code",
   "execution_count": 74,
   "id": "bb13885e-1d0e-447b-9670-ab01e8b7f19e",
   "metadata": {},
   "outputs": [
    {
     "name": "stdout",
     "output_type": "stream",
     "text": [
      "the man and the dog\n",
      "the horse and the cat\n",
      "man dog\n",
      "horse cat\n",
      "(1, 300)\n",
      "(1, 300)\n",
      "[0.6924095]\n"
     ]
    }
   ],
   "source": [
    "string1 = 'the man and the dog'\n",
    "string2 = 'the horse and the cat'\n",
    "\n",
    "processed_1 = cf.preprocess_text(string1, stopwords, lemmatizer)\n",
    "processed_2 = cf.preprocess_text(string2, stopwords, lemmatizer)\n",
    "vector_1 = cf.get_word2vec_embedding(processed_1, pretrained_word2vec_model).reshape(1, -1)\n",
    "vector_2 = cf.get_word2vec_embedding(processed_2, pretrained_word2vec_model).reshape(1, -1)\n",
    "\n",
    "print(string1)\n",
    "print(string2)\n",
    "print(processed_1)\n",
    "print(processed_2)\n",
    "print(vector_1.shape)\n",
    "print(vector_2.shape)\n",
    "print(cosine_similarity(vector_1 , vector_2).flatten())"
   ]
  },
  {
   "cell_type": "markdown",
   "id": "ea0a5ab1-e6a5-440a-8806-035f03bcd13f",
   "metadata": {},
   "source": [
    "**Test 2**\n",
    "* Is there a connection between the user profile and recommended novels?\n",
    "* The recommended novels should contain terms with a high tf.idf"
   ]
  },
  {
   "cell_type": "code",
   "execution_count": 75,
   "id": "7a17f622-28c7-4c2e-8370-82c9ee613c81",
   "metadata": {},
   "outputs": [
    {
     "data": {
      "text/html": [
       "<div>\n",
       "<style scoped>\n",
       "    .dataframe tbody tr th:only-of-type {\n",
       "        vertical-align: middle;\n",
       "    }\n",
       "\n",
       "    .dataframe tbody tr th {\n",
       "        vertical-align: top;\n",
       "    }\n",
       "\n",
       "    .dataframe thead th {\n",
       "        text-align: right;\n",
       "    }\n",
       "</style>\n",
       "<table border=\"1\" class=\"dataframe\">\n",
       "  <thead>\n",
       "    <tr style=\"text-align: right;\">\n",
       "      <th></th>\n",
       "      <th>title</th>\n",
       "      <th>authors</th>\n",
       "      <th>rating</th>\n",
       "    </tr>\n",
       "    <tr>\n",
       "      <th>book_id</th>\n",
       "      <th></th>\n",
       "      <th></th>\n",
       "      <th></th>\n",
       "    </tr>\n",
       "  </thead>\n",
       "  <tbody>\n",
       "    <tr>\n",
       "      <th>4</th>\n",
       "      <td>To Kill a Mockingbird</td>\n",
       "      <td>Harper Lee</td>\n",
       "      <td>5.0</td>\n",
       "    </tr>\n",
       "    <tr>\n",
       "      <th>155</th>\n",
       "      <td>The Two Towers (The Lord of the Rings, #2)</td>\n",
       "      <td>J.R.R. Tolkien</td>\n",
       "      <td>5.0</td>\n",
       "    </tr>\n",
       "    <tr>\n",
       "      <th>7002</th>\n",
       "      <td>A Mercy</td>\n",
       "      <td>Toni Morrison</td>\n",
       "      <td>5.0</td>\n",
       "    </tr>\n",
       "    <tr>\n",
       "      <th>4298</th>\n",
       "      <td>We the Living</td>\n",
       "      <td>Ayn Rand, Leonard Peikoff</td>\n",
       "      <td>5.0</td>\n",
       "    </tr>\n",
       "    <tr>\n",
       "      <th>3409</th>\n",
       "      <td>The Winner Stands Alone</td>\n",
       "      <td>Paulo Coelho</td>\n",
       "      <td>5.0</td>\n",
       "    </tr>\n",
       "    <tr>\n",
       "      <th>2736</th>\n",
       "      <td>The Particular Sadness of Lemon Cake</td>\n",
       "      <td>Aimee Bender</td>\n",
       "      <td>5.0</td>\n",
       "    </tr>\n",
       "    <tr>\n",
       "      <th>1256</th>\n",
       "      <td>City of Thieves</td>\n",
       "      <td>David Benioff</td>\n",
       "      <td>5.0</td>\n",
       "    </tr>\n",
       "    <tr>\n",
       "      <th>1238</th>\n",
       "      <td>What Is the What</td>\n",
       "      <td>Dave Eggers</td>\n",
       "      <td>5.0</td>\n",
       "    </tr>\n",
       "    <tr>\n",
       "      <th>867</th>\n",
       "      <td>The History of Love</td>\n",
       "      <td>Nicole Krauss</td>\n",
       "      <td>5.0</td>\n",
       "    </tr>\n",
       "    <tr>\n",
       "      <th>689</th>\n",
       "      <td>Beautiful Ruins</td>\n",
       "      <td>Jess Walter</td>\n",
       "      <td>5.0</td>\n",
       "    </tr>\n",
       "  </tbody>\n",
       "</table>\n",
       "</div>"
      ],
      "text/plain": [
       "                                              title  \\\n",
       "book_id                                               \n",
       "4                             To Kill a Mockingbird   \n",
       "155      The Two Towers (The Lord of the Rings, #2)   \n",
       "7002                                        A Mercy   \n",
       "4298                                  We the Living   \n",
       "3409                        The Winner Stands Alone   \n",
       "2736           The Particular Sadness of Lemon Cake   \n",
       "1256                                City of Thieves   \n",
       "1238                               What Is the What   \n",
       "867                             The History of Love   \n",
       "689                                 Beautiful Ruins   \n",
       "\n",
       "                           authors  rating  \n",
       "book_id                                     \n",
       "4                       Harper Lee     5.0  \n",
       "155                 J.R.R. Tolkien     5.0  \n",
       "7002                 Toni Morrison     5.0  \n",
       "4298     Ayn Rand, Leonard Peikoff     5.0  \n",
       "3409                  Paulo Coelho     5.0  \n",
       "2736                  Aimee Bender     5.0  \n",
       "1256                 David Benioff     5.0  \n",
       "1238                   Dave Eggers     5.0  \n",
       "867                  Nicole Krauss     5.0  \n",
       "689                    Jess Walter     5.0  "
      ]
     },
     "execution_count": 75,
     "metadata": {},
     "output_type": "execute_result"
    }
   ],
   "source": [
    "# Create user profile\n",
    "USER_ID = 10\n",
    "train_ratings[train_ratings[\"user_id\"] == USER_ID].groupby(by=\"book_id\").agg(\n",
    "    {'title': 'first', 'authors': 'first', 'rating': 'mean'}).sort_values(by='rating', ascending=False).head(10)"
   ]
  },
  {
   "cell_type": "code",
   "execution_count": 76,
   "id": "c9b9ef87-fa91-4d63-b511-88fa750bf67e",
   "metadata": {},
   "outputs": [
    {
     "name": "stdout",
     "output_type": "stream",
     "text": [
      "1 The Chronicles of Harris Burdick: 14 Amazing Authors Tell the Tales Chris Van Allsburg, Lois Lowry, Kate DiCamillo, M.T. Anderson, Louis Sachar, Stephen King, Tabitha King, Jon Scieszka, Sherman Alexie, Gregory Maguire, Cory Doctorow, Jules Feiffer, Linda Sue Park, Walter Dean Myers, Lemony Snicket\n",
      "2 My True Love Gave to Me: Twelve Holiday Stories Stephanie Perkins, Holly Black, Ally Carter, Matt de la Pena, Gayle Forman, Jenny Han, David Levithan, Kelly Link, Myra McEntire, Rainbow Rowell, Laini Taylor, Kiersten White\n",
      "3 Avatar: The Last Airbender: The Lost Adventures Bryan Konietzko, Michael Dante DiMartino, Aaron Ehasz, Alison Wilgus, Amy Kim Ganter, Brian Ralph, Corey Lewis, Dave Roman, Elsa Garagarza, Ethan Spaulding, Frank Pittarese, Gurihiru, J. Torres, Joaquim Dos Santos, Johane Matte, John O'Bryan, Joshua Hamilton, Justin Ridge, Kaite Mattila, May Chan, Rawles Marie Lumumba, Reagan Lodge, Tim Hedrick, Tom McWeeney\n",
      "4 The Girl Who Was on Fire: Your Favorite Authors on Suzanne Collins' Hunger Games Trilogy Leah Wilson, Jennifer Lynn Barnes, Mary Borsellino, Sarah Rees Brennan, Terri  Clark, Bree Despain, Adrienne Kress, Sarah Darer Littman, Cara Lockwood, Elizabeth M. Rees, Carrie Ryan, Ned Vizzini, Lili Wilkinson, Blythe Woolston\n",
      "5 The Improbable Adventures of Sherlock Holmes John Joseph Adams, Robert J. Sawyer, Stephen King, Michael Moorcock, Sharyn McCrumb, Stephen Baxter, Anne Perry, Barbara Hambly, Tanith Lee, Neil Gaiman, Rob Rogers, Naomi Novik, Anthony Burgess, Dominic Green, Laurie R. King, Barbara Roden, Peter Tremayne, Tim Lebbon, Bradley H. Sinor, Edward D. Hoch, Vonda N. McIntyre, Darrell Schweitzer, Mary Robinette Kowal, H.Paul Jeffers, Geoffrey A. Landis, Amy Myers, Tony Pi, Chris Roberson, Mark Valentine\n",
      "6 Superman: Earth One, Volume 1 J. Michael Straczynski, Shane Davis, Sandra Hope, Barbara Ciardo, Rob Leigh\n",
      "7 Earth (The Book): A Visitor's Guide to the Human Race Jon Stewart, Rory Albanese, Kevin Bleyer, Rich Bloomquist, Steve Bodow, Tim Carvell, Wyatt Cenac, Hallie Haglund, J.R. Havlan, David Javerbaum, Elliott Kalan, Josh Lieb, Sam Means, Jo Miller, John Oliver, Daniel Radosh, Jason Ross\n",
      "8 The Sandman: Endless Nights Neil Gaiman, Barron Storey, Bill Sienkiewicz, Glenn Fabry, Dave McKean, P. Craig Russell, Milo Manara, Miguelanxo Prado, Frank Quitely, Todd Klein\n",
      "9 Lumberjanes, Vol. 1: Beware the Kitten Holy Noelle Stevenson, Grace Ellis, Shannon Waters, Shannon Watters, Brooke A. Allen, Faith Hicks, Kat Leyh, Brooke Allen, Carolyn Nowak, Various, Carey Pietsch\n",
      "10 Our Dumb Century: The Onion Presents 100 Years of Headlines from America's Finest News Source Scott Dikkers, Maria Schneider, John Krewson, Robert Siegel, David Javerbaum, Todd Hanson, Carol Kolb, Mike Loew, Tim Harrod\n",
      "11 Worlds' End (The Sandman #8) Neil Gaiman, Mike Allred, Gary Amaro, Mark Buckingham, David Giordano, Tony Harris, Steve Leialoha, Vince Locke, Shea Anton Pensa, Alec Stevens, Bryan Talbot, John Watkiss, Todd Klein, Michael Zulli, Stephen King\n",
      "12 The Portable Atheist: Essential Readings for the Nonbeliever Christopher Hitchens, Titus Lucretius Carus, Omar Khayyám, Thomas Hobbes, Baruch Spinoza, David Hume, James Boswell, Percy Bysshe Shelley, George Eliot, Charles Darwin, Leslie Stephen, Anatole France, Mark Twain, Joseph Conrad, Thomas Hardy, Emma Goldman, H.P. Lovecraft, Carl Van Doren, H.L. Mencken, Sigmund Freud, Albert Einstein, George Orwell, John Betjeman, Chapman Cohen, Bertrand Russell, Philip Larkin, Martin Gardner, Carl Sagan, John Updike, John Leslie Mackie, Michael Shermer, A.J. Ayer, Daniel C. Dennett, Charles Templeton, Richard Dawkins, Victor J. Stenger, Elizabeth S.  Anderson, Penn Jillette, Ian McEwan, Steven Weinberg, Salman Rushdie, Ibn Warraq, Sam Harris, A.C. Grayling, Ayaan Hirsi Ali, John Stuart Mill, Karl Marx\n",
      "13 The Complete Grimm's Fairy Tales Jacob Grimm, Wilhelm Grimm, Josef Scharl, Padraic Colum, Joseph Campbell, Margaret Raine Hunt, James Stern\n",
      "14 The Kindly Ones (The Sandman #9) Neil Gaiman, Marc Hempel, Richard Case, D'Israeli, Teddy Kristiansen, Glyn Dillon, Charles Vess, Dean Ormston, Kevin Nowlan, Todd Klein, Frank McConnell\n",
      "15 America (The Book): A Citizen's Guide to Democracy Inaction Jon Stewart, Ben Karlin, David Javerbaum, Rich Bloomquist, Steve Bodow, Tim Carvell, Eric Drysdale, J.R. Havlan, Scott Jacobson, Tom Johnson, Rob Kutner, Chris Regan, Jason Reich, Jason Ross, Stephen Colbert, Samantha Bee, Rob Corddry, Brendan Hay, Ed Helms\n",
      "16 Batman: Earth One, Volume 1 Geoff Johns, Gary Frank, Jon Sibal, Brad Anderson, Rob Leigh\n",
      "17 A Game of You (The Sandman #5) Neil Gaiman, Shawn McManus, Colleen Doran, Bryan Talbot, George Pratt, Stan Woch, Dick Giordano, Todd Klein\n",
      "18 The Strange Case of Dr. Jekyll and Mr. Hyde and Other Stories  Robert Louis Stevenson, Jenny Davidson\n",
      "19 Rogues George R.R. Martin, Gardner R. Dozois, Joe Abercrombie, Gillian Flynn, Matthew Hughes, Joe R. Lansdale, Michael Swanwick, David  Ball, Carrie Vaughn, Scott Lynch, Bradley Denton, Cherie Priest, Daniel Abraham, Paul Cornell, Steven Saylor, Garth Nix, Walter Jon Williams, Phyllis Eisenstein, Lisa Tuttle, Neil Gaiman, Connie Willis, Patrick Rothfuss\n",
      "20 Season of Mists (The Sandman #4) Neil Gaiman, Matt Wagner, George Pratt, Dick Giordano, Kelley Jones, P. Craig Russell, Mike Dringenberg, Malcolm Jones III, Todd Klein, Harlan Ellison\n",
      "21 Fables and Reflections (The Sandman #6) Neil Gaiman, Bryan Talbot, Stan Woch, P. Craig Russell, Shawn McManus, John Watkiss, Jill Thompson, Duncan Eagleson, Kent Williams, Todd Klein\n",
      "22 Girls' Night In Lauren Henderson, Chris Manby, Sarah Mlynowski, Jill A. Davis, Stella Duffy, Lisa Jewell, Marian Keyes, Sophie Kinsella, Adèle Lang, Carole Matthews, Anna Maxted, Megan McCafferty, Alisa Valdes, Isabel Wolff, Meg Cabot, Jessica Adams, Louise Bagshawe, Emily Barr, Jenny Colgan, Lynda Curnyn, Jennifer Weiner\n",
      "23 The Little Old Lady Who Was Not Afraid of Anything Linda Williams, Megan Lloyd\n",
      "24 Batman: Whatever Happened to the Caped Crusader? Neil Gaiman, Andy Kubert, Matt Wagner, Simon Bisley, Bernie Mireault, Mark Buckingham\n",
      "25 Hope: A Memoir of Survival in Cleveland Amanda Berry, Gina DeJesus, Mary Jordan, Kevin Sullivan\n"
     ]
    }
   ],
   "source": [
    "# Generate recommendations\n",
    "N_SAMPLE = 25\n",
    "similar_books = get_content_based_recs(\n",
    "    USER_ID, w2v_similarity_matrix, w2v_user_matrix_ids, train_ratings, to_read, books, N_SAMPLE)\n",
    "\n",
    "for i, id in enumerate(similar_books):\n",
    "    book_title = books.loc[books['book_id'] == id, 'title'].tolist()[0]\n",
    "    book_authors = books.loc[books['book_id'] == id, 'authors'].tolist()[0]\n",
    "    print(i+1, book_title, book_authors)"
   ]
  },
  {
   "cell_type": "markdown",
   "id": "df06788c-5e4f-49bb-8981-d7386f8b3a46",
   "metadata": {},
   "source": [
    "**Test 3**\n",
    "\n",
    "* Does the similarity matrix reveal anything?\n",
    "  \n",
    "* Similarity between books drops quickly."
   ]
  },
  {
   "cell_type": "code",
   "execution_count": 77,
   "id": "6c14e974-d06b-4d26-9ad7-da584033bcc3",
   "metadata": {},
   "outputs": [
    {
     "name": "stdout",
     "output_type": "stream",
     "text": [
      "Similar books to: ''A Feast for Crows (A Song of Ice and Fire, #4)'' by George R.R. Martin\n",
      "('A Dance with Dragons: After the Feast (A Song of Ice and Fire #5, Part 2 of 2)', 'George R.R. Martin', 0.9241992588026985)\n",
      "('A Dance with Dragons (A Song of Ice and Fire, #5)', 'George R.R. Martin', 0.9060312279501168)\n",
      "('A Clash of Kings  (A Song of Ice and Fire, #2)', 'George R.R. Martin', 0.8891586363340546)\n",
      "('A Storm of Swords (A Song of Ice and Fire, #3)', 'George R.R. Martin', 0.8830583833796004)\n",
      "('A Song of Ice and Fire (A Song of Ice and Fire, #1-4)', 'George R.R. Martin', 0.8768999070092804)\n",
      "('A Song of Ice and Fire (A Song of Ice and Fire, #1-5)', 'George R.R. Martin', 0.8768999070092804)\n",
      "('A Game of Thrones (A Song of Ice and Fire, #1)', 'George R.R. Martin', 0.8750998444489768)\n",
      "('A Dance with Dragons: Dreams and Dust (A Song of Ice and Fire #5, Part 1 of 2)', 'George R.R. Martin', 0.8580229713196277)\n",
      "('A Storm of Swords: Blood and Gold (A Song of Ice and Fire, #3: Part 2 of 2)', 'George R.R. Martin', 0.8313875946215404)\n",
      "('A Storm of Swords: Steel and Snow (A Song of Ice and Fire, #3: Part 1 of 2)', 'George R.R. Martin', 0.8093745919155619)\n",
      "('The World of Ice & Fire: The Untold History of Westeros and the Game of Thrones', 'George R.R. Martin, Elio M. García Jr., Linda Antonsson', 0.7879016093915334)\n",
      "('Fevre Dream', 'George R.R. Martin', 0.7607980830214135)\n",
      "('A Knight of the Seven Kingdoms (The Tales of Dunk and Egg, #1-3)', 'George R.R. Martin, Gary Gianni', 0.7559808398625726)\n",
      "('The Sworn Sword (The Tales of Dunk and Egg, #2)', 'George R.R. Martin', 0.7541322328914508)\n",
      "('A Game of Thrones: Comic Book, Issue 1', 'Daniel Abraham, George R.R. Martin, Tommy Patterson', 0.7509976526915896)\n",
      "('The Mystery Knight (The Tales of Dunk and Egg, #3)', 'George R.R. Martin', 0.7417251357487512)\n",
      "('The Hedge Knight (The Tales of Dunk and Egg, #1)', 'George R.R. Martin', 0.7387746012605358)\n",
      "('The Stand: Captain Trips', 'Roberto Aguirre-Sacasa, Stephen King, Mike Perkins, Laura       Martin', 0.7192320193400575)\n",
      "(\"Our Dumb Century: The Onion Presents 100 Years of Headlines from America's Finest News Source\", 'Scott Dikkers, Maria Schneider, John Krewson, Robert Siegel, David Javerbaum, Todd Hanson, Carol Kolb, Mike Loew, Tim Harrod', 0.7180374697452296)\n",
      "('A Game of Thrones: The Graphic Novel, Vol. 1', 'Daniel Abraham, George R.R. Martin, Tommy Patterson', 0.7175646300629052)\n",
      "('The Improbable Adventures of Sherlock Holmes', 'John Joseph Adams, Robert J. Sawyer, Stephen King, Michael Moorcock, Sharyn McCrumb, Stephen Baxter, Anne Perry, Barbara Hambly, Tanith Lee, Neil Gaiman, Rob Rogers, Naomi Novik, Anthony Burgess, Dominic Green, Laurie R. King, Barbara Roden, Peter Tremayne, Tim Lebbon, Bradley H. Sinor, Edward D. Hoch, Vonda N. McIntyre, Darrell Schweitzer, Mary Robinette Kowal, H.Paul Jeffers, Geoffrey A. Landis, Amy Myers, Tony Pi, Chris Roberson, Mark Valentine', 0.7169076805039637)\n",
      "('The Complete Phantom of the Opera', 'George C. Perry, Clive Barda, Jane Rice, Andrew Lloyd Webber', 0.715351706680574)\n",
      "('The Portable Atheist: Essential Readings for the Nonbeliever', 'Christopher Hitchens, Titus Lucretius Carus, Omar Khayyám, Thomas Hobbes, Baruch Spinoza, David Hume, James Boswell, Percy Bysshe Shelley, George Eliot, Charles Darwin, Leslie Stephen, Anatole France, Mark Twain, Joseph Conrad, Thomas Hardy, Emma Goldman, H.P. Lovecraft, Carl Van Doren, H.L. Mencken, Sigmund Freud, Albert Einstein, George Orwell, John Betjeman, Chapman Cohen, Bertrand Russell, Philip Larkin, Martin Gardner, Carl Sagan, John Updike, John Leslie Mackie, Michael Shermer, A.J. Ayer, Daniel C. Dennett, Charles Templeton, Richard Dawkins, Victor J. Stenger, Elizabeth S.  Anderson, Penn Jillette, Ian McEwan, Steven Weinberg, Salman Rushdie, Ibn Warraq, Sam Harris, A.C. Grayling, Ayaan Hirsi Ali, John Stuart Mill, Karl Marx', 0.7094441924989892)\n",
      "('Batman: The Man Who Laughs', 'Ed Brubaker, Doug Mahnke, Patrick Zircher, Aaron Sowd, Steve Bird', 0.7087474988920246)\n",
      "('Avatar: The Last Airbender: The Lost Adventures', \"Bryan Konietzko, Michael Dante DiMartino, Aaron Ehasz, Alison Wilgus, Amy Kim Ganter, Brian Ralph, Corey Lewis, Dave Roman, Elsa Garagarza, Ethan Spaulding, Frank Pittarese, Gurihiru, J. Torres, Joaquim Dos Santos, Johane Matte, John O'Bryan, Joshua Hamilton, Justin Ridge, Kaite Mattila, May Chan, Rawles Marie Lumumba, Reagan Lodge, Tim Hedrick, Tom McWeeney\", 0.7073704714316182)\n",
      "('The Sandman: Endless Nights', 'Neil Gaiman, Barron Storey, Bill Sienkiewicz, Glenn Fabry, Dave McKean, P. Craig Russell, Milo Manara, Miguelanxo Prado, Frank Quitely, Todd Klein', 0.7062902197460748)\n",
      "('Pygmalion and Three Other Plays', 'George Bernard Shaw, John A. Bertolini', 0.7054131695484321)\n",
      "('Crow Lake', 'Mary Lawson', 0.7050584445681861)\n",
      "('Ghost Boy', 'Martin Pistorius, Megan Lloyd Davies', 0.7038500017760925)\n",
      "('Lumberjanes, Vol. 1: Beware the Kitten Holy', 'Noelle Stevenson, Grace Ellis, Shannon Waters, Shannon Watters, Brooke A. Allen, Faith Hicks, Kat Leyh, Brooke Allen, Carolyn Nowak, Various, Carey Pietsch', 0.7033458280061138)\n",
      "('Season of Mists (The Sandman #4)', 'Neil Gaiman, Matt Wagner, George Pratt, Dick Giordano, Kelley Jones, P. Craig Russell, Mike Dringenberg, Malcolm Jones III, Todd Klein, Harlan Ellison', 0.7003706145825948)\n",
      "(\"Queen of Fire (Raven's Shadow, #3)\", 'Anthony  Ryan', 0.6997059977638991)\n",
      "(\"Blood Song (Raven's Shadow, #1)\", 'Anthony  Ryan', 0.6993138071866823)\n",
      "('Rogues', 'George R.R. Martin, Gardner R. Dozois, Joe Abercrombie, Gillian Flynn, Matthew Hughes, Joe R. Lansdale, Michael Swanwick, David  Ball, Carrie Vaughn, Scott Lynch, Bradley Denton, Cherie Priest, Daniel Abraham, Paul Cornell, Steven Saylor, Garth Nix, Walter Jon Williams, Phyllis Eisenstein, Lisa Tuttle, Neil Gaiman, Connie Willis, Patrick Rothfuss', 0.699101775111703)\n",
      "(\"Worlds' End (The Sandman #8)\", 'Neil Gaiman, Mike Allred, Gary Amaro, Mark Buckingham, David Giordano, Tony Harris, Steve Leialoha, Vince Locke, Shea Anton Pensa, Alec Stevens, Bryan Talbot, John Watkiss, Todd Klein, Michael Zulli, Stephen King', 0.698609662934778)\n",
      "('The Stand: Soul Survivors', 'Roberto Aguirre-Sacasa, Mike Perkins, Laura       Martin, Stephen King', 0.6963436322707152)\n",
      "('The Beatles Anthology', 'The Beatles, Paul McCartney, Ringo Starr, John Lennon, George Harrison', 0.6954628425853906)\n",
      "('A Game of You (The Sandman #5)', 'Neil Gaiman, Shawn McManus, Colleen Doran, Bryan Talbot, George Pratt, Stan Woch, Dick Giordano, Todd Klein', 0.6948504149538697)\n",
      "(\"Earth (The Book): A Visitor's Guide to the Human Race\", 'Jon Stewart, Rory Albanese, Kevin Bleyer, Rich Bloomquist, Steve Bodow, Tim Carvell, Wyatt Cenac, Hallie Haglund, J.R. Havlan, David Javerbaum, Elliott Kalan, Josh Lieb, Sam Means, Jo Miller, John Oliver, Daniel Radosh, Jason Ross', 0.6940142081376875)\n",
      "('The Death of Superman', 'Dan Jurgens, Jerry Ordway, Louise Simonson, Roger Stern, Jon Bogdanove, Tom Grummett, Jackson Butch Guice, Brett Breeding, Rick Burchett, Doug Hazlewood, Dennis Janke, Denis Rodier', 0.6926960606988697)\n",
      "('Oliver Twist', 'Charles Dickens, George Cruikshank, Philip Horne', 0.6925525061819912)\n",
      "(\"Kurt Vonnegut's Cat's Cradle (Modern Critical Interpretations)\", 'Harold Bloom, Terry Southern, David H. Goldsmith, James Lundquist, Lawrence R. Broer, Peter J. Reed, Loree Rackstraw, William S. Doxey, Jerome Klinkowitz, Richard Giannone, John L. Simons, Leonard Mustazza, Zoltan Ab di-Nagy, Peter Freese, Wendy B. Faris', 0.6919608197728364)\n",
      "(\"The Girl Who Was on Fire: Your Favorite Authors on Suzanne Collins' Hunger Games Trilogy\", 'Leah Wilson, Jennifer Lynn Barnes, Mary Borsellino, Sarah Rees Brennan, Terri  Clark, Bree Despain, Adrienne Kress, Sarah Darer Littman, Cara Lockwood, Elizabeth M. Rees, Carrie Ryan, Ned Vizzini, Lili Wilkinson, Blythe Woolston', 0.6903116065452254)\n",
      "('The Cold Dish (Walt Longmire, #1)', 'Craig Johnson', 0.6899683900986339)\n",
      "('The Cricket in Times Square', 'George Selden, Garth Williams', 0.6897031716604578)\n",
      "('The Chronicles of Harris Burdick: 14 Amazing Authors Tell the Tales', 'Chris Van Allsburg, Lois Lowry, Kate DiCamillo, M.T. Anderson, Louis Sachar, Stephen King, Tabitha King, Jon Scieszka, Sherman Alexie, Gregory Maguire, Cory Doctorow, Jules Feiffer, Linda Sue Park, Walter Dean Myers, Lemony Snicket', 0.6881645585119902)\n",
      "('Fables and Reflections (The Sandman #6)', 'Neil Gaiman, Bryan Talbot, Stan Woch, P. Craig Russell, Shawn McManus, John Watkiss, Jill Thompson, Duncan Eagleson, Kent Williams, Todd Klein', 0.6876134360892497)\n",
      "('Pygmalion', 'George Bernard Shaw', 0.6863444037150461)\n",
      "('My True Love Gave to Me: Twelve Holiday Stories', 'Stephanie Perkins, Holly Black, Ally Carter, Matt de la Pena, Gayle Forman, Jenny Han, David Levithan, Kelly Link, Myra McEntire, Rainbow Rowell, Laini Taylor, Kiersten White', 0.6862031281398795)\n"
     ]
    }
   ],
   "source": [
    "similarity_matrix = cosine_similarity(w2v_book_matrix, w2v_book_matrix)\n",
    "book_idx = random.randint(0, books.shape[0])\n",
    "book_title = books.loc[book_idx, \"title\"]\n",
    "book_authors = books.loc[book_idx, \"authors\"]\n",
    "\n",
    "book_similarities = list(enumerate(similarity_matrix[book_idx]))\n",
    "book_similarities = sorted(book_similarities, key=lambda x: x[1], reverse=True)\n",
    "book_similarities = [(books.loc[idx, \"title\"], books.loc[idx, \"authors\"], score)\n",
    "                     for idx, score in book_similarities]\n",
    "\n",
    "print(f\"Similar books to: ''{book_title}'' by {book_authors}\")\n",
    "\n",
    "for rec in book_similarities[1:50]:\n",
    "    print(rec)"
   ]
  },
  {
   "cell_type": "markdown",
   "id": "df9be807-6de2-4fd7-a75d-0ea3449d65fb",
   "metadata": {},
   "source": [
    "#### Evaluation\n",
    "Key steps:\n",
    "\n",
    "1. Split the training set into k folds. Use k-1 folds as the training set. Use the remaining data as a validation set.\n",
    "\n",
    "2. Apply recommendation system to each user in the validation set. Output a dictionary containing predicted items for each user.\n",
    "\n",
    "3. Create ground truth for each user in the validation set. Output a dictionary containing actual relevant items for each user.\n",
    "\n",
    "4. Evaluate performance on a per user basis. Output a dictionary containing the relevant metric score for each user.\n",
    "\n",
    "5. Calculate average performance across users.\n",
    "\n",
    "6. Repeat steps 2 - 5 k times."
   ]
  },
  {
   "cell_type": "code",
   "execution_count": 78,
   "id": "5fad98ca-0194-4be5-a7d7-f19146c01bc6",
   "metadata": {},
   "outputs": [],
   "source": [
    "import pandas as pd\n",
    "import numpy as np\n",
    "import nltk\n",
    "\n",
    "class Word2VecEmbedder:\n",
    "    def __init__(self, pretrained_word2vec_model):\n",
    "        \"\"\"\n",
    "        Class to compute average word2vec embedding for a given piece of text.\n",
    "\n",
    "        Parameters:\n",
    "        - pretrained_word2vec_model: Pre-trained word2vec model\n",
    "        \"\"\"\n",
    "        self.pretrained_word2vec_model = pretrained_word2vec_model\n",
    "\n",
    "    def get_embedding(self, text):\n",
    "        \"\"\"\n",
    "        Method to get average word2vec embedding for a given piece of text.\n",
    "\n",
    "        Parameters:\n",
    "        - text: Input string\n",
    "\n",
    "        Returns:\n",
    "        - Average embedding\n",
    "        \"\"\"\n",
    "        tokens = nltk.word_tokenize(text)\n",
    "        vectors = [self.pretrained_word2vec_model[token] for token in tokens\n",
    "                   if token in self.pretrained_word2vec_model]\n",
    "\n",
    "        if vectors:\n",
    "            return np.mean(vectors, axis=0)  # Calculate mean along the embedding dimensions\n",
    "        else:\n",
    "            return None\n",
    "\n",
    "    def transform(self, data):\n",
    "        \"\"\"\n",
    "        Method to apply the word2vec embedding method to a Pandas Series or NumPy array.\n",
    "\n",
    "        Parameters:\n",
    "        - data: Pandas Series or NumPy array containing text data\n",
    "\n",
    "        Returns:\n",
    "        - NumPy array with average word2vec embeddings\n",
    "        \"\"\"\n",
    "        if isinstance(data, pd.Series):\n",
    "            return np.array(data.apply(self.get_embedding).tolist())\n",
    "        elif isinstance(data, np.ndarray):\n",
    "            return np.array([self.get_embedding(x) for x in data])\n",
    "        else:\n",
    "            raise ValueError(\"Input data must be a Pandas Series or NumPy array.\")"
   ]
  },
  {
   "cell_type": "code",
   "execution_count": 79,
   "id": "39dc2993-b41b-4a87-9932-e172ce1c2c41",
   "metadata": {},
   "outputs": [
    {
     "name": "stdout",
     "output_type": "stream",
     "text": [
      "precision@k: 0.0\n",
      "recall@k: 0.0\n",
      "mean average precision@k: 0.0\n"
     ]
    }
   ],
   "source": [
    "w2v_vectorizer = Word2VecEmbedder(pretrained_word2vec_model)\n",
    "N_SPLITS = 3  # Number of splits for kfold cross validation\n",
    "N_SAMPLE = 25  # Number of recommendations\n",
    "TOP_K = 25  # validation metric k\n",
    "avg_precision_at_k, avg_recall_at_k, avg_map_at_k = cf.calculate_cv_score(get_content_based_recs,\n",
    "                                                                          w2v_book_matrix,\n",
    "                                                                          train_ratings,\n",
    "                                                                          to_read,\n",
    "                                                                          books,\n",
    "                                                                          stopwords,\n",
    "                                                                          lemmatizer,\n",
    "                                                                          w2v_vectorizer,\n",
    "                                                                          N_SAMPLE,\n",
    "                                                                          N_SPLITS,\n",
    "                                                                          TOP_K,\n",
    "                                                                          )\n",
    "print(f\"precision@k: {avg_precision_at_k}\")\n",
    "print(f\"recall@k: {avg_recall_at_k}\")\n",
    "print(f\"mean average precision@k: {avg_map_at_k}\")"
   ]
  },
  {
   "cell_type": "markdown",
   "id": "2b82f720-c068-4d41-ac62-a853cda9d685",
   "metadata": {},
   "source": [
    "### Model 3 - sBERT"
   ]
  },
  {
   "cell_type": "markdown",
   "id": "467ded33-6db7-4e13-bbce-474f9535c821",
   "metadata": {},
   "source": [
    "#### Feature extraction"
   ]
  },
  {
   "cell_type": "markdown",
   "id": "1aa0493e-75e0-4d63-9952-41c529423f14",
   "metadata": {},
   "source": [
    "#### Algorithm"
   ]
  },
  {
   "cell_type": "markdown",
   "id": "89a26b82-b151-4c43-9210-049aa37250b7",
   "metadata": {},
   "source": [
    "#### Evaluation"
   ]
  },
  {
   "cell_type": "markdown",
   "id": "6b7b1403-20f1-46a4-b71f-27323c74cec4",
   "metadata": {},
   "source": [
    "## Item similarity model"
   ]
  },
  {
   "cell_type": "code",
   "execution_count": null,
   "id": "b2c66001-eea3-47c6-b5e8-c8b860557ced",
   "metadata": {},
   "outputs": [],
   "source": [
    "#### Item similarity based \n",
    "\n",
    "# # Preprocess data\n",
    "# books['title'] = books['title'].str.lower()\n",
    "# books['authors'] = books['authors'].str.lower()\n",
    "\n",
    "# # Combine relevant features (book title and author) into a single column\n",
    "# books['features'] = books['title'] + ' ' + books['authors']\n",
    "# books.loc[0, 'features']\n",
    "\n",
    "# # TF-IDF vectorization\n",
    "# tfidf_vectorizer = TfidfVectorizer(stop_words='english')\n",
    "# tfidf_matrix = tfidf_vectorizer.fit_transform(books['features'])\n",
    "\n",
    "# # Cosine similarities between books\n",
    "# cosine_similarities = cosine_similarity(tfidf_matrix, tfidf_matrix)\n",
    "\n",
    "# def get_content_based_recommendations(book_title, books, similarity_scores, top_k):\n",
    "#     \"\"\"Function to get content-based book recommendations for a given book title\n",
    "#     \"\"\"\n",
    "#     # Find the index of the book in the dataframe\n",
    "#     idx = books.index[books['title'] == book_title].tolist()[0]\n",
    "\n",
    "#     # Get the pairwise similarity scores\n",
    "#     book_similarities = list(enumerate(similarity_scores[idx]))\n",
    "\n",
    "#     # Sort books based on similarity scores\n",
    "#     book_similarities = sorted(book_similarities, key=lambda x: x[1], reverse=True)\n",
    "\n",
    "#     # Exclude the book itself (most similar will be the book itself)\n",
    "#     book_similarities = book_similarities[1:]\n",
    "    \n",
    "#     # Get top k similar books\n",
    "#     similar_books = book_similarities[0:top_k]\n",
    "    \n",
    "#     # Extract book titles\n",
    "#     recommended_books = books.loc[[i for i, s in similar_books], 'title'].tolist()\n",
    "\n",
    "#     return recommended_books\n",
    "\n",
    "# # Example\n",
    "# book_title = 'the hunger games (the hunger games, #1)'\n",
    "# content_based_recommendations = get_content_based_recommendations(book_title, books, cosine_similarities, 5)\n",
    "\n",
    "# # Display recommendations\n",
    "# print(f\"Content-based recommendations for '{book_title}':\\n\")\n",
    "# for i, title in enumerate(content_based_recommendations):\n",
    "#     print(i+1, title)"
   ]
  }
 ],
 "metadata": {
  "kernelspec": {
   "display_name": "topic_analyses",
   "language": "python",
   "name": "topic_analyses"
  },
  "language_info": {
   "codemirror_mode": {
    "name": "ipython",
    "version": 3
   },
   "file_extension": ".py",
   "mimetype": "text/x-python",
   "name": "python",
   "nbconvert_exporter": "python",
   "pygments_lexer": "ipython3",
   "version": "3.11.5"
  },
  "toc-showmarkdowntxt": false
 },
 "nbformat": 4,
 "nbformat_minor": 5
}
