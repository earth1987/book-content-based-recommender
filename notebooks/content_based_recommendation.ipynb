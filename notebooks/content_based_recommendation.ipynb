{
 "cells": [
  {
   "cell_type": "markdown",
   "id": "5814298b-bc5e-4656-a756-94e2e67f9a1e",
   "metadata": {},
   "source": [
    "# Content based recommendation system"
   ]
  },
  {
   "cell_type": "markdown",
   "id": "90d3f75f-10c4-463f-ab78-74448fc4e660",
   "metadata": {},
   "source": [
    "## Background"
   ]
  },
  {
   "cell_type": "markdown",
   "id": "5fb80ca0-aa22-40d6-8e37-b68551235053",
   "metadata": {},
   "source": [
    "## Set-up"
   ]
  },
  {
   "cell_type": "markdown",
   "id": "7d363594-1d11-4fa3-b16a-7a68f3f6ecc6",
   "metadata": {},
   "source": [
    "### Dependencies"
   ]
  },
  {
   "cell_type": "code",
   "execution_count": 1,
   "id": "23c19f60-be4d-4d7c-a5b1-f53638af2cdd",
   "metadata": {},
   "outputs": [],
   "source": [
    "import inspect\n",
    "from matplotlib import pyplot as plt\n",
    "import numpy as np\n",
    "import pandas as pd\n",
    "from sklearn.model_selection import KFold\n",
    "from sklearn.feature_extraction.text import TfidfVectorizer\n",
    "from sklearn.metrics.pairwise import cosine_similarity\n",
    "import random\n",
    "\n",
    "import sys\n",
    "sys.path.insert(0, \"C:\\\\Users\\\\billy\\\\OneDrive\\\\Documents\\\\Python Scripts\\\\1. Portfolio\\\\book-content-based-recommender\\\\book-content-based-recommender\")\n",
    "import custom_funcs as cf"
   ]
  },
  {
   "cell_type": "markdown",
   "id": "60d6cbb8-e03a-44d8-9822-60a3495b4a8a",
   "metadata": {},
   "source": [
    "### Import data\n",
    "\n",
    "Dataset source: https://github.com/zygmuntz/goodbooks-10k"
   ]
  },
  {
   "cell_type": "code",
   "execution_count": 2,
   "id": "83a055ce-88e0-4a58-98d3-fa7069adc878",
   "metadata": {},
   "outputs": [],
   "source": [
    "books = pd.read_csv('../data/raw/books.csv')\n",
    "to_read = pd.read_csv('../data/raw/to_read.csv')\n",
    "ratings = pd.read_csv('../data/raw/ratings.csv')\n",
    "book_tags = pd.read_csv('../data/raw/book_tags.csv')\n",
    "tags = pd.read_csv('../data/raw/tags.csv')"
   ]
  },
  {
   "cell_type": "markdown",
   "id": "19c34597-01a9-4131-9930-51dff55a4af7",
   "metadata": {},
   "source": [
    "## Data exploration\n",
    "\n",
    "Note on book identifiers:\n",
    "\n",
    "* Each book may have many editions.  **_goodreads_book_id_** and **_best_book_id_** generally point to the most popular edition of a given book, while goodreads  **_work_id_** refers to the book in the abstract sense. \n",
    "\n",
    "* Note that _book_id_ in **ratings.csv** and **to_read.csv** maps to **_work_id_**, not to **_goodreads_book_id_**, meaning that ratings for different editions are aggregated."
   ]
  },
  {
   "cell_type": "markdown",
   "id": "1d3eb058-6794-4a7c-a797-ae892c0f5acf",
   "metadata": {},
   "source": [
    "### books"
   ]
  },
  {
   "cell_type": "code",
   "execution_count": 3,
   "id": "135dacc1-a883-477f-b038-079379e2db93",
   "metadata": {},
   "outputs": [
    {
     "name": "stdout",
     "output_type": "stream",
     "text": [
      "Number of records: 10000\n",
      "Number of columns: 23\n"
     ]
    },
    {
     "data": {
      "text/html": [
       "<div>\n",
       "<style scoped>\n",
       "    .dataframe tbody tr th:only-of-type {\n",
       "        vertical-align: middle;\n",
       "    }\n",
       "\n",
       "    .dataframe tbody tr th {\n",
       "        vertical-align: top;\n",
       "    }\n",
       "\n",
       "    .dataframe thead th {\n",
       "        text-align: right;\n",
       "    }\n",
       "</style>\n",
       "<table border=\"1\" class=\"dataframe\">\n",
       "  <thead>\n",
       "    <tr style=\"text-align: right;\">\n",
       "      <th></th>\n",
       "      <th>book_id</th>\n",
       "      <th>goodreads_book_id</th>\n",
       "      <th>best_book_id</th>\n",
       "      <th>work_id</th>\n",
       "      <th>books_count</th>\n",
       "      <th>isbn</th>\n",
       "      <th>isbn13</th>\n",
       "      <th>authors</th>\n",
       "      <th>original_publication_year</th>\n",
       "      <th>original_title</th>\n",
       "      <th>...</th>\n",
       "      <th>ratings_count</th>\n",
       "      <th>work_ratings_count</th>\n",
       "      <th>work_text_reviews_count</th>\n",
       "      <th>ratings_1</th>\n",
       "      <th>ratings_2</th>\n",
       "      <th>ratings_3</th>\n",
       "      <th>ratings_4</th>\n",
       "      <th>ratings_5</th>\n",
       "      <th>image_url</th>\n",
       "      <th>small_image_url</th>\n",
       "    </tr>\n",
       "  </thead>\n",
       "  <tbody>\n",
       "    <tr>\n",
       "      <th>0</th>\n",
       "      <td>1</td>\n",
       "      <td>2767052</td>\n",
       "      <td>2767052</td>\n",
       "      <td>2792775</td>\n",
       "      <td>272</td>\n",
       "      <td>439023483</td>\n",
       "      <td>9.780439e+12</td>\n",
       "      <td>Suzanne Collins</td>\n",
       "      <td>2008.0</td>\n",
       "      <td>The Hunger Games</td>\n",
       "      <td>...</td>\n",
       "      <td>4780653</td>\n",
       "      <td>4942365</td>\n",
       "      <td>155254</td>\n",
       "      <td>66715</td>\n",
       "      <td>127936</td>\n",
       "      <td>560092</td>\n",
       "      <td>1481305</td>\n",
       "      <td>2706317</td>\n",
       "      <td>https://images.gr-assets.com/books/1447303603m...</td>\n",
       "      <td>https://images.gr-assets.com/books/1447303603s...</td>\n",
       "    </tr>\n",
       "    <tr>\n",
       "      <th>1</th>\n",
       "      <td>2</td>\n",
       "      <td>3</td>\n",
       "      <td>3</td>\n",
       "      <td>4640799</td>\n",
       "      <td>491</td>\n",
       "      <td>439554934</td>\n",
       "      <td>9.780440e+12</td>\n",
       "      <td>J.K. Rowling, Mary GrandPré</td>\n",
       "      <td>1997.0</td>\n",
       "      <td>Harry Potter and the Philosopher's Stone</td>\n",
       "      <td>...</td>\n",
       "      <td>4602479</td>\n",
       "      <td>4800065</td>\n",
       "      <td>75867</td>\n",
       "      <td>75504</td>\n",
       "      <td>101676</td>\n",
       "      <td>455024</td>\n",
       "      <td>1156318</td>\n",
       "      <td>3011543</td>\n",
       "      <td>https://images.gr-assets.com/books/1474154022m...</td>\n",
       "      <td>https://images.gr-assets.com/books/1474154022s...</td>\n",
       "    </tr>\n",
       "  </tbody>\n",
       "</table>\n",
       "<p>2 rows × 23 columns</p>\n",
       "</div>"
      ],
      "text/plain": [
       "   book_id  goodreads_book_id  best_book_id  work_id  books_count       isbn  \\\n",
       "0        1            2767052       2767052  2792775          272  439023483   \n",
       "1        2                  3             3  4640799          491  439554934   \n",
       "\n",
       "         isbn13                      authors  original_publication_year  \\\n",
       "0  9.780439e+12              Suzanne Collins                     2008.0   \n",
       "1  9.780440e+12  J.K. Rowling, Mary GrandPré                     1997.0   \n",
       "\n",
       "                             original_title  ... ratings_count  \\\n",
       "0                          The Hunger Games  ...       4780653   \n",
       "1  Harry Potter and the Philosopher's Stone  ...       4602479   \n",
       "\n",
       "  work_ratings_count  work_text_reviews_count  ratings_1  ratings_2  \\\n",
       "0            4942365                   155254      66715     127936   \n",
       "1            4800065                    75867      75504     101676   \n",
       "\n",
       "   ratings_3  ratings_4  ratings_5  \\\n",
       "0     560092    1481305    2706317   \n",
       "1     455024    1156318    3011543   \n",
       "\n",
       "                                           image_url  \\\n",
       "0  https://images.gr-assets.com/books/1447303603m...   \n",
       "1  https://images.gr-assets.com/books/1474154022m...   \n",
       "\n",
       "                                     small_image_url  \n",
       "0  https://images.gr-assets.com/books/1447303603s...  \n",
       "1  https://images.gr-assets.com/books/1474154022s...  \n",
       "\n",
       "[2 rows x 23 columns]"
      ]
     },
     "execution_count": 3,
     "metadata": {},
     "output_type": "execute_result"
    }
   ],
   "source": [
    "# Dimensions\n",
    "print(f\"Number of records: {books.shape[0]}\")\n",
    "print(f\"Number of columns: {books.shape[1]}\")\n",
    "books.head(2)"
   ]
  },
  {
   "cell_type": "code",
   "execution_count": 4,
   "id": "29666e01-9e55-4e0c-a8cc-eba787ef5da9",
   "metadata": {},
   "outputs": [
    {
     "data": {
      "text/plain": [
       "int64      13\n",
       "object      7\n",
       "float64     3\n",
       "Name: count, dtype: int64"
      ]
     },
     "metadata": {},
     "output_type": "display_data"
    },
    {
     "name": "stdout",
     "output_type": "stream",
     "text": [
      "\n",
      "\n"
     ]
    },
    {
     "data": {
      "text/plain": [
       "book_id                        int64\n",
       "goodreads_book_id              int64\n",
       "best_book_id                   int64\n",
       "work_id                        int64\n",
       "books_count                    int64\n",
       "isbn                          object\n",
       "isbn13                       float64\n",
       "authors                       object\n",
       "original_publication_year    float64\n",
       "original_title                object\n",
       "title                         object\n",
       "language_code                 object\n",
       "average_rating               float64\n",
       "ratings_count                  int64\n",
       "work_ratings_count             int64\n",
       "work_text_reviews_count        int64\n",
       "ratings_1                      int64\n",
       "ratings_2                      int64\n",
       "ratings_3                      int64\n",
       "ratings_4                      int64\n",
       "ratings_5                      int64\n",
       "image_url                     object\n",
       "small_image_url               object\n",
       "dtype: object"
      ]
     },
     "execution_count": 4,
     "metadata": {},
     "output_type": "execute_result"
    }
   ],
   "source": [
    "# Data types\n",
    "display(books.dtypes.value_counts())\n",
    "print(\"\\n\")\n",
    "books.dtypes"
   ]
  },
  {
   "cell_type": "code",
   "execution_count": 5,
   "id": "622134fb-3737-4e2f-93aa-6954b1cb3648",
   "metadata": {},
   "outputs": [
    {
     "data": {
      "text/plain": [
       "isbn                          700\n",
       "isbn13                        585\n",
       "original_publication_year      21\n",
       "original_title                585\n",
       "language_code                1084\n",
       "dtype: int64"
      ]
     },
     "execution_count": 5,
     "metadata": {},
     "output_type": "execute_result"
    }
   ],
   "source": [
    "# Missing values\n",
    "books.isnull().sum()[(books.isnull().sum() > 1)]"
   ]
  },
  {
   "cell_type": "code",
   "execution_count": 6,
   "id": "002545cf-8050-4220-8f6b-e5e40a676d5e",
   "metadata": {},
   "outputs": [
    {
     "data": {
      "text/html": [
       "<div>\n",
       "<style scoped>\n",
       "    .dataframe tbody tr th:only-of-type {\n",
       "        vertical-align: middle;\n",
       "    }\n",
       "\n",
       "    .dataframe tbody tr th {\n",
       "        vertical-align: top;\n",
       "    }\n",
       "\n",
       "    .dataframe thead th {\n",
       "        text-align: right;\n",
       "    }\n",
       "</style>\n",
       "<table border=\"1\" class=\"dataframe\">\n",
       "  <thead>\n",
       "    <tr style=\"text-align: right;\">\n",
       "      <th></th>\n",
       "      <th>book_id</th>\n",
       "      <th>goodreads_book_id</th>\n",
       "      <th>best_book_id</th>\n",
       "      <th>work_id</th>\n",
       "      <th>books_count</th>\n",
       "      <th>isbn</th>\n",
       "      <th>isbn13</th>\n",
       "      <th>authors</th>\n",
       "      <th>original_publication_year</th>\n",
       "      <th>original_title</th>\n",
       "      <th>...</th>\n",
       "      <th>ratings_count</th>\n",
       "      <th>work_ratings_count</th>\n",
       "      <th>work_text_reviews_count</th>\n",
       "      <th>ratings_1</th>\n",
       "      <th>ratings_2</th>\n",
       "      <th>ratings_3</th>\n",
       "      <th>ratings_4</th>\n",
       "      <th>ratings_5</th>\n",
       "      <th>image_url</th>\n",
       "      <th>small_image_url</th>\n",
       "    </tr>\n",
       "  </thead>\n",
       "  <tbody>\n",
       "  </tbody>\n",
       "</table>\n",
       "<p>0 rows × 23 columns</p>\n",
       "</div>"
      ],
      "text/plain": [
       "Empty DataFrame\n",
       "Columns: [book_id, goodreads_book_id, best_book_id, work_id, books_count, isbn, isbn13, authors, original_publication_year, original_title, title, language_code, average_rating, ratings_count, work_ratings_count, work_text_reviews_count, ratings_1, ratings_2, ratings_3, ratings_4, ratings_5, image_url, small_image_url]\n",
       "Index: []\n",
       "\n",
       "[0 rows x 23 columns]"
      ]
     },
     "execution_count": 6,
     "metadata": {},
     "output_type": "execute_result"
    }
   ],
   "source": [
    "# Duplicate values\n",
    "books[books.duplicated()]"
   ]
  },
  {
   "cell_type": "code",
   "execution_count": 7,
   "id": "7d941396-2b12-4e18-b154-292016778d2d",
   "metadata": {
    "tags": []
   },
   "outputs": [
    {
     "data": {
      "text/plain": [
       "book_id                      10000\n",
       "goodreads_book_id            10000\n",
       "best_book_id                 10000\n",
       "work_id                      10000\n",
       "books_count                    597\n",
       "isbn                          9300\n",
       "isbn13                        9153\n",
       "authors                       4664\n",
       "original_publication_year      293\n",
       "original_title                9274\n",
       "title                         9964\n",
       "language_code                   25\n",
       "average_rating                 184\n",
       "ratings_count                 9003\n",
       "work_ratings_count            9053\n",
       "work_text_reviews_count       4581\n",
       "ratings_1                     2630\n",
       "ratings_2                     4117\n",
       "ratings_3                     6972\n",
       "ratings_4                     7762\n",
       "ratings_5                     8103\n",
       "image_url                     6669\n",
       "small_image_url               6669\n",
       "dtype: int64"
      ]
     },
     "execution_count": 7,
     "metadata": {},
     "output_type": "execute_result"
    }
   ],
   "source": [
    "# Number of unique value per columns\n",
    "books.nunique()"
   ]
  },
  {
   "cell_type": "code",
   "execution_count": 8,
   "id": "f4ac38d0-6c9c-4093-80e5-fcb2bba3082d",
   "metadata": {
    "tags": []
   },
   "outputs": [
    {
     "data": {
      "text/html": [
       "<div>\n",
       "<style scoped>\n",
       "    .dataframe tbody tr th:only-of-type {\n",
       "        vertical-align: middle;\n",
       "    }\n",
       "\n",
       "    .dataframe tbody tr th {\n",
       "        vertical-align: top;\n",
       "    }\n",
       "\n",
       "    .dataframe thead th {\n",
       "        text-align: right;\n",
       "    }\n",
       "</style>\n",
       "<table border=\"1\" class=\"dataframe\">\n",
       "  <thead>\n",
       "    <tr style=\"text-align: right;\">\n",
       "      <th></th>\n",
       "      <th>average_rating</th>\n",
       "      <th>work_ratings_count</th>\n",
       "    </tr>\n",
       "  </thead>\n",
       "  <tbody>\n",
       "    <tr>\n",
       "      <th>count</th>\n",
       "      <td>10000.000000</td>\n",
       "      <td>1.000000e+04</td>\n",
       "    </tr>\n",
       "    <tr>\n",
       "      <th>mean</th>\n",
       "      <td>4.002191</td>\n",
       "      <td>5.968732e+04</td>\n",
       "    </tr>\n",
       "    <tr>\n",
       "      <th>std</th>\n",
       "      <td>0.254427</td>\n",
       "      <td>1.678038e+05</td>\n",
       "    </tr>\n",
       "    <tr>\n",
       "      <th>min</th>\n",
       "      <td>2.470000</td>\n",
       "      <td>5.510000e+03</td>\n",
       "    </tr>\n",
       "    <tr>\n",
       "      <th>25%</th>\n",
       "      <td>3.850000</td>\n",
       "      <td>1.543875e+04</td>\n",
       "    </tr>\n",
       "    <tr>\n",
       "      <th>50%</th>\n",
       "      <td>4.020000</td>\n",
       "      <td>2.383250e+04</td>\n",
       "    </tr>\n",
       "    <tr>\n",
       "      <th>75%</th>\n",
       "      <td>4.180000</td>\n",
       "      <td>4.591500e+04</td>\n",
       "    </tr>\n",
       "    <tr>\n",
       "      <th>max</th>\n",
       "      <td>4.820000</td>\n",
       "      <td>4.942365e+06</td>\n",
       "    </tr>\n",
       "  </tbody>\n",
       "</table>\n",
       "</div>"
      ],
      "text/plain": [
       "       average_rating  work_ratings_count\n",
       "count    10000.000000        1.000000e+04\n",
       "mean         4.002191        5.968732e+04\n",
       "std          0.254427        1.678038e+05\n",
       "min          2.470000        5.510000e+03\n",
       "25%          3.850000        1.543875e+04\n",
       "50%          4.020000        2.383250e+04\n",
       "75%          4.180000        4.591500e+04\n",
       "max          4.820000        4.942365e+06"
      ]
     },
     "execution_count": 8,
     "metadata": {},
     "output_type": "execute_result"
    }
   ],
   "source": [
    "books[['average_rating', 'work_ratings_count']].describe()"
   ]
  },
  {
   "cell_type": "code",
   "execution_count": 9,
   "id": "0544ac90-2062-4e6c-815e-7b2e8a26b652",
   "metadata": {
    "tags": []
   },
   "outputs": [
    {
     "data": {
      "image/png": "[encoded data removed]",
      "text/plain": [
       "<Figure size 640x480 with 1 Axes>"
      ]
     },
     "metadata": {},
     "output_type": "display_data"
    }
   ],
   "source": [
    "# Average rating per book\n",
    "fig, axes = plt.subplots()\n",
    "axes.tick_params(bottom=False, left=False)\n",
    "axes.grid(True)\n",
    "axes.spines[['top', 'right']].set_visible(False)\n",
    "axes.spines[['left', 'bottom']].set_color('dimgray')\n",
    "axes.set_xlabel('Avg rating per book', fontsize=10, color='dimgray')\n",
    "axes.set_ylabel('Count', fontsize=10, color='dimgray')\n",
    "axes.hist(books['average_rating']);"
   ]
  },
  {
   "cell_type": "code",
   "execution_count": 10,
   "id": "40e3df90-7e8c-4ac0-b558-b5def49a6b86",
   "metadata": {
    "tags": []
   },
   "outputs": [
    {
     "data": {
      "image/png": "[encoded data removed]",
      "text/plain": [
       "<Figure size 640x480 with 1 Axes>"
      ]
     },
     "metadata": {},
     "output_type": "display_data"
    }
   ],
   "source": [
    "# Average rating per book\n",
    "fig, axes = plt.subplots()\n",
    "axes.tick_params(bottom=False, left=False)\n",
    "axes.grid(True)\n",
    "axes.spines[['top', 'right']].set_visible(False)\n",
    "axes.spines[['left', 'bottom']].set_color('dimgray')\n",
    "axes.set_xlabel('Ratings per book', fontsize=10, color='dimgray')\n",
    "axes.set_ylabel('Count', fontsize=10, color='dimgray')\n",
    "axes.hist(books['work_ratings_count']);"
   ]
  },
  {
   "cell_type": "markdown",
   "id": "9ea2a380-81ed-48b0-8c28-882f0dfa4057",
   "metadata": {},
   "source": [
    "### ratings"
   ]
  },
  {
   "cell_type": "code",
   "execution_count": 11,
   "id": "15b36ddf-8611-4f10-a919-0e74abde9fcc",
   "metadata": {},
   "outputs": [
    {
     "name": "stdout",
     "output_type": "stream",
     "text": [
      "Number of records: 5976479\n",
      "Number of columns: 3\n"
     ]
    },
    {
     "data": {
      "text/html": [
       "<div>\n",
       "<style scoped>\n",
       "    .dataframe tbody tr th:only-of-type {\n",
       "        vertical-align: middle;\n",
       "    }\n",
       "\n",
       "    .dataframe tbody tr th {\n",
       "        vertical-align: top;\n",
       "    }\n",
       "\n",
       "    .dataframe thead th {\n",
       "        text-align: right;\n",
       "    }\n",
       "</style>\n",
       "<table border=\"1\" class=\"dataframe\">\n",
       "  <thead>\n",
       "    <tr style=\"text-align: right;\">\n",
       "      <th></th>\n",
       "      <th>user_id</th>\n",
       "      <th>book_id</th>\n",
       "      <th>rating</th>\n",
       "    </tr>\n",
       "  </thead>\n",
       "  <tbody>\n",
       "    <tr>\n",
       "      <th>0</th>\n",
       "      <td>1</td>\n",
       "      <td>258</td>\n",
       "      <td>5</td>\n",
       "    </tr>\n",
       "    <tr>\n",
       "      <th>1</th>\n",
       "      <td>2</td>\n",
       "      <td>4081</td>\n",
       "      <td>4</td>\n",
       "    </tr>\n",
       "  </tbody>\n",
       "</table>\n",
       "</div>"
      ],
      "text/plain": [
       "   user_id  book_id  rating\n",
       "0        1      258       5\n",
       "1        2     4081       4"
      ]
     },
     "execution_count": 11,
     "metadata": {},
     "output_type": "execute_result"
    }
   ],
   "source": [
    "# Dimensions\n",
    "print(f\"Number of records: {ratings.shape[0]}\")\n",
    "print(f\"Number of columns: {ratings.shape[1]}\")\n",
    "ratings.head(2)"
   ]
  },
  {
   "cell_type": "code",
   "execution_count": 12,
   "id": "b8513fa4-34a9-44d0-887e-e145f6d2315c",
   "metadata": {},
   "outputs": [
    {
     "data": {
      "text/plain": [
       "int64    3\n",
       "Name: count, dtype: int64"
      ]
     },
     "metadata": {},
     "output_type": "display_data"
    },
    {
     "name": "stdout",
     "output_type": "stream",
     "text": [
      "\n",
      "\n"
     ]
    },
    {
     "data": {
      "text/plain": [
       "user_id    int64\n",
       "book_id    int64\n",
       "rating     int64\n",
       "dtype: object"
      ]
     },
     "execution_count": 12,
     "metadata": {},
     "output_type": "execute_result"
    }
   ],
   "source": [
    "# Data types\n",
    "display(ratings.dtypes.value_counts())\n",
    "print(\"\\n\")\n",
    "ratings.dtypes"
   ]
  },
  {
   "cell_type": "code",
   "execution_count": 13,
   "id": "317f6d01-8982-484a-9b7b-d4aca4f307f7",
   "metadata": {},
   "outputs": [
    {
     "data": {
      "text/plain": [
       "Series([], dtype: int64)"
      ]
     },
     "execution_count": 13,
     "metadata": {},
     "output_type": "execute_result"
    }
   ],
   "source": [
    "# Missing values\n",
    "ratings.isnull().sum()[(ratings.isnull().sum() > 1)]"
   ]
  },
  {
   "cell_type": "code",
   "execution_count": 14,
   "id": "cca204a9-606c-43e5-bf6f-30ac02fd7de6",
   "metadata": {},
   "outputs": [
    {
     "data": {
      "text/html": [
       "<div>\n",
       "<style scoped>\n",
       "    .dataframe tbody tr th:only-of-type {\n",
       "        vertical-align: middle;\n",
       "    }\n",
       "\n",
       "    .dataframe tbody tr th {\n",
       "        vertical-align: top;\n",
       "    }\n",
       "\n",
       "    .dataframe thead th {\n",
       "        text-align: right;\n",
       "    }\n",
       "</style>\n",
       "<table border=\"1\" class=\"dataframe\">\n",
       "  <thead>\n",
       "    <tr style=\"text-align: right;\">\n",
       "      <th></th>\n",
       "      <th>user_id</th>\n",
       "      <th>book_id</th>\n",
       "      <th>rating</th>\n",
       "    </tr>\n",
       "  </thead>\n",
       "  <tbody>\n",
       "  </tbody>\n",
       "</table>\n",
       "</div>"
      ],
      "text/plain": [
       "Empty DataFrame\n",
       "Columns: [user_id, book_id, rating]\n",
       "Index: []"
      ]
     },
     "execution_count": 14,
     "metadata": {},
     "output_type": "execute_result"
    }
   ],
   "source": [
    "# Duplicate values\n",
    "ratings[ratings.duplicated()]"
   ]
  },
  {
   "cell_type": "code",
   "execution_count": 15,
   "id": "45f88719-ce42-43ad-9b14-17fb838bcbb3",
   "metadata": {
    "tags": []
   },
   "outputs": [
    {
     "data": {
      "text/plain": [
       "count    53424.000000\n",
       "mean       111.868804\n",
       "std         26.071224\n",
       "min         19.000000\n",
       "25%         96.000000\n",
       "50%        111.000000\n",
       "75%        128.000000\n",
       "max        200.000000\n",
       "Name: rating, dtype: float64"
      ]
     },
     "execution_count": 15,
     "metadata": {},
     "output_type": "execute_result"
    }
   ],
   "source": [
    "# Number of ratings per user\n",
    "ratings_per_user = ratings.groupby(\"user_id\")[\"rating\"].count().sort_values()\n",
    "ratings_per_user.describe()"
   ]
  },
  {
   "cell_type": "code",
   "execution_count": 16,
   "id": "12bdf87d-b381-4408-8aca-e4afb5416572",
   "metadata": {
    "tags": []
   },
   "outputs": [
    {
     "data": {
      "image/png": "[encoded data removed]",
      "text/plain": [
       "<Figure size 640x480 with 1 Axes>"
      ]
     },
     "metadata": {},
     "output_type": "display_data"
    }
   ],
   "source": [
    "# Number of ratings per user\n",
    "fig, axes = plt.subplots()\n",
    "axes.tick_params(bottom=False, left=False)\n",
    "axes.grid(True)\n",
    "axes.spines[['top', 'right']].set_visible(False)\n",
    "axes.spines[['left', 'bottom']].set_color('dimgray')\n",
    "axes.set_xlabel('Ratings per user', fontsize=10, color='dimgray')\n",
    "axes.set_ylabel('Count', fontsize=10, color='dimgray')\n",
    "axes.hist(ratings_per_user);"
   ]
  },
  {
   "cell_type": "markdown",
   "id": "aeab7d0b-4369-4121-abd8-0601dd72b3ac",
   "metadata": {},
   "source": [
    "### to read"
   ]
  },
  {
   "cell_type": "code",
   "execution_count": 17,
   "id": "f5730c75-5626-461e-a1c8-8dbe74a8e078",
   "metadata": {},
   "outputs": [
    {
     "name": "stdout",
     "output_type": "stream",
     "text": [
      "Number of records: 912705\n",
      "Number of columns: 2\n"
     ]
    },
    {
     "data": {
      "text/html": [
       "<div>\n",
       "<style scoped>\n",
       "    .dataframe tbody tr th:only-of-type {\n",
       "        vertical-align: middle;\n",
       "    }\n",
       "\n",
       "    .dataframe tbody tr th {\n",
       "        vertical-align: top;\n",
       "    }\n",
       "\n",
       "    .dataframe thead th {\n",
       "        text-align: right;\n",
       "    }\n",
       "</style>\n",
       "<table border=\"1\" class=\"dataframe\">\n",
       "  <thead>\n",
       "    <tr style=\"text-align: right;\">\n",
       "      <th></th>\n",
       "      <th>user_id</th>\n",
       "      <th>book_id</th>\n",
       "    </tr>\n",
       "  </thead>\n",
       "  <tbody>\n",
       "    <tr>\n",
       "      <th>0</th>\n",
       "      <td>9</td>\n",
       "      <td>8</td>\n",
       "    </tr>\n",
       "    <tr>\n",
       "      <th>1</th>\n",
       "      <td>15</td>\n",
       "      <td>398</td>\n",
       "    </tr>\n",
       "  </tbody>\n",
       "</table>\n",
       "</div>"
      ],
      "text/plain": [
       "   user_id  book_id\n",
       "0        9        8\n",
       "1       15      398"
      ]
     },
     "execution_count": 17,
     "metadata": {},
     "output_type": "execute_result"
    }
   ],
   "source": [
    "# Dimensions\n",
    "print(f\"Number of records: {to_read.shape[0]}\")\n",
    "print(f\"Number of columns: {to_read.shape[1]}\")\n",
    "to_read.head(2)"
   ]
  },
  {
   "cell_type": "code",
   "execution_count": 18,
   "id": "b5dd1ae4-9888-4b36-b397-4f66d8dcbf21",
   "metadata": {},
   "outputs": [
    {
     "data": {
      "text/plain": [
       "int64    2\n",
       "Name: count, dtype: int64"
      ]
     },
     "metadata": {},
     "output_type": "display_data"
    },
    {
     "name": "stdout",
     "output_type": "stream",
     "text": [
      "\n",
      "\n"
     ]
    },
    {
     "data": {
      "text/plain": [
       "user_id    int64\n",
       "book_id    int64\n",
       "dtype: object"
      ]
     },
     "execution_count": 18,
     "metadata": {},
     "output_type": "execute_result"
    }
   ],
   "source": [
    "# Data types\n",
    "display(to_read.dtypes.value_counts())\n",
    "print(\"\\n\")\n",
    "to_read.dtypes"
   ]
  },
  {
   "cell_type": "code",
   "execution_count": 19,
   "id": "c9ba8e85-230a-48b5-bbca-1e099248d33b",
   "metadata": {},
   "outputs": [
    {
     "data": {
      "text/plain": [
       "Series([], dtype: int64)"
      ]
     },
     "execution_count": 19,
     "metadata": {},
     "output_type": "execute_result"
    }
   ],
   "source": [
    "# Missing values\n",
    "to_read.isnull().sum()[(to_read.isnull().sum() > 1)]"
   ]
  },
  {
   "cell_type": "code",
   "execution_count": 20,
   "id": "5b30d5d1-ec2d-4263-b457-7ef4c850dd7e",
   "metadata": {},
   "outputs": [
    {
     "data": {
      "text/html": [
       "<div>\n",
       "<style scoped>\n",
       "    .dataframe tbody tr th:only-of-type {\n",
       "        vertical-align: middle;\n",
       "    }\n",
       "\n",
       "    .dataframe tbody tr th {\n",
       "        vertical-align: top;\n",
       "    }\n",
       "\n",
       "    .dataframe thead th {\n",
       "        text-align: right;\n",
       "    }\n",
       "</style>\n",
       "<table border=\"1\" class=\"dataframe\">\n",
       "  <thead>\n",
       "    <tr style=\"text-align: right;\">\n",
       "      <th></th>\n",
       "      <th>user_id</th>\n",
       "      <th>book_id</th>\n",
       "    </tr>\n",
       "  </thead>\n",
       "  <tbody>\n",
       "  </tbody>\n",
       "</table>\n",
       "</div>"
      ],
      "text/plain": [
       "Empty DataFrame\n",
       "Columns: [user_id, book_id]\n",
       "Index: []"
      ]
     },
     "execution_count": 20,
     "metadata": {},
     "output_type": "execute_result"
    }
   ],
   "source": [
    "# Duplicate values\n",
    "to_read[to_read.duplicated()]"
   ]
  },
  {
   "cell_type": "code",
   "execution_count": 21,
   "id": "27d40e36-57e7-4ef1-9d25-4d349830cf96",
   "metadata": {
    "tags": []
   },
   "outputs": [
    {
     "data": {
      "text/plain": [
       "count    48871.000000\n",
       "mean        18.675800\n",
       "std         16.089767\n",
       "min          1.000000\n",
       "25%          6.000000\n",
       "50%         14.000000\n",
       "75%         27.000000\n",
       "max        117.000000\n",
       "Name: book_id, dtype: float64"
      ]
     },
     "execution_count": 21,
     "metadata": {},
     "output_type": "execute_result"
    }
   ],
   "source": [
    "# To read per user\n",
    "toread_per_user = to_read.groupby(\"user_id\")[\"book_id\"].count().sort_values()\n",
    "toread_per_user.describe()"
   ]
  },
  {
   "cell_type": "code",
   "execution_count": 22,
   "id": "726a29d4-8162-4be1-93a9-1bcaf9552299",
   "metadata": {
    "tags": []
   },
   "outputs": [
    {
     "data": {
      "image/png": "[encoded data removed]",
      "text/plain": [
       "<Figure size 640x480 with 1 Axes>"
      ]
     },
     "metadata": {},
     "output_type": "display_data"
    }
   ],
   "source": [
    "# Number of books to read per user\n",
    "fig, axes = plt.subplots()\n",
    "axes.tick_params(bottom=False, left=False)\n",
    "axes.grid(True)\n",
    "axes.spines[['top', 'right']].set_visible(False)\n",
    "axes.spines[['left', 'bottom']].set_color('dimgray')\n",
    "axes.set_xlabel('To read per user', fontsize=10, color='dimgray')\n",
    "axes.set_ylabel('Count', fontsize=10, color='dimgray')\n",
    "axes.hist(toread_per_user);"
   ]
  },
  {
   "cell_type": "markdown",
   "id": "172ef942-a2f2-4339-bbd2-1aa3697a7d8a",
   "metadata": {},
   "source": [
    "### book tags"
   ]
  },
  {
   "cell_type": "code",
   "execution_count": 23,
   "id": "598586f7-7220-4534-a029-ac1f0012b4bf",
   "metadata": {},
   "outputs": [
    {
     "name": "stdout",
     "output_type": "stream",
     "text": [
      "Number of records: 999912\n",
      "Number of columns: 3\n"
     ]
    },
    {
     "data": {
      "text/html": [
       "<div>\n",
       "<style scoped>\n",
       "    .dataframe tbody tr th:only-of-type {\n",
       "        vertical-align: middle;\n",
       "    }\n",
       "\n",
       "    .dataframe tbody tr th {\n",
       "        vertical-align: top;\n",
       "    }\n",
       "\n",
       "    .dataframe thead th {\n",
       "        text-align: right;\n",
       "    }\n",
       "</style>\n",
       "<table border=\"1\" class=\"dataframe\">\n",
       "  <thead>\n",
       "    <tr style=\"text-align: right;\">\n",
       "      <th></th>\n",
       "      <th>goodreads_book_id</th>\n",
       "      <th>tag_id</th>\n",
       "      <th>count</th>\n",
       "    </tr>\n",
       "  </thead>\n",
       "  <tbody>\n",
       "    <tr>\n",
       "      <th>0</th>\n",
       "      <td>1</td>\n",
       "      <td>30574</td>\n",
       "      <td>167697</td>\n",
       "    </tr>\n",
       "    <tr>\n",
       "      <th>1</th>\n",
       "      <td>1</td>\n",
       "      <td>11305</td>\n",
       "      <td>37174</td>\n",
       "    </tr>\n",
       "  </tbody>\n",
       "</table>\n",
       "</div>"
      ],
      "text/plain": [
       "   goodreads_book_id  tag_id   count\n",
       "0                  1   30574  167697\n",
       "1                  1   11305   37174"
      ]
     },
     "execution_count": 23,
     "metadata": {},
     "output_type": "execute_result"
    }
   ],
   "source": [
    "# Dimensions\n",
    "print(f\"Number of records: {book_tags.shape[0]}\")\n",
    "print(f\"Number of columns: {book_tags.shape[1]}\")\n",
    "book_tags.head(2)"
   ]
  },
  {
   "cell_type": "code",
   "execution_count": 24,
   "id": "bf1468ba-15d4-4c75-884d-af990d137866",
   "metadata": {},
   "outputs": [
    {
     "data": {
      "text/plain": [
       "int64    3\n",
       "Name: count, dtype: int64"
      ]
     },
     "metadata": {},
     "output_type": "display_data"
    },
    {
     "name": "stdout",
     "output_type": "stream",
     "text": [
      "\n",
      "\n"
     ]
    },
    {
     "data": {
      "text/plain": [
       "goodreads_book_id    int64\n",
       "tag_id               int64\n",
       "count                int64\n",
       "dtype: object"
      ]
     },
     "execution_count": 24,
     "metadata": {},
     "output_type": "execute_result"
    }
   ],
   "source": [
    "# Data types\n",
    "display(book_tags.dtypes.value_counts())\n",
    "print(\"\\n\")\n",
    "book_tags.dtypes"
   ]
  },
  {
   "cell_type": "code",
   "execution_count": 25,
   "id": "7fb616a7-6143-4889-9046-281cf907f5bb",
   "metadata": {},
   "outputs": [
    {
     "data": {
      "text/plain": [
       "Series([], dtype: int64)"
      ]
     },
     "execution_count": 25,
     "metadata": {},
     "output_type": "execute_result"
    }
   ],
   "source": [
    "# Missing values\n",
    "book_tags.isnull().sum()[(book_tags.isnull().sum() > 1)]"
   ]
  },
  {
   "cell_type": "code",
   "execution_count": 26,
   "id": "2a21c6ba-34dc-4cc1-8b70-c995b2539a9e",
   "metadata": {},
   "outputs": [
    {
     "data": {
      "text/html": [
       "<div>\n",
       "<style scoped>\n",
       "    .dataframe tbody tr th:only-of-type {\n",
       "        vertical-align: middle;\n",
       "    }\n",
       "\n",
       "    .dataframe tbody tr th {\n",
       "        vertical-align: top;\n",
       "    }\n",
       "\n",
       "    .dataframe thead th {\n",
       "        text-align: right;\n",
       "    }\n",
       "</style>\n",
       "<table border=\"1\" class=\"dataframe\">\n",
       "  <thead>\n",
       "    <tr style=\"text-align: right;\">\n",
       "      <th></th>\n",
       "      <th>goodreads_book_id</th>\n",
       "      <th>tag_id</th>\n",
       "      <th>count</th>\n",
       "    </tr>\n",
       "  </thead>\n",
       "  <tbody>\n",
       "    <tr>\n",
       "      <th>159371</th>\n",
       "      <td>22369</td>\n",
       "      <td>25148</td>\n",
       "      <td>4</td>\n",
       "    </tr>\n",
       "    <tr>\n",
       "      <th>265128</th>\n",
       "      <td>52629</td>\n",
       "      <td>10094</td>\n",
       "      <td>1</td>\n",
       "    </tr>\n",
       "    <tr>\n",
       "      <th>265140</th>\n",
       "      <td>52629</td>\n",
       "      <td>2928</td>\n",
       "      <td>1</td>\n",
       "    </tr>\n",
       "    <tr>\n",
       "      <th>265155</th>\n",
       "      <td>52629</td>\n",
       "      <td>13272</td>\n",
       "      <td>1</td>\n",
       "    </tr>\n",
       "    <tr>\n",
       "      <th>265187</th>\n",
       "      <td>52629</td>\n",
       "      <td>13322</td>\n",
       "      <td>1</td>\n",
       "    </tr>\n",
       "    <tr>\n",
       "      <th>308771</th>\n",
       "      <td>77449</td>\n",
       "      <td>25148</td>\n",
       "      <td>7</td>\n",
       "    </tr>\n",
       "  </tbody>\n",
       "</table>\n",
       "</div>"
      ],
      "text/plain": [
       "        goodreads_book_id  tag_id  count\n",
       "159371              22369   25148      4\n",
       "265128              52629   10094      1\n",
       "265140              52629    2928      1\n",
       "265155              52629   13272      1\n",
       "265187              52629   13322      1\n",
       "308771              77449   25148      7"
      ]
     },
     "execution_count": 26,
     "metadata": {},
     "output_type": "execute_result"
    }
   ],
   "source": [
    "# Duplicate values\n",
    "book_tags[book_tags.duplicated()]"
   ]
  },
  {
   "cell_type": "code",
   "execution_count": 27,
   "id": "2284e34e-9b84-4c10-8d3b-032b1c9bb6d6",
   "metadata": {},
   "outputs": [],
   "source": [
    "# Remove duplicates\n",
    "book_tags = book_tags.loc[book_tags.duplicated() == False, :]"
   ]
  },
  {
   "cell_type": "code",
   "execution_count": 28,
   "id": "a8b4fe2d-5f4d-4b7a-9669-69c698b5d526",
   "metadata": {
    "tags": []
   },
   "outputs": [
    {
     "data": {
      "text/plain": [
       "count    10000.000000\n",
       "mean        99.990600\n",
       "std          0.585957\n",
       "min         56.000000\n",
       "25%        100.000000\n",
       "50%        100.000000\n",
       "75%        100.000000\n",
       "max        100.000000\n",
       "Name: tag_id, dtype: float64"
      ]
     },
     "execution_count": 28,
     "metadata": {},
     "output_type": "execute_result"
    }
   ],
   "source": [
    "# Number of tags per book\n",
    "tags_per_book = book_tags.groupby(\"goodreads_book_id\")[\"tag_id\"].count().sort_values()\n",
    "tags_per_book.describe()"
   ]
  },
  {
   "cell_type": "code",
   "execution_count": 29,
   "id": "754ce298-b9b5-4378-9068-2d3047c9104b",
   "metadata": {
    "tags": []
   },
   "outputs": [
    {
     "data": {
      "image/png": "[encoded data removed]",
      "text/plain": [
       "<Figure size 640x480 with 1 Axes>"
      ]
     },
     "metadata": {},
     "output_type": "display_data"
    }
   ],
   "source": [
    "# Number of tags per book\n",
    "fig, axes = plt.subplots()\n",
    "axes.tick_params(bottom=False, left=False)\n",
    "axes.grid(True)\n",
    "axes.spines[['top', 'right']].set_visible(False)\n",
    "axes.spines[['left', 'bottom']].set_color('dimgray')\n",
    "axes.set_xlabel('Tags per book', fontsize=10, color='dimgray')\n",
    "axes.set_ylabel('Count', fontsize=10, color='dimgray')\n",
    "axes.hist(tags_per_book);"
   ]
  },
  {
   "cell_type": "markdown",
   "id": "0ed3273c-9f81-4af8-b99b-ff4e7ca04d01",
   "metadata": {},
   "source": [
    "### tags"
   ]
  },
  {
   "cell_type": "code",
   "execution_count": 30,
   "id": "ba0c1854-e433-499a-8d3a-fd1e05ad1839",
   "metadata": {},
   "outputs": [
    {
     "name": "stdout",
     "output_type": "stream",
     "text": [
      "Number of records: 34252\n",
      "Number of columns: 2\n"
     ]
    },
    {
     "data": {
      "text/html": [
       "<div>\n",
       "<style scoped>\n",
       "    .dataframe tbody tr th:only-of-type {\n",
       "        vertical-align: middle;\n",
       "    }\n",
       "\n",
       "    .dataframe tbody tr th {\n",
       "        vertical-align: top;\n",
       "    }\n",
       "\n",
       "    .dataframe thead th {\n",
       "        text-align: right;\n",
       "    }\n",
       "</style>\n",
       "<table border=\"1\" class=\"dataframe\">\n",
       "  <thead>\n",
       "    <tr style=\"text-align: right;\">\n",
       "      <th></th>\n",
       "      <th>tag_id</th>\n",
       "      <th>tag_name</th>\n",
       "    </tr>\n",
       "  </thead>\n",
       "  <tbody>\n",
       "    <tr>\n",
       "      <th>0</th>\n",
       "      <td>0</td>\n",
       "      <td>-</td>\n",
       "    </tr>\n",
       "    <tr>\n",
       "      <th>1</th>\n",
       "      <td>1</td>\n",
       "      <td>--1-</td>\n",
       "    </tr>\n",
       "  </tbody>\n",
       "</table>\n",
       "</div>"
      ],
      "text/plain": [
       "   tag_id tag_name\n",
       "0       0        -\n",
       "1       1     --1-"
      ]
     },
     "execution_count": 30,
     "metadata": {},
     "output_type": "execute_result"
    }
   ],
   "source": [
    "# Dimensions\n",
    "print(f\"Number of records: {tags.shape[0]}\")\n",
    "print(f\"Number of columns: {tags.shape[1]}\")\n",
    "tags.head(2)"
   ]
  },
  {
   "cell_type": "code",
   "execution_count": 31,
   "id": "860edc60-a954-4a7d-afe4-14f838530b86",
   "metadata": {},
   "outputs": [
    {
     "data": {
      "text/plain": [
       "int64     1\n",
       "object    1\n",
       "Name: count, dtype: int64"
      ]
     },
     "metadata": {},
     "output_type": "display_data"
    },
    {
     "name": "stdout",
     "output_type": "stream",
     "text": [
      "\n",
      "\n"
     ]
    },
    {
     "data": {
      "text/plain": [
       "tag_id       int64\n",
       "tag_name    object\n",
       "dtype: object"
      ]
     },
     "execution_count": 31,
     "metadata": {},
     "output_type": "execute_result"
    }
   ],
   "source": [
    "# Data types\n",
    "display(tags.dtypes.value_counts())\n",
    "print(\"\\n\")\n",
    "tags.dtypes"
   ]
  },
  {
   "cell_type": "code",
   "execution_count": 32,
   "id": "7678ad4a-ac47-4125-922d-1a3edfc68f61",
   "metadata": {},
   "outputs": [
    {
     "data": {
      "text/plain": [
       "Series([], dtype: int64)"
      ]
     },
     "execution_count": 32,
     "metadata": {},
     "output_type": "execute_result"
    }
   ],
   "source": [
    "# Missing values\n",
    "tags.isnull().sum()[(tags.isnull().sum() > 1)]"
   ]
  },
  {
   "cell_type": "code",
   "execution_count": 33,
   "id": "c94d7dcd-3261-4d8c-83d4-eab61df137e1",
   "metadata": {},
   "outputs": [
    {
     "data": {
      "text/html": [
       "<div>\n",
       "<style scoped>\n",
       "    .dataframe tbody tr th:only-of-type {\n",
       "        vertical-align: middle;\n",
       "    }\n",
       "\n",
       "    .dataframe tbody tr th {\n",
       "        vertical-align: top;\n",
       "    }\n",
       "\n",
       "    .dataframe thead th {\n",
       "        text-align: right;\n",
       "    }\n",
       "</style>\n",
       "<table border=\"1\" class=\"dataframe\">\n",
       "  <thead>\n",
       "    <tr style=\"text-align: right;\">\n",
       "      <th></th>\n",
       "      <th>tag_id</th>\n",
       "      <th>tag_name</th>\n",
       "    </tr>\n",
       "  </thead>\n",
       "  <tbody>\n",
       "  </tbody>\n",
       "</table>\n",
       "</div>"
      ],
      "text/plain": [
       "Empty DataFrame\n",
       "Columns: [tag_id, tag_name]\n",
       "Index: []"
      ]
     },
     "execution_count": 33,
     "metadata": {},
     "output_type": "execute_result"
    }
   ],
   "source": [
    "# Duplicate values\n",
    "tags[tags.duplicated()]"
   ]
  },
  {
   "cell_type": "markdown",
   "id": "88b2db1b-4dbf-4b41-9029-72ee952053d6",
   "metadata": {},
   "source": [
    "## Pre-processing"
   ]
  },
  {
   "cell_type": "markdown",
   "id": "66069b7d-7178-4929-aec8-3b98facdfec8",
   "metadata": {},
   "source": [
    "### Decodes"
   ]
  },
  {
   "cell_type": "code",
   "execution_count": 34,
   "id": "16d0b3a1-a505-4a61-b1b3-1fa314bca982",
   "metadata": {},
   "outputs": [
    {
     "name": "stdout",
     "output_type": "stream",
     "text": [
      "Shape before join: (999906, 3)\n",
      "Shape after join: (999906, 4)\n",
      "\n",
      "Missing values :\n",
      "goodreads_book_id    0\n",
      "tag_id               0\n",
      "count                0\n",
      "tag_name             0\n",
      "dtype: int64\n"
     ]
    },
    {
     "data": {
      "text/html": [
       "<div>\n",
       "<style scoped>\n",
       "    .dataframe tbody tr th:only-of-type {\n",
       "        vertical-align: middle;\n",
       "    }\n",
       "\n",
       "    .dataframe tbody tr th {\n",
       "        vertical-align: top;\n",
       "    }\n",
       "\n",
       "    .dataframe thead th {\n",
       "        text-align: right;\n",
       "    }\n",
       "</style>\n",
       "<table border=\"1\" class=\"dataframe\">\n",
       "  <thead>\n",
       "    <tr style=\"text-align: right;\">\n",
       "      <th></th>\n",
       "      <th>goodreads_book_id</th>\n",
       "      <th>tag_id</th>\n",
       "      <th>count</th>\n",
       "      <th>tag_name</th>\n",
       "    </tr>\n",
       "  </thead>\n",
       "  <tbody>\n",
       "    <tr>\n",
       "      <th>0</th>\n",
       "      <td>1</td>\n",
       "      <td>30574</td>\n",
       "      <td>167697</td>\n",
       "      <td>to-read</td>\n",
       "    </tr>\n",
       "    <tr>\n",
       "      <th>1</th>\n",
       "      <td>1</td>\n",
       "      <td>11305</td>\n",
       "      <td>37174</td>\n",
       "      <td>fantasy</td>\n",
       "    </tr>\n",
       "    <tr>\n",
       "      <th>2</th>\n",
       "      <td>1</td>\n",
       "      <td>11557</td>\n",
       "      <td>34173</td>\n",
       "      <td>favorites</td>\n",
       "    </tr>\n",
       "    <tr>\n",
       "      <th>3</th>\n",
       "      <td>1</td>\n",
       "      <td>8717</td>\n",
       "      <td>12986</td>\n",
       "      <td>currently-reading</td>\n",
       "    </tr>\n",
       "    <tr>\n",
       "      <th>4</th>\n",
       "      <td>1</td>\n",
       "      <td>33114</td>\n",
       "      <td>12716</td>\n",
       "      <td>young-adult</td>\n",
       "    </tr>\n",
       "  </tbody>\n",
       "</table>\n",
       "</div>"
      ],
      "text/plain": [
       "   goodreads_book_id  tag_id   count           tag_name\n",
       "0                  1   30574  167697            to-read\n",
       "1                  1   11305   37174            fantasy\n",
       "2                  1   11557   34173          favorites\n",
       "3                  1    8717   12986  currently-reading\n",
       "4                  1   33114   12716        young-adult"
      ]
     },
     "metadata": {},
     "output_type": "display_data"
    }
   ],
   "source": [
    "# Add tag names to book tags df\n",
    "print(f\"Shape before join: {book_tags.shape}\")\n",
    "book_tags = book_tags.merge(tags, on=\"tag_id\", how=\"left\", suffixes=('', '_remove'))\n",
    "book_tags = book_tags.drop([col for col in book_tags.columns if 'remove' in col], axis=1)\n",
    "print(f\"Shape after join: {book_tags.shape}\")\n",
    "print(f\"\\nMissing values :\\n{book_tags.isna().sum()}\")\n",
    "display(book_tags.head())"
   ]
  },
  {
   "cell_type": "code",
   "execution_count": 35,
   "id": "c660bc5c-0508-479b-9bd2-8e985bf57964",
   "metadata": {},
   "outputs": [
    {
     "name": "stdout",
     "output_type": "stream",
     "text": [
      "Tag name lookup shape: (10000, 2)\n",
      "Missing book tags :\n",
      "0\n"
     ]
    },
    {
     "data": {
      "text/html": [
       "<div>\n",
       "<style scoped>\n",
       "    .dataframe tbody tr th:only-of-type {\n",
       "        vertical-align: middle;\n",
       "    }\n",
       "\n",
       "    .dataframe tbody tr th {\n",
       "        vertical-align: top;\n",
       "    }\n",
       "\n",
       "    .dataframe thead th {\n",
       "        text-align: right;\n",
       "    }\n",
       "</style>\n",
       "<table border=\"1\" class=\"dataframe\">\n",
       "  <thead>\n",
       "    <tr style=\"text-align: right;\">\n",
       "      <th></th>\n",
       "      <th>goodreads_book_id</th>\n",
       "      <th>book_tags</th>\n",
       "    </tr>\n",
       "  </thead>\n",
       "  <tbody>\n",
       "    <tr>\n",
       "      <th>0</th>\n",
       "      <td>1</td>\n",
       "      <td>to-read fantasy favorites currently-reading yo...</td>\n",
       "    </tr>\n",
       "    <tr>\n",
       "      <th>1</th>\n",
       "      <td>2</td>\n",
       "      <td>to-read currently-reading fantasy favorites ch...</td>\n",
       "    </tr>\n",
       "    <tr>\n",
       "      <th>2</th>\n",
       "      <td>3</td>\n",
       "      <td>to-read favorites fantasy currently-reading yo...</td>\n",
       "    </tr>\n",
       "    <tr>\n",
       "      <th>3</th>\n",
       "      <td>5</td>\n",
       "      <td>favorites fantasy currently-reading young-adul...</td>\n",
       "    </tr>\n",
       "    <tr>\n",
       "      <th>4</th>\n",
       "      <td>6</td>\n",
       "      <td>fantasy young-adult fiction harry-potter owned...</td>\n",
       "    </tr>\n",
       "  </tbody>\n",
       "</table>\n",
       "</div>"
      ],
      "text/plain": [
       "   goodreads_book_id                                          book_tags\n",
       "0                  1  to-read fantasy favorites currently-reading yo...\n",
       "1                  2  to-read currently-reading fantasy favorites ch...\n",
       "2                  3  to-read favorites fantasy currently-reading yo...\n",
       "3                  5  favorites fantasy currently-reading young-adul...\n",
       "4                  6  fantasy young-adult fiction harry-potter owned..."
      ]
     },
     "metadata": {},
     "output_type": "display_data"
    }
   ],
   "source": [
    "# Aggregate tag names by goodreads_book_id\n",
    "tag_name_lookup = book_tags.groupby(\"goodreads_book_id\")[\"tag_name\"].apply(list).rename(\"book_tags\")\n",
    "tag_name_lookup = tag_name_lookup.apply(lambda x: \" \".join(list(x)))\n",
    "tag_name_lookup = tag_name_lookup.reset_index()\n",
    "print(f\"Tag name lookup shape: {tag_name_lookup.shape}\")\n",
    "print(f\"Missing book tags :\\n{tag_name_lookup['book_tags'].isna().sum()}\")\n",
    "display(tag_name_lookup.head())"
   ]
  },
  {
   "cell_type": "code",
   "execution_count": 36,
   "id": "09c78f90-bc08-4de0-af79-8cce82094026",
   "metadata": {},
   "outputs": [
    {
     "name": "stdout",
     "output_type": "stream",
     "text": [
      "Shape before join: (10000, 23)\n",
      "Shape after join: (10000, 24)\n",
      "Missing book tags :\n",
      "0\n"
     ]
    },
    {
     "data": {
      "text/html": [
       "<div>\n",
       "<style scoped>\n",
       "    .dataframe tbody tr th:only-of-type {\n",
       "        vertical-align: middle;\n",
       "    }\n",
       "\n",
       "    .dataframe tbody tr th {\n",
       "        vertical-align: top;\n",
       "    }\n",
       "\n",
       "    .dataframe thead th {\n",
       "        text-align: right;\n",
       "    }\n",
       "</style>\n",
       "<table border=\"1\" class=\"dataframe\">\n",
       "  <thead>\n",
       "    <tr style=\"text-align: right;\">\n",
       "      <th></th>\n",
       "      <th>goodreads_book_id</th>\n",
       "      <th>book_tags</th>\n",
       "    </tr>\n",
       "  </thead>\n",
       "  <tbody>\n",
       "    <tr>\n",
       "      <th>0</th>\n",
       "      <td>2767052</td>\n",
       "      <td>favorites currently-reading young-adult fictio...</td>\n",
       "    </tr>\n",
       "    <tr>\n",
       "      <th>1</th>\n",
       "      <td>3</td>\n",
       "      <td>to-read favorites fantasy currently-reading yo...</td>\n",
       "    </tr>\n",
       "    <tr>\n",
       "      <th>2</th>\n",
       "      <td>41865</td>\n",
       "      <td>young-adult fantasy favorites vampires ya fict...</td>\n",
       "    </tr>\n",
       "    <tr>\n",
       "      <th>3</th>\n",
       "      <td>2657</td>\n",
       "      <td>classics favorites to-read classic historical-...</td>\n",
       "    </tr>\n",
       "    <tr>\n",
       "      <th>4</th>\n",
       "      <td>4671</td>\n",
       "      <td>classics favorites fiction classic books-i-own...</td>\n",
       "    </tr>\n",
       "  </tbody>\n",
       "</table>\n",
       "</div>"
      ],
      "text/plain": [
       "   goodreads_book_id                                          book_tags\n",
       "0            2767052  favorites currently-reading young-adult fictio...\n",
       "1                  3  to-read favorites fantasy currently-reading yo...\n",
       "2              41865  young-adult fantasy favorites vampires ya fict...\n",
       "3               2657  classics favorites to-read classic historical-...\n",
       "4               4671  classics favorites fiction classic books-i-own..."
      ]
     },
     "metadata": {},
     "output_type": "display_data"
    }
   ],
   "source": [
    "# Add aggregated tag names to books df\n",
    "print(f\"Shape before join: {books.shape}\")\n",
    "books = books.merge(tag_name_lookup, on=\"goodreads_book_id\", how=\"left\", suffixes=('', '_remove'))\n",
    "books = books.drop([col for col in books.columns if 'remove' in col], axis=1)\n",
    "print(f\"Shape after join: {books.shape}\")\n",
    "print(f\"Missing book tags :\\n{books['book_tags'].isna().sum()}\")\n",
    "display(books[[\"goodreads_book_id\", \"book_tags\"]].head())"
   ]
  },
  {
   "cell_type": "code",
   "execution_count": 37,
   "id": "018d63c5-88cc-470f-8046-f81dd6b3410c",
   "metadata": {},
   "outputs": [
    {
     "name": "stdout",
     "output_type": "stream",
     "text": [
      "Shape before join: (5976479, 3)\n",
      "Shape after join: (5976479, 6)\n",
      "Missing values :\n",
      "user_id      0\n",
      "book_id      0\n",
      "rating       0\n",
      "title        0\n",
      "authors      0\n",
      "book_tags    0\n",
      "dtype: int64\n"
     ]
    },
    {
     "data": {
      "text/html": [
       "<div>\n",
       "<style scoped>\n",
       "    .dataframe tbody tr th:only-of-type {\n",
       "        vertical-align: middle;\n",
       "    }\n",
       "\n",
       "    .dataframe tbody tr th {\n",
       "        vertical-align: top;\n",
       "    }\n",
       "\n",
       "    .dataframe thead th {\n",
       "        text-align: right;\n",
       "    }\n",
       "</style>\n",
       "<table border=\"1\" class=\"dataframe\">\n",
       "  <thead>\n",
       "    <tr style=\"text-align: right;\">\n",
       "      <th></th>\n",
       "      <th>user_id</th>\n",
       "      <th>book_id</th>\n",
       "      <th>rating</th>\n",
       "      <th>title</th>\n",
       "      <th>authors</th>\n",
       "      <th>book_tags</th>\n",
       "    </tr>\n",
       "  </thead>\n",
       "  <tbody>\n",
       "    <tr>\n",
       "      <th>0</th>\n",
       "      <td>1</td>\n",
       "      <td>258</td>\n",
       "      <td>5</td>\n",
       "      <td>The Shadow of the Wind (The Cemetery of Forgot...</td>\n",
       "      <td>Carlos Ruiz Zafón, Lucia Graves</td>\n",
       "      <td>to-read currently-reading favorites fiction hi...</td>\n",
       "    </tr>\n",
       "    <tr>\n",
       "      <th>1</th>\n",
       "      <td>2</td>\n",
       "      <td>4081</td>\n",
       "      <td>4</td>\n",
       "      <td>I am Charlotte Simmons</td>\n",
       "      <td>Tom Wolfe</td>\n",
       "      <td>to-read fiction currently-reading favorites ow...</td>\n",
       "    </tr>\n",
       "    <tr>\n",
       "      <th>2</th>\n",
       "      <td>2</td>\n",
       "      <td>260</td>\n",
       "      <td>5</td>\n",
       "      <td>How to Win Friends and Influence People</td>\n",
       "      <td>Dale Carnegie</td>\n",
       "      <td>non-fiction to-read self-improvement nonfictio...</td>\n",
       "    </tr>\n",
       "    <tr>\n",
       "      <th>3</th>\n",
       "      <td>2</td>\n",
       "      <td>9296</td>\n",
       "      <td>5</td>\n",
       "      <td>The Drama of the Gifted Child: The Search for ...</td>\n",
       "      <td>Alice  Miller, Ruth Ward</td>\n",
       "      <td>to-read psychology non-fiction nonfiction self...</td>\n",
       "    </tr>\n",
       "    <tr>\n",
       "      <th>4</th>\n",
       "      <td>2</td>\n",
       "      <td>2318</td>\n",
       "      <td>3</td>\n",
       "      <td>The Millionaire Next Door: The Surprising Secr...</td>\n",
       "      <td>Thomas J. Stanley, William D. Danko</td>\n",
       "      <td>to-read currently-reading non-fiction finance ...</td>\n",
       "    </tr>\n",
       "  </tbody>\n",
       "</table>\n",
       "</div>"
      ],
      "text/plain": [
       "   user_id  book_id  rating  \\\n",
       "0        1      258       5   \n",
       "1        2     4081       4   \n",
       "2        2      260       5   \n",
       "3        2     9296       5   \n",
       "4        2     2318       3   \n",
       "\n",
       "                                               title  \\\n",
       "0  The Shadow of the Wind (The Cemetery of Forgot...   \n",
       "1                             I am Charlotte Simmons   \n",
       "2            How to Win Friends and Influence People   \n",
       "3  The Drama of the Gifted Child: The Search for ...   \n",
       "4  The Millionaire Next Door: The Surprising Secr...   \n",
       "\n",
       "                               authors  \\\n",
       "0      Carlos Ruiz Zafón, Lucia Graves   \n",
       "1                            Tom Wolfe   \n",
       "2                        Dale Carnegie   \n",
       "3             Alice  Miller, Ruth Ward   \n",
       "4  Thomas J. Stanley, William D. Danko   \n",
       "\n",
       "                                           book_tags  \n",
       "0  to-read currently-reading favorites fiction hi...  \n",
       "1  to-read fiction currently-reading favorites ow...  \n",
       "2  non-fiction to-read self-improvement nonfictio...  \n",
       "3  to-read psychology non-fiction nonfiction self...  \n",
       "4  to-read currently-reading non-fiction finance ...  "
      ]
     },
     "metadata": {},
     "output_type": "display_data"
    }
   ],
   "source": [
    "# Add book title and tag names to ratings\n",
    "print(f\"Shape before join: {ratings.shape}\")\n",
    "ratings = ratings.merge(books[[\"book_id\", \"title\", \"authors\", \"book_tags\"]], left_on=\"book_id\", right_on=\"book_id\", how=\"left\", suffixes=(\"\", \"_remove\"))\n",
    "ratings = ratings.drop([col for col in ratings.columns if \"remove\" in col], axis=1)\n",
    "\n",
    "print(f\"Shape after join: {ratings.shape}\")\n",
    "print(f\"Missing values :\\n{ratings.isna().sum()}\")\n",
    "display(ratings.head())"
   ]
  },
  {
   "cell_type": "code",
   "execution_count": 38,
   "id": "54e14642-63d2-4ca1-b8a8-ab5e2169356f",
   "metadata": {},
   "outputs": [
    {
     "name": "stdout",
     "output_type": "stream",
     "text": [
      "Shape before join: (912705, 2)\n",
      "Shape after join: (912705, 5)\n",
      "Missing values :\n",
      "user_id      0\n",
      "book_id      0\n",
      "title        0\n",
      "authors      0\n",
      "book_tags    0\n",
      "dtype: int64\n"
     ]
    },
    {
     "data": {
      "text/html": [
       "<div>\n",
       "<style scoped>\n",
       "    .dataframe tbody tr th:only-of-type {\n",
       "        vertical-align: middle;\n",
       "    }\n",
       "\n",
       "    .dataframe tbody tr th {\n",
       "        vertical-align: top;\n",
       "    }\n",
       "\n",
       "    .dataframe thead th {\n",
       "        text-align: right;\n",
       "    }\n",
       "</style>\n",
       "<table border=\"1\" class=\"dataframe\">\n",
       "  <thead>\n",
       "    <tr style=\"text-align: right;\">\n",
       "      <th></th>\n",
       "      <th>user_id</th>\n",
       "      <th>book_id</th>\n",
       "      <th>title</th>\n",
       "      <th>authors</th>\n",
       "      <th>book_tags</th>\n",
       "    </tr>\n",
       "  </thead>\n",
       "  <tbody>\n",
       "    <tr>\n",
       "      <th>0</th>\n",
       "      <td>9</td>\n",
       "      <td>8</td>\n",
       "      <td>The Catcher in the Rye</td>\n",
       "      <td>J.D. Salinger</td>\n",
       "      <td>classics favorites fiction to-read classic you...</td>\n",
       "    </tr>\n",
       "    <tr>\n",
       "      <th>1</th>\n",
       "      <td>15</td>\n",
       "      <td>398</td>\n",
       "      <td>Fast Food Nation: The Dark Side of the All-Ame...</td>\n",
       "      <td>Eric Schlosser</td>\n",
       "      <td>to-read non-fiction nonfiction currently-readi...</td>\n",
       "    </tr>\n",
       "    <tr>\n",
       "      <th>2</th>\n",
       "      <td>15</td>\n",
       "      <td>275</td>\n",
       "      <td>An Abundance of Katherines</td>\n",
       "      <td>John Green</td>\n",
       "      <td>currently-reading young-adult to-read favorite...</td>\n",
       "    </tr>\n",
       "    <tr>\n",
       "      <th>3</th>\n",
       "      <td>37</td>\n",
       "      <td>7173</td>\n",
       "      <td>Musashi</td>\n",
       "      <td>Eiji Yoshikawa, Charles Terry, Edwin O. Reisch...</td>\n",
       "      <td>to-read currently-reading fiction historical-f...</td>\n",
       "    </tr>\n",
       "    <tr>\n",
       "      <th>4</th>\n",
       "      <td>34</td>\n",
       "      <td>380</td>\n",
       "      <td>Norwegian Wood</td>\n",
       "      <td>Haruki Murakami, Jay Rubin</td>\n",
       "      <td>to-read currently-reading favorites fiction ja...</td>\n",
       "    </tr>\n",
       "  </tbody>\n",
       "</table>\n",
       "</div>"
      ],
      "text/plain": [
       "   user_id  book_id                                              title  \\\n",
       "0        9        8                             The Catcher in the Rye   \n",
       "1       15      398  Fast Food Nation: The Dark Side of the All-Ame...   \n",
       "2       15      275                         An Abundance of Katherines   \n",
       "3       37     7173                                            Musashi   \n",
       "4       34      380                                     Norwegian Wood   \n",
       "\n",
       "                                             authors  \\\n",
       "0                                      J.D. Salinger   \n",
       "1                                     Eric Schlosser   \n",
       "2                                         John Green   \n",
       "3  Eiji Yoshikawa, Charles Terry, Edwin O. Reisch...   \n",
       "4                         Haruki Murakami, Jay Rubin   \n",
       "\n",
       "                                           book_tags  \n",
       "0  classics favorites fiction to-read classic you...  \n",
       "1  to-read non-fiction nonfiction currently-readi...  \n",
       "2  currently-reading young-adult to-read favorite...  \n",
       "3  to-read currently-reading fiction historical-f...  \n",
       "4  to-read currently-reading favorites fiction ja...  "
      ]
     },
     "metadata": {},
     "output_type": "display_data"
    }
   ],
   "source": [
    "# Add book title and tag names to to_read\n",
    "print(f\"Shape before join: {to_read.shape}\")\n",
    "to_read = to_read.merge(books[[\"book_id\", \"title\", \"authors\", \"book_tags\"]], left_on=\"book_id\", right_on=\"book_id\", how=\"left\", suffixes=(\"\", \"_remove\"))\n",
    "to_read = to_read.drop([col for col in to_read.columns if \"remove\" in col], axis=1)\n",
    "print(f\"Shape after join: {to_read.shape}\")\n",
    "print(f\"Missing values :\\n{to_read.isna().sum()}\")\n",
    "display(to_read.head())"
   ]
  },
  {
   "cell_type": "markdown",
   "id": "52bddba0-1df7-4b4b-8867-9045ec8ef413",
   "metadata": {},
   "source": [
    "### Book profiles"
   ]
  },
  {
   "cell_type": "markdown",
   "id": "667075ad-77f0-4180-ac1d-eb2119d9032c",
   "metadata": {},
   "source": [
    "**Title-author-tags**\n",
    "\n",
    "The feature representations of each book are created using the title, author and tags."
   ]
  },
  {
   "cell_type": "code",
   "execution_count": 39,
   "id": "50199329-abd1-4b43-b964-c4d9c9a20f62",
   "metadata": {},
   "outputs": [
    {
     "name": "stdout",
     "output_type": "stream",
     "text": [
      "Shape: (10000, 4)\n",
      "Missing values :\n",
      "title           0\n",
      "authors         0\n",
      "book_tags       0\n",
      "book_profile    0\n",
      "dtype: int64\n"
     ]
    },
    {
     "data": {
      "text/html": [
       "<div>\n",
       "<style scoped>\n",
       "    .dataframe tbody tr th:only-of-type {\n",
       "        vertical-align: middle;\n",
       "    }\n",
       "\n",
       "    .dataframe tbody tr th {\n",
       "        vertical-align: top;\n",
       "    }\n",
       "\n",
       "    .dataframe thead th {\n",
       "        text-align: right;\n",
       "    }\n",
       "</style>\n",
       "<table border=\"1\" class=\"dataframe\">\n",
       "  <thead>\n",
       "    <tr style=\"text-align: right;\">\n",
       "      <th></th>\n",
       "      <th>title</th>\n",
       "      <th>authors</th>\n",
       "      <th>book_tags</th>\n",
       "      <th>book_profile</th>\n",
       "    </tr>\n",
       "    <tr>\n",
       "      <th>book_id</th>\n",
       "      <th></th>\n",
       "      <th></th>\n",
       "      <th></th>\n",
       "      <th></th>\n",
       "    </tr>\n",
       "  </thead>\n",
       "  <tbody>\n",
       "    <tr>\n",
       "      <th>1</th>\n",
       "      <td>The Hunger Games (The Hunger Games, #1)</td>\n",
       "      <td>Suzanne Collins</td>\n",
       "      <td>favorites currently-reading young-adult fictio...</td>\n",
       "      <td>the hunger games (the hunger games, #1) suzann...</td>\n",
       "    </tr>\n",
       "    <tr>\n",
       "      <th>2</th>\n",
       "      <td>Harry Potter and the Sorcerer's Stone (Harry P...</td>\n",
       "      <td>J.K. Rowling, Mary GrandPré</td>\n",
       "      <td>to-read favorites fantasy currently-reading yo...</td>\n",
       "      <td>harry potter and the sorcerer's stone (harry p...</td>\n",
       "    </tr>\n",
       "    <tr>\n",
       "      <th>3</th>\n",
       "      <td>Twilight (Twilight, #1)</td>\n",
       "      <td>Stephenie Meyer</td>\n",
       "      <td>young-adult fantasy favorites vampires ya fict...</td>\n",
       "      <td>twilight (twilight, #1) stephenie meyer young-...</td>\n",
       "    </tr>\n",
       "    <tr>\n",
       "      <th>4</th>\n",
       "      <td>To Kill a Mockingbird</td>\n",
       "      <td>Harper Lee</td>\n",
       "      <td>classics favorites to-read classic historical-...</td>\n",
       "      <td>to kill a mockingbird harper lee classics favo...</td>\n",
       "    </tr>\n",
       "    <tr>\n",
       "      <th>5</th>\n",
       "      <td>The Great Gatsby</td>\n",
       "      <td>F. Scott Fitzgerald</td>\n",
       "      <td>classics favorites fiction classic books-i-own...</td>\n",
       "      <td>the great gatsby f. scott fitzgerald classics ...</td>\n",
       "    </tr>\n",
       "  </tbody>\n",
       "</table>\n",
       "</div>"
      ],
      "text/plain": [
       "                                                     title  \\\n",
       "book_id                                                      \n",
       "1                  The Hunger Games (The Hunger Games, #1)   \n",
       "2        Harry Potter and the Sorcerer's Stone (Harry P...   \n",
       "3                                  Twilight (Twilight, #1)   \n",
       "4                                    To Kill a Mockingbird   \n",
       "5                                         The Great Gatsby   \n",
       "\n",
       "                             authors  \\\n",
       "book_id                                \n",
       "1                    Suzanne Collins   \n",
       "2        J.K. Rowling, Mary GrandPré   \n",
       "3                    Stephenie Meyer   \n",
       "4                         Harper Lee   \n",
       "5                F. Scott Fitzgerald   \n",
       "\n",
       "                                                 book_tags  \\\n",
       "book_id                                                      \n",
       "1        favorites currently-reading young-adult fictio...   \n",
       "2        to-read favorites fantasy currently-reading yo...   \n",
       "3        young-adult fantasy favorites vampires ya fict...   \n",
       "4        classics favorites to-read classic historical-...   \n",
       "5        classics favorites fiction classic books-i-own...   \n",
       "\n",
       "                                              book_profile  \n",
       "book_id                                                     \n",
       "1        the hunger games (the hunger games, #1) suzann...  \n",
       "2        harry potter and the sorcerer's stone (harry p...  \n",
       "3        twilight (twilight, #1) stephenie meyer young-...  \n",
       "4        to kill a mockingbird harper lee classics favo...  \n",
       "5        the great gatsby f. scott fitzgerald classics ...  "
      ]
     },
     "metadata": {},
     "output_type": "display_data"
    }
   ],
   "source": [
    "# Create book id-tag lookup\n",
    "book_profile = books.groupby(\"book_id\")[[\"title\", \"authors\", \"book_tags\"]].first()\n",
    "book_profile[\"book_profile\"] = book_profile[\"title\"] + \" \" + book_profile[\"authors\"] + \" \" + book_profile[\"book_tags\"].fillna(\" \")\n",
    "book_profile[\"book_profile\"] = book_profile[\"book_profile\"].str.lower()\n",
    "print(f\"Shape: {book_profile.shape}\")\n",
    "print(f\"Missing values :\\n{book_profile.isna().sum()}\")\n",
    "display(book_profile.head())"
   ]
  },
  {
   "cell_type": "code",
   "execution_count": 40,
   "id": "c8cc4d3a-4c0d-4cd5-9387-3ba03453ce97",
   "metadata": {},
   "outputs": [
    {
     "name": "stdout",
     "output_type": "stream",
     "text": [
      "Shape before join: (10000, 24)\n",
      "Shape after join: (10000, 25)\n",
      "Missing values :\n",
      "book_id                         0\n",
      "goodreads_book_id               0\n",
      "best_book_id                    0\n",
      "work_id                         0\n",
      "books_count                     0\n",
      "isbn                          700\n",
      "isbn13                        585\n",
      "authors                         0\n",
      "original_publication_year      21\n",
      "original_title                585\n",
      "title                           0\n",
      "language_code                1084\n",
      "average_rating                  0\n",
      "ratings_count                   0\n",
      "work_ratings_count              0\n",
      "work_text_reviews_count         0\n",
      "ratings_1                       0\n",
      "ratings_2                       0\n",
      "ratings_3                       0\n",
      "ratings_4                       0\n",
      "ratings_5                       0\n",
      "image_url                       0\n",
      "small_image_url                 0\n",
      "book_tags                       0\n",
      "book_profile                    0\n",
      "dtype: int64\n"
     ]
    },
    {
     "data": {
      "text/html": [
       "<div>\n",
       "<style scoped>\n",
       "    .dataframe tbody tr th:only-of-type {\n",
       "        vertical-align: middle;\n",
       "    }\n",
       "\n",
       "    .dataframe tbody tr th {\n",
       "        vertical-align: top;\n",
       "    }\n",
       "\n",
       "    .dataframe thead th {\n",
       "        text-align: right;\n",
       "    }\n",
       "</style>\n",
       "<table border=\"1\" class=\"dataframe\">\n",
       "  <thead>\n",
       "    <tr style=\"text-align: right;\">\n",
       "      <th></th>\n",
       "      <th>book_id</th>\n",
       "      <th>goodreads_book_id</th>\n",
       "      <th>best_book_id</th>\n",
       "      <th>work_id</th>\n",
       "      <th>books_count</th>\n",
       "      <th>isbn</th>\n",
       "      <th>isbn13</th>\n",
       "      <th>authors</th>\n",
       "      <th>original_publication_year</th>\n",
       "      <th>original_title</th>\n",
       "      <th>...</th>\n",
       "      <th>work_text_reviews_count</th>\n",
       "      <th>ratings_1</th>\n",
       "      <th>ratings_2</th>\n",
       "      <th>ratings_3</th>\n",
       "      <th>ratings_4</th>\n",
       "      <th>ratings_5</th>\n",
       "      <th>image_url</th>\n",
       "      <th>small_image_url</th>\n",
       "      <th>book_tags</th>\n",
       "      <th>book_profile</th>\n",
       "    </tr>\n",
       "  </thead>\n",
       "  <tbody>\n",
       "    <tr>\n",
       "      <th>0</th>\n",
       "      <td>1</td>\n",
       "      <td>2767052</td>\n",
       "      <td>2767052</td>\n",
       "      <td>2792775</td>\n",
       "      <td>272</td>\n",
       "      <td>439023483</td>\n",
       "      <td>9.780439e+12</td>\n",
       "      <td>Suzanne Collins</td>\n",
       "      <td>2008.0</td>\n",
       "      <td>The Hunger Games</td>\n",
       "      <td>...</td>\n",
       "      <td>155254</td>\n",
       "      <td>66715</td>\n",
       "      <td>127936</td>\n",
       "      <td>560092</td>\n",
       "      <td>1481305</td>\n",
       "      <td>2706317</td>\n",
       "      <td>https://images.gr-assets.com/books/1447303603m...</td>\n",
       "      <td>https://images.gr-assets.com/books/1447303603s...</td>\n",
       "      <td>favorites currently-reading young-adult fictio...</td>\n",
       "      <td>the hunger games (the hunger games, #1) suzann...</td>\n",
       "    </tr>\n",
       "    <tr>\n",
       "      <th>1</th>\n",
       "      <td>2</td>\n",
       "      <td>3</td>\n",
       "      <td>3</td>\n",
       "      <td>4640799</td>\n",
       "      <td>491</td>\n",
       "      <td>439554934</td>\n",
       "      <td>9.780440e+12</td>\n",
       "      <td>J.K. Rowling, Mary GrandPré</td>\n",
       "      <td>1997.0</td>\n",
       "      <td>Harry Potter and the Philosopher's Stone</td>\n",
       "      <td>...</td>\n",
       "      <td>75867</td>\n",
       "      <td>75504</td>\n",
       "      <td>101676</td>\n",
       "      <td>455024</td>\n",
       "      <td>1156318</td>\n",
       "      <td>3011543</td>\n",
       "      <td>https://images.gr-assets.com/books/1474154022m...</td>\n",
       "      <td>https://images.gr-assets.com/books/1474154022s...</td>\n",
       "      <td>to-read favorites fantasy currently-reading yo...</td>\n",
       "      <td>harry potter and the sorcerer's stone (harry p...</td>\n",
       "    </tr>\n",
       "  </tbody>\n",
       "</table>\n",
       "<p>2 rows × 25 columns</p>\n",
       "</div>"
      ],
      "text/plain": [
       "   book_id  goodreads_book_id  best_book_id  work_id  books_count       isbn  \\\n",
       "0        1            2767052       2767052  2792775          272  439023483   \n",
       "1        2                  3             3  4640799          491  439554934   \n",
       "\n",
       "         isbn13                      authors  original_publication_year  \\\n",
       "0  9.780439e+12              Suzanne Collins                     2008.0   \n",
       "1  9.780440e+12  J.K. Rowling, Mary GrandPré                     1997.0   \n",
       "\n",
       "                             original_title  ... work_text_reviews_count  \\\n",
       "0                          The Hunger Games  ...                  155254   \n",
       "1  Harry Potter and the Philosopher's Stone  ...                   75867   \n",
       "\n",
       "  ratings_1  ratings_2  ratings_3  ratings_4  ratings_5  \\\n",
       "0     66715     127936     560092    1481305    2706317   \n",
       "1     75504     101676     455024    1156318    3011543   \n",
       "\n",
       "                                           image_url  \\\n",
       "0  https://images.gr-assets.com/books/1447303603m...   \n",
       "1  https://images.gr-assets.com/books/1474154022m...   \n",
       "\n",
       "                                     small_image_url  \\\n",
       "0  https://images.gr-assets.com/books/1447303603s...   \n",
       "1  https://images.gr-assets.com/books/1474154022s...   \n",
       "\n",
       "                                           book_tags  \\\n",
       "0  favorites currently-reading young-adult fictio...   \n",
       "1  to-read favorites fantasy currently-reading yo...   \n",
       "\n",
       "                                        book_profile  \n",
       "0  the hunger games (the hunger games, #1) suzann...  \n",
       "1  harry potter and the sorcerer's stone (harry p...  \n",
       "\n",
       "[2 rows x 25 columns]"
      ]
     },
     "metadata": {},
     "output_type": "display_data"
    }
   ],
   "source": [
    "# Add book profile to books df\n",
    "print(f\"Shape before join: {books.shape}\")\n",
    "books = books.merge(book_profile, left_on=\"book_id\", right_on=\"book_id\", how=\"left\", suffixes=(\"\", \"_remove\"))\n",
    "books = books.drop([col for col in books.columns if \"remove\" in col], axis=1)\n",
    "print(f\"Shape after join: {books.shape}\")\n",
    "print(f\"Missing values :\\n{books.isna().sum()}\")\n",
    "display(books.head(2))"
   ]
  },
  {
   "cell_type": "markdown",
   "id": "727484fb-c776-43bd-ad38-f41fe4d73cde",
   "metadata": {},
   "source": [
    "**Popularity ranking**\n",
    "\n",
    "An overall popularity rank is calculated for each book using the ratings dataset and the following steps:\n",
    "\n",
    "1. Sort & rank books by the number of ratings\n",
    "\n",
    "2. Sort & rank books by average rating\n",
    "\n",
    "3. Combine rankings with a weight of 0.5 for each (these weights are hyperparameters, adjust as needed)"
   ]
  },
  {
   "cell_type": "code",
   "execution_count": 41,
   "id": "3fa31e0e-5278-415a-9a14-10240cabd9a6",
   "metadata": {
    "tags": []
   },
   "outputs": [
    {
     "data": {
      "text/html": [
       "<div>\n",
       "<style scoped>\n",
       "    .dataframe tbody tr th:only-of-type {\n",
       "        vertical-align: middle;\n",
       "    }\n",
       "\n",
       "    .dataframe tbody tr th {\n",
       "        vertical-align: top;\n",
       "    }\n",
       "\n",
       "    .dataframe thead th {\n",
       "        text-align: right;\n",
       "    }\n",
       "</style>\n",
       "<table border=\"1\" class=\"dataframe\">\n",
       "  <thead>\n",
       "    <tr style=\"text-align: right;\">\n",
       "      <th></th>\n",
       "      <th>book_id</th>\n",
       "      <th>goodreads_book_id</th>\n",
       "      <th>best_book_id</th>\n",
       "      <th>work_id</th>\n",
       "      <th>books_count</th>\n",
       "      <th>isbn</th>\n",
       "      <th>isbn13</th>\n",
       "      <th>authors</th>\n",
       "      <th>original_publication_year</th>\n",
       "      <th>original_title</th>\n",
       "      <th>...</th>\n",
       "      <th>ratings_3</th>\n",
       "      <th>ratings_4</th>\n",
       "      <th>ratings_5</th>\n",
       "      <th>image_url</th>\n",
       "      <th>small_image_url</th>\n",
       "      <th>book_tags</th>\n",
       "      <th>book_profile</th>\n",
       "      <th>popularity_rank</th>\n",
       "      <th>quality_rank</th>\n",
       "      <th>combined_rank</th>\n",
       "    </tr>\n",
       "  </thead>\n",
       "  <tbody>\n",
       "    <tr>\n",
       "      <th>3627</th>\n",
       "      <td>3628</td>\n",
       "      <td>24812</td>\n",
       "      <td>24812</td>\n",
       "      <td>25599</td>\n",
       "      <td>14</td>\n",
       "      <td>740748475</td>\n",
       "      <td>9.780741e+12</td>\n",
       "      <td>Bill Watterson</td>\n",
       "      <td>2005.0</td>\n",
       "      <td>The Complete Calvin and Hobbes</td>\n",
       "      <td>...</td>\n",
       "      <td>693</td>\n",
       "      <td>3117</td>\n",
       "      <td>25884</td>\n",
       "      <td>https://images.gr-assets.com/books/1473064526m...</td>\n",
       "      <td>https://images.gr-assets.com/books/1473064526s...</td>\n",
       "      <td>to-read favorites comics currently-reading hum...</td>\n",
       "      <td>the complete calvin and hobbes bill watterson ...</td>\n",
       "      <td>3906</td>\n",
       "      <td>1</td>\n",
       "      <td>2929.75</td>\n",
       "    </tr>\n",
       "    <tr>\n",
       "      <th>3274</th>\n",
       "      <td>3275</td>\n",
       "      <td>8</td>\n",
       "      <td>8</td>\n",
       "      <td>21457576</td>\n",
       "      <td>11</td>\n",
       "      <td>439682584</td>\n",
       "      <td>9.780440e+12</td>\n",
       "      <td>J.K. Rowling, Mary GrandPré</td>\n",
       "      <td>2003.0</td>\n",
       "      <td>NaN</td>\n",
       "      <td>...</td>\n",
       "      <td>978</td>\n",
       "      <td>3686</td>\n",
       "      <td>28210</td>\n",
       "      <td>https://s.gr-assets.com/assets/nophoto/book/11...</td>\n",
       "      <td>https://s.gr-assets.com/assets/nophoto/book/50...</td>\n",
       "      <td>to-read favorites fantasy currently-reading ha...</td>\n",
       "      <td>harry potter boxed set, books 1-5 (harry potte...</td>\n",
       "      <td>3505</td>\n",
       "      <td>2</td>\n",
       "      <td>2629.25</td>\n",
       "    </tr>\n",
       "  </tbody>\n",
       "</table>\n",
       "<p>2 rows × 28 columns</p>\n",
       "</div>"
      ],
      "text/plain": [
       "      book_id  goodreads_book_id  best_book_id   work_id  books_count  \\\n",
       "3627     3628              24812         24812     25599           14   \n",
       "3274     3275                  8             8  21457576           11   \n",
       "\n",
       "           isbn        isbn13                      authors  \\\n",
       "3627  740748475  9.780741e+12               Bill Watterson   \n",
       "3274  439682584  9.780440e+12  J.K. Rowling, Mary GrandPré   \n",
       "\n",
       "      original_publication_year                  original_title  ...  \\\n",
       "3627                     2005.0  The Complete Calvin and Hobbes  ...   \n",
       "3274                     2003.0                             NaN  ...   \n",
       "\n",
       "     ratings_3 ratings_4  ratings_5  \\\n",
       "3627       693      3117      25884   \n",
       "3274       978      3686      28210   \n",
       "\n",
       "                                              image_url  \\\n",
       "3627  https://images.gr-assets.com/books/1473064526m...   \n",
       "3274  https://s.gr-assets.com/assets/nophoto/book/11...   \n",
       "\n",
       "                                        small_image_url  \\\n",
       "3627  https://images.gr-assets.com/books/1473064526s...   \n",
       "3274  https://s.gr-assets.com/assets/nophoto/book/50...   \n",
       "\n",
       "                                              book_tags  \\\n",
       "3627  to-read favorites comics currently-reading hum...   \n",
       "3274  to-read favorites fantasy currently-reading ha...   \n",
       "\n",
       "                                           book_profile  popularity_rank  \\\n",
       "3627  the complete calvin and hobbes bill watterson ...             3906   \n",
       "3274  harry potter boxed set, books 1-5 (harry potte...             3505   \n",
       "\n",
       "      quality_rank  combined_rank  \n",
       "3627             1        2929.75  \n",
       "3274             2        2629.25  \n",
       "\n",
       "[2 rows x 28 columns]"
      ]
     },
     "execution_count": 41,
     "metadata": {},
     "output_type": "execute_result"
    }
   ],
   "source": [
    "# Sort & rank books by the number of ratings\n",
    "books = books.sort_values(by='work_ratings_count', ascending=False)\n",
    "books['popularity_rank'] = range(1, len(books) + 1)\n",
    "\n",
    "# Sort & rank books by average rating\n",
    "books = books.sort_values(by='average_rating', ascending=False)\n",
    "books['quality_rank'] = range(1, len(books) + 1)\n",
    "\n",
    "# Combine rankings (adjust weights as needed)\n",
    "books[\"combined_rank\"] = 0.75*books[\"popularity_rank\"] + 0.25*books[\"quality_rank\"]\n",
    "books.head(2)"
   ]
  },
  {
   "cell_type": "markdown",
   "id": "bc24f001-c845-442b-b0f2-f07eeb50c539",
   "metadata": {},
   "source": [
    "### Training/test split\n",
    "* The ratings dataset will be split into a training/test set.\n",
    "\n",
    "* Recommendations will be made for each user in the test data using user profiles constructed from the training data.\n",
    "\n",
    "* The actual books rated by each user in the test data will be considered the ground truth during evaluation."
   ]
  },
  {
   "cell_type": "code",
   "execution_count": 42,
   "id": "eaca8247-f047-4556-95e5-d0395702d466",
   "metadata": {},
   "outputs": [
    {
     "name": "stdout",
     "output_type": "stream",
     "text": [
      "Training set shape: (4482359, 6)\n",
      "Test set shape: (1494120, 6)\n"
     ]
    },
    {
     "data": {
      "text/html": [
       "<div>\n",
       "<style scoped>\n",
       "    .dataframe tbody tr th:only-of-type {\n",
       "        vertical-align: middle;\n",
       "    }\n",
       "\n",
       "    .dataframe tbody tr th {\n",
       "        vertical-align: top;\n",
       "    }\n",
       "\n",
       "    .dataframe thead th {\n",
       "        text-align: right;\n",
       "    }\n",
       "</style>\n",
       "<table border=\"1\" class=\"dataframe\">\n",
       "  <thead>\n",
       "    <tr style=\"text-align: right;\">\n",
       "      <th></th>\n",
       "      <th>user_id</th>\n",
       "      <th>book_id</th>\n",
       "      <th>rating</th>\n",
       "      <th>title</th>\n",
       "      <th>authors</th>\n",
       "      <th>book_tags</th>\n",
       "    </tr>\n",
       "  </thead>\n",
       "  <tbody>\n",
       "    <tr>\n",
       "      <th>0</th>\n",
       "      <td>19082</td>\n",
       "      <td>3851</td>\n",
       "      <td>5</td>\n",
       "      <td>The Lion's Game (John Corey, #2)</td>\n",
       "      <td>Nelson DeMille</td>\n",
       "      <td>to-read fiction thriller mystery nelson-demill...</td>\n",
       "    </tr>\n",
       "    <tr>\n",
       "      <th>1</th>\n",
       "      <td>7714</td>\n",
       "      <td>7228</td>\n",
       "      <td>3</td>\n",
       "      <td>In the Shadow of the Banyan</td>\n",
       "      <td>Vaddey Ratner</td>\n",
       "      <td>to-read currently-reading fiction book-club as...</td>\n",
       "    </tr>\n",
       "    <tr>\n",
       "      <th>2</th>\n",
       "      <td>24341</td>\n",
       "      <td>3710</td>\n",
       "      <td>5</td>\n",
       "      <td>A Kingdom of Dreams (Westmoreland, #1)</td>\n",
       "      <td>Judith McNaught</td>\n",
       "      <td>to-read historical-romance romance favorites h...</td>\n",
       "    </tr>\n",
       "    <tr>\n",
       "      <th>3</th>\n",
       "      <td>53116</td>\n",
       "      <td>3459</td>\n",
       "      <td>3</td>\n",
       "      <td>Les Liaisons dangereuses</td>\n",
       "      <td>Pierre-Ambroise Choderlos de Laclos, Douglas P...</td>\n",
       "      <td>to-read classics currently-reading fiction fav...</td>\n",
       "    </tr>\n",
       "    <tr>\n",
       "      <th>4</th>\n",
       "      <td>52796</td>\n",
       "      <td>1053</td>\n",
       "      <td>5</td>\n",
       "      <td>Song of Susannah (The Dark Tower, #6)</td>\n",
       "      <td>Stephen King, Darrel Anderson</td>\n",
       "      <td>to-read fantasy stephen-king currently-reading...</td>\n",
       "    </tr>\n",
       "  </tbody>\n",
       "</table>\n",
       "</div>"
      ],
      "text/plain": [
       "   user_id  book_id  rating                                   title  \\\n",
       "0    19082     3851       5        The Lion's Game (John Corey, #2)   \n",
       "1     7714     7228       3             In the Shadow of the Banyan   \n",
       "2    24341     3710       5  A Kingdom of Dreams (Westmoreland, #1)   \n",
       "3    53116     3459       3                Les Liaisons dangereuses   \n",
       "4    52796     1053       5   Song of Susannah (The Dark Tower, #6)   \n",
       "\n",
       "                                             authors  \\\n",
       "0                                     Nelson DeMille   \n",
       "1                                      Vaddey Ratner   \n",
       "2                                    Judith McNaught   \n",
       "3  Pierre-Ambroise Choderlos de Laclos, Douglas P...   \n",
       "4                      Stephen King, Darrel Anderson   \n",
       "\n",
       "                                           book_tags  \n",
       "0  to-read fiction thriller mystery nelson-demill...  \n",
       "1  to-read currently-reading fiction book-club as...  \n",
       "2  to-read historical-romance romance favorites h...  \n",
       "3  to-read classics currently-reading fiction fav...  \n",
       "4  to-read fantasy stephen-king currently-reading...  "
      ]
     },
     "metadata": {},
     "output_type": "display_data"
    }
   ],
   "source": [
    "from sklearn.model_selection import train_test_split\n",
    "train_ratings, test_ratings = train_test_split(ratings, test_size=0.25, random_state=0)\n",
    "train_ratings = train_ratings.reset_index(drop=True)\n",
    "test_ratings = test_ratings.reset_index(drop=True)\n",
    "\n",
    "print(f\"Training set shape: {train_ratings.shape}\")\n",
    "# display(train_ratings.head())\n",
    "print(f\"Test set shape: {test_ratings.shape}\")\n",
    "display(test_ratings.head())"
   ]
  },
  {
   "cell_type": "markdown",
   "id": "1a7be6b8-1d2a-4583-9914-0c38db02119f",
   "metadata": {},
   "source": [
    "## Baseline models"
   ]
  },
  {
   "cell_type": "markdown",
   "id": "aee37768-b51c-4238-a945-708c9795956f",
   "metadata": {},
   "source": [
    "### Random model\n",
    "\n",
    "Basic principle:\n",
    "\n",
    "* A user is randomly recommended n books they haven't read."
   ]
  },
  {
   "cell_type": "markdown",
   "id": "7ce7e295-504e-4d56-93b4-7f2a6eefc0ab",
   "metadata": {},
   "source": [
    "#### Algorithm\n",
    "Key steps: \n",
    "\n",
    "1. Exclude books already rated or marked to read by the user from recommendations\n",
    "\n",
    "2. Randomly select the top n books for the final sample."
   ]
  },
  {
   "cell_type": "code",
   "execution_count": 43,
   "id": "0600f2d3-9075-4cd1-a83e-77a4e7db2885",
   "metadata": {
    "tags": []
   },
   "outputs": [],
   "source": [
    "# print(inspect.getsource(cf.random_rec))\n",
    "\n",
    "def get_random_recs(user_id, all_user_ratings, n_sample, all_books, all_user_toread):\n",
    "    \"\"\"\n",
    "    Function to get random book recommendations for a given user profile\n",
    "\n",
    "    Parameters:\n",
    "    - user_id: User id\n",
    "    - all_user_ratings: Ratings history for all users\n",
    "    - n_sample: Number of recommendations to generate\n",
    "    - all_books: Table containing book metadata\n",
    "    - all_user_toread: To read list for all users\n",
    "\n",
    "    Returns:\n",
    "    - List of book ids recommended for user\n",
    "    \"\"\"\n",
    "    \n",
    "    # User history\n",
    "    rating_history = all_user_ratings.loc[all_user_ratings[\"user_id\"] == user_id, \"book_id\"].tolist()\n",
    "    toread_history = all_user_toread.loc[all_user_toread[\"user_id\"] == user_id, \"book_id\"].tolist()\n",
    "    user_history = set(rating_history).union(set(toread_history))\n",
    "    \n",
    "    # Exclude books already rated by the user and in the to read list from recommendations\n",
    "    user_shortlist = all_books.iloc[np.isin(all_books[\"book_id\"], user_history) == False]\n",
    "\n",
    "    # Randomly sample top k books\n",
    "    user_recs = user_shortlist.sample(n=n_sample, random_state=0)\n",
    "\n",
    "    return user_recs[\"book_id\"].tolist()"
   ]
  },
  {
   "cell_type": "code",
   "execution_count": 44,
   "id": "ff128440-d6c9-46a4-8444-7f8881802b57",
   "metadata": {},
   "outputs": [
    {
     "data": {
      "text/plain": [
       "[\"God's Smuggler\",\n",
       " 'The Better Angels of Our Nature: Why Violence Has Declined',\n",
       " 'The Finding (Law of the Lycans, #5)',\n",
       " 'Four to Score (Stephanie Plum, #4)',\n",
       " 'Carpe Jugulum (Discworld #23; Witches #6)',\n",
       " 'Crooked House',\n",
       " 'Still Missing',\n",
       " 'Finnikin of the Rock (Lumatere Chronicles, #1)',\n",
       " 'Idoru (Bridge #2)',\n",
       " \"The Cat's Table\"]"
      ]
     },
     "execution_count": 44,
     "metadata": {},
     "output_type": "execute_result"
    }
   ],
   "source": [
    "# Example\n",
    "USER_ID = 10\n",
    "N_RECOMMENDATIONS = 10\n",
    "books.loc[books[\"book_id\"].isin(get_random_recs(\n",
    "    USER_ID, train_ratings, N_RECOMMENDATIONS, books, to_read)), \"title\"].tolist()"
   ]
  },
  {
   "cell_type": "markdown",
   "id": "73e6982d-0b7d-4ad0-8012-34825ef8e14e",
   "metadata": {},
   "source": [
    "#### Evaluation\n",
    "\n",
    "Key steps:\n",
    "\n",
    "1. Split the training set into k folds. Use k-1 folds as the training set. Use the remaining data as a validation set.\n",
    "\n",
    "2. Apply recommendation system to each user in the validation set. Output a dictionary containing predicted items for each user.\n",
    "\n",
    "3. Create ground truth for each user in the validation set. Output a dictionary containing actual relevant items for each user.\n",
    "\n",
    "4. Evaluate performance on a per user basis. Output a dictionary containing the relevant metric score for each user.\n",
    "\n",
    "5. Calculate average performance across users.\n",
    "\n",
    "6. Repeat steps 2 - 5 k times."
   ]
  },
  {
   "cell_type": "code",
   "execution_count": 46,
   "id": "4be20827-d867-4e11-872a-59a32774ae1e",
   "metadata": {},
   "outputs": [
    {
     "name": "stdout",
     "output_type": "stream",
     "text": [
      "precision@k: 0.001859478347685008\n",
      "recall@k: 0.0006839344147552525\n",
      "mean average precision@k: 0.0012000860704529733\n"
     ]
    }
   ],
   "source": [
    "K_FOLDS = 3  # Number of splits for kfold cross validation\n",
    "N_RECOMMENDATIONS = 10  # Number of recommendations\n",
    "avg_precision_at_k, avg_recall_at_k, avg_map_at_k = cf.calculate_cv_scores(\n",
    "    train_ratings, K_FOLDS, N_RECOMMENDATIONS, books, to_read, get_random_recs)\n",
    "\n",
    "print(f\"precision@k: {avg_precision_at_k}\")\n",
    "print(f\"recall@k: {avg_recall_at_k}\")\n",
    "print(f\"mean average precision@k: {avg_map_at_k}\")"
   ]
  },
  {
   "cell_type": "markdown",
   "id": "3e850985-ed28-4222-88b8-50538a73fc14",
   "metadata": {},
   "source": [
    "### Popularity based model\n",
    "\n",
    "Basic principle:\n",
    "\n",
    "* A user is recommended the n most popular books they haven't seen."
   ]
  },
  {
   "cell_type": "markdown",
   "id": "0d3554c3-2c0b-42d0-a2d1-bb49807d293b",
   "metadata": {},
   "source": [
    "#### Algorithm\n",
    "\n",
    "Key steps: \n",
    "\n",
    "1. Exclude books already rated or marked to read by the user from recommendations\n",
    "\n",
    "2. Sort the books in descending order by the number of ratings\n",
    "\n",
    "3. Sort the books in descending order by quality (i.e. average rating)\n",
    "\n",
    "4. Combine the rankings using a weighted average.\n",
    "\n",
    "5. Select the top n books for the final sample"
   ]
  },
  {
   "cell_type": "code",
   "execution_count": 47,
   "id": "88ae4e93-4e63-4eb1-be4e-a87adf27d7f8",
   "metadata": {
    "tags": []
   },
   "outputs": [],
   "source": [
    "# print(inspect.getsource(cf.popularity_rec))\n",
    "\n",
    "def get_popularity_recs(user_id, all_user_ratings, n_sample, all_books, all_user_toread):\n",
    "    \"\"\"\n",
    "    Function to get most popular book recommendations for a given user profile\n",
    "\n",
    "    Parameters:\n",
    "    - user_id: User id\n",
    "    - all_user_data: Ratings history for all users\n",
    "    - n_sample: Number of recommendations to generate\n",
    "    - all_books: Table containing book metadata\n",
    "    - all_user_toread: To read list for all users\n",
    "\n",
    "    Returns:\n",
    "    - List of book ids recommended for user\n",
    "    \"\"\"\n",
    "\n",
    "    # User history\n",
    "    rating_history = all_user_ratings.loc[all_user_ratings[\"user_id\"] == user_id, \"book_id\"].tolist()\n",
    "    toread_history = all_user_toread.loc[all_user_toread[\"user_id\"] == user_id, \"book_id\"].tolist()\n",
    "    user_history = set(rating_history).union(set(toread_history))\n",
    "    \n",
    "    # Exclude books already rated by the user and in the to read list from recommendations\n",
    "    user_shortlist = all_books.iloc[np.isin(all_books[\"book_id\"], user_history) == False]\n",
    "\n",
    "    # Return top k books\n",
    "    user_shortlist = user_shortlist.sort_values(by='combined_rank', ascending=True)\n",
    "    user_recs = user_shortlist[0:n_sample]\n",
    "\n",
    "    return user_recs[\"book_id\"].tolist()"
   ]
  },
  {
   "cell_type": "code",
   "execution_count": 48,
   "id": "aa08e501-c455-4cde-aab4-8ba3ea0e1845",
   "metadata": {},
   "outputs": [
    {
     "data": {
      "text/plain": [
       "['Harry Potter and the Deathly Hallows (Harry Potter, #7)',\n",
       " 'A Storm of Swords (A Song of Ice and Fire, #3)',\n",
       " 'Harry Potter and the Half-Blood Prince (Harry Potter, #6)',\n",
       " 'Harry Potter and the Goblet of Fire (Harry Potter, #4)',\n",
       " 'Harry Potter and the Prisoner of Azkaban (Harry Potter, #3)',\n",
       " 'The Return of the King (The Lord of the Rings, #3)',\n",
       " 'Harry Potter and the Order of the Phoenix (Harry Potter, #5)',\n",
       " 'The Help',\n",
       " 'A Game of Thrones (A Song of Ice and Fire, #1)',\n",
       " \"Harry Potter and the Sorcerer's Stone (Harry Potter, #1)\"]"
      ]
     },
     "execution_count": 48,
     "metadata": {},
     "output_type": "execute_result"
    }
   ],
   "source": [
    "# Example\n",
    "USER_ID = 10\n",
    "N_RECOMMENDATIONS = 10\n",
    "books.loc[books[\"book_id\"].isin(get_popularity_recs(\n",
    "    USER_ID, train_ratings, N_RECOMMENDATIONS, books, to_read)), \"title\"].tolist()"
   ]
  },
  {
   "cell_type": "markdown",
   "id": "8943429b-0e0d-46a5-b4ad-5f5971e2c908",
   "metadata": {},
   "source": [
    "#### Evaluation\n",
    "Key steps:\n",
    "\n",
    "1. Split the training set into k folds. Use k-1 folds as the training set. Use the remaining data as a validation set.\n",
    "\n",
    "2. Apply recommendation system to each user in the validation set. Output a dictionary containing predicted items for each user.\n",
    "\n",
    "3. Create ground truth for each user in the validation set. Output a dictionary containing actual relevant items for each user.\n",
    "\n",
    "4. Evaluate performance on a per user basis. Output a dictionary containing the relevant metric score for each user.\n",
    "\n",
    "5. Calculate average performance across users.\n",
    "\n",
    "6. Repeat steps 2 - 5 k times."
   ]
  },
  {
   "cell_type": "code",
   "execution_count": 49,
   "id": "cdebe76b-0abf-4bd2-bd72-8e7c8caa1df5",
   "metadata": {
    "tags": []
   },
   "outputs": [
    {
     "name": "stdout",
     "output_type": "stream",
     "text": [
      "precision@k: 0.06159990016223648\n",
      "recall@k: 0.02226642464479392\n",
      "mean average precision@k: 0.06924966918836223\n"
     ]
    }
   ],
   "source": [
    "K_FOLDS = 3  # Number of splits for kfold cross validation\n",
    "N_RECOMMENDATIONS = 10  # Number of recommendations\n",
    "avg_precision_at_k, avg_recall_at_k, avg_map_at_k = cf.calculate_cv_scores(\n",
    "    train_ratings, K_FOLDS, N_RECOMMENDATIONS, books, to_read, get_popularity_recs)\n",
    "\n",
    "print(f\"precision@k: {avg_precision_at_k}\")\n",
    "print(f\"recall@k: {avg_recall_at_k}\")\n",
    "print(f\"mean average precision@k: {avg_map_at_k}\")"
   ]
  },
  {
   "cell_type": "markdown",
   "id": "ba5a6b86-b1d5-40fa-ab2c-c29c2ff680a5",
   "metadata": {},
   "source": [
    "Does small performance gain relative to the random model reflect coverage? The popularity based model only ever suggests the same 10 novels."
   ]
  },
  {
   "cell_type": "markdown",
   "id": "d01a1645-53ba-4994-911b-7b116bc809a8",
   "metadata": {},
   "source": [
    "## Content based filtering recommendation system"
   ]
  },
  {
   "cell_type": "markdown",
   "id": "d2dd447e-143e-4069-adb3-05541143cf22",
   "metadata": {},
   "source": [
    "### Model 1 - tf.idf vectorisation\n",
    "Basic principle:\n",
    "\n",
    "* Items are recommended to a given user based on their ratings and toread history and the similarity of this profile to unread books.\n",
    "\n",
    "* The profile for each user and book is translated into feature space using tf.idf vectorisation. "
   ]
  },
  {
   "cell_type": "markdown",
   "id": "a3cc5183-e242-447d-8a6e-9ed50d078bb9",
   "metadata": {},
   "source": [
    "#### Feature extraction\n",
    "* A vector feature representing book content is created using the book profile column.\n",
    "  \n",
    "* The tf.idf vectorizer is fit using the book profile column. This determines the vocab size and associated vector length when vectorising user profiles later. Any unseen terms in the user profile will not be incorporated into the vector. This is a limitation of the tf.idf approach."
   ]
  },
  {
   "cell_type": "code",
   "execution_count": 50,
   "id": "be33975b-3132-449e-8b55-1eb06d40474a",
   "metadata": {},
   "outputs": [],
   "source": [
    "# TF-IDF Vectorization\n",
    "tfidf_vectorizer = TfidfVectorizer(stop_words='english')\n",
    "tfidf_matrix = tfidf_vectorizer.fit_transform(books['book_profile'])"
   ]
  },
  {
   "cell_type": "markdown",
   "id": "2456a0ad-b8a5-4570-99a8-eaab48f8c4b5",
   "metadata": {},
   "source": [
    "#### Algorithm\n",
    "\n",
    "Key steps: \n",
    "\n",
    "1. Filter user ratings so only the specified user remains.\n",
    "\n",
    "2. Create a user profile vector by concatenating books across their reading history followed by vectorisation using tf.idf\n",
    "\n",
    "3. Calculate the similarity between the user vector and all book profile vectors\n",
    "\n",
    "4. Sort the books in descending order by similarity\n",
    "\n",
    "5. Exclude books already rated or marked to read by the user from recommendations\n",
    "\n",
    "6. Select the top n books for the final sample"
   ]
  },
  {
   "cell_type": "code",
   "execution_count": 51,
   "id": "ccc33e8d-6dfc-4b52-9ee2-e5deead0c7fd",
   "metadata": {},
   "outputs": [],
   "source": [
    "def get_content_based_recs(user_id, all_user_ratings, n_sample, all_books, all_user_toread):\n",
    "    \"\"\"\n",
    "    Function to get content-based book recommendations for a given user profile\n",
    "\n",
    "    Parameters:\n",
    "    - user_id: User id\n",
    "    - all_user_data: Ratings history for all users\n",
    "    - n_sample: Number of recommendations to generate\n",
    "    - all_books: Table containing book metadata\n",
    "    - all_user_toread: To read list for all users\n",
    "\n",
    "    Returns:\n",
    "    - precision_at_k: List of book ids recommended for user\n",
    "    \"\"\"\n",
    "    \n",
    "    # User profile vectorisation\n",
    "    user_ratings = all_user_ratings.copy()\n",
    "    user_ratings = user_ratings.loc[all_user_ratings[\"user_id\"] == user_id]\n",
    "    user_ratings[\"book_profile\"] = user_ratings[\"title\"] + \" \" + user_ratings[\"authors\"] + \" \" + user_ratings[\"book_tags\"].fillna(\" \")\n",
    "    user_ratings[\"book_profile\"] = user_ratings[\"book_profile\"].str.lower()\n",
    "    user_profile = \" \".join(user_ratings[\"book_profile\"].values)\n",
    "    user_vector = tfidf_vectorizer.transform([user_profile])\n",
    "    \n",
    "    # User history\n",
    "    rating_history = all_user_ratings.loc[all_user_ratings[\"user_id\"] == user_id, \"book_id\"].tolist()\n",
    "    toread_history = all_user_toread.loc[all_user_toread[\"user_id\"] == user_id, \"book_id\"].tolist()\n",
    "    user_history = set(rating_history).union(set(toread_history))\n",
    "\n",
    "    # Calculate cosine similarities & sort\n",
    "    book_user_similarities = list(enumerate(cosine_similarity(user_vector, tfidf_matrix).flatten()))\n",
    "    book_user_similarities = sorted(book_user_similarities, key=lambda x: x[1], reverse=True)\n",
    "\n",
    "    # Return books NOT in the user history\n",
    "    book_user_similarities = [book_id for book_id, score in book_user_similarities if book_id not in user_history]\n",
    "    book_user_similarities = book_user_similarities[0:n_sample]\n",
    "    user_recs = all_books.loc[book_user_similarities, \"book_id\"].tolist()\n",
    "\n",
    "    return user_recs"
   ]
  },
  {
   "cell_type": "code",
   "execution_count": 52,
   "id": "6280db70-681c-4951-a98d-b77dc8a92f36",
   "metadata": {},
   "outputs": [
    {
     "data": {
      "text/plain": [
       "['The Enchantress Returns (The Land of Stories, #2)',\n",
       " 'The Darkest Secret (Lords of the Underworld #7)',\n",
       " 'Rule of Two (Star Wars: Darth Bane, #2)',\n",
       " 'Embrace the Night (Cassandra Palmer, #3)',\n",
       " 'Big Rock',\n",
       " 'The Realm of Possibility',\n",
       " 'Deep Down Dark: The Untold Stories of 33 Men Buried in a Chilean Mine, and the Miracle That Set Them Free',\n",
       " 'The Boy Who Came Back from Heaven: A Remarkable Account of Miracles, Angels, and Life beyond This World',\n",
       " 'Relish: My Life in the Kitchen',\n",
       " 'Visions of Sugar Plums (Stephanie Plum, #8.5)']"
      ]
     },
     "execution_count": 52,
     "metadata": {},
     "output_type": "execute_result"
    }
   ],
   "source": [
    "# Example\n",
    "USER_ID = 12\n",
    "N_RECOMMENDATIONS = 10\n",
    "books.loc[books[\"book_id\"].isin(get_content_based_recs(\n",
    "    USER_ID, train_ratings, N_RECOMMENDATIONS, books, to_read)), \"title\"].tolist()"
   ]
  },
  {
   "cell_type": "markdown",
   "id": "7bf1672f-f2f6-4cc5-b9a5-ea91960664fe",
   "metadata": {},
   "source": [
    "#### Evaluation\n",
    "Key steps:\n",
    "\n",
    "1. Split the training set into k folds. Use k-1 folds as the training set. Use the remaining data as a validation set.\n",
    "\n",
    "2. Apply recommendation system to each user in the validation set. Output a dictionary containing predicted items for each user.\n",
    "\n",
    "3. Create ground truth for each user in the validation set. Output a dictionary containing actual relevant items for each user.\n",
    "\n",
    "4. Evaluate performance on a per user basis. Output a dictionary containing the relevant metric score for each user.\n",
    "\n",
    "5. Calculate average performance across users.\n",
    "\n",
    "6. Repeat steps 2 - 5 k times."
   ]
  },
  {
   "cell_type": "code",
   "execution_count": null,
   "id": "cd2447c9-bf95-471f-8874-e928cf64aedb",
   "metadata": {},
   "outputs": [],
   "source": [
    "K_FOLDS = 3  # Number of splits for kfold cross validation\n",
    "N_RECOMMENDATIONS = 10  # Number of recommendations\n",
    "avg_precision_at_k, avg_recall_at_k, avg_map_at_k = cf.calculate_cv_scores(\n",
    "    train_ratings, K_FOLDS, N_RECOMMENDATIONS, books, to_read, get_content_based_recs)\n",
    "\n",
    "print(f\"precision@k: {avg_precision_at_k}\")\n",
    "print(f\"recall@k: {avg_recall_at_k}\")\n",
    "print(f\"mean average precision@k: {avg_map_at_k}\")"
   ]
  },
  {
   "cell_type": "markdown",
   "id": "09b4d114-6c0e-4023-8be3-5daca70b48fb",
   "metadata": {},
   "source": [
    "### Model 2 - word2vec vectorisation"
   ]
  },
  {
   "cell_type": "markdown",
   "id": "3b887d45-a8f5-48f2-9385-9a3147d66b29",
   "metadata": {},
   "source": [
    "#### Feature extraction"
   ]
  },
  {
   "cell_type": "markdown",
   "id": "80eee824-cfc1-4de1-9fc3-94b93ba4ac07",
   "metadata": {},
   "source": [
    "#### Algorithm"
   ]
  },
  {
   "cell_type": "markdown",
   "id": "df9be807-6de2-4fd7-a75d-0ea3449d65fb",
   "metadata": {},
   "source": [
    "#### Evaluation"
   ]
  },
  {
   "cell_type": "markdown",
   "id": "2b82f720-c068-4d41-ac62-a853cda9d685",
   "metadata": {},
   "source": [
    "### Model 3 - BERT vectorisation"
   ]
  },
  {
   "cell_type": "markdown",
   "id": "467ded33-6db7-4e13-bbce-474f9535c821",
   "metadata": {},
   "source": [
    "#### Feature extraction"
   ]
  },
  {
   "cell_type": "markdown",
   "id": "1aa0493e-75e0-4d63-9952-41c529423f14",
   "metadata": {},
   "source": [
    "#### Algorithm"
   ]
  },
  {
   "cell_type": "markdown",
   "id": "89a26b82-b151-4c43-9210-049aa37250b7",
   "metadata": {},
   "source": [
    "#### Evaluation"
   ]
  },
  {
   "cell_type": "markdown",
   "id": "6b7b1403-20f1-46a4-b71f-27323c74cec4",
   "metadata": {},
   "source": [
    "## Item similarity model"
   ]
  },
  {
   "cell_type": "code",
   "execution_count": null,
   "id": "b2c66001-eea3-47c6-b5e8-c8b860557ced",
   "metadata": {},
   "outputs": [],
   "source": [
    "#### Item similarity based \n",
    "\n",
    "# # Preprocess data\n",
    "# books['title'] = books['title'].str.lower()\n",
    "# books['authors'] = books['authors'].str.lower()\n",
    "\n",
    "# # Combine relevant features (book title and author) into a single column\n",
    "# books['features'] = books['title'] + ' ' + books['authors']\n",
    "# books.loc[0, 'features']\n",
    "\n",
    "# # TF-IDF vectorization\n",
    "# tfidf_vectorizer = TfidfVectorizer(stop_words='english')\n",
    "# tfidf_matrix = tfidf_vectorizer.fit_transform(books['features'])\n",
    "\n",
    "# # Cosine similarities between books\n",
    "# cosine_similarities = cosine_similarity(tfidf_matrix, tfidf_matrix)\n",
    "\n",
    "# def get_content_based_recommendations(book_title, books, similarity_scores, top_k):\n",
    "#     \"\"\"Function to get content-based book recommendations for a given book title\n",
    "#     \"\"\"\n",
    "#     # Find the index of the book in the dataframe\n",
    "#     idx = books.index[books['title'] == book_title].tolist()[0]\n",
    "\n",
    "#     # Get the pairwise similarity scores\n",
    "#     book_similarities = list(enumerate(similarity_scores[idx]))\n",
    "\n",
    "#     # Sort books based on similarity scores\n",
    "#     book_similarities = sorted(book_similarities, key=lambda x: x[1], reverse=True)\n",
    "\n",
    "#     # Exclude the book itself (most similar will be the book itself)\n",
    "#     book_similarities = book_similarities[1:]\n",
    "    \n",
    "#     # Get top k similar books\n",
    "#     similar_books = book_similarities[0:top_k]\n",
    "    \n",
    "#     # Extract book titles\n",
    "#     recommended_books = books.loc[[i for i, s in similar_books], 'title'].tolist()\n",
    "\n",
    "#     return recommended_books\n",
    "\n",
    "# # Example\n",
    "# book_title = 'the hunger games (the hunger games, #1)'\n",
    "# content_based_recommendations = get_content_based_recommendations(book_title, books, cosine_similarities, 5)\n",
    "\n",
    "# # Display recommendations\n",
    "# print(f\"Content-based recommendations for '{book_title}':\\n\")\n",
    "# for i, title in enumerate(content_based_recommendations):\n",
    "#     print(i+1, title)"
   ]
  }
 ],
 "metadata": {
  "kernelspec": {
   "display_name": "topic_analyses",
   "language": "python",
   "name": "topic_analyses"
  },
  "language_info": {
   "codemirror_mode": {
    "name": "ipython",
    "version": 3
   },
   "file_extension": ".py",
   "mimetype": "text/x-python",
   "name": "python",
   "nbconvert_exporter": "python",
   "pygments_lexer": "ipython3",
   "version": "3.11.5"
  },
  "toc-showmarkdowntxt": false
 },
 "nbformat": 4,
 "nbformat_minor": 5
}
